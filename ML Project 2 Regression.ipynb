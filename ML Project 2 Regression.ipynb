{
 "cells": [
  {
   "cell_type": "markdown",
   "metadata": {},
   "source": [
    "# Analyzing the House prices in King County, Washington"
   ]
  },
  {
   "cell_type": "markdown",
   "metadata": {},
   "source": [
    "Online property companies offer valuations of houses using machine learning techniques. The aim of this report is to predict the house sales in King County, Washington State, USA using Regression analysis. The dataset consisted of historic data of houses sold between May 2014 to May 2015."
   ]
  },
  {
   "cell_type": "code",
   "execution_count": 1,
   "metadata": {},
   "outputs": [
    {
     "ename": "FileNotFoundError",
     "evalue": "[Errno 2] File b'kc_house_data.csv' does not exist: b'kc_house_data.csv'",
     "output_type": "error",
     "traceback": [
      "\u001b[1;31m---------------------------------------------------------------------------\u001b[0m",
      "\u001b[1;31mFileNotFoundError\u001b[0m                         Traceback (most recent call last)",
      "\u001b[1;32m<ipython-input-1-f4a4398e2c14>\u001b[0m in \u001b[0;36m<module>\u001b[1;34m\u001b[0m\n\u001b[0;32m     12\u001b[0m \u001b[1;32mimport\u001b[0m \u001b[0mmatplotlib\u001b[0m\u001b[1;33m.\u001b[0m\u001b[0mpyplot\u001b[0m \u001b[1;32mas\u001b[0m \u001b[0mplt\u001b[0m\u001b[1;33m\u001b[0m\u001b[1;33m\u001b[0m\u001b[0m\n\u001b[0;32m     13\u001b[0m \u001b[1;33m\u001b[0m\u001b[0m\n\u001b[1;32m---> 14\u001b[1;33m \u001b[0mdf\u001b[0m \u001b[1;33m=\u001b[0m \u001b[0mpd\u001b[0m\u001b[1;33m.\u001b[0m\u001b[0mread_csv\u001b[0m\u001b[1;33m(\u001b[0m\u001b[1;34m'kc_house_data.csv'\u001b[0m\u001b[1;33m)\u001b[0m\u001b[1;33m\u001b[0m\u001b[1;33m\u001b[0m\u001b[0m\n\u001b[0m\u001b[0;32m     15\u001b[0m \u001b[0mdf\u001b[0m\u001b[1;33m.\u001b[0m\u001b[0minfo\u001b[0m\u001b[1;33m(\u001b[0m\u001b[1;33m)\u001b[0m\u001b[1;33m\u001b[0m\u001b[1;33m\u001b[0m\u001b[0m\n",
      "\u001b[1;32m~\\Anaconda3\\lib\\site-packages\\pandas\\io\\parsers.py\u001b[0m in \u001b[0;36mparser_f\u001b[1;34m(filepath_or_buffer, sep, delimiter, header, names, index_col, usecols, squeeze, prefix, mangle_dupe_cols, dtype, engine, converters, true_values, false_values, skipinitialspace, skiprows, skipfooter, nrows, na_values, keep_default_na, na_filter, verbose, skip_blank_lines, parse_dates, infer_datetime_format, keep_date_col, date_parser, dayfirst, cache_dates, iterator, chunksize, compression, thousands, decimal, lineterminator, quotechar, quoting, doublequote, escapechar, comment, encoding, dialect, error_bad_lines, warn_bad_lines, delim_whitespace, low_memory, memory_map, float_precision)\u001b[0m\n\u001b[0;32m    683\u001b[0m         )\n\u001b[0;32m    684\u001b[0m \u001b[1;33m\u001b[0m\u001b[0m\n\u001b[1;32m--> 685\u001b[1;33m         \u001b[1;32mreturn\u001b[0m \u001b[0m_read\u001b[0m\u001b[1;33m(\u001b[0m\u001b[0mfilepath_or_buffer\u001b[0m\u001b[1;33m,\u001b[0m \u001b[0mkwds\u001b[0m\u001b[1;33m)\u001b[0m\u001b[1;33m\u001b[0m\u001b[1;33m\u001b[0m\u001b[0m\n\u001b[0m\u001b[0;32m    686\u001b[0m \u001b[1;33m\u001b[0m\u001b[0m\n\u001b[0;32m    687\u001b[0m     \u001b[0mparser_f\u001b[0m\u001b[1;33m.\u001b[0m\u001b[0m__name__\u001b[0m \u001b[1;33m=\u001b[0m \u001b[0mname\u001b[0m\u001b[1;33m\u001b[0m\u001b[1;33m\u001b[0m\u001b[0m\n",
      "\u001b[1;32m~\\Anaconda3\\lib\\site-packages\\pandas\\io\\parsers.py\u001b[0m in \u001b[0;36m_read\u001b[1;34m(filepath_or_buffer, kwds)\u001b[0m\n\u001b[0;32m    455\u001b[0m \u001b[1;33m\u001b[0m\u001b[0m\n\u001b[0;32m    456\u001b[0m     \u001b[1;31m# Create the parser.\u001b[0m\u001b[1;33m\u001b[0m\u001b[1;33m\u001b[0m\u001b[1;33m\u001b[0m\u001b[0m\n\u001b[1;32m--> 457\u001b[1;33m     \u001b[0mparser\u001b[0m \u001b[1;33m=\u001b[0m \u001b[0mTextFileReader\u001b[0m\u001b[1;33m(\u001b[0m\u001b[0mfp_or_buf\u001b[0m\u001b[1;33m,\u001b[0m \u001b[1;33m**\u001b[0m\u001b[0mkwds\u001b[0m\u001b[1;33m)\u001b[0m\u001b[1;33m\u001b[0m\u001b[1;33m\u001b[0m\u001b[0m\n\u001b[0m\u001b[0;32m    458\u001b[0m \u001b[1;33m\u001b[0m\u001b[0m\n\u001b[0;32m    459\u001b[0m     \u001b[1;32mif\u001b[0m \u001b[0mchunksize\u001b[0m \u001b[1;32mor\u001b[0m \u001b[0miterator\u001b[0m\u001b[1;33m:\u001b[0m\u001b[1;33m\u001b[0m\u001b[1;33m\u001b[0m\u001b[0m\n",
      "\u001b[1;32m~\\Anaconda3\\lib\\site-packages\\pandas\\io\\parsers.py\u001b[0m in \u001b[0;36m__init__\u001b[1;34m(self, f, engine, **kwds)\u001b[0m\n\u001b[0;32m    893\u001b[0m             \u001b[0mself\u001b[0m\u001b[1;33m.\u001b[0m\u001b[0moptions\u001b[0m\u001b[1;33m[\u001b[0m\u001b[1;34m\"has_index_names\"\u001b[0m\u001b[1;33m]\u001b[0m \u001b[1;33m=\u001b[0m \u001b[0mkwds\u001b[0m\u001b[1;33m[\u001b[0m\u001b[1;34m\"has_index_names\"\u001b[0m\u001b[1;33m]\u001b[0m\u001b[1;33m\u001b[0m\u001b[1;33m\u001b[0m\u001b[0m\n\u001b[0;32m    894\u001b[0m \u001b[1;33m\u001b[0m\u001b[0m\n\u001b[1;32m--> 895\u001b[1;33m         \u001b[0mself\u001b[0m\u001b[1;33m.\u001b[0m\u001b[0m_make_engine\u001b[0m\u001b[1;33m(\u001b[0m\u001b[0mself\u001b[0m\u001b[1;33m.\u001b[0m\u001b[0mengine\u001b[0m\u001b[1;33m)\u001b[0m\u001b[1;33m\u001b[0m\u001b[1;33m\u001b[0m\u001b[0m\n\u001b[0m\u001b[0;32m    896\u001b[0m \u001b[1;33m\u001b[0m\u001b[0m\n\u001b[0;32m    897\u001b[0m     \u001b[1;32mdef\u001b[0m \u001b[0mclose\u001b[0m\u001b[1;33m(\u001b[0m\u001b[0mself\u001b[0m\u001b[1;33m)\u001b[0m\u001b[1;33m:\u001b[0m\u001b[1;33m\u001b[0m\u001b[1;33m\u001b[0m\u001b[0m\n",
      "\u001b[1;32m~\\Anaconda3\\lib\\site-packages\\pandas\\io\\parsers.py\u001b[0m in \u001b[0;36m_make_engine\u001b[1;34m(self, engine)\u001b[0m\n\u001b[0;32m   1133\u001b[0m     \u001b[1;32mdef\u001b[0m \u001b[0m_make_engine\u001b[0m\u001b[1;33m(\u001b[0m\u001b[0mself\u001b[0m\u001b[1;33m,\u001b[0m \u001b[0mengine\u001b[0m\u001b[1;33m=\u001b[0m\u001b[1;34m\"c\"\u001b[0m\u001b[1;33m)\u001b[0m\u001b[1;33m:\u001b[0m\u001b[1;33m\u001b[0m\u001b[1;33m\u001b[0m\u001b[0m\n\u001b[0;32m   1134\u001b[0m         \u001b[1;32mif\u001b[0m \u001b[0mengine\u001b[0m \u001b[1;33m==\u001b[0m \u001b[1;34m\"c\"\u001b[0m\u001b[1;33m:\u001b[0m\u001b[1;33m\u001b[0m\u001b[1;33m\u001b[0m\u001b[0m\n\u001b[1;32m-> 1135\u001b[1;33m             \u001b[0mself\u001b[0m\u001b[1;33m.\u001b[0m\u001b[0m_engine\u001b[0m \u001b[1;33m=\u001b[0m \u001b[0mCParserWrapper\u001b[0m\u001b[1;33m(\u001b[0m\u001b[0mself\u001b[0m\u001b[1;33m.\u001b[0m\u001b[0mf\u001b[0m\u001b[1;33m,\u001b[0m \u001b[1;33m**\u001b[0m\u001b[0mself\u001b[0m\u001b[1;33m.\u001b[0m\u001b[0moptions\u001b[0m\u001b[1;33m)\u001b[0m\u001b[1;33m\u001b[0m\u001b[1;33m\u001b[0m\u001b[0m\n\u001b[0m\u001b[0;32m   1136\u001b[0m         \u001b[1;32melse\u001b[0m\u001b[1;33m:\u001b[0m\u001b[1;33m\u001b[0m\u001b[1;33m\u001b[0m\u001b[0m\n\u001b[0;32m   1137\u001b[0m             \u001b[1;32mif\u001b[0m \u001b[0mengine\u001b[0m \u001b[1;33m==\u001b[0m \u001b[1;34m\"python\"\u001b[0m\u001b[1;33m:\u001b[0m\u001b[1;33m\u001b[0m\u001b[1;33m\u001b[0m\u001b[0m\n",
      "\u001b[1;32m~\\Anaconda3\\lib\\site-packages\\pandas\\io\\parsers.py\u001b[0m in \u001b[0;36m__init__\u001b[1;34m(self, src, **kwds)\u001b[0m\n\u001b[0;32m   1915\u001b[0m         \u001b[0mkwds\u001b[0m\u001b[1;33m[\u001b[0m\u001b[1;34m\"usecols\"\u001b[0m\u001b[1;33m]\u001b[0m \u001b[1;33m=\u001b[0m \u001b[0mself\u001b[0m\u001b[1;33m.\u001b[0m\u001b[0musecols\u001b[0m\u001b[1;33m\u001b[0m\u001b[1;33m\u001b[0m\u001b[0m\n\u001b[0;32m   1916\u001b[0m \u001b[1;33m\u001b[0m\u001b[0m\n\u001b[1;32m-> 1917\u001b[1;33m         \u001b[0mself\u001b[0m\u001b[1;33m.\u001b[0m\u001b[0m_reader\u001b[0m \u001b[1;33m=\u001b[0m \u001b[0mparsers\u001b[0m\u001b[1;33m.\u001b[0m\u001b[0mTextReader\u001b[0m\u001b[1;33m(\u001b[0m\u001b[0msrc\u001b[0m\u001b[1;33m,\u001b[0m \u001b[1;33m**\u001b[0m\u001b[0mkwds\u001b[0m\u001b[1;33m)\u001b[0m\u001b[1;33m\u001b[0m\u001b[1;33m\u001b[0m\u001b[0m\n\u001b[0m\u001b[0;32m   1918\u001b[0m         \u001b[0mself\u001b[0m\u001b[1;33m.\u001b[0m\u001b[0munnamed_cols\u001b[0m \u001b[1;33m=\u001b[0m \u001b[0mself\u001b[0m\u001b[1;33m.\u001b[0m\u001b[0m_reader\u001b[0m\u001b[1;33m.\u001b[0m\u001b[0munnamed_cols\u001b[0m\u001b[1;33m\u001b[0m\u001b[1;33m\u001b[0m\u001b[0m\n\u001b[0;32m   1919\u001b[0m \u001b[1;33m\u001b[0m\u001b[0m\n",
      "\u001b[1;32mpandas\\_libs\\parsers.pyx\u001b[0m in \u001b[0;36mpandas._libs.parsers.TextReader.__cinit__\u001b[1;34m()\u001b[0m\n",
      "\u001b[1;32mpandas\\_libs\\parsers.pyx\u001b[0m in \u001b[0;36mpandas._libs.parsers.TextReader._setup_parser_source\u001b[1;34m()\u001b[0m\n",
      "\u001b[1;31mFileNotFoundError\u001b[0m: [Errno 2] File b'kc_house_data.csv' does not exist: b'kc_house_data.csv'"
     ]
    }
   ],
   "source": [
    "# importing the necessary libraries and the dataset \"kc_house_data\"\n",
    "import numpy as np # used for handling numbers\n",
    "import pandas as pd # used for handling the dataset\n",
    "import matplotlib as mpl \n",
    "import matplotlib.pyplot as plt \n",
    "from sklearn.impute import SimpleImputer # used for handling missing data\n",
    "from sklearn.preprocessing import LabelEncoder, OneHotEncoder # used for encoding categorical data\n",
    "from sklearn.model_selection import train_test_split # used for splitting training and testing data\n",
    "from sklearn.preprocessing import StandardScaler # used for feature scaling\n",
    "%matplotlib inline\n",
    "import seaborn as sns\n",
    "import matplotlib.pyplot as plt\n",
    "\n",
    "df = pd.read_csv('kc_house_data.csv') \n",
    "df.info()"
   ]
  },
  {
   "cell_type": "code",
   "execution_count": null,
   "metadata": {},
   "outputs": [],
   "source": [
    "df.describe()"
   ]
  },
  {
   "cell_type": "code",
   "execution_count": 3,
   "metadata": {},
   "outputs": [
    {
     "data": {
      "text/html": [
       "<div>\n",
       "<style scoped>\n",
       "    .dataframe tbody tr th:only-of-type {\n",
       "        vertical-align: middle;\n",
       "    }\n",
       "\n",
       "    .dataframe tbody tr th {\n",
       "        vertical-align: top;\n",
       "    }\n",
       "\n",
       "    .dataframe thead th {\n",
       "        text-align: right;\n",
       "    }\n",
       "</style>\n",
       "<table border=\"1\" class=\"dataframe\">\n",
       "  <thead>\n",
       "    <tr style=\"text-align: right;\">\n",
       "      <th></th>\n",
       "      <th>Year_sold</th>\n",
       "      <th>price</th>\n",
       "      <th>bedrooms</th>\n",
       "      <th>bathrooms</th>\n",
       "      <th>sqft_living</th>\n",
       "      <th>sqft_lot</th>\n",
       "      <th>floors</th>\n",
       "      <th>waterfront</th>\n",
       "      <th>view</th>\n",
       "      <th>condition</th>\n",
       "      <th>grade</th>\n",
       "      <th>sqft_above</th>\n",
       "      <th>sqft_basement</th>\n",
       "      <th>yr_built</th>\n",
       "      <th>Renovation</th>\n",
       "      <th>lat</th>\n",
       "      <th>long</th>\n",
       "      <th>sqft_living15</th>\n",
       "      <th>sqft_lot15</th>\n",
       "    </tr>\n",
       "  </thead>\n",
       "  <tbody>\n",
       "    <tr>\n",
       "      <td>0</td>\n",
       "      <td>2014</td>\n",
       "      <td>500000.0</td>\n",
       "      <td>4</td>\n",
       "      <td>2.00</td>\n",
       "      <td>1680.0</td>\n",
       "      <td>3813.0</td>\n",
       "      <td>2.0</td>\n",
       "      <td>0</td>\n",
       "      <td>0</td>\n",
       "      <td>4</td>\n",
       "      <td>7</td>\n",
       "      <td>1680.0</td>\n",
       "      <td>0.0</td>\n",
       "      <td>1900</td>\n",
       "      <td>not renovated</td>\n",
       "      <td>47.5930</td>\n",
       "      <td>-122.293</td>\n",
       "      <td>2540</td>\n",
       "      <td>3996</td>\n",
       "    </tr>\n",
       "    <tr>\n",
       "      <td>1</td>\n",
       "      <td>2014</td>\n",
       "      <td>500000.0</td>\n",
       "      <td>2</td>\n",
       "      <td>1.00</td>\n",
       "      <td>960.0</td>\n",
       "      <td>5000.0</td>\n",
       "      <td>1.0</td>\n",
       "      <td>0</td>\n",
       "      <td>0</td>\n",
       "      <td>4</td>\n",
       "      <td>7</td>\n",
       "      <td>960.0</td>\n",
       "      <td>0.0</td>\n",
       "      <td>1900</td>\n",
       "      <td>not renovated</td>\n",
       "      <td>47.6755</td>\n",
       "      <td>-122.367</td>\n",
       "      <td>1330</td>\n",
       "      <td>5000</td>\n",
       "    </tr>\n",
       "    <tr>\n",
       "      <td>2</td>\n",
       "      <td>2014</td>\n",
       "      <td>554600.0</td>\n",
       "      <td>3</td>\n",
       "      <td>1.75</td>\n",
       "      <td>1470.0</td>\n",
       "      <td>5000.0</td>\n",
       "      <td>1.5</td>\n",
       "      <td>0</td>\n",
       "      <td>0</td>\n",
       "      <td>5</td>\n",
       "      <td>7</td>\n",
       "      <td>1470.0</td>\n",
       "      <td>0.0</td>\n",
       "      <td>1900</td>\n",
       "      <td>not renovated</td>\n",
       "      <td>47.6755</td>\n",
       "      <td>-122.369</td>\n",
       "      <td>1530</td>\n",
       "      <td>5000</td>\n",
       "    </tr>\n",
       "    <tr>\n",
       "      <td>3</td>\n",
       "      <td>2015</td>\n",
       "      <td>730000.0</td>\n",
       "      <td>3</td>\n",
       "      <td>1.75</td>\n",
       "      <td>1650.0</td>\n",
       "      <td>5000.0</td>\n",
       "      <td>1.5</td>\n",
       "      <td>0</td>\n",
       "      <td>0</td>\n",
       "      <td>4</td>\n",
       "      <td>8</td>\n",
       "      <td>1650.0</td>\n",
       "      <td>0.0</td>\n",
       "      <td>1900</td>\n",
       "      <td>not renovated</td>\n",
       "      <td>47.6743</td>\n",
       "      <td>-122.371</td>\n",
       "      <td>1630</td>\n",
       "      <td>5000</td>\n",
       "    </tr>\n",
       "    <tr>\n",
       "      <td>4</td>\n",
       "      <td>2014</td>\n",
       "      <td>870000.0</td>\n",
       "      <td>5</td>\n",
       "      <td>4.00</td>\n",
       "      <td>3400.0</td>\n",
       "      <td>5000.0</td>\n",
       "      <td>2.0</td>\n",
       "      <td>0</td>\n",
       "      <td>0</td>\n",
       "      <td>3</td>\n",
       "      <td>8</td>\n",
       "      <td>2320.0</td>\n",
       "      <td>1080.0</td>\n",
       "      <td>1900</td>\n",
       "      <td>renovated</td>\n",
       "      <td>47.6655</td>\n",
       "      <td>-122.363</td>\n",
       "      <td>1910</td>\n",
       "      <td>5000</td>\n",
       "    </tr>\n",
       "  </tbody>\n",
       "</table>\n",
       "</div>"
      ],
      "text/plain": [
       "   Year_sold     price  bedrooms  bathrooms  sqft_living  sqft_lot  floors  \\\n",
       "0       2014  500000.0         4       2.00       1680.0    3813.0     2.0   \n",
       "1       2014  500000.0         2       1.00        960.0    5000.0     1.0   \n",
       "2       2014  554600.0         3       1.75       1470.0    5000.0     1.5   \n",
       "3       2015  730000.0         3       1.75       1650.0    5000.0     1.5   \n",
       "4       2014  870000.0         5       4.00       3400.0    5000.0     2.0   \n",
       "\n",
       "   waterfront  view  condition  grade  sqft_above  sqft_basement  yr_built  \\\n",
       "0           0     0          4      7      1680.0            0.0      1900   \n",
       "1           0     0          4      7       960.0            0.0      1900   \n",
       "2           0     0          5      7      1470.0            0.0      1900   \n",
       "3           0     0          4      8      1650.0            0.0      1900   \n",
       "4           0     0          3      8      2320.0         1080.0      1900   \n",
       "\n",
       "      Renovation      lat     long  sqft_living15  sqft_lot15  \n",
       "0  not renovated  47.5930 -122.293           2540        3996  \n",
       "1  not renovated  47.6755 -122.367           1330        5000  \n",
       "2  not renovated  47.6755 -122.369           1530        5000  \n",
       "3  not renovated  47.6743 -122.371           1630        5000  \n",
       "4      renovated  47.6655 -122.363           1910        5000  "
      ]
     },
     "execution_count": 3,
     "metadata": {},
     "output_type": "execute_result"
    }
   ],
   "source": [
    "df.head()"
   ]
  },
  {
   "cell_type": "code",
   "execution_count": 4,
   "metadata": {},
   "outputs": [
    {
     "data": {
      "text/plain": [
       "Year_sold        False\n",
       "price            False\n",
       "bedrooms         False\n",
       "bathrooms         True\n",
       "sqft_living       True\n",
       "sqft_lot          True\n",
       "floors           False\n",
       "waterfront       False\n",
       "view             False\n",
       "condition        False\n",
       "grade            False\n",
       "sqft_above        True\n",
       "sqft_basement     True\n",
       "yr_built         False\n",
       "Renovation       False\n",
       "lat              False\n",
       "long             False\n",
       "sqft_living15    False\n",
       "sqft_lot15       False\n",
       "dtype: bool"
      ]
     },
     "execution_count": 4,
     "metadata": {},
     "output_type": "execute_result"
    }
   ],
   "source": [
    "pd.isnull(df).any()"
   ]
  },
  {
   "cell_type": "code",
   "execution_count": 5,
   "metadata": {},
   "outputs": [],
   "source": [
    "#Imputing the missing values with median\n",
    "\n",
    "from sklearn.impute import SimpleImputer\n",
    "imputer = SimpleImputer(missing_values=np.nan, strategy='median')\n",
    "\n",
    "df['sqft_above'] = imputer.fit_transform(df[['sqft_above']])\n",
    "df['bathrooms'] = imputer.fit_transform(df[['bathrooms']])\n",
    "df['sqft_living'] = imputer.fit_transform(df[['sqft_living']])\n",
    "df['sqft_lot'] = imputer.fit_transform(df[['sqft_lot']])\n",
    "df['sqft_basement'] = imputer.fit_transform(df[['sqft_basement']])"
   ]
  },
  {
   "cell_type": "code",
   "execution_count": 6,
   "metadata": {},
   "outputs": [
    {
     "data": {
      "text/plain": [
       "<matplotlib.axes._subplots.AxesSubplot at 0x1314fbc8d08>"
      ]
     },
     "execution_count": 6,
     "metadata": {},
     "output_type": "execute_result"
    },
    {
     "data": {
      "image/png": "[encoded data removed]",
      "text/plain": [
       "<Figure size 1440x288 with 1 Axes>"
      ]
     },
     "metadata": {},
     "output_type": "display_data"
    }
   ],
   "source": [
    "#distribution the field grade\n",
    "plt.style.use('seaborn-whitegrid')\n",
    "fig = plt.figure(figsize=(20,4)) \n",
    "sns.countplot(y=\"grade\", data=df)\n"
   ]
  },
  {
   "cell_type": "code",
   "execution_count": 7,
   "metadata": {},
   "outputs": [
    {
     "data": {
      "text/plain": [
       "<matplotlib.axes._subplots.AxesSubplot at 0x1314ff30708>"
      ]
     },
     "execution_count": 7,
     "metadata": {},
     "output_type": "execute_result"
    },
    {
     "data": {
      "image/png": "[encoded data removed]",
      "text/plain": [
       "<Figure size 1440x288 with 1 Axes>"
      ]
     },
     "metadata": {},
     "output_type": "display_data"
    }
   ],
   "source": [
    "# distribution of the yr_built field\n",
    "plt.style.use('seaborn-whitegrid')\n",
    "fig = plt.figure(figsize=(20,4)) \n",
    "sns.countplot(y=\"yr_built\", data=df)"
   ]
  },
  {
   "cell_type": "code",
   "execution_count": 8,
   "metadata": {},
   "outputs": [
    {
     "data": {
      "text/html": [
       "<div>\n",
       "<style scoped>\n",
       "    .dataframe tbody tr th:only-of-type {\n",
       "        vertical-align: middle;\n",
       "    }\n",
       "\n",
       "    .dataframe tbody tr th {\n",
       "        vertical-align: top;\n",
       "    }\n",
       "\n",
       "    .dataframe thead th {\n",
       "        text-align: right;\n",
       "    }\n",
       "</style>\n",
       "<table border=\"1\" class=\"dataframe\">\n",
       "  <thead>\n",
       "    <tr style=\"text-align: right;\">\n",
       "      <th></th>\n",
       "      <th>Year_sold</th>\n",
       "      <th>price</th>\n",
       "      <th>bedrooms</th>\n",
       "      <th>bathrooms</th>\n",
       "      <th>sqft_living</th>\n",
       "      <th>sqft_lot</th>\n",
       "      <th>floors</th>\n",
       "      <th>waterfront</th>\n",
       "      <th>view</th>\n",
       "      <th>condition</th>\n",
       "      <th>grade</th>\n",
       "      <th>sqft_above</th>\n",
       "      <th>sqft_basement</th>\n",
       "      <th>yr_built</th>\n",
       "      <th>Renovation</th>\n",
       "      <th>lat</th>\n",
       "      <th>long</th>\n",
       "      <th>sqft_living15</th>\n",
       "      <th>sqft_lot15</th>\n",
       "    </tr>\n",
       "  </thead>\n",
       "  <tbody>\n",
       "    <tr>\n",
       "      <td>0</td>\n",
       "      <td>2014</td>\n",
       "      <td>500000.0</td>\n",
       "      <td>4</td>\n",
       "      <td>2.00</td>\n",
       "      <td>1680.0</td>\n",
       "      <td>3813.0</td>\n",
       "      <td>2.0</td>\n",
       "      <td>0</td>\n",
       "      <td>0</td>\n",
       "      <td>4</td>\n",
       "      <td>7</td>\n",
       "      <td>1680.0</td>\n",
       "      <td>0.0</td>\n",
       "      <td>1900</td>\n",
       "      <td>not renovated</td>\n",
       "      <td>47.5930</td>\n",
       "      <td>-122.293</td>\n",
       "      <td>2540</td>\n",
       "      <td>3996</td>\n",
       "    </tr>\n",
       "    <tr>\n",
       "      <td>1</td>\n",
       "      <td>2014</td>\n",
       "      <td>500000.0</td>\n",
       "      <td>2</td>\n",
       "      <td>1.00</td>\n",
       "      <td>960.0</td>\n",
       "      <td>5000.0</td>\n",
       "      <td>1.0</td>\n",
       "      <td>0</td>\n",
       "      <td>0</td>\n",
       "      <td>4</td>\n",
       "      <td>7</td>\n",
       "      <td>960.0</td>\n",
       "      <td>0.0</td>\n",
       "      <td>1900</td>\n",
       "      <td>not renovated</td>\n",
       "      <td>47.6755</td>\n",
       "      <td>-122.367</td>\n",
       "      <td>1330</td>\n",
       "      <td>5000</td>\n",
       "    </tr>\n",
       "    <tr>\n",
       "      <td>2</td>\n",
       "      <td>2014</td>\n",
       "      <td>554600.0</td>\n",
       "      <td>3</td>\n",
       "      <td>1.75</td>\n",
       "      <td>1470.0</td>\n",
       "      <td>5000.0</td>\n",
       "      <td>1.5</td>\n",
       "      <td>0</td>\n",
       "      <td>0</td>\n",
       "      <td>5</td>\n",
       "      <td>7</td>\n",
       "      <td>1470.0</td>\n",
       "      <td>0.0</td>\n",
       "      <td>1900</td>\n",
       "      <td>not renovated</td>\n",
       "      <td>47.6755</td>\n",
       "      <td>-122.369</td>\n",
       "      <td>1530</td>\n",
       "      <td>5000</td>\n",
       "    </tr>\n",
       "    <tr>\n",
       "      <td>3</td>\n",
       "      <td>2015</td>\n",
       "      <td>730000.0</td>\n",
       "      <td>3</td>\n",
       "      <td>1.75</td>\n",
       "      <td>1650.0</td>\n",
       "      <td>5000.0</td>\n",
       "      <td>1.5</td>\n",
       "      <td>0</td>\n",
       "      <td>0</td>\n",
       "      <td>4</td>\n",
       "      <td>8</td>\n",
       "      <td>1650.0</td>\n",
       "      <td>0.0</td>\n",
       "      <td>1900</td>\n",
       "      <td>not renovated</td>\n",
       "      <td>47.6743</td>\n",
       "      <td>-122.371</td>\n",
       "      <td>1630</td>\n",
       "      <td>5000</td>\n",
       "    </tr>\n",
       "    <tr>\n",
       "      <td>4</td>\n",
       "      <td>2014</td>\n",
       "      <td>870000.0</td>\n",
       "      <td>5</td>\n",
       "      <td>4.00</td>\n",
       "      <td>3400.0</td>\n",
       "      <td>5000.0</td>\n",
       "      <td>2.0</td>\n",
       "      <td>0</td>\n",
       "      <td>0</td>\n",
       "      <td>3</td>\n",
       "      <td>8</td>\n",
       "      <td>2320.0</td>\n",
       "      <td>1080.0</td>\n",
       "      <td>1900</td>\n",
       "      <td>renovated</td>\n",
       "      <td>47.6655</td>\n",
       "      <td>-122.363</td>\n",
       "      <td>1910</td>\n",
       "      <td>5000</td>\n",
       "    </tr>\n",
       "  </tbody>\n",
       "</table>\n",
       "</div>"
      ],
      "text/plain": [
       "   Year_sold     price  bedrooms  bathrooms  sqft_living  sqft_lot  floors  \\\n",
       "0       2014  500000.0         4       2.00       1680.0    3813.0     2.0   \n",
       "1       2014  500000.0         2       1.00        960.0    5000.0     1.0   \n",
       "2       2014  554600.0         3       1.75       1470.0    5000.0     1.5   \n",
       "3       2015  730000.0         3       1.75       1650.0    5000.0     1.5   \n",
       "4       2014  870000.0         5       4.00       3400.0    5000.0     2.0   \n",
       "\n",
       "   waterfront  view  condition  grade  sqft_above  sqft_basement  yr_built  \\\n",
       "0           0     0          4      7      1680.0            0.0      1900   \n",
       "1           0     0          4      7       960.0            0.0      1900   \n",
       "2           0     0          5      7      1470.0            0.0      1900   \n",
       "3           0     0          4      8      1650.0            0.0      1900   \n",
       "4           0     0          3      8      2320.0         1080.0      1900   \n",
       "\n",
       "      Renovation      lat     long  sqft_living15  sqft_lot15  \n",
       "0  not renovated  47.5930 -122.293           2540        3996  \n",
       "1  not renovated  47.6755 -122.367           1330        5000  \n",
       "2  not renovated  47.6755 -122.369           1530        5000  \n",
       "3  not renovated  47.6743 -122.371           1630        5000  \n",
       "4      renovated  47.6655 -122.363           1910        5000  "
      ]
     },
     "execution_count": 8,
     "metadata": {},
     "output_type": "execute_result"
    }
   ],
   "source": [
    "df.head()"
   ]
  },
  {
   "cell_type": "code",
   "execution_count": 9,
   "metadata": {},
   "outputs": [
    {
     "data": {
      "text/plain": [
       "7         8981\n",
       "8         6068\n",
       "9 - 13    4251\n",
       "1 - 6     2313\n",
       "Name: grade, dtype: int64"
      ]
     },
     "execution_count": 9,
     "metadata": {},
     "output_type": "execute_result"
    }
   ],
   "source": [
    "# Bucketing the rows into different classes of grades\n",
    "grade_1_to_6 = [1,2,3,4,5,6]\n",
    "grade_9_to_13 = [9,10,11,12,13]\n",
    "\n",
    "#replace elements in list.\n",
    "df['grade'].replace(to_replace = grade_1_to_6 ,value = '1 - 6',inplace = True)\n",
    "df['grade'].replace(to_replace = grade_9_to_13,value = '9 - 13',inplace = True)\n",
    "df['grade'].value_counts()\n"
   ]
  },
  {
   "cell_type": "code",
   "execution_count": 10,
   "metadata": {},
   "outputs": [
    {
     "data": {
      "text/plain": [
       "between 1950 to 1990    9749\n",
       "between 1990 to 2015    6677\n",
       "between 1900 to 1950    5187\n",
       "Name: yr_built, dtype: int64"
      ]
     },
     "execution_count": 10,
     "metadata": {},
     "output_type": "execute_result"
    }
   ],
   "source": [
    "# bucketing the rows to new range of yr_built\n",
    "yr_1900_to_1950 = [1900,1901,1902,1903,1904,1905,1906,1907,1908,1909,1910,1911,1912,1913,1914,1915,1916,1917,1918,1919,1920,1921,\n",
    "                1922,1923,1924,1925,1926,1927,1928,1929,1930,1931,1932,1933,1934,1935,\n",
    "                1936,1937,1938,1939,1940,1941,1942,1943,1944,1945,1946,1947,1948,1949,1950]\n",
    "yr_1950_to_1990 = [1951,1952,1953,1954,1955,1956,1957,1958,1959,1960,1961,1962,1963,1964,1965,1966,1967,1968,1969,1970,1971,1972,1973,1974,1975,1976,1977,1978,1979,1980,1981,1982,1983,1984,1985,1986,1987,1988,1989,1990]\n",
    "yr_1990_to_2015 = [1991,1992,1993,1994,1995,1996,1997,1998,1999,2000,2001,2002,2003,2004,2005,2006,2007,2008,2009,2010,2011,2012,2013,2014,2015]\n",
    "\n",
    "#replace elements in list.\n",
    "df['yr_built'].replace(to_replace = yr_1900_to_1950 ,value = 'between 1900 to 1950',inplace = True)\n",
    "df['yr_built'].replace(to_replace = yr_1950_to_1990,value = 'between 1950 to 1990',inplace = True)\n",
    "df['yr_built'].replace(to_replace = yr_1990_to_2015,value = 'between 1990 to 2015',inplace = True)\n",
    "df['yr_built'].value_counts()\n"
   ]
  },
  {
   "cell_type": "code",
   "execution_count": 11,
   "metadata": {},
   "outputs": [],
   "source": [
    "# converting the categorical values to the data type of object\n",
    "df['Year_sold'] = df['Year_sold'].astype(object)\n",
    "df['waterfront'] = df['waterfront'].astype(object)\n",
    "df['view'] = df['view'].astype(object)\n",
    "df['condition'] = df['condition'].astype(object)"
   ]
  },
  {
   "cell_type": "code",
   "execution_count": 12,
   "metadata": {},
   "outputs": [],
   "source": [
    "df['price'] = df['price'].astype(int)\n"
   ]
  },
  {
   "cell_type": "code",
   "execution_count": 13,
   "metadata": {},
   "outputs": [
    {
     "data": {
      "text/plain": [
       "price              int32\n",
       "bedrooms           int64\n",
       "bathrooms        float64\n",
       "sqft_living      float64\n",
       "sqft_lot         float64\n",
       "floors           float64\n",
       "sqft_above       float64\n",
       "sqft_basement    float64\n",
       "lat              float64\n",
       "long             float64\n",
       "sqft_living15      int64\n",
       "sqft_lot15         int64\n",
       "dtype: object"
      ]
     },
     "execution_count": 13,
     "metadata": {},
     "output_type": "execute_result"
    }
   ],
   "source": [
    "#Re-Separating the Numerical and Categorical Columns\n",
    "cat_column_new = df.dtypes[df.dtypes == 'object']\n",
    "num_column_new = df.dtypes[df.dtypes != 'object']\n",
    "num_column_new\n"
   ]
  },
  {
   "cell_type": "code",
   "execution_count": 14,
   "metadata": {
    "scrolled": false
   },
   "outputs": [
    {
     "data": {
      "text/plain": [
       "Year_sold     object\n",
       "waterfront    object\n",
       "view          object\n",
       "condition     object\n",
       "grade         object\n",
       "yr_built      object\n",
       "Renovation    object\n",
       "dtype: object"
      ]
     },
     "execution_count": 14,
     "metadata": {},
     "output_type": "execute_result"
    }
   ],
   "source": [
    "cat_column_new"
   ]
  },
  {
   "cell_type": "code",
   "execution_count": 15,
   "metadata": {},
   "outputs": [],
   "source": [
    "# creating dummy variables for the categorical values\n",
    "df = pd.get_dummies(df, columns = ['Year_sold'], prefix = ['Year_sold'])\n",
    "df = pd.get_dummies(df, columns = ['waterfront'], prefix = ['waterfront'])\n",
    "df = pd.get_dummies(df, columns = ['view'], prefix = ['view'])\n",
    "df = pd.get_dummies(df, columns = ['condition'], prefix = ['condition'])\n",
    "df = pd.get_dummies(df, columns = ['grade'], prefix = ['grade'])\n",
    "df = pd.get_dummies(df, columns = ['yr_built'], prefix = ['yr_built'])\n",
    "df = pd.get_dummies(df, columns = ['Renovation'], prefix = ['Renovation'])\n"
   ]
  },
  {
   "cell_type": "code",
   "execution_count": 16,
   "metadata": {},
   "outputs": [
    {
     "data": {
      "text/html": [
       "<div>\n",
       "<style scoped>\n",
       "    .dataframe tbody tr th:only-of-type {\n",
       "        vertical-align: middle;\n",
       "    }\n",
       "\n",
       "    .dataframe tbody tr th {\n",
       "        vertical-align: top;\n",
       "    }\n",
       "\n",
       "    .dataframe thead th {\n",
       "        text-align: right;\n",
       "    }\n",
       "</style>\n",
       "<table border=\"1\" class=\"dataframe\">\n",
       "  <thead>\n",
       "    <tr style=\"text-align: right;\">\n",
       "      <th></th>\n",
       "      <th>price</th>\n",
       "      <th>bedrooms</th>\n",
       "      <th>bathrooms</th>\n",
       "      <th>sqft_living</th>\n",
       "      <th>sqft_lot</th>\n",
       "      <th>floors</th>\n",
       "      <th>sqft_above</th>\n",
       "      <th>sqft_basement</th>\n",
       "      <th>lat</th>\n",
       "      <th>long</th>\n",
       "      <th>...</th>\n",
       "      <th>condition_5</th>\n",
       "      <th>grade_7</th>\n",
       "      <th>grade_8</th>\n",
       "      <th>grade_1 - 6</th>\n",
       "      <th>grade_9 - 13</th>\n",
       "      <th>yr_built_between 1900 to 1950</th>\n",
       "      <th>yr_built_between 1950 to 1990</th>\n",
       "      <th>yr_built_between 1990 to 2015</th>\n",
       "      <th>Renovation_not renovated</th>\n",
       "      <th>Renovation_renovated</th>\n",
       "    </tr>\n",
       "  </thead>\n",
       "  <tbody>\n",
       "    <tr>\n",
       "      <td>0</td>\n",
       "      <td>500000</td>\n",
       "      <td>4</td>\n",
       "      <td>2.00</td>\n",
       "      <td>1680.0</td>\n",
       "      <td>3813.0</td>\n",
       "      <td>2.0</td>\n",
       "      <td>1680.0</td>\n",
       "      <td>0.0</td>\n",
       "      <td>47.5930</td>\n",
       "      <td>-122.293</td>\n",
       "      <td>...</td>\n",
       "      <td>0</td>\n",
       "      <td>1</td>\n",
       "      <td>0</td>\n",
       "      <td>0</td>\n",
       "      <td>0</td>\n",
       "      <td>1</td>\n",
       "      <td>0</td>\n",
       "      <td>0</td>\n",
       "      <td>1</td>\n",
       "      <td>0</td>\n",
       "    </tr>\n",
       "    <tr>\n",
       "      <td>1</td>\n",
       "      <td>500000</td>\n",
       "      <td>2</td>\n",
       "      <td>1.00</td>\n",
       "      <td>960.0</td>\n",
       "      <td>5000.0</td>\n",
       "      <td>1.0</td>\n",
       "      <td>960.0</td>\n",
       "      <td>0.0</td>\n",
       "      <td>47.6755</td>\n",
       "      <td>-122.367</td>\n",
       "      <td>...</td>\n",
       "      <td>0</td>\n",
       "      <td>1</td>\n",
       "      <td>0</td>\n",
       "      <td>0</td>\n",
       "      <td>0</td>\n",
       "      <td>1</td>\n",
       "      <td>0</td>\n",
       "      <td>0</td>\n",
       "      <td>1</td>\n",
       "      <td>0</td>\n",
       "    </tr>\n",
       "    <tr>\n",
       "      <td>2</td>\n",
       "      <td>554600</td>\n",
       "      <td>3</td>\n",
       "      <td>1.75</td>\n",
       "      <td>1470.0</td>\n",
       "      <td>5000.0</td>\n",
       "      <td>1.5</td>\n",
       "      <td>1470.0</td>\n",
       "      <td>0.0</td>\n",
       "      <td>47.6755</td>\n",
       "      <td>-122.369</td>\n",
       "      <td>...</td>\n",
       "      <td>1</td>\n",
       "      <td>1</td>\n",
       "      <td>0</td>\n",
       "      <td>0</td>\n",
       "      <td>0</td>\n",
       "      <td>1</td>\n",
       "      <td>0</td>\n",
       "      <td>0</td>\n",
       "      <td>1</td>\n",
       "      <td>0</td>\n",
       "    </tr>\n",
       "    <tr>\n",
       "      <td>3</td>\n",
       "      <td>730000</td>\n",
       "      <td>3</td>\n",
       "      <td>1.75</td>\n",
       "      <td>1650.0</td>\n",
       "      <td>5000.0</td>\n",
       "      <td>1.5</td>\n",
       "      <td>1650.0</td>\n",
       "      <td>0.0</td>\n",
       "      <td>47.6743</td>\n",
       "      <td>-122.371</td>\n",
       "      <td>...</td>\n",
       "      <td>0</td>\n",
       "      <td>0</td>\n",
       "      <td>1</td>\n",
       "      <td>0</td>\n",
       "      <td>0</td>\n",
       "      <td>1</td>\n",
       "      <td>0</td>\n",
       "      <td>0</td>\n",
       "      <td>1</td>\n",
       "      <td>0</td>\n",
       "    </tr>\n",
       "    <tr>\n",
       "      <td>4</td>\n",
       "      <td>870000</td>\n",
       "      <td>5</td>\n",
       "      <td>4.00</td>\n",
       "      <td>3400.0</td>\n",
       "      <td>5000.0</td>\n",
       "      <td>2.0</td>\n",
       "      <td>2320.0</td>\n",
       "      <td>1080.0</td>\n",
       "      <td>47.6655</td>\n",
       "      <td>-122.363</td>\n",
       "      <td>...</td>\n",
       "      <td>0</td>\n",
       "      <td>0</td>\n",
       "      <td>1</td>\n",
       "      <td>0</td>\n",
       "      <td>0</td>\n",
       "      <td>1</td>\n",
       "      <td>0</td>\n",
       "      <td>0</td>\n",
       "      <td>0</td>\n",
       "      <td>1</td>\n",
       "    </tr>\n",
       "  </tbody>\n",
       "</table>\n",
       "<p>5 rows × 35 columns</p>\n",
       "</div>"
      ],
      "text/plain": [
       "    price  bedrooms  bathrooms  sqft_living  sqft_lot  floors  sqft_above  \\\n",
       "0  500000         4       2.00       1680.0    3813.0     2.0      1680.0   \n",
       "1  500000         2       1.00        960.0    5000.0     1.0       960.0   \n",
       "2  554600         3       1.75       1470.0    5000.0     1.5      1470.0   \n",
       "3  730000         3       1.75       1650.0    5000.0     1.5      1650.0   \n",
       "4  870000         5       4.00       3400.0    5000.0     2.0      2320.0   \n",
       "\n",
       "   sqft_basement      lat     long  ...  condition_5  grade_7  grade_8  \\\n",
       "0            0.0  47.5930 -122.293  ...            0        1        0   \n",
       "1            0.0  47.6755 -122.367  ...            0        1        0   \n",
       "2            0.0  47.6755 -122.369  ...            1        1        0   \n",
       "3            0.0  47.6743 -122.371  ...            0        0        1   \n",
       "4         1080.0  47.6655 -122.363  ...            0        0        1   \n",
       "\n",
       "   grade_1 - 6  grade_9 - 13  yr_built_between 1900 to 1950  \\\n",
       "0            0             0                              1   \n",
       "1            0             0                              1   \n",
       "2            0             0                              1   \n",
       "3            0             0                              1   \n",
       "4            0             0                              1   \n",
       "\n",
       "   yr_built_between 1950 to 1990  yr_built_between 1990 to 2015  \\\n",
       "0                              0                              0   \n",
       "1                              0                              0   \n",
       "2                              0                              0   \n",
       "3                              0                              0   \n",
       "4                              0                              0   \n",
       "\n",
       "   Renovation_not renovated  Renovation_renovated  \n",
       "0                         1                     0  \n",
       "1                         1                     0  \n",
       "2                         1                     0  \n",
       "3                         1                     0  \n",
       "4                         0                     1  \n",
       "\n",
       "[5 rows x 35 columns]"
      ]
     },
     "execution_count": 16,
     "metadata": {},
     "output_type": "execute_result"
    }
   ],
   "source": [
    "df.head()"
   ]
  },
  {
   "cell_type": "code",
   "execution_count": 17,
   "metadata": {},
   "outputs": [
    {
     "data": {
      "image/png": "[encoded data removed]",
      "text/plain": [
       "<Figure size 576x576 with 2 Axes>"
      ]
     },
     "metadata": {},
     "output_type": "display_data"
    }
   ],
   "source": [
    "# correlation matrix for the features\n",
    "fig = plt.figure(figsize = (8,8))\n",
    "\n",
    "sns.heatmap(df[list(num_column_new.index)].corr(),annot = True,square = True);\n",
    "                   "
   ]
  },
  {
   "cell_type": "code",
   "execution_count": 18,
   "metadata": {},
   "outputs": [],
   "source": [
    "# Creating Feature and target variable\n",
    "\n",
    "y = df['price']\n",
    "X = df.drop(['price'], axis = 1)\n",
    "names = list(X.columns.values)"
   ]
  },
  {
   "cell_type": "code",
   "execution_count": 19,
   "metadata": {},
   "outputs": [
    {
     "name": "stdout",
     "output_type": "stream",
     "text": [
      "<class 'pandas.core.frame.DataFrame'>\n",
      "RangeIndex: 21613 entries, 0 to 21612\n",
      "Data columns (total 35 columns):\n",
      "price                            21613 non-null int32\n",
      "bedrooms                         21613 non-null int64\n",
      "bathrooms                        21613 non-null float64\n",
      "sqft_living                      21613 non-null float64\n",
      "sqft_lot                         21613 non-null float64\n",
      "floors                           21613 non-null float64\n",
      "sqft_above                       21613 non-null float64\n",
      "sqft_basement                    21613 non-null float64\n",
      "lat                              21613 non-null float64\n",
      "long                             21613 non-null float64\n",
      "sqft_living15                    21613 non-null int64\n",
      "sqft_lot15                       21613 non-null int64\n",
      "Year_sold_2014                   21613 non-null uint8\n",
      "Year_sold_2015                   21613 non-null uint8\n",
      "waterfront_0                     21613 non-null uint8\n",
      "waterfront_1                     21613 non-null uint8\n",
      "view_0                           21613 non-null uint8\n",
      "view_1                           21613 non-null uint8\n",
      "view_2                           21613 non-null uint8\n",
      "view_3                           21613 non-null uint8\n",
      "view_4                           21613 non-null uint8\n",
      "condition_1                      21613 non-null uint8\n",
      "condition_2                      21613 non-null uint8\n",
      "condition_3                      21613 non-null uint8\n",
      "condition_4                      21613 non-null uint8\n",
      "condition_5                      21613 non-null uint8\n",
      "grade_7                          21613 non-null uint8\n",
      "grade_8                          21613 non-null uint8\n",
      "grade_1 - 6                      21613 non-null uint8\n",
      "grade_9 - 13                     21613 non-null uint8\n",
      "yr_built_between 1900 to 1950    21613 non-null uint8\n",
      "yr_built_between 1950 to 1990    21613 non-null uint8\n",
      "yr_built_between 1990 to 2015    21613 non-null uint8\n",
      "Renovation_not renovated         21613 non-null uint8\n",
      "Renovation_renovated             21613 non-null uint8\n",
      "dtypes: float64(8), int32(1), int64(3), uint8(23)\n",
      "memory usage: 2.4 MB\n"
     ]
    }
   ],
   "source": [
    "df.info()"
   ]
  },
  {
   "cell_type": "code",
   "execution_count": 20,
   "metadata": {},
   "outputs": [
    {
     "data": {
      "text/plain": [
       "price                            False\n",
       "bedrooms                         False\n",
       "bathrooms                        False\n",
       "sqft_living                      False\n",
       "sqft_lot                         False\n",
       "floors                           False\n",
       "sqft_above                       False\n",
       "sqft_basement                    False\n",
       "lat                              False\n",
       "long                             False\n",
       "sqft_living15                    False\n",
       "sqft_lot15                       False\n",
       "Year_sold_2014                   False\n",
       "Year_sold_2015                   False\n",
       "waterfront_0                     False\n",
       "waterfront_1                     False\n",
       "view_0                           False\n",
       "view_1                           False\n",
       "view_2                           False\n",
       "view_3                           False\n",
       "view_4                           False\n",
       "condition_1                      False\n",
       "condition_2                      False\n",
       "condition_3                      False\n",
       "condition_4                      False\n",
       "condition_5                      False\n",
       "grade_7                          False\n",
       "grade_8                          False\n",
       "grade_1 - 6                      False\n",
       "grade_9 - 13                     False\n",
       "yr_built_between 1900 to 1950    False\n",
       "yr_built_between 1950 to 1990    False\n",
       "yr_built_between 1990 to 2015    False\n",
       "Renovation_not renovated         False\n",
       "Renovation_renovated             False\n",
       "dtype: bool"
      ]
     },
     "execution_count": 20,
     "metadata": {},
     "output_type": "execute_result"
    }
   ],
   "source": [
    "pd.isnull(df).any()"
   ]
  },
  {
   "cell_type": "markdown",
   "metadata": {},
   "source": [
    "# Scaling"
   ]
  },
  {
   "cell_type": "code",
   "execution_count": 21,
   "metadata": {},
   "outputs": [],
   "source": [
    "from sklearn.preprocessing import MinMaxScaler\n",
    "from sklearn.model_selection import train_test_split\n",
    "\n",
    "X_train_org, X_test_org, y_train, y_test = train_test_split(X,y, random_state = 0)\n",
    "\n",
    "scaler = MinMaxScaler()\n",
    "X_train = scaler.fit_transform(X_train_org)\n",
    "X_test = scaler.transform(X_test_org)"
   ]
  },
  {
   "cell_type": "markdown",
   "metadata": {},
   "source": [
    "# Bagging"
   ]
  },
  {
   "cell_type": "markdown",
   "metadata": {},
   "source": [
    "DecisionTree regressor"
   ]
  },
  {
   "cell_type": "code",
   "execution_count": 22,
   "metadata": {},
   "outputs": [
    {
     "data": {
      "text/plain": [
       "{'max_features': 10, 'max_samples': 0.5, 'n_estimators': 100}"
      ]
     },
     "execution_count": 22,
     "metadata": {},
     "output_type": "execute_result"
    }
   ],
   "source": [
    "from sklearn.ensemble import BaggingRegressor\n",
    "from sklearn.tree import DecisionTreeRegressor\n",
    "from sklearn.model_selection import GridSearchCV\n",
    "\n",
    "mf = [2, 5, 10]\n",
    "n = [100, 200, 300, 500]\n",
    "ms = [0.1, 0.5, 1]\n",
    "\n",
    "param_grid = dict(max_features = mf, n_estimators = n, max_samples = ms)\n",
    "\n",
    "dt_rgr = DecisionTreeRegressor(max_depth = 5, random_state=0)\n",
    "bag_rgr = GridSearchCV(BaggingRegressor(dt_rgr,  bootstrap=True, oob_score=True, random_state=0), param_grid, cv = 5, iid = False)\n",
    "\n",
    "bag_rgr.fit(X_train, y_train)\n",
    "y_pred = bag_rgr.predict(X_test)\n",
    "bag_rgr.best_params_"
   ]
  },
  {
   "cell_type": "code",
   "execution_count": 23,
   "metadata": {},
   "outputs": [
    {
     "name": "stdout",
     "output_type": "stream",
     "text": [
      "Train score: 0.7233\n",
      "Test score: 0.6952\n"
     ]
    }
   ],
   "source": [
    "print('Train score: {:.4f}'.format(bag_rgr.score(X_train, y_train)))\n",
    "print('Test score: {:.4f}'.format(bag_rgr.score(X_test, y_test)))"
   ]
  },
  {
   "cell_type": "markdown",
   "metadata": {},
   "source": [
    "Linear regression"
   ]
  },
  {
   "cell_type": "code",
   "execution_count": 24,
   "metadata": {},
   "outputs": [
    {
     "data": {
      "text/plain": [
       "{'max_features': 10, 'max_samples': 0.5, 'n_estimators': 100}"
      ]
     },
     "execution_count": 24,
     "metadata": {},
     "output_type": "execute_result"
    }
   ],
   "source": [
    "from sklearn.linear_model import LinearRegression\n",
    "\n",
    "lreg = LinearRegression()\n",
    "\n",
    "bag_rgr = GridSearchCV(BaggingRegressor(lreg,  bootstrap=True, oob_score=True, random_state=0), param_grid, cv = 5, iid = False)\n",
    "\n",
    "bag_rgr.fit(X_train, y_train)\n",
    "y_pred = bag_rgr.predict(X_test)\n",
    "bag_rgr.best_params_"
   ]
  },
  {
   "cell_type": "code",
   "execution_count": 25,
   "metadata": {
    "scrolled": true
   },
   "outputs": [
    {
     "name": "stdout",
     "output_type": "stream",
     "text": [
      "Train score: 0.6038\n",
      "Test score: 0.6243\n"
     ]
    }
   ],
   "source": [
    "print('Train score: {:.4f}'.format(bag_rgr.score(X_train, y_train)))\n",
    "print('Test score: {:.4f}'.format(bag_rgr.score(X_test, y_test)))"
   ]
  },
  {
   "cell_type": "markdown",
   "metadata": {},
   "source": [
    "# Pasting"
   ]
  },
  {
   "cell_type": "markdown",
   "metadata": {},
   "source": [
    "Decisiontree Regressor"
   ]
  },
  {
   "cell_type": "code",
   "execution_count": 26,
   "metadata": {},
   "outputs": [
    {
     "data": {
      "text/plain": [
       "{'max_features': 10, 'max_samples': 0.5, 'n_estimators': 100}"
      ]
     },
     "execution_count": 26,
     "metadata": {},
     "output_type": "execute_result"
    }
   ],
   "source": [
    "from sklearn.ensemble import BaggingRegressor\n",
    "from sklearn.tree import DecisionTreeRegressor\n",
    "from sklearn.model_selection import GridSearchCV\n",
    "\n",
    "mf = [2, 5, 10]\n",
    "n = [100, 200, 300, 500]\n",
    "ms = [0.1, 0.5, 1]\n",
    "\n",
    "param_grid = dict(max_features = mf, n_estimators = n, max_samples = ms)\n",
    "\n",
    "dt_rgr = DecisionTreeRegressor(max_depth = 5, random_state=0)\n",
    "bag_rgr = GridSearchCV(BaggingRegressor(dt_rgr,  bootstrap=False, random_state=0), param_grid, cv = 5, iid = False)\n",
    "\n",
    "bag_rgr.fit(X_train, y_train)\n",
    "y_pred = bag_rgr.predict(X_test)\n",
    "bag_rgr.best_params_"
   ]
  },
  {
   "cell_type": "code",
   "execution_count": 27,
   "metadata": {
    "scrolled": true
   },
   "outputs": [
    {
     "name": "stdout",
     "output_type": "stream",
     "text": [
      "Train score: 0.7276\n",
      "Test score: 0.6997\n"
     ]
    }
   ],
   "source": [
    "print('Train score: {:.4f}'.format(bag_rgr.score(X_train, y_train)))\n",
    "print('Test score: {:.4f}'.format(bag_rgr.score(X_test, y_test)))"
   ]
  },
  {
   "cell_type": "markdown",
   "metadata": {},
   "source": [
    "Linear regression"
   ]
  },
  {
   "cell_type": "code",
   "execution_count": 28,
   "metadata": {},
   "outputs": [
    {
     "data": {
      "text/plain": [
       "{'max_features': 10, 'max_samples': 0.5, 'n_estimators': 100}"
      ]
     },
     "execution_count": 28,
     "metadata": {},
     "output_type": "execute_result"
    }
   ],
   "source": [
    "from sklearn.linear_model import LinearRegression\n",
    "\n",
    "lreg = LinearRegression()\n",
    "\n",
    "bag_rgr = GridSearchCV(BaggingRegressor(lreg,  bootstrap=False, random_state=0), param_grid, cv = 5, iid = False)\n",
    "\n",
    "bag_rgr.fit(X_train, y_train)\n",
    "y_pred = bag_rgr.predict(X_test)\n",
    "bag_rgr.best_params_"
   ]
  },
  {
   "cell_type": "code",
   "execution_count": 29,
   "metadata": {},
   "outputs": [
    {
     "name": "stdout",
     "output_type": "stream",
     "text": [
      "Train score: 0.6028\n",
      "Test score: 0.6234\n"
     ]
    }
   ],
   "source": [
    "print('Train score: {:.4f}'.format(bag_rgr.score(X_train, y_train)))\n",
    "print('Test score: {:.4f}'.format(bag_rgr.score(X_test, y_test)))"
   ]
  },
  {
   "cell_type": "markdown",
   "metadata": {},
   "source": [
    "# Adaboost Boosting"
   ]
  },
  {
   "cell_type": "markdown",
   "metadata": {},
   "source": [
    "DecisionTree Regressor"
   ]
  },
  {
   "cell_type": "code",
   "execution_count": 30,
   "metadata": {},
   "outputs": [
    {
     "data": {
      "text/plain": [
       "{'learning_rate': 0.1, 'n_estimators': 100}"
      ]
     },
     "execution_count": 30,
     "metadata": {},
     "output_type": "execute_result"
    }
   ],
   "source": [
    "from sklearn.ensemble import AdaBoostRegressor\n",
    "\n",
    "\n",
    "n = [100, 200, 300, 500]\n",
    "lr = [0.1, 0.5, 1]\n",
    "\n",
    "param_grid = dict(n_estimators = n, learning_rate = lr)\n",
    "\n",
    "dt_rgr = DecisionTreeRegressor(max_depth = 5, random_state=0)\n",
    "ada_rgr = GridSearchCV(AdaBoostRegressor(dt_rgr, random_state=0), param_grid, cv = 5, iid = False)\n",
    "ada_rgr.fit(X_train, y_train)\n",
    "y_pred = ada_rgr.predict(X_test)\n",
    "ada_rgr.best_params_"
   ]
  },
  {
   "cell_type": "code",
   "execution_count": 31,
   "metadata": {},
   "outputs": [
    {
     "name": "stdout",
     "output_type": "stream",
     "text": [
      "Train score: 0.8321\n",
      "Test score: 0.7774\n"
     ]
    }
   ],
   "source": [
    "print('Train score: {:.4f}'.format(ada_rgr.score(X_train, y_train)))\n",
    "print('Test score: {:.4f}'.format(ada_rgr.score(X_test, y_test)))"
   ]
  },
  {
   "cell_type": "markdown",
   "metadata": {},
   "source": [
    "Linear regression "
   ]
  },
  {
   "cell_type": "code",
   "execution_count": 32,
   "metadata": {
    "scrolled": true
   },
   "outputs": [
    {
     "name": "stdout",
     "output_type": "stream",
     "text": [
      "Train score: 0.2838\n",
      "Test score: 0.2273\n"
     ]
    }
   ],
   "source": [
    "n = [100, 200, 300, 500]\n",
    "lr = [0.1, 0.5, 1]\n",
    "\n",
    "param_grid = dict(n_estimators = n, learning_rate = lr)\n",
    "\n",
    "ada_rgr = GridSearchCV(AdaBoostRegressor(lreg, random_state=0),  param_grid, cv = 5, iid = False)\n",
    "ada_rgr.fit(X_train, y_train)\n",
    "y_pred = ada_rgr.predict(X_test)\n",
    "ada_rgr.best_params_"
   ]
  },
  {
   "cell_type": "code",
   "execution_count": null,
   "metadata": {},
   "outputs": [],
   "source": [
    "print('Train score: {:.4f}'.format(ada_rgr.score(X_train, y_train)))\n",
    "print('Test score: {:.4f}'.format(ada_rgr.score(X_test, y_test)))"
   ]
  },
  {
   "cell_type": "markdown",
   "metadata": {},
   "source": [
    "# Gradient boosting"
   ]
  },
  {
   "cell_type": "code",
   "execution_count": 33,
   "metadata": {
    "scrolled": true
   },
   "outputs": [
    {
     "data": {
      "text/plain": [
       "{'max_depth': 5, 'max_features': 10, 'n_estimators': 200}"
      ]
     },
     "execution_count": 33,
     "metadata": {},
     "output_type": "execute_result"
    }
   ],
   "source": [
    "from  sklearn.ensemble import GradientBoostingRegressor\n",
    "\n",
    "mf = [2, 5, 10]\n",
    "n = [50, 100, 200]\n",
    "md = [1, 5, 10]\n",
    "\n",
    "param_grid = dict(max_features = mf, n_estimators = n, max_depth = md)\n",
    "\n",
    "gbrt = GridSearchCV(GradientBoostingRegressor(random_state=0), param_grid, cv = 5, iid = False)\n",
    "\n",
    "gbrt.fit(X_train, y_train)\n",
    "y_pred = gbrt.predict(X_test)\n",
    "gbrt.best_params_"
   ]
  },
  {
   "cell_type": "code",
   "execution_count": 34,
   "metadata": {},
   "outputs": [
    {
     "name": "stdout",
     "output_type": "stream",
     "text": [
      "Train score: 0.9521\n",
      "Test score: 0.8871\n"
     ]
    }
   ],
   "source": [
    "print('Train score: {:.4f}'.format(gbrt.score(X_train, y_train)))\n",
    "print('Test score: {:.4f}'.format(gbrt.score(X_test, y_test)))"
   ]
  },
  {
   "cell_type": "markdown",
   "metadata": {},
   "source": [
    "# Principal Component Analysis"
   ]
  },
  {
   "cell_type": "markdown",
   "metadata": {},
   "source": [
    "Creating a new dataset after reducing the dimensions using PCA"
   ]
  },
  {
   "cell_type": "code",
   "execution_count": 35,
   "metadata": {},
   "outputs": [
    {
     "data": {
      "text/plain": [
       "12"
      ]
     },
     "execution_count": 35,
     "metadata": {},
     "output_type": "execute_result"
    }
   ],
   "source": [
    "from sklearn.decomposition import PCA\n",
    "#import numpy as np\n",
    "\n",
    "pca = PCA(n_components = 0.95)\n",
    "X_train_reduced = pca.fit_transform(X_train)\n",
    "X_test_reduced = pca.transform(X_test)\n",
    "\n",
    "pca.n_components_\n",
    "#cumsum = np.cumsum(pca.explained_variance_ratio_)\n",
    "#d = np.argmax(cumsum >= 0.95) + 1"
   ]
  },
  {
   "cell_type": "markdown",
   "metadata": {},
   "source": [
    "# LINEAR REGRESSION"
   ]
  },
  {
   "cell_type": "markdown",
   "metadata": {},
   "source": [
    "Without PCA"
   ]
  },
  {
   "cell_type": "code",
   "execution_count": 36,
   "metadata": {},
   "outputs": [
    {
     "name": "stdout",
     "output_type": "stream",
     "text": [
      "0.6678770388671587\n",
      "0.6856276569690731\n"
     ]
    }
   ],
   "source": [
    "lreg = LinearRegression()\n",
    "lreg.fit(X_train, y_train)\n",
    "print(lreg.score(X_train, y_train))\n",
    "print(lreg.score(X_test, y_test))"
   ]
  },
  {
   "cell_type": "markdown",
   "metadata": {},
   "source": [
    "With PCA"
   ]
  },
  {
   "cell_type": "code",
   "execution_count": 37,
   "metadata": {},
   "outputs": [
    {
     "name": "stdout",
     "output_type": "stream",
     "text": [
      "0.5425256514742294\n",
      "0.5817095750082382\n"
     ]
    }
   ],
   "source": [
    "lreg.fit(X_train_reduced, y_train)\n",
    "print(lreg.score(X_train_reduced, y_train))\n",
    "print(lreg.score(X_test_reduced, y_test))"
   ]
  },
  {
   "cell_type": "markdown",
   "metadata": {},
   "source": [
    "# POLYNOMIAL REGRESSION"
   ]
  },
  {
   "cell_type": "markdown",
   "metadata": {},
   "source": [
    "Without PCA"
   ]
  },
  {
   "cell_type": "code",
   "execution_count": 38,
   "metadata": {},
   "outputs": [],
   "source": [
    "from  sklearn.preprocessing  import PolynomialFeatures\n",
    "\n",
    "train_score_list = []\n",
    "test_score_list = []\n",
    "\n",
    "for n in range(1,3):\n",
    "    poly = PolynomialFeatures(n)\n",
    "    X_train_poly = poly.fit_transform(X_train)\n",
    "    X_test_poly = poly.transform(X_test)\n",
    "    lreg.fit(X_train_poly, y_train)\n",
    "    train_score_list.append(lreg.score(X_train_poly, y_train))\n",
    "    test_score_list.append(lreg.score(X_test_poly, y_test))"
   ]
  },
  {
   "cell_type": "code",
   "execution_count": 39,
   "metadata": {},
   "outputs": [
    {
     "name": "stdout",
     "output_type": "stream",
     "text": [
      "[0.6685105014847466, 0.8197186255949839]\n",
      "[0.6861638174849726, -9.054636609747665e+19]\n"
     ]
    }
   ],
   "source": [
    "print(train_score_list)\n",
    "print(test_score_list)"
   ]
  },
  {
   "cell_type": "markdown",
   "metadata": {},
   "source": [
    "With PCA"
   ]
  },
  {
   "cell_type": "code",
   "execution_count": 40,
   "metadata": {},
   "outputs": [],
   "source": [
    "train_score_list = []\n",
    "test_score_list = []\n",
    "\n",
    "for n in range(1,3):\n",
    "    poly = PolynomialFeatures(n)\n",
    "    X_train_poly = poly.fit_transform(X_train_reduced)\n",
    "    X_test_poly = poly.transform(X_test_reduced)\n",
    "    lreg.fit(X_train_poly, y_train)\n",
    "    train_score_list.append(lreg.score(X_train_poly, y_train))\n",
    "    test_score_list.append(lreg.score(X_test_poly, y_test))"
   ]
  },
  {
   "cell_type": "code",
   "execution_count": 41,
   "metadata": {
    "scrolled": true
   },
   "outputs": [
    {
     "name": "stdout",
     "output_type": "stream",
     "text": [
      "[0.5425256514742294, 0.7057966675590055]\n",
      "[0.5817095750082382, 0.7159184704729091]\n"
     ]
    }
   ],
   "source": [
    "print(train_score_list)\n",
    "print(test_score_list)"
   ]
  },
  {
   "cell_type": "markdown",
   "metadata": {},
   "source": [
    "# Ridge"
   ]
  },
  {
   "cell_type": "markdown",
   "metadata": {},
   "source": [
    "Without PCA"
   ]
  },
  {
   "cell_type": "code",
   "execution_count": 97,
   "metadata": {},
   "outputs": [
    {
     "name": "stdout",
     "output_type": "stream",
     "text": [
      "Fitting 5 folds for each of 7 candidates, totalling 35 fits\n"
     ]
    },
    {
     "name": "stderr",
     "output_type": "stream",
     "text": [
      "[Parallel(n_jobs=-1)]: Using backend LokyBackend with 4 concurrent workers.\n",
      "[Parallel(n_jobs=-1)]: Done  28 out of  35 | elapsed:    4.4s remaining:    1.0s\n",
      "[Parallel(n_jobs=-1)]: Done  35 out of  35 | elapsed:    4.4s finished\n"
     ]
    },
    {
     "data": {
      "text/plain": [
       "{'alpha': 0.1}"
      ]
     },
     "execution_count": 97,
     "metadata": {},
     "output_type": "execute_result"
    }
   ],
   "source": [
    "from  sklearn.linear_model import Ridge\n",
    "\n",
    "alpha = [0.001, 0.01, 0.1, 1, 10, 100, 1000]\n",
    "param_grid = dict(alpha=alpha)\n",
    "\n",
    "ridge_reg = GridSearchCV(estimator=ridge, param_grid=param_grid, scoring='r2', verbose=1, n_jobs=-1, cv = 5, iid = False)\n",
    "ridge_reg.fit(X_train, y_train)\n",
    "\n",
    "y_pred = ridge_reg.predict(X_test)\n",
    "ridge_reg.best_params_\n"
   ]
  },
  {
   "cell_type": "code",
   "execution_count": 98,
   "metadata": {
    "scrolled": true
   },
   "outputs": [
    {
     "name": "stdout",
     "output_type": "stream",
     "text": [
      "Train score: 0.6686\n",
      "Test score: 0.6871\n"
     ]
    }
   ],
   "source": [
    "print('Train score: {:.4f}'.format(ridge_reg.score(X_train,y_train)))\n",
    "print('Test score: {:.4f}'.format(ridge_reg.score(X_test, y_test)))"
   ]
  },
  {
   "cell_type": "code",
   "execution_count": 102,
   "metadata": {},
   "outputs": [
    {
     "data": {
      "text/plain": [
       "Text(0.5, 0, '$\\\\alpha$')"
      ]
     },
     "execution_count": 102,
     "metadata": {},
     "output_type": "execute_result"
    },
    {
     "data": {
      "image/png": "[encoded data removed]",
      "text/plain": [
       "<Figure size 432x288 with 1 Axes>"
      ]
     },
     "metadata": {
      "needs_background": "light"
     },
     "output_type": "display_data"
    }
   ],
   "source": [
    "#variation of test and train score with alpha\n",
    "\n",
    "train_score_list = []\n",
    "test_score_list = []\n",
    "\n",
    "x_range = [0.001, 0.01, 0.1, 1, 10, 100, 1000]\n",
    "for alpha in x_range: \n",
    "    ridge = Ridge(alpha)\n",
    "    ridge.fit(X_train,y_train)\n",
    "    train_score_list.append(ridge.score(X_train,y_train))\n",
    "    test_score_list.append(ridge.score(X_test, y_test))\n",
    "    \n",
    "%matplotlib inline\n",
    "import matplotlib.pyplot as plt\n",
    "plt.plot(x_range, train_score_list, c = 'g', label = 'Train Score')\n",
    "plt.plot(x_range, test_score_list, c = 'b', label = 'Test Score')\n",
    "plt.xscale('log')\n",
    "plt.legend(loc = 3)\n",
    "plt.xlabel(r'$\\alpha$')"
   ]
  },
  {
   "cell_type": "code",
   "execution_count": 111,
   "metadata": {},
   "outputs": [
    {
     "data": {
      "image/png": "[encoded data removed]",
      "text/plain": [
       "<Figure size 432x288 with 1 Axes>"
      ]
     },
     "metadata": {
      "needs_background": "light"
     },
     "output_type": "display_data"
    }
   ],
   "source": [
    "%matplotlib inline\n",
    "import numpy as np\n",
    "\n",
    "x_range1 = np.linspace(0.001, 1, 100).reshape(-1,1)\n",
    "x_range2 = np.linspace(1, 10000, 10000).reshape(-1,1)\n",
    "\n",
    "x_range = np.append(x_range1, x_range2)\n",
    "coeff = []\n",
    "\n",
    "for alpha in x_range: \n",
    "    ridge = Ridge(alpha)\n",
    "    ridge.fit(X_train,y_train)\n",
    "    coeff.append(ridge.coef_ )\n",
    "    \n",
    "coeff = np.array(coeff)\n",
    "\n",
    "for i in range(0,34):\n",
    "    plt.plot(x_range, coeff[:,i], label = 'feature {:d}'.format(i))\n",
    "\n",
    "plt.axhline(y=0, xmin=0.001, xmax=9999, linewidth=1, c ='gray')\n",
    "plt.xlabel(r'$\\alpha$')\n",
    "plt.xscale('log')\n",
    "plt.legend(loc='upper center', bbox_to_anchor=(0.5, 1.5),\n",
    "          ncol=3, fancybox=True, shadow=True)\n",
    "plt.show()"
   ]
  },
  {
   "cell_type": "markdown",
   "metadata": {},
   "source": [
    "With PCA"
   ]
  },
  {
   "cell_type": "code",
   "execution_count": 104,
   "metadata": {},
   "outputs": [
    {
     "name": "stdout",
     "output_type": "stream",
     "text": [
      "Fitting 5 folds for each of 7 candidates, totalling 35 fits\n"
     ]
    },
    {
     "name": "stderr",
     "output_type": "stream",
     "text": [
      "[Parallel(n_jobs=-1)]: Using backend LokyBackend with 4 concurrent workers.\n",
      "[Parallel(n_jobs=-1)]: Done  28 out of  35 | elapsed:    3.5s remaining:    0.8s\n",
      "[Parallel(n_jobs=-1)]: Done  35 out of  35 | elapsed:    3.6s finished\n"
     ]
    },
    {
     "data": {
      "text/plain": [
       "{'alpha': 1}"
      ]
     },
     "execution_count": 104,
     "metadata": {},
     "output_type": "execute_result"
    }
   ],
   "source": [
    "ridge_reg.fit(X_train_reduced,y_train)\n",
    "\n",
    "y_pred = ridge_reg.predict(X_test_reduced)\n",
    "ridge_reg.best_params_"
   ]
  },
  {
   "cell_type": "code",
   "execution_count": 105,
   "metadata": {},
   "outputs": [
    {
     "name": "stdout",
     "output_type": "stream",
     "text": [
      "Train score: 0.5425\n",
      "Test score: 0.5817\n"
     ]
    }
   ],
   "source": [
    "print('Train score: {:.4f}'.format(ridge_reg.score(X_train_reduced,y_train)))\n",
    "print('Test score: {:.4f}'.format(ridge_reg.score(X_test_reduced, y_test)))"
   ]
  },
  {
   "cell_type": "code",
   "execution_count": 106,
   "metadata": {},
   "outputs": [
    {
     "data": {
      "text/plain": [
       "Text(0.5, 0, '$\\\\alpha$')"
      ]
     },
     "execution_count": 106,
     "metadata": {},
     "output_type": "execute_result"
    },
    {
     "data": {
      "image/png": "[encoded data removed]",
      "text/plain": [
       "<Figure size 432x288 with 1 Axes>"
      ]
     },
     "metadata": {
      "needs_background": "light"
     },
     "output_type": "display_data"
    }
   ],
   "source": [
    "#variation of test and train score with alpha\n",
    "\n",
    "train_score_list = []\n",
    "test_score_list = []\n",
    "\n",
    "x_range = [0.001, 0.01, 0.1, 1, 10, 100, 1000]\n",
    "for alpha in x_range: \n",
    "    ridge = Ridge(alpha)\n",
    "    ridge.fit(X_train_reduced,y_train)\n",
    "    train_score_list.append(ridge.score(X_train_reduced,y_train))\n",
    "    test_score_list.append(ridge.score(X_test_reduced, y_test))\n",
    "    \n",
    "%matplotlib inline\n",
    "import matplotlib.pyplot as plt\n",
    "plt.plot(x_range, train_score_list, c = 'g', label = 'Train Score')\n",
    "plt.plot(x_range, test_score_list, c = 'b', label = 'Test Score')\n",
    "plt.xscale('log')\n",
    "plt.legend(loc = 3)\n",
    "plt.xlabel(r'$\\alpha$')"
   ]
  },
  {
   "cell_type": "code",
   "execution_count": 112,
   "metadata": {
    "scrolled": true
   },
   "outputs": [
    {
     "ename": "IndexError",
     "evalue": "index 12 is out of bounds for axis 1 with size 12",
     "output_type": "error",
     "traceback": [
      "\u001b[1;31m---------------------------------------------------------------------------\u001b[0m",
      "\u001b[1;31mIndexError\u001b[0m                                Traceback (most recent call last)",
      "\u001b[1;32m<ipython-input-112-4c88743a3633>\u001b[0m in \u001b[0;36m<module>\u001b[1;34m\u001b[0m\n\u001b[0;32m     16\u001b[0m \u001b[1;33m\u001b[0m\u001b[0m\n\u001b[0;32m     17\u001b[0m \u001b[1;32mfor\u001b[0m \u001b[0mi\u001b[0m \u001b[1;32min\u001b[0m \u001b[0mrange\u001b[0m\u001b[1;33m(\u001b[0m\u001b[1;36m0\u001b[0m\u001b[1;33m,\u001b[0m\u001b[1;36m34\u001b[0m\u001b[1;33m)\u001b[0m\u001b[1;33m:\u001b[0m\u001b[1;33m\u001b[0m\u001b[1;33m\u001b[0m\u001b[0m\n\u001b[1;32m---> 18\u001b[1;33m     \u001b[0mplt\u001b[0m\u001b[1;33m.\u001b[0m\u001b[0mplot\u001b[0m\u001b[1;33m(\u001b[0m\u001b[0mx_range\u001b[0m\u001b[1;33m,\u001b[0m \u001b[0mcoeff\u001b[0m\u001b[1;33m[\u001b[0m\u001b[1;33m:\u001b[0m\u001b[1;33m,\u001b[0m\u001b[0mi\u001b[0m\u001b[1;33m]\u001b[0m\u001b[1;33m,\u001b[0m \u001b[0mlabel\u001b[0m \u001b[1;33m=\u001b[0m \u001b[1;34m'feature {:d}'\u001b[0m\u001b[1;33m.\u001b[0m\u001b[0mformat\u001b[0m\u001b[1;33m(\u001b[0m\u001b[0mi\u001b[0m\u001b[1;33m)\u001b[0m\u001b[1;33m)\u001b[0m\u001b[1;33m\u001b[0m\u001b[1;33m\u001b[0m\u001b[0m\n\u001b[0m\u001b[0;32m     19\u001b[0m \u001b[1;33m\u001b[0m\u001b[0m\n\u001b[0;32m     20\u001b[0m \u001b[0mplt\u001b[0m\u001b[1;33m.\u001b[0m\u001b[0maxhline\u001b[0m\u001b[1;33m(\u001b[0m\u001b[0my\u001b[0m\u001b[1;33m=\u001b[0m\u001b[1;36m0\u001b[0m\u001b[1;33m,\u001b[0m \u001b[0mxmin\u001b[0m\u001b[1;33m=\u001b[0m\u001b[1;36m0.001\u001b[0m\u001b[1;33m,\u001b[0m \u001b[0mxmax\u001b[0m\u001b[1;33m=\u001b[0m\u001b[1;36m19999\u001b[0m\u001b[1;33m,\u001b[0m \u001b[0mlinewidth\u001b[0m\u001b[1;33m=\u001b[0m\u001b[1;36m1\u001b[0m\u001b[1;33m,\u001b[0m \u001b[0mc\u001b[0m \u001b[1;33m=\u001b[0m\u001b[1;34m'gray'\u001b[0m\u001b[1;33m)\u001b[0m\u001b[1;33m\u001b[0m\u001b[1;33m\u001b[0m\u001b[0m\n",
      "\u001b[1;31mIndexError\u001b[0m: index 12 is out of bounds for axis 1 with size 12"
     ]
    },
    {
     "data": {
      "image/png": "[encoded data removed]",
      "text/plain": [
       "<Figure size 432x288 with 1 Axes>"
      ]
     },
     "metadata": {
      "needs_background": "light"
     },
     "output_type": "display_data"
    }
   ],
   "source": [
    "%matplotlib inline\n",
    "import numpy as np\n",
    "\n",
    "x_range1 = np.linspace(0.001, 1, 100).reshape(-1,1)\n",
    "x_range2 = np.linspace(1, 10000, 10000).reshape(-1,1)\n",
    "\n",
    "x_range = np.append(x_range1, x_range2)\n",
    "coeff = []\n",
    "\n",
    "for alpha in x_range: \n",
    "    ridge = Ridge(alpha)\n",
    "    ridge.fit(X_train_reduced,y_train)\n",
    "    coeff.append(ridge.coef_ )\n",
    "    \n",
    "coeff = np.array(coeff)\n",
    "\n",
    "for i in range(0,34):\n",
    "    plt.plot(x_range, coeff[:,i], label = 'feature {:d}'.format(i))\n",
    "\n",
    "plt.axhline(y=0, xmin=0.001, xmax=19999, linewidth=1, c ='gray')\n",
    "plt.xlabel(r'$\\alpha$')\n",
    "plt.xscale('log')\n",
    "plt.legend(loc='upper center', bbox_to_anchor=(0.5, 1.5),\n",
    "          ncol=3, fancybox=True, shadow=True)\n",
    "plt.show()"
   ]
  },
  {
   "cell_type": "markdown",
   "metadata": {},
   "source": [
    "# Lasso"
   ]
  },
  {
   "cell_type": "markdown",
   "metadata": {},
   "source": [
    "Without PCA"
   ]
  },
  {
   "cell_type": "code",
   "execution_count": 113,
   "metadata": {},
   "outputs": [
    {
     "name": "stderr",
     "output_type": "stream",
     "text": [
      "C:\\Users\\ANU\\Anaconda3\\lib\\site-packages\\sklearn\\linear_model\\coordinate_descent.py:475: ConvergenceWarning: Objective did not converge. You might want to increase the number of iterations. Duality gap: 56477566044876.375, tolerance: 223712019258.84488\n",
      "  positive)\n",
      "[Parallel(n_jobs=-1)]: Using backend LokyBackend with 4 concurrent workers.\n"
     ]
    },
    {
     "name": "stdout",
     "output_type": "stream",
     "text": [
      "Fitting 5 folds for each of 7 candidates, totalling 35 fits\n"
     ]
    },
    {
     "name": "stderr",
     "output_type": "stream",
     "text": [
      "[Parallel(n_jobs=-1)]: Done  35 out of  35 | elapsed:   15.6s finished\n",
      "C:\\Users\\ANU\\Anaconda3\\lib\\site-packages\\sklearn\\linear_model\\coordinate_descent.py:475: ConvergenceWarning: Objective did not converge. You might want to increase the number of iterations. Duality gap: 56476609666845.31, tolerance: 223712019258.84488\n",
      "  positive)\n"
     ]
    },
    {
     "data": {
      "text/plain": [
       "{'alpha': 0.001}"
      ]
     },
     "execution_count": 113,
     "metadata": {},
     "output_type": "execute_result"
    }
   ],
   "source": [
    "from  sklearn.linear_model import Lasso\n",
    "\n",
    "lasso = Lasso(alpha = 0.01)\n",
    "lasso.fit(X_train,y_train)\n",
    "\n",
    "alpha = [0.001, 0.01, 0.1, 1, 10, 100, 1000]\n",
    "param_grid = dict(alpha=alpha)\n",
    "\n",
    "lasso_reg = GridSearchCV(estimator=lasso, param_grid=param_grid, scoring='r2', verbose=1, n_jobs=-1, cv = 5, iid = False)\n",
    "lasso_reg.fit(X_train, y_train)\n",
    "\n",
    "y_pred = lasso_reg.predict(X_test)\n",
    "lasso_reg.best_params_\n"
   ]
  },
  {
   "cell_type": "code",
   "execution_count": 114,
   "metadata": {
    "scrolled": true
   },
   "outputs": [
    {
     "name": "stdout",
     "output_type": "stream",
     "text": [
      "Train score: 0.6686\n",
      "Test score: 0.6870\n"
     ]
    }
   ],
   "source": [
    "print('Train score: {:.4f}'.format(lasso_reg.score(X_train,y_train)))\n",
    "print('Test score: {:.4f}'.format(lasso_reg.score(X_test, y_test)))"
   ]
  },
  {
   "cell_type": "code",
   "execution_count": 115,
   "metadata": {},
   "outputs": [
    {
     "name": "stderr",
     "output_type": "stream",
     "text": [
      "C:\\Users\\ANU\\Anaconda3\\lib\\site-packages\\sklearn\\linear_model\\coordinate_descent.py:475: ConvergenceWarning: Objective did not converge. You might want to increase the number of iterations. Duality gap: 56476609666845.31, tolerance: 223712019258.84488\n",
      "  positive)\n",
      "C:\\Users\\ANU\\Anaconda3\\lib\\site-packages\\sklearn\\linear_model\\coordinate_descent.py:475: ConvergenceWarning: Objective did not converge. You might want to increase the number of iterations. Duality gap: 56477566044876.375, tolerance: 223712019258.84488\n",
      "  positive)\n",
      "C:\\Users\\ANU\\Anaconda3\\lib\\site-packages\\sklearn\\linear_model\\coordinate_descent.py:475: ConvergenceWarning: Objective did not converge. You might want to increase the number of iterations. Duality gap: 56482174306616.69, tolerance: 223712019258.84488\n",
      "  positive)\n",
      "C:\\Users\\ANU\\Anaconda3\\lib\\site-packages\\sklearn\\linear_model\\coordinate_descent.py:475: ConvergenceWarning: Objective did not converge. You might want to increase the number of iterations. Duality gap: 2164038583845.875, tolerance: 223712019258.84488\n",
      "  positive)\n",
      "C:\\Users\\ANU\\Anaconda3\\lib\\site-packages\\sklearn\\linear_model\\coordinate_descent.py:475: ConvergenceWarning: Objective did not converge. You might want to increase the number of iterations. Duality gap: 2238145240362.0, tolerance: 223712019258.84488\n",
      "  positive)\n"
     ]
    },
    {
     "data": {
      "text/plain": [
       "Text(0.5, 0, '$\\\\alpha$')"
      ]
     },
     "execution_count": 115,
     "metadata": {},
     "output_type": "execute_result"
    },
    {
     "data": {
      "image/png": "[encoded data removed]",
      "text/plain": [
       "<Figure size 432x288 with 1 Axes>"
      ]
     },
     "metadata": {
      "needs_background": "light"
     },
     "output_type": "display_data"
    }
   ],
   "source": [
    "train_score_list = []\n",
    "test_score_list = []\n",
    "\n",
    "x_range = [0.001, 0.01, 0.1, 1, 10, 100, 1000]\n",
    "for alpha in x_range: \n",
    "    lasso = Lasso(alpha)\n",
    "    lasso.fit(X_train,y_train)\n",
    "    train_score_list.append(lasso.score(X_train,y_train))\n",
    "    test_score_list.append(lasso.score(X_test, y_test))\n",
    "    \n",
    "plt.plot(x_range, train_score_list, c = 'g', label = 'Train Score')\n",
    "plt.plot(x_range, test_score_list, c = 'b', label = 'Test Score')\n",
    "plt.xscale('log')\n",
    "plt.legend(loc = 3)\n",
    "plt.xlabel(r'$\\alpha$')"
   ]
  },
  {
   "cell_type": "code",
   "execution_count": 116,
   "metadata": {},
   "outputs": [
    {
     "name": "stderr",
     "output_type": "stream",
     "text": [
      "C:\\Users\\ANU\\Anaconda3\\lib\\site-packages\\sklearn\\linear_model\\coordinate_descent.py:475: ConvergenceWarning: Objective did not converge. You might want to increase the number of iterations. Duality gap: 56476609666845.31, tolerance: 223712019258.84488\n",
      "  positive)\n",
      "C:\\Users\\ANU\\Anaconda3\\lib\\site-packages\\sklearn\\linear_model\\coordinate_descent.py:475: ConvergenceWarning: Objective did not converge. You might want to increase the number of iterations. Duality gap: 56476937925981.31, tolerance: 223712019258.84488\n",
      "  positive)\n",
      "C:\\Users\\ANU\\Anaconda3\\lib\\site-packages\\sklearn\\linear_model\\coordinate_descent.py:475: ConvergenceWarning: Objective did not converge. You might want to increase the number of iterations. Duality gap: 56477081262126.19, tolerance: 223712019258.84488\n",
      "  positive)\n",
      "C:\\Users\\ANU\\Anaconda3\\lib\\site-packages\\sklearn\\linear_model\\coordinate_descent.py:475: ConvergenceWarning: Objective did not converge. You might want to increase the number of iterations. Duality gap: 56477178270741.31, tolerance: 223712019258.84488\n",
      "  positive)\n",
      "C:\\Users\\ANU\\Anaconda3\\lib\\site-packages\\sklearn\\linear_model\\coordinate_descent.py:475: ConvergenceWarning: Objective did not converge. You might want to increase the number of iterations. Duality gap: 56477256847609.06, tolerance: 223712019258.84488\n",
      "  positive)\n",
      "C:\\Users\\ANU\\Anaconda3\\lib\\site-packages\\sklearn\\linear_model\\coordinate_descent.py:475: ConvergenceWarning: Objective did not converge. You might want to increase the number of iterations. Duality gap: 56477326054131.0, tolerance: 223712019258.84488\n",
      "  positive)\n",
      "C:\\Users\\ANU\\Anaconda3\\lib\\site-packages\\sklearn\\linear_model\\coordinate_descent.py:475: ConvergenceWarning: Objective did not converge. You might want to increase the number of iterations. Duality gap: 56477390040976.44, tolerance: 223712019258.84488\n",
      "  positive)\n",
      "C:\\Users\\ANU\\Anaconda3\\lib\\site-packages\\sklearn\\linear_model\\coordinate_descent.py:475: ConvergenceWarning: Objective did not converge. You might want to increase the number of iterations. Duality gap: 56477450708200.81, tolerance: 223712019258.84488\n",
      "  positive)\n",
      "C:\\Users\\ANU\\Anaconda3\\lib\\site-packages\\sklearn\\linear_model\\coordinate_descent.py:475: ConvergenceWarning: Objective did not converge. You might want to increase the number of iterations. Duality gap: 56477509156842.375, tolerance: 223712019258.84488\n",
      "  positive)\n",
      "C:\\Users\\ANU\\Anaconda3\\lib\\site-packages\\sklearn\\linear_model\\coordinate_descent.py:475: ConvergenceWarning: Objective did not converge. You might want to increase the number of iterations. Duality gap: 56477566044876.375, tolerance: 223712019258.84488\n",
      "  positive)\n",
      "C:\\Users\\ANU\\Anaconda3\\lib\\site-packages\\sklearn\\linear_model\\coordinate_descent.py:475: ConvergenceWarning: Objective did not converge. You might want to increase the number of iterations. Duality gap: 56477621854446.0, tolerance: 223712019258.84488\n",
      "  positive)\n",
      "C:\\Users\\ANU\\Anaconda3\\lib\\site-packages\\sklearn\\linear_model\\coordinate_descent.py:475: ConvergenceWarning: Objective did not converge. You might want to increase the number of iterations. Duality gap: 56477676797658.125, tolerance: 223712019258.84488\n",
      "  positive)\n",
      "C:\\Users\\ANU\\Anaconda3\\lib\\site-packages\\sklearn\\linear_model\\coordinate_descent.py:475: ConvergenceWarning: Objective did not converge. You might want to increase the number of iterations. Duality gap: 56477731093813.56, tolerance: 223712019258.84488\n",
      "  positive)\n",
      "C:\\Users\\ANU\\Anaconda3\\lib\\site-packages\\sklearn\\linear_model\\coordinate_descent.py:475: ConvergenceWarning: Objective did not converge. You might want to increase the number of iterations. Duality gap: 56477784873960.625, tolerance: 223712019258.84488\n",
      "  positive)\n",
      "C:\\Users\\ANU\\Anaconda3\\lib\\site-packages\\sklearn\\linear_model\\coordinate_descent.py:475: ConvergenceWarning: Objective did not converge. You might want to increase the number of iterations. Duality gap: 56477838254365.06, tolerance: 223712019258.84488\n",
      "  positive)\n",
      "C:\\Users\\ANU\\Anaconda3\\lib\\site-packages\\sklearn\\linear_model\\coordinate_descent.py:475: ConvergenceWarning: Objective did not converge. You might want to increase the number of iterations. Duality gap: 56477891294804.375, tolerance: 223712019258.84488\n",
      "  positive)\n",
      "C:\\Users\\ANU\\Anaconda3\\lib\\site-packages\\sklearn\\linear_model\\coordinate_descent.py:475: ConvergenceWarning: Objective did not converge. You might want to increase the number of iterations. Duality gap: 56477944062647.81, tolerance: 223712019258.84488\n",
      "  positive)\n",
      "C:\\Users\\ANU\\Anaconda3\\lib\\site-packages\\sklearn\\linear_model\\coordinate_descent.py:475: ConvergenceWarning: Objective did not converge. You might want to increase the number of iterations. Duality gap: 56477996599466.44, tolerance: 223712019258.84488\n",
      "  positive)\n",
      "C:\\Users\\ANU\\Anaconda3\\lib\\site-packages\\sklearn\\linear_model\\coordinate_descent.py:475: ConvergenceWarning: Objective did not converge. You might want to increase the number of iterations. Duality gap: 56478048955402.375, tolerance: 223712019258.84488\n",
      "  positive)\n",
      "C:\\Users\\ANU\\Anaconda3\\lib\\site-packages\\sklearn\\linear_model\\coordinate_descent.py:475: ConvergenceWarning: Objective did not converge. You might want to increase the number of iterations. Duality gap: 56478101133246.875, tolerance: 223712019258.84488\n",
      "  positive)\n",
      "C:\\Users\\ANU\\Anaconda3\\lib\\site-packages\\sklearn\\linear_model\\coordinate_descent.py:475: ConvergenceWarning: Objective did not converge. You might want to increase the number of iterations. Duality gap: 56478153176515.25, tolerance: 223712019258.84488\n",
      "  positive)\n",
      "C:\\Users\\ANU\\Anaconda3\\lib\\site-packages\\sklearn\\linear_model\\coordinate_descent.py:475: ConvergenceWarning: Objective did not converge. You might want to increase the number of iterations. Duality gap: 56478205106398.625, tolerance: 223712019258.84488\n",
      "  positive)\n",
      "C:\\Users\\ANU\\Anaconda3\\lib\\site-packages\\sklearn\\linear_model\\coordinate_descent.py:475: ConvergenceWarning: Objective did not converge. You might want to increase the number of iterations. Duality gap: 56478256911441.75, tolerance: 223712019258.84488\n",
      "  positive)\n",
      "C:\\Users\\ANU\\Anaconda3\\lib\\site-packages\\sklearn\\linear_model\\coordinate_descent.py:475: ConvergenceWarning: Objective did not converge. You might want to increase the number of iterations. Duality gap: 56478308623438.0, tolerance: 223712019258.84488\n",
      "  positive)\n",
      "C:\\Users\\ANU\\Anaconda3\\lib\\site-packages\\sklearn\\linear_model\\coordinate_descent.py:475: ConvergenceWarning: Objective did not converge. You might want to increase the number of iterations. Duality gap: 56478360274934.31, tolerance: 223712019258.84488\n",
      "  positive)\n",
      "C:\\Users\\ANU\\Anaconda3\\lib\\site-packages\\sklearn\\linear_model\\coordinate_descent.py:475: ConvergenceWarning: Objective did not converge. You might want to increase the number of iterations. Duality gap: 56478411830104.25, tolerance: 223712019258.84488\n",
      "  positive)\n",
      "C:\\Users\\ANU\\Anaconda3\\lib\\site-packages\\sklearn\\linear_model\\coordinate_descent.py:475: ConvergenceWarning: Objective did not converge. You might want to increase the number of iterations. Duality gap: 56478463326020.44, tolerance: 223712019258.84488\n",
      "  positive)\n",
      "C:\\Users\\ANU\\Anaconda3\\lib\\site-packages\\sklearn\\linear_model\\coordinate_descent.py:475: ConvergenceWarning: Objective did not converge. You might want to increase the number of iterations. Duality gap: 56478514770007.69, tolerance: 223712019258.84488\n",
      "  positive)\n",
      "C:\\Users\\ANU\\Anaconda3\\lib\\site-packages\\sklearn\\linear_model\\coordinate_descent.py:475: ConvergenceWarning: Objective did not converge. You might want to increase the number of iterations. Duality gap: 56478566159192.56, tolerance: 223712019258.84488\n",
      "  positive)\n",
      "C:\\Users\\ANU\\Anaconda3\\lib\\site-packages\\sklearn\\linear_model\\coordinate_descent.py:475: ConvergenceWarning: Objective did not converge. You might want to increase the number of iterations. Duality gap: 56478617488096.125, tolerance: 223712019258.84488\n",
      "  positive)\n",
      "C:\\Users\\ANU\\Anaconda3\\lib\\site-packages\\sklearn\\linear_model\\coordinate_descent.py:475: ConvergenceWarning: Objective did not converge. You might want to increase the number of iterations. Duality gap: 56478668789725.375, tolerance: 223712019258.84488\n",
      "  positive)\n",
      "C:\\Users\\ANU\\Anaconda3\\lib\\site-packages\\sklearn\\linear_model\\coordinate_descent.py:475: ConvergenceWarning: Objective did not converge. You might want to increase the number of iterations. Duality gap: 56478720047389.375, tolerance: 223712019258.84488\n",
      "  positive)\n"
     ]
    },
    {
     "name": "stderr",
     "output_type": "stream",
     "text": [
      "C:\\Users\\ANU\\Anaconda3\\lib\\site-packages\\sklearn\\linear_model\\coordinate_descent.py:475: ConvergenceWarning: Objective did not converge. You might want to increase the number of iterations. Duality gap: 56478771270257.69, tolerance: 223712019258.84488\n",
      "  positive)\n",
      "C:\\Users\\ANU\\Anaconda3\\lib\\site-packages\\sklearn\\linear_model\\coordinate_descent.py:475: ConvergenceWarning: Objective did not converge. You might want to increase the number of iterations. Duality gap: 56478822454316.69, tolerance: 223712019258.84488\n",
      "  positive)\n",
      "C:\\Users\\ANU\\Anaconda3\\lib\\site-packages\\sklearn\\linear_model\\coordinate_descent.py:475: ConvergenceWarning: Objective did not converge. You might want to increase the number of iterations. Duality gap: 56478873608156.44, tolerance: 223712019258.84488\n",
      "  positive)\n",
      "C:\\Users\\ANU\\Anaconda3\\lib\\site-packages\\sklearn\\linear_model\\coordinate_descent.py:475: ConvergenceWarning: Objective did not converge. You might want to increase the number of iterations. Duality gap: 56478924744180.5, tolerance: 223712019258.84488\n",
      "  positive)\n",
      "C:\\Users\\ANU\\Anaconda3\\lib\\site-packages\\sklearn\\linear_model\\coordinate_descent.py:475: ConvergenceWarning: Objective did not converge. You might want to increase the number of iterations. Duality gap: 56478975845053.56, tolerance: 223712019258.84488\n",
      "  positive)\n",
      "C:\\Users\\ANU\\Anaconda3\\lib\\site-packages\\sklearn\\linear_model\\coordinate_descent.py:475: ConvergenceWarning: Objective did not converge. You might want to increase the number of iterations. Duality gap: 56479026917787.81, tolerance: 223712019258.84488\n",
      "  positive)\n",
      "C:\\Users\\ANU\\Anaconda3\\lib\\site-packages\\sklearn\\linear_model\\coordinate_descent.py:475: ConvergenceWarning: Objective did not converge. You might want to increase the number of iterations. Duality gap: 56479077978874.56, tolerance: 223712019258.84488\n",
      "  positive)\n",
      "C:\\Users\\ANU\\Anaconda3\\lib\\site-packages\\sklearn\\linear_model\\coordinate_descent.py:475: ConvergenceWarning: Objective did not converge. You might want to increase the number of iterations. Duality gap: 56479129012668.94, tolerance: 223712019258.84488\n",
      "  positive)\n",
      "C:\\Users\\ANU\\Anaconda3\\lib\\site-packages\\sklearn\\linear_model\\coordinate_descent.py:475: ConvergenceWarning: Objective did not converge. You might want to increase the number of iterations. Duality gap: 56479180035693.875, tolerance: 223712019258.84488\n",
      "  positive)\n",
      "C:\\Users\\ANU\\Anaconda3\\lib\\site-packages\\sklearn\\linear_model\\coordinate_descent.py:475: ConvergenceWarning: Objective did not converge. You might want to increase the number of iterations. Duality gap: 56479231030708.75, tolerance: 223712019258.84488\n",
      "  positive)\n",
      "C:\\Users\\ANU\\Anaconda3\\lib\\site-packages\\sklearn\\linear_model\\coordinate_descent.py:475: ConvergenceWarning: Objective did not converge. You might want to increase the number of iterations. Duality gap: 56479282004290.44, tolerance: 223712019258.84488\n",
      "  positive)\n",
      "C:\\Users\\ANU\\Anaconda3\\lib\\site-packages\\sklearn\\linear_model\\coordinate_descent.py:475: ConvergenceWarning: Objective did not converge. You might want to increase the number of iterations. Duality gap: 56479332974296.875, tolerance: 223712019258.84488\n",
      "  positive)\n",
      "C:\\Users\\ANU\\Anaconda3\\lib\\site-packages\\sklearn\\linear_model\\coordinate_descent.py:475: ConvergenceWarning: Objective did not converge. You might want to increase the number of iterations. Duality gap: 56479383926517.25, tolerance: 223712019258.84488\n",
      "  positive)\n",
      "C:\\Users\\ANU\\Anaconda3\\lib\\site-packages\\sklearn\\linear_model\\coordinate_descent.py:475: ConvergenceWarning: Objective did not converge. You might want to increase the number of iterations. Duality gap: 56479434861674.375, tolerance: 223712019258.84488\n",
      "  positive)\n",
      "C:\\Users\\ANU\\Anaconda3\\lib\\site-packages\\sklearn\\linear_model\\coordinate_descent.py:475: ConvergenceWarning: Objective did not converge. You might want to increase the number of iterations. Duality gap: 56479485783889.94, tolerance: 223712019258.84488\n",
      "  positive)\n",
      "C:\\Users\\ANU\\Anaconda3\\lib\\site-packages\\sklearn\\linear_model\\coordinate_descent.py:475: ConvergenceWarning: Objective did not converge. You might want to increase the number of iterations. Duality gap: 56479536693540.69, tolerance: 223712019258.84488\n",
      "  positive)\n",
      "C:\\Users\\ANU\\Anaconda3\\lib\\site-packages\\sklearn\\linear_model\\coordinate_descent.py:475: ConvergenceWarning: Objective did not converge. You might want to increase the number of iterations. Duality gap: 56479587593387.56, tolerance: 223712019258.84488\n",
      "  positive)\n",
      "C:\\Users\\ANU\\Anaconda3\\lib\\site-packages\\sklearn\\linear_model\\coordinate_descent.py:475: ConvergenceWarning: Objective did not converge. You might want to increase the number of iterations. Duality gap: 56479638477709.06, tolerance: 223712019258.84488\n",
      "  positive)\n",
      "C:\\Users\\ANU\\Anaconda3\\lib\\site-packages\\sklearn\\linear_model\\coordinate_descent.py:475: ConvergenceWarning: Objective did not converge. You might want to increase the number of iterations. Duality gap: 56479689346886.625, tolerance: 223712019258.84488\n",
      "  positive)\n",
      "C:\\Users\\ANU\\Anaconda3\\lib\\site-packages\\sklearn\\linear_model\\coordinate_descent.py:475: ConvergenceWarning: Objective did not converge. You might want to increase the number of iterations. Duality gap: 56479740213236.75, tolerance: 223712019258.84488\n",
      "  positive)\n",
      "C:\\Users\\ANU\\Anaconda3\\lib\\site-packages\\sklearn\\linear_model\\coordinate_descent.py:475: ConvergenceWarning: Objective did not converge. You might want to increase the number of iterations. Duality gap: 56479791071601.94, tolerance: 223712019258.84488\n",
      "  positive)\n",
      "C:\\Users\\ANU\\Anaconda3\\lib\\site-packages\\sklearn\\linear_model\\coordinate_descent.py:475: ConvergenceWarning: Objective did not converge. You might want to increase the number of iterations. Duality gap: 56479841915001.31, tolerance: 223712019258.84488\n",
      "  positive)\n",
      "C:\\Users\\ANU\\Anaconda3\\lib\\site-packages\\sklearn\\linear_model\\coordinate_descent.py:475: ConvergenceWarning: Objective did not converge. You might want to increase the number of iterations. Duality gap: 56479892751668.44, tolerance: 223712019258.84488\n",
      "  positive)\n",
      "C:\\Users\\ANU\\Anaconda3\\lib\\site-packages\\sklearn\\linear_model\\coordinate_descent.py:475: ConvergenceWarning: Objective did not converge. You might want to increase the number of iterations. Duality gap: 56479943580705.56, tolerance: 223712019258.84488\n",
      "  positive)\n",
      "C:\\Users\\ANU\\Anaconda3\\lib\\site-packages\\sklearn\\linear_model\\coordinate_descent.py:475: ConvergenceWarning: Objective did not converge. You might want to increase the number of iterations. Duality gap: 56479994396993.625, tolerance: 223712019258.84488\n",
      "  positive)\n",
      "C:\\Users\\ANU\\Anaconda3\\lib\\site-packages\\sklearn\\linear_model\\coordinate_descent.py:475: ConvergenceWarning: Objective did not converge. You might want to increase the number of iterations. Duality gap: 56480045204099.06, tolerance: 223712019258.84488\n",
      "  positive)\n",
      "C:\\Users\\ANU\\Anaconda3\\lib\\site-packages\\sklearn\\linear_model\\coordinate_descent.py:475: ConvergenceWarning: Objective did not converge. You might want to increase the number of iterations. Duality gap: 56480096008517.75, tolerance: 223712019258.84488\n",
      "  positive)\n",
      "C:\\Users\\ANU\\Anaconda3\\lib\\site-packages\\sklearn\\linear_model\\coordinate_descent.py:475: ConvergenceWarning: Objective did not converge. You might want to increase the number of iterations. Duality gap: 56480146804770.875, tolerance: 223712019258.84488\n",
      "  positive)\n",
      "C:\\Users\\ANU\\Anaconda3\\lib\\site-packages\\sklearn\\linear_model\\coordinate_descent.py:475: ConvergenceWarning: Objective did not converge. You might want to increase the number of iterations. Duality gap: 56480197590550.56, tolerance: 223712019258.84488\n",
      "  positive)\n",
      "C:\\Users\\ANU\\Anaconda3\\lib\\site-packages\\sklearn\\linear_model\\coordinate_descent.py:475: ConvergenceWarning: Objective did not converge. You might want to increase the number of iterations. Duality gap: 56480248371492.25, tolerance: 223712019258.84488\n",
      "  positive)\n",
      "C:\\Users\\ANU\\Anaconda3\\lib\\site-packages\\sklearn\\linear_model\\coordinate_descent.py:475: ConvergenceWarning: Objective did not converge. You might want to increase the number of iterations. Duality gap: 56480299146709.875, tolerance: 223712019258.84488\n",
      "  positive)\n",
      "C:\\Users\\ANU\\Anaconda3\\lib\\site-packages\\sklearn\\linear_model\\coordinate_descent.py:475: ConvergenceWarning: Objective did not converge. You might want to increase the number of iterations. Duality gap: 56480349911418.69, tolerance: 223712019258.84488\n",
      "  positive)\n"
     ]
    },
    {
     "name": "stderr",
     "output_type": "stream",
     "text": [
      "C:\\Users\\ANU\\Anaconda3\\lib\\site-packages\\sklearn\\linear_model\\coordinate_descent.py:475: ConvergenceWarning: Objective did not converge. You might want to increase the number of iterations. Duality gap: 56480400673095.06, tolerance: 223712019258.84488\n",
      "  positive)\n",
      "C:\\Users\\ANU\\Anaconda3\\lib\\site-packages\\sklearn\\linear_model\\coordinate_descent.py:475: ConvergenceWarning: Objective did not converge. You might want to increase the number of iterations. Duality gap: 56480451430326.69, tolerance: 223712019258.84488\n",
      "  positive)\n",
      "C:\\Users\\ANU\\Anaconda3\\lib\\site-packages\\sklearn\\linear_model\\coordinate_descent.py:475: ConvergenceWarning: Objective did not converge. You might want to increase the number of iterations. Duality gap: 56480502176799.44, tolerance: 223712019258.84488\n",
      "  positive)\n",
      "C:\\Users\\ANU\\Anaconda3\\lib\\site-packages\\sklearn\\linear_model\\coordinate_descent.py:475: ConvergenceWarning: Objective did not converge. You might want to increase the number of iterations. Duality gap: 56480552917376.44, tolerance: 223712019258.84488\n",
      "  positive)\n",
      "C:\\Users\\ANU\\Anaconda3\\lib\\site-packages\\sklearn\\linear_model\\coordinate_descent.py:475: ConvergenceWarning: Objective did not converge. You might want to increase the number of iterations. Duality gap: 56480603657960.125, tolerance: 223712019258.84488\n",
      "  positive)\n",
      "C:\\Users\\ANU\\Anaconda3\\lib\\site-packages\\sklearn\\linear_model\\coordinate_descent.py:475: ConvergenceWarning: Objective did not converge. You might want to increase the number of iterations. Duality gap: 56480654390154.06, tolerance: 223712019258.84488\n",
      "  positive)\n",
      "C:\\Users\\ANU\\Anaconda3\\lib\\site-packages\\sklearn\\linear_model\\coordinate_descent.py:475: ConvergenceWarning: Objective did not converge. You might want to increase the number of iterations. Duality gap: 56480705116819.875, tolerance: 223712019258.84488\n",
      "  positive)\n",
      "C:\\Users\\ANU\\Anaconda3\\lib\\site-packages\\sklearn\\linear_model\\coordinate_descent.py:475: ConvergenceWarning: Objective did not converge. You might want to increase the number of iterations. Duality gap: 56480755840272.5, tolerance: 223712019258.84488\n",
      "  positive)\n",
      "C:\\Users\\ANU\\Anaconda3\\lib\\site-packages\\sklearn\\linear_model\\coordinate_descent.py:475: ConvergenceWarning: Objective did not converge. You might want to increase the number of iterations. Duality gap: 56480806555468.875, tolerance: 223712019258.84488\n",
      "  positive)\n",
      "C:\\Users\\ANU\\Anaconda3\\lib\\site-packages\\sklearn\\linear_model\\coordinate_descent.py:475: ConvergenceWarning: Objective did not converge. You might want to increase the number of iterations. Duality gap: 56480857264808.19, tolerance: 223712019258.84488\n",
      "  positive)\n",
      "C:\\Users\\ANU\\Anaconda3\\lib\\site-packages\\sklearn\\linear_model\\coordinate_descent.py:475: ConvergenceWarning: Objective did not converge. You might want to increase the number of iterations. Duality gap: 56480907971701.69, tolerance: 223712019258.84488\n",
      "  positive)\n",
      "C:\\Users\\ANU\\Anaconda3\\lib\\site-packages\\sklearn\\linear_model\\coordinate_descent.py:475: ConvergenceWarning: Objective did not converge. You might want to increase the number of iterations. Duality gap: 56480958675849.69, tolerance: 223712019258.84488\n",
      "  positive)\n",
      "C:\\Users\\ANU\\Anaconda3\\lib\\site-packages\\sklearn\\linear_model\\coordinate_descent.py:475: ConvergenceWarning: Objective did not converge. You might want to increase the number of iterations. Duality gap: 56481009373814.0, tolerance: 223712019258.84488\n",
      "  positive)\n",
      "C:\\Users\\ANU\\Anaconda3\\lib\\site-packages\\sklearn\\linear_model\\coordinate_descent.py:475: ConvergenceWarning: Objective did not converge. You might want to increase the number of iterations. Duality gap: 56481060063334.31, tolerance: 223712019258.84488\n",
      "  positive)\n",
      "C:\\Users\\ANU\\Anaconda3\\lib\\site-packages\\sklearn\\linear_model\\coordinate_descent.py:475: ConvergenceWarning: Objective did not converge. You might want to increase the number of iterations. Duality gap: 56481110751071.56, tolerance: 223712019258.84488\n",
      "  positive)\n",
      "C:\\Users\\ANU\\Anaconda3\\lib\\site-packages\\sklearn\\linear_model\\coordinate_descent.py:475: ConvergenceWarning: Objective did not converge. You might want to increase the number of iterations. Duality gap: 56481161436511.625, tolerance: 223712019258.84488\n",
      "  positive)\n",
      "C:\\Users\\ANU\\Anaconda3\\lib\\site-packages\\sklearn\\linear_model\\coordinate_descent.py:475: ConvergenceWarning: Objective did not converge. You might want to increase the number of iterations. Duality gap: 56481212115383.44, tolerance: 223712019258.84488\n",
      "  positive)\n",
      "C:\\Users\\ANU\\Anaconda3\\lib\\site-packages\\sklearn\\linear_model\\coordinate_descent.py:475: ConvergenceWarning: Objective did not converge. You might want to increase the number of iterations. Duality gap: 56481262790525.625, tolerance: 223712019258.84488\n",
      "  positive)\n",
      "C:\\Users\\ANU\\Anaconda3\\lib\\site-packages\\sklearn\\linear_model\\coordinate_descent.py:475: ConvergenceWarning: Objective did not converge. You might want to increase the number of iterations. Duality gap: 56481313462529.44, tolerance: 223712019258.84488\n",
      "  positive)\n",
      "C:\\Users\\ANU\\Anaconda3\\lib\\site-packages\\sklearn\\linear_model\\coordinate_descent.py:475: ConvergenceWarning: Objective did not converge. You might want to increase the number of iterations. Duality gap: 56481364131149.625, tolerance: 223712019258.84488\n",
      "  positive)\n",
      "C:\\Users\\ANU\\Anaconda3\\lib\\site-packages\\sklearn\\linear_model\\coordinate_descent.py:475: ConvergenceWarning: Objective did not converge. You might want to increase the number of iterations. Duality gap: 56481414794354.0, tolerance: 223712019258.84488\n",
      "  positive)\n",
      "C:\\Users\\ANU\\Anaconda3\\lib\\site-packages\\sklearn\\linear_model\\coordinate_descent.py:475: ConvergenceWarning: Objective did not converge. You might want to increase the number of iterations. Duality gap: 56481465451568.5, tolerance: 223712019258.84488\n",
      "  positive)\n",
      "C:\\Users\\ANU\\Anaconda3\\lib\\site-packages\\sklearn\\linear_model\\coordinate_descent.py:475: ConvergenceWarning: Objective did not converge. You might want to increase the number of iterations. Duality gap: 56481516106603.375, tolerance: 223712019258.84488\n",
      "  positive)\n",
      "C:\\Users\\ANU\\Anaconda3\\lib\\site-packages\\sklearn\\linear_model\\coordinate_descent.py:475: ConvergenceWarning: Objective did not converge. You might want to increase the number of iterations. Duality gap: 56481566760763.625, tolerance: 223712019258.84488\n",
      "  positive)\n",
      "C:\\Users\\ANU\\Anaconda3\\lib\\site-packages\\sklearn\\linear_model\\coordinate_descent.py:475: ConvergenceWarning: Objective did not converge. You might want to increase the number of iterations. Duality gap: 56481617407252.06, tolerance: 223712019258.84488\n",
      "  positive)\n",
      "C:\\Users\\ANU\\Anaconda3\\lib\\site-packages\\sklearn\\linear_model\\coordinate_descent.py:475: ConvergenceWarning: Objective did not converge. You might want to increase the number of iterations. Duality gap: 56481668053889.875, tolerance: 223712019258.84488\n",
      "  positive)\n",
      "C:\\Users\\ANU\\Anaconda3\\lib\\site-packages\\sklearn\\linear_model\\coordinate_descent.py:475: ConvergenceWarning: Objective did not converge. You might want to increase the number of iterations. Duality gap: 56481718691877.875, tolerance: 223712019258.84488\n",
      "  positive)\n",
      "C:\\Users\\ANU\\Anaconda3\\lib\\site-packages\\sklearn\\linear_model\\coordinate_descent.py:475: ConvergenceWarning: Objective did not converge. You might want to increase the number of iterations. Duality gap: 56481769331042.25, tolerance: 223712019258.84488\n",
      "  positive)\n",
      "C:\\Users\\ANU\\Anaconda3\\lib\\site-packages\\sklearn\\linear_model\\coordinate_descent.py:475: ConvergenceWarning: Objective did not converge. You might want to increase the number of iterations. Duality gap: 56481819964102.25, tolerance: 223712019258.84488\n",
      "  positive)\n",
      "C:\\Users\\ANU\\Anaconda3\\lib\\site-packages\\sklearn\\linear_model\\coordinate_descent.py:475: ConvergenceWarning: Objective did not converge. You might want to increase the number of iterations. Duality gap: 56481870594800.0, tolerance: 223712019258.84488\n",
      "  positive)\n",
      "C:\\Users\\ANU\\Anaconda3\\lib\\site-packages\\sklearn\\linear_model\\coordinate_descent.py:475: ConvergenceWarning: Objective did not converge. You might want to increase the number of iterations. Duality gap: 56481921219843.19, tolerance: 223712019258.84488\n",
      "  positive)\n",
      "C:\\Users\\ANU\\Anaconda3\\lib\\site-packages\\sklearn\\linear_model\\coordinate_descent.py:475: ConvergenceWarning: Objective did not converge. You might want to increase the number of iterations. Duality gap: 56481971843283.44, tolerance: 223712019258.84488\n",
      "  positive)\n"
     ]
    },
    {
     "name": "stderr",
     "output_type": "stream",
     "text": [
      "C:\\Users\\ANU\\Anaconda3\\lib\\site-packages\\sklearn\\linear_model\\coordinate_descent.py:475: ConvergenceWarning: Objective did not converge. You might want to increase the number of iterations. Duality gap: 56482022464489.94, tolerance: 223712019258.84488\n",
      "  positive)\n",
      "C:\\Users\\ANU\\Anaconda3\\lib\\site-packages\\sklearn\\linear_model\\coordinate_descent.py:475: ConvergenceWarning: Objective did not converge. You might want to increase the number of iterations. Duality gap: 56482073080983.5, tolerance: 223712019258.84488\n",
      "  positive)\n",
      "C:\\Users\\ANU\\Anaconda3\\lib\\site-packages\\sklearn\\linear_model\\coordinate_descent.py:475: ConvergenceWarning: Objective did not converge. You might want to increase the number of iterations. Duality gap: 56482123696649.44, tolerance: 223712019258.84488\n",
      "  positive)\n",
      "C:\\Users\\ANU\\Anaconda3\\lib\\site-packages\\sklearn\\linear_model\\coordinate_descent.py:475: ConvergenceWarning: Objective did not converge. You might want to increase the number of iterations. Duality gap: 56482174306616.69, tolerance: 223712019258.84488\n",
      "  positive)\n",
      "C:\\Users\\ANU\\Anaconda3\\lib\\site-packages\\sklearn\\linear_model\\coordinate_descent.py:475: ConvergenceWarning: Objective did not converge. You might want to increase the number of iterations. Duality gap: 56482224911058.31, tolerance: 223712019258.84488\n",
      "  positive)\n",
      "C:\\Users\\ANU\\Anaconda3\\lib\\site-packages\\sklearn\\linear_model\\coordinate_descent.py:475: ConvergenceWarning: Objective did not converge. You might want to increase the number of iterations. Duality gap: 56482275515462.69, tolerance: 223712019258.84488\n",
      "  positive)\n",
      "C:\\Users\\ANU\\Anaconda3\\lib\\site-packages\\sklearn\\linear_model\\coordinate_descent.py:475: ConvergenceWarning: Objective did not converge. You might want to increase the number of iterations. Duality gap: 56482326114258.625, tolerance: 223712019258.84488\n",
      "  positive)\n",
      "C:\\Users\\ANU\\Anaconda3\\lib\\site-packages\\sklearn\\linear_model\\coordinate_descent.py:475: ConvergenceWarning: Objective did not converge. You might want to increase the number of iterations. Duality gap: 56482376713022.81, tolerance: 223712019258.84488\n",
      "  positive)\n",
      "C:\\Users\\ANU\\Anaconda3\\lib\\site-packages\\sklearn\\linear_model\\coordinate_descent.py:475: ConvergenceWarning: Objective did not converge. You might want to increase the number of iterations. Duality gap: 56482427307118.06, tolerance: 223712019258.84488\n",
      "  positive)\n",
      "C:\\Users\\ANU\\Anaconda3\\lib\\site-packages\\sklearn\\linear_model\\coordinate_descent.py:475: ConvergenceWarning: Objective did not converge. You might want to increase the number of iterations. Duality gap: 56482477897891.31, tolerance: 223712019258.84488\n",
      "  positive)\n",
      "C:\\Users\\ANU\\Anaconda3\\lib\\site-packages\\sklearn\\linear_model\\coordinate_descent.py:475: ConvergenceWarning: Objective did not converge. You might want to increase the number of iterations. Duality gap: 56482528487449.06, tolerance: 223712019258.84488\n",
      "  positive)\n",
      "C:\\Users\\ANU\\Anaconda3\\lib\\site-packages\\sklearn\\linear_model\\coordinate_descent.py:475: ConvergenceWarning: Objective did not converge. You might want to increase the number of iterations. Duality gap: 56482579073119.0, tolerance: 223712019258.84488\n",
      "  positive)\n",
      "C:\\Users\\ANU\\Anaconda3\\lib\\site-packages\\sklearn\\linear_model\\coordinate_descent.py:475: ConvergenceWarning: Objective did not converge. You might want to increase the number of iterations. Duality gap: 56482629657156.69, tolerance: 223712019258.84488\n",
      "  positive)\n",
      "C:\\Users\\ANU\\Anaconda3\\lib\\site-packages\\sklearn\\linear_model\\coordinate_descent.py:475: ConvergenceWarning: Objective did not converge. You might want to increase the number of iterations. Duality gap: 56482680235087.5, tolerance: 223712019258.84488\n",
      "  positive)\n",
      "C:\\Users\\ANU\\Anaconda3\\lib\\site-packages\\sklearn\\linear_model\\coordinate_descent.py:475: ConvergenceWarning: Objective did not converge. You might want to increase the number of iterations. Duality gap: 56482730809772.06, tolerance: 223712019258.84488\n",
      "  positive)\n",
      "C:\\Users\\ANU\\Anaconda3\\lib\\site-packages\\sklearn\\linear_model\\coordinate_descent.py:475: ConvergenceWarning: Objective did not converge. You might want to increase the number of iterations. Duality gap: 56482781383006.5, tolerance: 223712019258.84488\n",
      "  positive)\n",
      "C:\\Users\\ANU\\Anaconda3\\lib\\site-packages\\sklearn\\linear_model\\coordinate_descent.py:475: ConvergenceWarning: Objective did not converge. You might want to increase the number of iterations. Duality gap: 56482831955799.375, tolerance: 223712019258.84488\n",
      "  positive)\n",
      "C:\\Users\\ANU\\Anaconda3\\lib\\site-packages\\sklearn\\linear_model\\coordinate_descent.py:475: ConvergenceWarning: Objective did not converge. You might want to increase the number of iterations. Duality gap: 56482882523972.19, tolerance: 223712019258.84488\n",
      "  positive)\n",
      "C:\\Users\\ANU\\Anaconda3\\lib\\site-packages\\sklearn\\linear_model\\coordinate_descent.py:475: ConvergenceWarning: Objective did not converge. You might want to increase the number of iterations. Duality gap: 56482933088320.5, tolerance: 223712019258.84488\n",
      "  positive)\n",
      "C:\\Users\\ANU\\Anaconda3\\lib\\site-packages\\sklearn\\linear_model\\coordinate_descent.py:475: ConvergenceWarning: Objective did not converge. You might want to increase the number of iterations. Duality gap: 56482983649557.0, tolerance: 223712019258.84488\n",
      "  positive)\n",
      "C:\\Users\\ANU\\Anaconda3\\lib\\site-packages\\sklearn\\linear_model\\coordinate_descent.py:475: ConvergenceWarning: Objective did not converge. You might want to increase the number of iterations. Duality gap: 56483034208887.25, tolerance: 223712019258.84488\n",
      "  positive)\n",
      "C:\\Users\\ANU\\Anaconda3\\lib\\site-packages\\sklearn\\linear_model\\coordinate_descent.py:475: ConvergenceWarning: Objective did not converge. You might want to increase the number of iterations. Duality gap: 56483084764692.5, tolerance: 223712019258.84488\n",
      "  positive)\n",
      "C:\\Users\\ANU\\Anaconda3\\lib\\site-packages\\sklearn\\linear_model\\coordinate_descent.py:475: ConvergenceWarning: Objective did not converge. You might want to increase the number of iterations. Duality gap: 56483135319119.44, tolerance: 223712019258.84488\n",
      "  positive)\n",
      "C:\\Users\\ANU\\Anaconda3\\lib\\site-packages\\sklearn\\linear_model\\coordinate_descent.py:475: ConvergenceWarning: Objective did not converge. You might want to increase the number of iterations. Duality gap: 56483185869100.25, tolerance: 223712019258.84488\n",
      "  positive)\n",
      "C:\\Users\\ANU\\Anaconda3\\lib\\site-packages\\sklearn\\linear_model\\coordinate_descent.py:475: ConvergenceWarning: Objective did not converge. You might want to increase the number of iterations. Duality gap: 56483236417992.375, tolerance: 223712019258.84488\n",
      "  positive)\n",
      "C:\\Users\\ANU\\Anaconda3\\lib\\site-packages\\sklearn\\linear_model\\coordinate_descent.py:475: ConvergenceWarning: Objective did not converge. You might want to increase the number of iterations. Duality gap: 56483286964065.375, tolerance: 223712019258.84488\n",
      "  positive)\n",
      "C:\\Users\\ANU\\Anaconda3\\lib\\site-packages\\sklearn\\linear_model\\coordinate_descent.py:475: ConvergenceWarning: Objective did not converge. You might want to increase the number of iterations. Duality gap: 56483337507373.875, tolerance: 223712019258.84488\n",
      "  positive)\n",
      "C:\\Users\\ANU\\Anaconda3\\lib\\site-packages\\sklearn\\linear_model\\coordinate_descent.py:475: ConvergenceWarning: Objective did not converge. You might want to increase the number of iterations. Duality gap: 56483388049140.81, tolerance: 223712019258.84488\n",
      "  positive)\n",
      "C:\\Users\\ANU\\Anaconda3\\lib\\site-packages\\sklearn\\linear_model\\coordinate_descent.py:475: ConvergenceWarning: Objective did not converge. You might want to increase the number of iterations. Duality gap: 56483438584697.625, tolerance: 223712019258.84488\n",
      "  positive)\n",
      "C:\\Users\\ANU\\Anaconda3\\lib\\site-packages\\sklearn\\linear_model\\coordinate_descent.py:475: ConvergenceWarning: Objective did not converge. You might want to increase the number of iterations. Duality gap: 56483489118228.19, tolerance: 223712019258.84488\n",
      "  positive)\n",
      "C:\\Users\\ANU\\Anaconda3\\lib\\site-packages\\sklearn\\linear_model\\coordinate_descent.py:475: ConvergenceWarning: Objective did not converge. You might want to increase the number of iterations. Duality gap: 56483539651602.0, tolerance: 223712019258.84488\n",
      "  positive)\n",
      "C:\\Users\\ANU\\Anaconda3\\lib\\site-packages\\sklearn\\linear_model\\coordinate_descent.py:475: ConvergenceWarning: Objective did not converge. You might want to increase the number of iterations. Duality gap: 56483590180256.69, tolerance: 223712019258.84488\n",
      "  positive)\n"
     ]
    },
    {
     "name": "stderr",
     "output_type": "stream",
     "text": [
      "C:\\Users\\ANU\\Anaconda3\\lib\\site-packages\\sklearn\\linear_model\\coordinate_descent.py:475: ConvergenceWarning: Objective did not converge. You might want to increase the number of iterations. Duality gap: 56483640707088.375, tolerance: 223712019258.84488\n",
      "  positive)\n",
      "C:\\Users\\ANU\\Anaconda3\\lib\\site-packages\\sklearn\\linear_model\\coordinate_descent.py:475: ConvergenceWarning: Objective did not converge. You might want to increase the number of iterations. Duality gap: 56483691232884.375, tolerance: 223712019258.84488\n",
      "  positive)\n",
      "C:\\Users\\ANU\\Anaconda3\\lib\\site-packages\\sklearn\\linear_model\\coordinate_descent.py:475: ConvergenceWarning: Objective did not converge. You might want to increase the number of iterations. Duality gap: 56483741752135.25, tolerance: 223712019258.84488\n",
      "  positive)\n",
      "C:\\Users\\ANU\\Anaconda3\\lib\\site-packages\\sklearn\\linear_model\\coordinate_descent.py:475: ConvergenceWarning: Objective did not converge. You might want to increase the number of iterations. Duality gap: 56483792273433.69, tolerance: 223712019258.84488\n",
      "  positive)\n",
      "C:\\Users\\ANU\\Anaconda3\\lib\\site-packages\\sklearn\\linear_model\\coordinate_descent.py:475: ConvergenceWarning: Objective did not converge. You might want to increase the number of iterations. Duality gap: 56483842788888.81, tolerance: 223712019258.84488\n",
      "  positive)\n",
      "C:\\Users\\ANU\\Anaconda3\\lib\\site-packages\\sklearn\\linear_model\\coordinate_descent.py:475: ConvergenceWarning: Objective did not converge. You might want to increase the number of iterations. Duality gap: 56483893302177.19, tolerance: 223712019258.84488\n",
      "  positive)\n",
      "C:\\Users\\ANU\\Anaconda3\\lib\\site-packages\\sklearn\\linear_model\\coordinate_descent.py:475: ConvergenceWarning: Objective did not converge. You might want to increase the number of iterations. Duality gap: 56483943812336.56, tolerance: 223712019258.84488\n",
      "  positive)\n",
      "C:\\Users\\ANU\\Anaconda3\\lib\\site-packages\\sklearn\\linear_model\\coordinate_descent.py:475: ConvergenceWarning: Objective did not converge. You might want to increase the number of iterations. Duality gap: 56483994322568.0, tolerance: 223712019258.84488\n",
      "  positive)\n",
      "C:\\Users\\ANU\\Anaconda3\\lib\\site-packages\\sklearn\\linear_model\\coordinate_descent.py:475: ConvergenceWarning: Objective did not converge. You might want to increase the number of iterations. Duality gap: 56484044829378.5, tolerance: 223712019258.84488\n",
      "  positive)\n",
      "C:\\Users\\ANU\\Anaconda3\\lib\\site-packages\\sklearn\\linear_model\\coordinate_descent.py:475: ConvergenceWarning: Objective did not converge. You might want to increase the number of iterations. Duality gap: 56484095332323.56, tolerance: 223712019258.84488\n",
      "  positive)\n",
      "C:\\Users\\ANU\\Anaconda3\\lib\\site-packages\\sklearn\\linear_model\\coordinate_descent.py:475: ConvergenceWarning: Objective did not converge. You might want to increase the number of iterations. Duality gap: 56484145833126.375, tolerance: 223712019258.84488\n",
      "  positive)\n",
      "C:\\Users\\ANU\\Anaconda3\\lib\\site-packages\\sklearn\\linear_model\\coordinate_descent.py:475: ConvergenceWarning: Objective did not converge. You might want to increase the number of iterations. Duality gap: 56484196332850.31, tolerance: 223712019258.84488\n",
      "  positive)\n",
      "C:\\Users\\ANU\\Anaconda3\\lib\\site-packages\\sklearn\\linear_model\\coordinate_descent.py:475: ConvergenceWarning: Objective did not converge. You might want to increase the number of iterations. Duality gap: 56484246828885.0, tolerance: 223712019258.84488\n",
      "  positive)\n",
      "C:\\Users\\ANU\\Anaconda3\\lib\\site-packages\\sklearn\\linear_model\\coordinate_descent.py:475: ConvergenceWarning: Objective did not converge. You might want to increase the number of iterations. Duality gap: 56484297320748.75, tolerance: 223712019258.84488\n",
      "  positive)\n",
      "C:\\Users\\ANU\\Anaconda3\\lib\\site-packages\\sklearn\\linear_model\\coordinate_descent.py:475: ConvergenceWarning: Objective did not converge. You might want to increase the number of iterations. Duality gap: 56484347814083.875, tolerance: 223712019258.84488\n",
      "  positive)\n",
      "C:\\Users\\ANU\\Anaconda3\\lib\\site-packages\\sklearn\\linear_model\\coordinate_descent.py:475: ConvergenceWarning: Objective did not converge. You might want to increase the number of iterations. Duality gap: 56484398301136.875, tolerance: 223712019258.84488\n",
      "  positive)\n",
      "C:\\Users\\ANU\\Anaconda3\\lib\\site-packages\\sklearn\\linear_model\\coordinate_descent.py:475: ConvergenceWarning: Objective did not converge. You might want to increase the number of iterations. Duality gap: 56484448787113.25, tolerance: 223712019258.84488\n",
      "  positive)\n",
      "C:\\Users\\ANU\\Anaconda3\\lib\\site-packages\\sklearn\\linear_model\\coordinate_descent.py:475: ConvergenceWarning: Objective did not converge. You might want to increase the number of iterations. Duality gap: 56484499272795.375, tolerance: 223712019258.84488\n",
      "  positive)\n",
      "C:\\Users\\ANU\\Anaconda3\\lib\\site-packages\\sklearn\\linear_model\\coordinate_descent.py:475: ConvergenceWarning: Objective did not converge. You might want to increase the number of iterations. Duality gap: 56484549752907.125, tolerance: 223712019258.84488\n",
      "  positive)\n",
      "C:\\Users\\ANU\\Anaconda3\\lib\\site-packages\\sklearn\\linear_model\\coordinate_descent.py:475: ConvergenceWarning: Objective did not converge. You might want to increase the number of iterations. Duality gap: 56484600230839.125, tolerance: 223712019258.84488\n",
      "  positive)\n",
      "C:\\Users\\ANU\\Anaconda3\\lib\\site-packages\\sklearn\\linear_model\\coordinate_descent.py:475: ConvergenceWarning: Objective did not converge. You might want to increase the number of iterations. Duality gap: 56484650706752.5, tolerance: 223712019258.84488\n",
      "  positive)\n",
      "C:\\Users\\ANU\\Anaconda3\\lib\\site-packages\\sklearn\\linear_model\\coordinate_descent.py:475: ConvergenceWarning: Objective did not converge. You might want to increase the number of iterations. Duality gap: 56484701183162.75, tolerance: 223712019258.84488\n",
      "  positive)\n",
      "C:\\Users\\ANU\\Anaconda3\\lib\\site-packages\\sklearn\\linear_model\\coordinate_descent.py:475: ConvergenceWarning: Objective did not converge. You might want to increase the number of iterations. Duality gap: 56484751652832.875, tolerance: 223712019258.84488\n",
      "  positive)\n",
      "C:\\Users\\ANU\\Anaconda3\\lib\\site-packages\\sklearn\\linear_model\\coordinate_descent.py:475: ConvergenceWarning: Objective did not converge. You might want to increase the number of iterations. Duality gap: 56484802123322.81, tolerance: 223712019258.84488\n",
      "  positive)\n",
      "C:\\Users\\ANU\\Anaconda3\\lib\\site-packages\\sklearn\\linear_model\\coordinate_descent.py:475: ConvergenceWarning: Objective did not converge. You might want to increase the number of iterations. Duality gap: 56484852589424.56, tolerance: 223712019258.84488\n",
      "  positive)\n",
      "C:\\Users\\ANU\\Anaconda3\\lib\\site-packages\\sklearn\\linear_model\\coordinate_descent.py:475: ConvergenceWarning: Objective did not converge. You might want to increase the number of iterations. Duality gap: 56484903053990.875, tolerance: 223712019258.84488\n",
      "  positive)\n",
      "C:\\Users\\ANU\\Anaconda3\\lib\\site-packages\\sklearn\\linear_model\\coordinate_descent.py:475: ConvergenceWarning: Objective did not converge. You might want to increase the number of iterations. Duality gap: 56484953514370.06, tolerance: 223712019258.84488\n",
      "  positive)\n",
      "C:\\Users\\ANU\\Anaconda3\\lib\\site-packages\\sklearn\\linear_model\\coordinate_descent.py:475: ConvergenceWarning: Objective did not converge. You might want to increase the number of iterations. Duality gap: 56485003974409.19, tolerance: 223712019258.84488\n",
      "  positive)\n",
      "C:\\Users\\ANU\\Anaconda3\\lib\\site-packages\\sklearn\\linear_model\\coordinate_descent.py:475: ConvergenceWarning: Objective did not converge. You might want to increase the number of iterations. Duality gap: 56485054431914.125, tolerance: 223712019258.84488\n",
      "  positive)\n",
      "C:\\Users\\ANU\\Anaconda3\\lib\\site-packages\\sklearn\\linear_model\\coordinate_descent.py:475: ConvergenceWarning: Objective did not converge. You might want to increase the number of iterations. Duality gap: 56485104888480.5, tolerance: 223712019258.84488\n",
      "  positive)\n",
      "C:\\Users\\ANU\\Anaconda3\\lib\\site-packages\\sklearn\\linear_model\\coordinate_descent.py:475: ConvergenceWarning: Objective did not converge. You might want to increase the number of iterations. Duality gap: 56485155338029.875, tolerance: 223712019258.84488\n",
      "  positive)\n",
      "C:\\Users\\ANU\\Anaconda3\\lib\\site-packages\\sklearn\\linear_model\\coordinate_descent.py:475: ConvergenceWarning: Objective did not converge. You might want to increase the number of iterations. Duality gap: 56485205789699.44, tolerance: 223712019258.84488\n",
      "  positive)\n"
     ]
    },
    {
     "name": "stderr",
     "output_type": "stream",
     "text": [
      "C:\\Users\\ANU\\Anaconda3\\lib\\site-packages\\sklearn\\linear_model\\coordinate_descent.py:475: ConvergenceWarning: Objective did not converge. You might want to increase the number of iterations. Duality gap: 56485256238682.06, tolerance: 223712019258.84488\n",
      "  positive)\n",
      "C:\\Users\\ANU\\Anaconda3\\lib\\site-packages\\sklearn\\linear_model\\coordinate_descent.py:475: ConvergenceWarning: Objective did not converge. You might want to increase the number of iterations. Duality gap: 56485306682424.625, tolerance: 223712019258.84488\n",
      "  positive)\n",
      "C:\\Users\\ANU\\Anaconda3\\lib\\site-packages\\sklearn\\linear_model\\coordinate_descent.py:475: ConvergenceWarning: Objective did not converge. You might want to increase the number of iterations. Duality gap: 56485357123379.0, tolerance: 223712019258.84488\n",
      "  positive)\n",
      "C:\\Users\\ANU\\Anaconda3\\lib\\site-packages\\sklearn\\linear_model\\coordinate_descent.py:475: ConvergenceWarning: Objective did not converge. You might want to increase the number of iterations. Duality gap: 56485407565480.5, tolerance: 223712019258.84488\n",
      "  positive)\n",
      "C:\\Users\\ANU\\Anaconda3\\lib\\site-packages\\sklearn\\linear_model\\coordinate_descent.py:475: ConvergenceWarning: Objective did not converge. You might want to increase the number of iterations. Duality gap: 56485458002488.75, tolerance: 223712019258.84488\n",
      "  positive)\n",
      "C:\\Users\\ANU\\Anaconda3\\lib\\site-packages\\sklearn\\linear_model\\coordinate_descent.py:475: ConvergenceWarning: Objective did not converge. You might want to increase the number of iterations. Duality gap: 56485508437342.125, tolerance: 223712019258.84488\n",
      "  positive)\n",
      "C:\\Users\\ANU\\Anaconda3\\lib\\site-packages\\sklearn\\linear_model\\coordinate_descent.py:475: ConvergenceWarning: Objective did not converge. You might want to increase the number of iterations. Duality gap: 56485558871466.75, tolerance: 223712019258.84488\n",
      "  positive)\n",
      "C:\\Users\\ANU\\Anaconda3\\lib\\site-packages\\sklearn\\linear_model\\coordinate_descent.py:475: ConvergenceWarning: Objective did not converge. You might want to increase the number of iterations. Duality gap: 56485609304080.875, tolerance: 223712019258.84488\n",
      "  positive)\n",
      "C:\\Users\\ANU\\Anaconda3\\lib\\site-packages\\sklearn\\linear_model\\coordinate_descent.py:475: ConvergenceWarning: Objective did not converge. You might want to increase the number of iterations. Duality gap: 56485659731973.56, tolerance: 223712019258.84488\n",
      "  positive)\n",
      "C:\\Users\\ANU\\Anaconda3\\lib\\site-packages\\sklearn\\linear_model\\coordinate_descent.py:475: ConvergenceWarning: Objective did not converge. You might want to increase the number of iterations. Duality gap: 56485710157442.94, tolerance: 223712019258.84488\n",
      "  positive)\n",
      "C:\\Users\\ANU\\Anaconda3\\lib\\site-packages\\sklearn\\linear_model\\coordinate_descent.py:475: ConvergenceWarning: Objective did not converge. You might want to increase the number of iterations. Duality gap: 56485760582698.875, tolerance: 223712019258.84488\n",
      "  positive)\n",
      "C:\\Users\\ANU\\Anaconda3\\lib\\site-packages\\sklearn\\linear_model\\coordinate_descent.py:475: ConvergenceWarning: Objective did not converge. You might want to increase the number of iterations. Duality gap: 56485811003292.125, tolerance: 223712019258.84488\n",
      "  positive)\n",
      "C:\\Users\\ANU\\Anaconda3\\lib\\site-packages\\sklearn\\linear_model\\coordinate_descent.py:475: ConvergenceWarning: Objective did not converge. You might want to increase the number of iterations. Duality gap: 56485861424245.375, tolerance: 223712019258.84488\n",
      "  positive)\n",
      "C:\\Users\\ANU\\Anaconda3\\lib\\site-packages\\sklearn\\linear_model\\coordinate_descent.py:475: ConvergenceWarning: Objective did not converge. You might want to increase the number of iterations. Duality gap: 56485911840259.625, tolerance: 223712019258.84488\n",
      "  positive)\n",
      "C:\\Users\\ANU\\Anaconda3\\lib\\site-packages\\sklearn\\linear_model\\coordinate_descent.py:475: ConvergenceWarning: Objective did not converge. You might want to increase the number of iterations. Duality gap: 56485962255281.69, tolerance: 223712019258.84488\n",
      "  positive)\n",
      "C:\\Users\\ANU\\Anaconda3\\lib\\site-packages\\sklearn\\linear_model\\coordinate_descent.py:475: ConvergenceWarning: Objective did not converge. You might want to increase the number of iterations. Duality gap: 56486012667835.94, tolerance: 223712019258.84488\n",
      "  positive)\n",
      "C:\\Users\\ANU\\Anaconda3\\lib\\site-packages\\sklearn\\linear_model\\coordinate_descent.py:475: ConvergenceWarning: Objective did not converge. You might want to increase the number of iterations. Duality gap: 56486063077846.25, tolerance: 223712019258.84488\n",
      "  positive)\n",
      "C:\\Users\\ANU\\Anaconda3\\lib\\site-packages\\sklearn\\linear_model\\coordinate_descent.py:475: ConvergenceWarning: Objective did not converge. You might want to increase the number of iterations. Duality gap: 56486113486640.125, tolerance: 223712019258.84488\n",
      "  positive)\n",
      "C:\\Users\\ANU\\Anaconda3\\lib\\site-packages\\sklearn\\linear_model\\coordinate_descent.py:475: ConvergenceWarning: Objective did not converge. You might want to increase the number of iterations. Duality gap: 56486163892111.69, tolerance: 223712019258.84488\n",
      "  positive)\n",
      "C:\\Users\\ANU\\Anaconda3\\lib\\site-packages\\sklearn\\linear_model\\coordinate_descent.py:475: ConvergenceWarning: Objective did not converge. You might want to increase the number of iterations. Duality gap: 56486214295843.94, tolerance: 223712019258.84488\n",
      "  positive)\n",
      "C:\\Users\\ANU\\Anaconda3\\lib\\site-packages\\sklearn\\linear_model\\coordinate_descent.py:475: ConvergenceWarning: Objective did not converge. You might want to increase the number of iterations. Duality gap: 56486264696158.875, tolerance: 223712019258.84488\n",
      "  positive)\n",
      "C:\\Users\\ANU\\Anaconda3\\lib\\site-packages\\sklearn\\linear_model\\coordinate_descent.py:475: ConvergenceWarning: Objective did not converge. You might want to increase the number of iterations. Duality gap: 56486315095724.25, tolerance: 223712019258.84488\n",
      "  positive)\n",
      "C:\\Users\\ANU\\Anaconda3\\lib\\site-packages\\sklearn\\linear_model\\coordinate_descent.py:475: ConvergenceWarning: Objective did not converge. You might want to increase the number of iterations. Duality gap: 56486365491541.69, tolerance: 223712019258.84488\n",
      "  positive)\n",
      "C:\\Users\\ANU\\Anaconda3\\lib\\site-packages\\sklearn\\linear_model\\coordinate_descent.py:475: ConvergenceWarning: Objective did not converge. You might want to increase the number of iterations. Duality gap: 56486415886299.75, tolerance: 223712019258.84488\n",
      "  positive)\n",
      "C:\\Users\\ANU\\Anaconda3\\lib\\site-packages\\sklearn\\linear_model\\coordinate_descent.py:475: ConvergenceWarning: Objective did not converge. You might want to increase the number of iterations. Duality gap: 56486466277168.31, tolerance: 223712019258.84488\n",
      "  positive)\n",
      "C:\\Users\\ANU\\Anaconda3\\lib\\site-packages\\sklearn\\linear_model\\coordinate_descent.py:475: ConvergenceWarning: Objective did not converge. You might want to increase the number of iterations. Duality gap: 56486516665275.94, tolerance: 223712019258.84488\n",
      "  positive)\n",
      "C:\\Users\\ANU\\Anaconda3\\lib\\site-packages\\sklearn\\linear_model\\coordinate_descent.py:475: ConvergenceWarning: Objective did not converge. You might want to increase the number of iterations. Duality gap: 56486567053860.125, tolerance: 223712019258.84488\n",
      "  positive)\n",
      "C:\\Users\\ANU\\Anaconda3\\lib\\site-packages\\sklearn\\linear_model\\coordinate_descent.py:475: ConvergenceWarning: Objective did not converge. You might want to increase the number of iterations. Duality gap: 56486617438945.81, tolerance: 223712019258.84488\n",
      "  positive)\n",
      "C:\\Users\\ANU\\Anaconda3\\lib\\site-packages\\sklearn\\linear_model\\coordinate_descent.py:475: ConvergenceWarning: Objective did not converge. You might want to increase the number of iterations. Duality gap: 56486667822569.81, tolerance: 223712019258.84488\n",
      "  positive)\n",
      "C:\\Users\\ANU\\Anaconda3\\lib\\site-packages\\sklearn\\linear_model\\coordinate_descent.py:475: ConvergenceWarning: Objective did not converge. You might want to increase the number of iterations. Duality gap: 56486718203806.125, tolerance: 223712019258.84488\n",
      "  positive)\n",
      "C:\\Users\\ANU\\Anaconda3\\lib\\site-packages\\sklearn\\linear_model\\coordinate_descent.py:475: ConvergenceWarning: Objective did not converge. You might want to increase the number of iterations. Duality gap: 56486768581801.81, tolerance: 223712019258.84488\n",
      "  positive)\n"
     ]
    },
    {
     "name": "stderr",
     "output_type": "stream",
     "text": [
      "C:\\Users\\ANU\\Anaconda3\\lib\\site-packages\\sklearn\\linear_model\\coordinate_descent.py:475: ConvergenceWarning: Objective did not converge. You might want to increase the number of iterations. Duality gap: 56486818958475.44, tolerance: 223712019258.84488\n",
      "  positive)\n",
      "C:\\Users\\ANU\\Anaconda3\\lib\\site-packages\\sklearn\\linear_model\\coordinate_descent.py:475: ConvergenceWarning: Objective did not converge. You might want to increase the number of iterations. Duality gap: 56486869330570.625, tolerance: 223712019258.84488\n",
      "  positive)\n",
      "C:\\Users\\ANU\\Anaconda3\\lib\\site-packages\\sklearn\\linear_model\\coordinate_descent.py:475: ConvergenceWarning: Objective did not converge. You might want to increase the number of iterations. Duality gap: 56486919702319.75, tolerance: 223712019258.84488\n",
      "  positive)\n",
      "C:\\Users\\ANU\\Anaconda3\\lib\\site-packages\\sklearn\\linear_model\\coordinate_descent.py:475: ConvergenceWarning: Objective did not converge. You might want to increase the number of iterations. Duality gap: 56486970070736.625, tolerance: 223712019258.84488\n",
      "  positive)\n",
      "C:\\Users\\ANU\\Anaconda3\\lib\\site-packages\\sklearn\\linear_model\\coordinate_descent.py:475: ConvergenceWarning: Objective did not converge. You might want to increase the number of iterations. Duality gap: 56487020439660.19, tolerance: 223712019258.84488\n",
      "  positive)\n",
      "C:\\Users\\ANU\\Anaconda3\\lib\\site-packages\\sklearn\\linear_model\\coordinate_descent.py:475: ConvergenceWarning: Objective did not converge. You might want to increase the number of iterations. Duality gap: 56487070804027.56, tolerance: 223712019258.84488\n",
      "  positive)\n",
      "C:\\Users\\ANU\\Anaconda3\\lib\\site-packages\\sklearn\\linear_model\\coordinate_descent.py:475: ConvergenceWarning: Objective did not converge. You might want to increase the number of iterations. Duality gap: 56487121166151.94, tolerance: 223712019258.84488\n",
      "  positive)\n",
      "C:\\Users\\ANU\\Anaconda3\\lib\\site-packages\\sklearn\\linear_model\\coordinate_descent.py:475: ConvergenceWarning: Objective did not converge. You might want to increase the number of iterations. Duality gap: 56487171527037.875, tolerance: 223712019258.84488\n",
      "  positive)\n",
      "C:\\Users\\ANU\\Anaconda3\\lib\\site-packages\\sklearn\\linear_model\\coordinate_descent.py:475: ConvergenceWarning: Objective did not converge. You might want to increase the number of iterations. Duality gap: 56487221884399.44, tolerance: 223712019258.84488\n",
      "  positive)\n",
      "C:\\Users\\ANU\\Anaconda3\\lib\\site-packages\\sklearn\\linear_model\\coordinate_descent.py:475: ConvergenceWarning: Objective did not converge. You might want to increase the number of iterations. Duality gap: 56487272238473.94, tolerance: 223712019258.84488\n",
      "  positive)\n",
      "C:\\Users\\ANU\\Anaconda3\\lib\\site-packages\\sklearn\\linear_model\\coordinate_descent.py:475: ConvergenceWarning: Objective did not converge. You might want to increase the number of iterations. Duality gap: 56487322593391.94, tolerance: 223712019258.84488\n",
      "  positive)\n",
      "C:\\Users\\ANU\\Anaconda3\\lib\\site-packages\\sklearn\\linear_model\\coordinate_descent.py:475: ConvergenceWarning: Objective did not converge. You might want to increase the number of iterations. Duality gap: 56487372944332.06, tolerance: 223712019258.84488\n",
      "  positive)\n",
      "C:\\Users\\ANU\\Anaconda3\\lib\\site-packages\\sklearn\\linear_model\\coordinate_descent.py:475: ConvergenceWarning: Objective did not converge. You might want to increase the number of iterations. Duality gap: 56487423294239.81, tolerance: 223712019258.84488\n",
      "  positive)\n",
      "C:\\Users\\ANU\\Anaconda3\\lib\\site-packages\\sklearn\\linear_model\\coordinate_descent.py:475: ConvergenceWarning: Objective did not converge. You might want to increase the number of iterations. Duality gap: 56487473640191.06, tolerance: 223712019258.84488\n",
      "  positive)\n",
      "C:\\Users\\ANU\\Anaconda3\\lib\\site-packages\\sklearn\\linear_model\\coordinate_descent.py:475: ConvergenceWarning: Objective did not converge. You might want to increase the number of iterations. Duality gap: 56487523985790.125, tolerance: 223712019258.84488\n",
      "  positive)\n",
      "C:\\Users\\ANU\\Anaconda3\\lib\\site-packages\\sklearn\\linear_model\\coordinate_descent.py:475: ConvergenceWarning: Objective did not converge. You might want to increase the number of iterations. Duality gap: 56487574327712.19, tolerance: 223712019258.84488\n",
      "  positive)\n",
      "C:\\Users\\ANU\\Anaconda3\\lib\\site-packages\\sklearn\\linear_model\\coordinate_descent.py:475: ConvergenceWarning: Objective did not converge. You might want to increase the number of iterations. Duality gap: 56487624667172.31, tolerance: 223712019258.84488\n",
      "  positive)\n",
      "C:\\Users\\ANU\\Anaconda3\\lib\\site-packages\\sklearn\\linear_model\\coordinate_descent.py:475: ConvergenceWarning: Objective did not converge. You might want to increase the number of iterations. Duality gap: 56487675006281.125, tolerance: 223712019258.84488\n",
      "  positive)\n",
      "C:\\Users\\ANU\\Anaconda3\\lib\\site-packages\\sklearn\\linear_model\\coordinate_descent.py:475: ConvergenceWarning: Objective did not converge. You might want to increase the number of iterations. Duality gap: 56487725342150.06, tolerance: 223712019258.84488\n",
      "  positive)\n",
      "C:\\Users\\ANU\\Anaconda3\\lib\\site-packages\\sklearn\\linear_model\\coordinate_descent.py:475: ConvergenceWarning: Objective did not converge. You might want to increase the number of iterations. Duality gap: 56487775674935.5, tolerance: 223712019258.84488\n",
      "  positive)\n",
      "C:\\Users\\ANU\\Anaconda3\\lib\\site-packages\\sklearn\\linear_model\\coordinate_descent.py:475: ConvergenceWarning: Objective did not converge. You might want to increase the number of iterations. Duality gap: 56487826006244.06, tolerance: 223712019258.84488\n",
      "  positive)\n",
      "C:\\Users\\ANU\\Anaconda3\\lib\\site-packages\\sklearn\\linear_model\\coordinate_descent.py:475: ConvergenceWarning: Objective did not converge. You might want to increase the number of iterations. Duality gap: 56487876336184.0, tolerance: 223712019258.84488\n",
      "  positive)\n",
      "C:\\Users\\ANU\\Anaconda3\\lib\\site-packages\\sklearn\\linear_model\\coordinate_descent.py:475: ConvergenceWarning: Objective did not converge. You might want to increase the number of iterations. Duality gap: 56487926663091.125, tolerance: 223712019258.84488\n",
      "  positive)\n",
      "C:\\Users\\ANU\\Anaconda3\\lib\\site-packages\\sklearn\\linear_model\\coordinate_descent.py:475: ConvergenceWarning: Objective did not converge. You might want to increase the number of iterations. Duality gap: 56487976987540.0, tolerance: 223712019258.84488\n",
      "  positive)\n",
      "C:\\Users\\ANU\\Anaconda3\\lib\\site-packages\\sklearn\\linear_model\\coordinate_descent.py:475: ConvergenceWarning: Objective did not converge. You might want to increase the number of iterations. Duality gap: 56488027310520.19, tolerance: 223712019258.84488\n",
      "  positive)\n",
      "C:\\Users\\ANU\\Anaconda3\\lib\\site-packages\\sklearn\\linear_model\\coordinate_descent.py:475: ConvergenceWarning: Objective did not converge. You might want to increase the number of iterations. Duality gap: 56488077629762.625, tolerance: 223712019258.84488\n",
      "  positive)\n",
      "C:\\Users\\ANU\\Anaconda3\\lib\\site-packages\\sklearn\\linear_model\\coordinate_descent.py:475: ConvergenceWarning: Objective did not converge. You might want to increase the number of iterations. Duality gap: 56488127948314.69, tolerance: 223712019258.84488\n",
      "  positive)\n",
      "C:\\Users\\ANU\\Anaconda3\\lib\\site-packages\\sklearn\\linear_model\\coordinate_descent.py:475: ConvergenceWarning: Objective did not converge. You might want to increase the number of iterations. Duality gap: 56488178264153.875, tolerance: 223712019258.84488\n",
      "  positive)\n",
      "C:\\Users\\ANU\\Anaconda3\\lib\\site-packages\\sklearn\\linear_model\\coordinate_descent.py:475: ConvergenceWarning: Objective did not converge. You might want to increase the number of iterations. Duality gap: 56488228576749.625, tolerance: 223712019258.84488\n",
      "  positive)\n",
      "C:\\Users\\ANU\\Anaconda3\\lib\\site-packages\\sklearn\\linear_model\\coordinate_descent.py:475: ConvergenceWarning: Objective did not converge. You might want to increase the number of iterations. Duality gap: 56488278889164.75, tolerance: 223712019258.84488\n",
      "  positive)\n",
      "C:\\Users\\ANU\\Anaconda3\\lib\\site-packages\\sklearn\\linear_model\\coordinate_descent.py:475: ConvergenceWarning: Objective did not converge. You might want to increase the number of iterations. Duality gap: 56488329198377.375, tolerance: 223712019258.84488\n",
      "  positive)\n",
      "C:\\Users\\ANU\\Anaconda3\\lib\\site-packages\\sklearn\\linear_model\\coordinate_descent.py:475: ConvergenceWarning: Objective did not converge. You might want to increase the number of iterations. Duality gap: 56488379504438.94, tolerance: 223712019258.84488\n",
      "  positive)\n"
     ]
    },
    {
     "name": "stderr",
     "output_type": "stream",
     "text": [
      "C:\\Users\\ANU\\Anaconda3\\lib\\site-packages\\sklearn\\linear_model\\coordinate_descent.py:475: ConvergenceWarning: Objective did not converge. You might want to increase the number of iterations. Duality gap: 56488429809693.69, tolerance: 223712019258.84488\n",
      "  positive)\n",
      "C:\\Users\\ANU\\Anaconda3\\lib\\site-packages\\sklearn\\linear_model\\coordinate_descent.py:475: ConvergenceWarning: Objective did not converge. You might want to increase the number of iterations. Duality gap: 56488480112646.875, tolerance: 223712019258.84488\n",
      "  positive)\n",
      "C:\\Users\\ANU\\Anaconda3\\lib\\site-packages\\sklearn\\linear_model\\coordinate_descent.py:475: ConvergenceWarning: Objective did not converge. You might want to increase the number of iterations. Duality gap: 56488530413121.56, tolerance: 223712019258.84488\n",
      "  positive)\n",
      "C:\\Users\\ANU\\Anaconda3\\lib\\site-packages\\sklearn\\linear_model\\coordinate_descent.py:475: ConvergenceWarning: Objective did not converge. You might want to increase the number of iterations. Duality gap: 56488580711723.56, tolerance: 223712019258.84488\n",
      "  positive)\n",
      "C:\\Users\\ANU\\Anaconda3\\lib\\site-packages\\sklearn\\linear_model\\coordinate_descent.py:475: ConvergenceWarning: Objective did not converge. You might want to increase the number of iterations. Duality gap: 56488631006987.31, tolerance: 223712019258.84488\n",
      "  positive)\n",
      "C:\\Users\\ANU\\Anaconda3\\lib\\site-packages\\sklearn\\linear_model\\coordinate_descent.py:475: ConvergenceWarning: Objective did not converge. You might want to increase the number of iterations. Duality gap: 56488681300647.44, tolerance: 223712019258.84488\n",
      "  positive)\n",
      "C:\\Users\\ANU\\Anaconda3\\lib\\site-packages\\sklearn\\linear_model\\coordinate_descent.py:475: ConvergenceWarning: Objective did not converge. You might want to increase the number of iterations. Duality gap: 56488731592298.0, tolerance: 223712019258.84488\n",
      "  positive)\n",
      "C:\\Users\\ANU\\Anaconda3\\lib\\site-packages\\sklearn\\linear_model\\coordinate_descent.py:475: ConvergenceWarning: Objective did not converge. You might want to increase the number of iterations. Duality gap: 56488781881425.875, tolerance: 223712019258.84488\n",
      "  positive)\n",
      "C:\\Users\\ANU\\Anaconda3\\lib\\site-packages\\sklearn\\linear_model\\coordinate_descent.py:475: ConvergenceWarning: Objective did not converge. You might want to increase the number of iterations. Duality gap: 56488832170715.19, tolerance: 223712019258.84488\n",
      "  positive)\n",
      "C:\\Users\\ANU\\Anaconda3\\lib\\site-packages\\sklearn\\linear_model\\coordinate_descent.py:475: ConvergenceWarning: Objective did not converge. You might want to increase the number of iterations. Duality gap: 56488882454814.44, tolerance: 223712019258.84488\n",
      "  positive)\n",
      "C:\\Users\\ANU\\Anaconda3\\lib\\site-packages\\sklearn\\linear_model\\coordinate_descent.py:475: ConvergenceWarning: Objective did not converge. You might want to increase the number of iterations. Duality gap: 56488932737210.25, tolerance: 223712019258.84488\n",
      "  positive)\n",
      "C:\\Users\\ANU\\Anaconda3\\lib\\site-packages\\sklearn\\linear_model\\coordinate_descent.py:475: ConvergenceWarning: Objective did not converge. You might want to increase the number of iterations. Duality gap: 56488983018045.81, tolerance: 223712019258.84488\n",
      "  positive)\n",
      "C:\\Users\\ANU\\Anaconda3\\lib\\site-packages\\sklearn\\linear_model\\coordinate_descent.py:475: ConvergenceWarning: Objective did not converge. You might want to increase the number of iterations. Duality gap: 56489033296783.81, tolerance: 223712019258.84488\n",
      "  positive)\n",
      "C:\\Users\\ANU\\Anaconda3\\lib\\site-packages\\sklearn\\linear_model\\coordinate_descent.py:475: ConvergenceWarning: Objective did not converge. You might want to increase the number of iterations. Duality gap: 56489083572446.375, tolerance: 223712019258.84488\n",
      "  positive)\n",
      "C:\\Users\\ANU\\Anaconda3\\lib\\site-packages\\sklearn\\linear_model\\coordinate_descent.py:475: ConvergenceWarning: Objective did not converge. You might want to increase the number of iterations. Duality gap: 56489133847813.31, tolerance: 223712019258.84488\n",
      "  positive)\n",
      "C:\\Users\\ANU\\Anaconda3\\lib\\site-packages\\sklearn\\linear_model\\coordinate_descent.py:475: ConvergenceWarning: Objective did not converge. You might want to increase the number of iterations. Duality gap: 56489184118640.94, tolerance: 223712019258.84488\n",
      "  positive)\n",
      "C:\\Users\\ANU\\Anaconda3\\lib\\site-packages\\sklearn\\linear_model\\coordinate_descent.py:475: ConvergenceWarning: Objective did not converge. You might want to increase the number of iterations. Duality gap: 56489234388735.875, tolerance: 223712019258.84488\n",
      "  positive)\n",
      "C:\\Users\\ANU\\Anaconda3\\lib\\site-packages\\sklearn\\linear_model\\coordinate_descent.py:475: ConvergenceWarning: Objective did not converge. You might want to increase the number of iterations. Duality gap: 56489284657200.19, tolerance: 223712019258.84488\n",
      "  positive)\n",
      "C:\\Users\\ANU\\Anaconda3\\lib\\site-packages\\sklearn\\linear_model\\coordinate_descent.py:475: ConvergenceWarning: Objective did not converge. You might want to increase the number of iterations. Duality gap: 56489334922027.875, tolerance: 223712019258.84488\n",
      "  positive)\n",
      "C:\\Users\\ANU\\Anaconda3\\lib\\site-packages\\sklearn\\linear_model\\coordinate_descent.py:475: ConvergenceWarning: Objective did not converge. You might want to increase the number of iterations. Duality gap: 56489385186100.25, tolerance: 223712019258.84488\n",
      "  positive)\n",
      "C:\\Users\\ANU\\Anaconda3\\lib\\site-packages\\sklearn\\linear_model\\coordinate_descent.py:475: ConvergenceWarning: Objective did not converge. You might want to increase the number of iterations. Duality gap: 56489435446092.625, tolerance: 223712019258.84488\n",
      "  positive)\n",
      "C:\\Users\\ANU\\Anaconda3\\lib\\site-packages\\sklearn\\linear_model\\coordinate_descent.py:475: ConvergenceWarning: Objective did not converge. You might want to increase the number of iterations. Duality gap: 56489485705822.25, tolerance: 223712019258.84488\n",
      "  positive)\n",
      "C:\\Users\\ANU\\Anaconda3\\lib\\site-packages\\sklearn\\linear_model\\coordinate_descent.py:475: ConvergenceWarning: Objective did not converge. You might want to increase the number of iterations. Duality gap: 56489535961364.5, tolerance: 223712019258.84488\n",
      "  positive)\n",
      "C:\\Users\\ANU\\Anaconda3\\lib\\site-packages\\sklearn\\linear_model\\coordinate_descent.py:475: ConvergenceWarning: Objective did not converge. You might want to increase the number of iterations. Duality gap: 56489586216697.25, tolerance: 223712019258.84488\n",
      "  positive)\n",
      "C:\\Users\\ANU\\Anaconda3\\lib\\site-packages\\sklearn\\linear_model\\coordinate_descent.py:475: ConvergenceWarning: Objective did not converge. You might want to increase the number of iterations. Duality gap: 56489636468830.875, tolerance: 223712019258.84488\n",
      "  positive)\n",
      "C:\\Users\\ANU\\Anaconda3\\lib\\site-packages\\sklearn\\linear_model\\coordinate_descent.py:475: ConvergenceWarning: Objective did not converge. You might want to increase the number of iterations. Duality gap: 56489686719021.44, tolerance: 223712019258.84488\n",
      "  positive)\n",
      "C:\\Users\\ANU\\Anaconda3\\lib\\site-packages\\sklearn\\linear_model\\coordinate_descent.py:475: ConvergenceWarning: Objective did not converge. You might want to increase the number of iterations. Duality gap: 56489736967033.25, tolerance: 223712019258.84488\n",
      "  positive)\n",
      "C:\\Users\\ANU\\Anaconda3\\lib\\site-packages\\sklearn\\linear_model\\coordinate_descent.py:475: ConvergenceWarning: Objective did not converge. You might want to increase the number of iterations. Duality gap: 56489787212670.5, tolerance: 223712019258.84488\n",
      "  positive)\n",
      "C:\\Users\\ANU\\Anaconda3\\lib\\site-packages\\sklearn\\linear_model\\coordinate_descent.py:475: ConvergenceWarning: Objective did not converge. You might want to increase the number of iterations. Duality gap: 56489837456952.5, tolerance: 223712019258.84488\n",
      "  positive)\n",
      "C:\\Users\\ANU\\Anaconda3\\lib\\site-packages\\sklearn\\linear_model\\coordinate_descent.py:475: ConvergenceWarning: Objective did not converge. You might want to increase the number of iterations. Duality gap: 56489887697821.375, tolerance: 223712019258.84488\n",
      "  positive)\n",
      "C:\\Users\\ANU\\Anaconda3\\lib\\site-packages\\sklearn\\linear_model\\coordinate_descent.py:475: ConvergenceWarning: Objective did not converge. You might want to increase the number of iterations. Duality gap: 56489937937525.69, tolerance: 223712019258.84488\n",
      "  positive)\n",
      "C:\\Users\\ANU\\Anaconda3\\lib\\site-packages\\sklearn\\linear_model\\coordinate_descent.py:475: ConvergenceWarning: Objective did not converge. You might want to increase the number of iterations. Duality gap: 56489988174515.56, tolerance: 223712019258.84488\n",
      "  positive)\n"
     ]
    },
    {
     "name": "stderr",
     "output_type": "stream",
     "text": [
      "C:\\Users\\ANU\\Anaconda3\\lib\\site-packages\\sklearn\\linear_model\\coordinate_descent.py:475: ConvergenceWarning: Objective did not converge. You might want to increase the number of iterations. Duality gap: 56490038409710.44, tolerance: 223712019258.84488\n",
      "  positive)\n",
      "C:\\Users\\ANU\\Anaconda3\\lib\\site-packages\\sklearn\\linear_model\\coordinate_descent.py:475: ConvergenceWarning: Objective did not converge. You might want to increase the number of iterations. Duality gap: 56490088642670.75, tolerance: 223712019258.84488\n",
      "  positive)\n",
      "C:\\Users\\ANU\\Anaconda3\\lib\\site-packages\\sklearn\\linear_model\\coordinate_descent.py:475: ConvergenceWarning: Objective did not converge. You might want to increase the number of iterations. Duality gap: 56490138872887.125, tolerance: 223712019258.84488\n",
      "  positive)\n",
      "C:\\Users\\ANU\\Anaconda3\\lib\\site-packages\\sklearn\\linear_model\\coordinate_descent.py:475: ConvergenceWarning: Objective did not converge. You might want to increase the number of iterations. Duality gap: 56490189101421.25, tolerance: 223712019258.84488\n",
      "  positive)\n",
      "C:\\Users\\ANU\\Anaconda3\\lib\\site-packages\\sklearn\\linear_model\\coordinate_descent.py:475: ConvergenceWarning: Objective did not converge. You might want to increase the number of iterations. Duality gap: 56490239328769.25, tolerance: 223712019258.84488\n",
      "  positive)\n",
      "C:\\Users\\ANU\\Anaconda3\\lib\\site-packages\\sklearn\\linear_model\\coordinate_descent.py:475: ConvergenceWarning: Objective did not converge. You might want to increase the number of iterations. Duality gap: 56490289552177.5, tolerance: 223712019258.84488\n",
      "  positive)\n",
      "C:\\Users\\ANU\\Anaconda3\\lib\\site-packages\\sklearn\\linear_model\\coordinate_descent.py:475: ConvergenceWarning: Objective did not converge. You might want to increase the number of iterations. Duality gap: 56490339774305.75, tolerance: 223712019258.84488\n",
      "  positive)\n",
      "C:\\Users\\ANU\\Anaconda3\\lib\\site-packages\\sklearn\\linear_model\\coordinate_descent.py:475: ConvergenceWarning: Objective did not converge. You might want to increase the number of iterations. Duality gap: 56490389993978.31, tolerance: 223712019258.84488\n",
      "  positive)\n",
      "C:\\Users\\ANU\\Anaconda3\\lib\\site-packages\\sklearn\\linear_model\\coordinate_descent.py:475: ConvergenceWarning: Objective did not converge. You might want to increase the number of iterations. Duality gap: 56490440211932.125, tolerance: 223712019258.84488\n",
      "  positive)\n",
      "C:\\Users\\ANU\\Anaconda3\\lib\\site-packages\\sklearn\\linear_model\\coordinate_descent.py:475: ConvergenceWarning: Objective did not converge. You might want to increase the number of iterations. Duality gap: 56490490427001.31, tolerance: 223712019258.84488\n",
      "  positive)\n",
      "C:\\Users\\ANU\\Anaconda3\\lib\\site-packages\\sklearn\\linear_model\\coordinate_descent.py:475: ConvergenceWarning: Objective did not converge. You might want to increase the number of iterations. Duality gap: 56490540640349.19, tolerance: 223712019258.84488\n",
      "  positive)\n",
      "C:\\Users\\ANU\\Anaconda3\\lib\\site-packages\\sklearn\\linear_model\\coordinate_descent.py:475: ConvergenceWarning: Objective did not converge. You might want to increase the number of iterations. Duality gap: 56490590851720.875, tolerance: 223712019258.84488\n",
      "  positive)\n",
      "C:\\Users\\ANU\\Anaconda3\\lib\\site-packages\\sklearn\\linear_model\\coordinate_descent.py:475: ConvergenceWarning: Objective did not converge. You might want to increase the number of iterations. Duality gap: 56490641060399.94, tolerance: 223712019258.84488\n",
      "  positive)\n",
      "C:\\Users\\ANU\\Anaconda3\\lib\\site-packages\\sklearn\\linear_model\\coordinate_descent.py:475: ConvergenceWarning: Objective did not converge. You might want to increase the number of iterations. Duality gap: 56490691267263.875, tolerance: 223712019258.84488\n",
      "  positive)\n",
      "C:\\Users\\ANU\\Anaconda3\\lib\\site-packages\\sklearn\\linear_model\\coordinate_descent.py:475: ConvergenceWarning: Objective did not converge. You might want to increase the number of iterations. Duality gap: 56490741472867.125, tolerance: 223712019258.84488\n",
      "  positive)\n",
      "C:\\Users\\ANU\\Anaconda3\\lib\\site-packages\\sklearn\\linear_model\\coordinate_descent.py:475: ConvergenceWarning: Objective did not converge. You might want to increase the number of iterations. Duality gap: 56490791675567.125, tolerance: 223712019258.84488\n",
      "  positive)\n",
      "C:\\Users\\ANU\\Anaconda3\\lib\\site-packages\\sklearn\\linear_model\\coordinate_descent.py:475: ConvergenceWarning: Objective did not converge. You might want to increase the number of iterations. Duality gap: 56490841876163.0, tolerance: 223712019258.84488\n",
      "  positive)\n",
      "C:\\Users\\ANU\\Anaconda3\\lib\\site-packages\\sklearn\\linear_model\\coordinate_descent.py:475: ConvergenceWarning: Objective did not converge. You might want to increase the number of iterations. Duality gap: 56490892073998.125, tolerance: 223712019258.84488\n",
      "  positive)\n",
      "C:\\Users\\ANU\\Anaconda3\\lib\\site-packages\\sklearn\\linear_model\\coordinate_descent.py:475: ConvergenceWarning: Objective did not converge. You might want to increase the number of iterations. Duality gap: 56490942270202.75, tolerance: 223712019258.84488\n",
      "  positive)\n",
      "C:\\Users\\ANU\\Anaconda3\\lib\\site-packages\\sklearn\\linear_model\\coordinate_descent.py:475: ConvergenceWarning: Objective did not converge. You might want to increase the number of iterations. Duality gap: 56490992462357.81, tolerance: 223712019258.84488\n",
      "  positive)\n",
      "C:\\Users\\ANU\\Anaconda3\\lib\\site-packages\\sklearn\\linear_model\\coordinate_descent.py:475: ConvergenceWarning: Objective did not converge. You might want to increase the number of iterations. Duality gap: 56491042655123.81, tolerance: 223712019258.84488\n",
      "  positive)\n",
      "C:\\Users\\ANU\\Anaconda3\\lib\\site-packages\\sklearn\\linear_model\\coordinate_descent.py:475: ConvergenceWarning: Objective did not converge. You might want to increase the number of iterations. Duality gap: 56491092845585.94, tolerance: 223712019258.84488\n",
      "  positive)\n",
      "C:\\Users\\ANU\\Anaconda3\\lib\\site-packages\\sklearn\\linear_model\\coordinate_descent.py:475: ConvergenceWarning: Objective did not converge. You might want to increase the number of iterations. Duality gap: 56491143032322.625, tolerance: 223712019258.84488\n",
      "  positive)\n",
      "C:\\Users\\ANU\\Anaconda3\\lib\\site-packages\\sklearn\\linear_model\\coordinate_descent.py:475: ConvergenceWarning: Objective did not converge. You might want to increase the number of iterations. Duality gap: 56491193218875.94, tolerance: 223712019258.84488\n",
      "  positive)\n",
      "C:\\Users\\ANU\\Anaconda3\\lib\\site-packages\\sklearn\\linear_model\\coordinate_descent.py:475: ConvergenceWarning: Objective did not converge. You might want to increase the number of iterations. Duality gap: 56491243401790.56, tolerance: 223712019258.84488\n",
      "  positive)\n",
      "C:\\Users\\ANU\\Anaconda3\\lib\\site-packages\\sklearn\\linear_model\\coordinate_descent.py:475: ConvergenceWarning: Objective did not converge. You might want to increase the number of iterations. Duality gap: 56491293581952.94, tolerance: 223712019258.84488\n",
      "  positive)\n",
      "C:\\Users\\ANU\\Anaconda3\\lib\\site-packages\\sklearn\\linear_model\\coordinate_descent.py:475: ConvergenceWarning: Objective did not converge. You might want to increase the number of iterations. Duality gap: 56491343761792.375, tolerance: 223712019258.84488\n",
      "  positive)\n",
      "C:\\Users\\ANU\\Anaconda3\\lib\\site-packages\\sklearn\\linear_model\\coordinate_descent.py:475: ConvergenceWarning: Objective did not converge. You might want to increase the number of iterations. Duality gap: 56491393938011.44, tolerance: 223712019258.84488\n",
      "  positive)\n",
      "C:\\Users\\ANU\\Anaconda3\\lib\\site-packages\\sklearn\\linear_model\\coordinate_descent.py:475: ConvergenceWarning: Objective did not converge. You might want to increase the number of iterations. Duality gap: 56491444112999.69, tolerance: 223712019258.84488\n",
      "  positive)\n",
      "C:\\Users\\ANU\\Anaconda3\\lib\\site-packages\\sklearn\\linear_model\\coordinate_descent.py:475: ConvergenceWarning: Objective did not converge. You might want to increase the number of iterations. Duality gap: 56491494285627.25, tolerance: 223712019258.84488\n",
      "  positive)\n",
      "C:\\Users\\ANU\\Anaconda3\\lib\\site-packages\\sklearn\\linear_model\\coordinate_descent.py:475: ConvergenceWarning: Objective did not converge. You might want to increase the number of iterations. Duality gap: 56491544455988.94, tolerance: 223712019258.84488\n",
      "  positive)\n",
      "C:\\Users\\ANU\\Anaconda3\\lib\\site-packages\\sklearn\\linear_model\\coordinate_descent.py:475: ConvergenceWarning: Objective did not converge. You might want to increase the number of iterations. Duality gap: 56491594623111.5, tolerance: 223712019258.84488\n",
      "  positive)\n"
     ]
    },
    {
     "name": "stderr",
     "output_type": "stream",
     "text": [
      "C:\\Users\\ANU\\Anaconda3\\lib\\site-packages\\sklearn\\linear_model\\coordinate_descent.py:475: ConvergenceWarning: Objective did not converge. You might want to increase the number of iterations. Duality gap: 56491644789626.75, tolerance: 223712019258.84488\n",
      "  positive)\n",
      "C:\\Users\\ANU\\Anaconda3\\lib\\site-packages\\sklearn\\linear_model\\coordinate_descent.py:475: ConvergenceWarning: Objective did not converge. You might want to increase the number of iterations. Duality gap: 56491694953569.19, tolerance: 223712019258.84488\n",
      "  positive)\n",
      "C:\\Users\\ANU\\Anaconda3\\lib\\site-packages\\sklearn\\linear_model\\coordinate_descent.py:475: ConvergenceWarning: Objective did not converge. You might want to increase the number of iterations. Duality gap: 56491745115843.19, tolerance: 223712019258.84488\n",
      "  positive)\n",
      "C:\\Users\\ANU\\Anaconda3\\lib\\site-packages\\sklearn\\linear_model\\coordinate_descent.py:475: ConvergenceWarning: Objective did not converge. You might want to increase the number of iterations. Duality gap: 56491795275027.81, tolerance: 223712019258.84488\n",
      "  positive)\n",
      "C:\\Users\\ANU\\Anaconda3\\lib\\site-packages\\sklearn\\linear_model\\coordinate_descent.py:475: ConvergenceWarning: Objective did not converge. You might want to increase the number of iterations. Duality gap: 56491845432397.625, tolerance: 223712019258.84488\n",
      "  positive)\n",
      "C:\\Users\\ANU\\Anaconda3\\lib\\site-packages\\sklearn\\linear_model\\coordinate_descent.py:475: ConvergenceWarning: Objective did not converge. You might want to increase the number of iterations. Duality gap: 56491895587818.75, tolerance: 223712019258.84488\n",
      "  positive)\n",
      "C:\\Users\\ANU\\Anaconda3\\lib\\site-packages\\sklearn\\linear_model\\coordinate_descent.py:475: ConvergenceWarning: Objective did not converge. You might want to increase the number of iterations. Duality gap: 56491945740386.31, tolerance: 223712019258.84488\n",
      "  positive)\n",
      "C:\\Users\\ANU\\Anaconda3\\lib\\site-packages\\sklearn\\linear_model\\coordinate_descent.py:475: ConvergenceWarning: Objective did not converge. You might want to increase the number of iterations. Duality gap: 56491995891209.75, tolerance: 223712019258.84488\n",
      "  positive)\n",
      "C:\\Users\\ANU\\Anaconda3\\lib\\site-packages\\sklearn\\linear_model\\coordinate_descent.py:475: ConvergenceWarning: Objective did not converge. You might want to increase the number of iterations. Duality gap: 56492046041515.19, tolerance: 223712019258.84488\n",
      "  positive)\n",
      "C:\\Users\\ANU\\Anaconda3\\lib\\site-packages\\sklearn\\linear_model\\coordinate_descent.py:475: ConvergenceWarning: Objective did not converge. You might want to increase the number of iterations. Duality gap: 56492096187125.25, tolerance: 223712019258.84488\n",
      "  positive)\n",
      "C:\\Users\\ANU\\Anaconda3\\lib\\site-packages\\sklearn\\linear_model\\coordinate_descent.py:475: ConvergenceWarning: Objective did not converge. You might want to increase the number of iterations. Duality gap: 56492146331932.94, tolerance: 223712019258.84488\n",
      "  positive)\n",
      "C:\\Users\\ANU\\Anaconda3\\lib\\site-packages\\sklearn\\linear_model\\coordinate_descent.py:475: ConvergenceWarning: Objective did not converge. You might want to increase the number of iterations. Duality gap: 56492196474583.94, tolerance: 223712019258.84488\n",
      "  positive)\n",
      "C:\\Users\\ANU\\Anaconda3\\lib\\site-packages\\sklearn\\linear_model\\coordinate_descent.py:475: ConvergenceWarning: Objective did not converge. You might want to increase the number of iterations. Duality gap: 56492246615010.375, tolerance: 223712019258.84488\n",
      "  positive)\n",
      "C:\\Users\\ANU\\Anaconda3\\lib\\site-packages\\sklearn\\linear_model\\coordinate_descent.py:475: ConvergenceWarning: Objective did not converge. You might want to increase the number of iterations. Duality gap: 56492296752869.125, tolerance: 223712019258.84488\n",
      "  positive)\n",
      "C:\\Users\\ANU\\Anaconda3\\lib\\site-packages\\sklearn\\linear_model\\coordinate_descent.py:475: ConvergenceWarning: Objective did not converge. You might want to increase the number of iterations. Duality gap: 56492346888561.19, tolerance: 223712019258.84488\n",
      "  positive)\n",
      "C:\\Users\\ANU\\Anaconda3\\lib\\site-packages\\sklearn\\linear_model\\coordinate_descent.py:475: ConvergenceWarning: Objective did not converge. You might want to increase the number of iterations. Duality gap: 56492397022559.375, tolerance: 223712019258.84488\n",
      "  positive)\n",
      "C:\\Users\\ANU\\Anaconda3\\lib\\site-packages\\sklearn\\linear_model\\coordinate_descent.py:475: ConvergenceWarning: Objective did not converge. You might want to increase the number of iterations. Duality gap: 56492447153574.81, tolerance: 223712019258.84488\n",
      "  positive)\n",
      "C:\\Users\\ANU\\Anaconda3\\lib\\site-packages\\sklearn\\linear_model\\coordinate_descent.py:475: ConvergenceWarning: Objective did not converge. You might want to increase the number of iterations. Duality gap: 56492497283916.125, tolerance: 223712019258.84488\n",
      "  positive)\n",
      "C:\\Users\\ANU\\Anaconda3\\lib\\site-packages\\sklearn\\linear_model\\coordinate_descent.py:475: ConvergenceWarning: Objective did not converge. You might want to increase the number of iterations. Duality gap: 56492547412001.19, tolerance: 223712019258.84488\n",
      "  positive)\n",
      "C:\\Users\\ANU\\Anaconda3\\lib\\site-packages\\sklearn\\linear_model\\coordinate_descent.py:475: ConvergenceWarning: Objective did not converge. You might want to increase the number of iterations. Duality gap: 56492597536379.75, tolerance: 223712019258.84488\n",
      "  positive)\n",
      "C:\\Users\\ANU\\Anaconda3\\lib\\site-packages\\sklearn\\linear_model\\coordinate_descent.py:475: ConvergenceWarning: Objective did not converge. You might want to increase the number of iterations. Duality gap: 56492647659455.25, tolerance: 223712019258.84488\n",
      "  positive)\n",
      "C:\\Users\\ANU\\Anaconda3\\lib\\site-packages\\sklearn\\linear_model\\coordinate_descent.py:475: ConvergenceWarning: Objective did not converge. You might want to increase the number of iterations. Duality gap: 56492697781493.94, tolerance: 223712019258.84488\n",
      "  positive)\n",
      "C:\\Users\\ANU\\Anaconda3\\lib\\site-packages\\sklearn\\linear_model\\coordinate_descent.py:475: ConvergenceWarning: Objective did not converge. You might want to increase the number of iterations. Duality gap: 56492747899787.375, tolerance: 223712019258.84488\n",
      "  positive)\n",
      "C:\\Users\\ANU\\Anaconda3\\lib\\site-packages\\sklearn\\linear_model\\coordinate_descent.py:475: ConvergenceWarning: Objective did not converge. You might want to increase the number of iterations. Duality gap: 56492798016412.19, tolerance: 223712019258.84488\n",
      "  positive)\n",
      "C:\\Users\\ANU\\Anaconda3\\lib\\site-packages\\sklearn\\linear_model\\coordinate_descent.py:475: ConvergenceWarning: Objective did not converge. You might want to increase the number of iterations. Duality gap: 56492848131444.375, tolerance: 223712019258.84488\n",
      "  positive)\n",
      "C:\\Users\\ANU\\Anaconda3\\lib\\site-packages\\sklearn\\linear_model\\coordinate_descent.py:475: ConvergenceWarning: Objective did not converge. You might want to increase the number of iterations. Duality gap: 56492898243631.75, tolerance: 223712019258.84488\n",
      "  positive)\n",
      "C:\\Users\\ANU\\Anaconda3\\lib\\site-packages\\sklearn\\linear_model\\coordinate_descent.py:475: ConvergenceWarning: Objective did not converge. You might want to increase the number of iterations. Duality gap: 56492948353640.56, tolerance: 223712019258.84488\n",
      "  positive)\n",
      "C:\\Users\\ANU\\Anaconda3\\lib\\site-packages\\sklearn\\linear_model\\coordinate_descent.py:475: ConvergenceWarning: Objective did not converge. You might want to increase the number of iterations. Duality gap: 56492998462210.0, tolerance: 223712019258.84488\n",
      "  positive)\n",
      "C:\\Users\\ANU\\Anaconda3\\lib\\site-packages\\sklearn\\linear_model\\coordinate_descent.py:475: ConvergenceWarning: Objective did not converge. You might want to increase the number of iterations. Duality gap: 56493048568056.125, tolerance: 223712019258.84488\n",
      "  positive)\n",
      "C:\\Users\\ANU\\Anaconda3\\lib\\site-packages\\sklearn\\linear_model\\coordinate_descent.py:475: ConvergenceWarning: Objective did not converge. You might want to increase the number of iterations. Duality gap: 56493098671968.69, tolerance: 223712019258.84488\n",
      "  positive)\n",
      "C:\\Users\\ANU\\Anaconda3\\lib\\site-packages\\sklearn\\linear_model\\coordinate_descent.py:475: ConvergenceWarning: Objective did not converge. You might want to increase the number of iterations. Duality gap: 56493148774613.75, tolerance: 223712019258.84488\n",
      "  positive)\n",
      "C:\\Users\\ANU\\Anaconda3\\lib\\site-packages\\sklearn\\linear_model\\coordinate_descent.py:475: ConvergenceWarning: Objective did not converge. You might want to increase the number of iterations. Duality gap: 56493198873779.94, tolerance: 223712019258.84488\n",
      "  positive)\n"
     ]
    },
    {
     "name": "stderr",
     "output_type": "stream",
     "text": [
      "C:\\Users\\ANU\\Anaconda3\\lib\\site-packages\\sklearn\\linear_model\\coordinate_descent.py:475: ConvergenceWarning: Objective did not converge. You might want to increase the number of iterations. Duality gap: 56493248970732.44, tolerance: 223712019258.84488\n",
      "  positive)\n",
      "C:\\Users\\ANU\\Anaconda3\\lib\\site-packages\\sklearn\\linear_model\\coordinate_descent.py:475: ConvergenceWarning: Objective did not converge. You might want to increase the number of iterations. Duality gap: 56493299066521.06, tolerance: 223712019258.84488\n",
      "  positive)\n",
      "C:\\Users\\ANU\\Anaconda3\\lib\\site-packages\\sklearn\\linear_model\\coordinate_descent.py:475: ConvergenceWarning: Objective did not converge. You might want to increase the number of iterations. Duality gap: 56493349159759.06, tolerance: 223712019258.84488\n",
      "  positive)\n",
      "C:\\Users\\ANU\\Anaconda3\\lib\\site-packages\\sklearn\\linear_model\\coordinate_descent.py:475: ConvergenceWarning: Objective did not converge. You might want to increase the number of iterations. Duality gap: 56493399250925.56, tolerance: 223712019258.84488\n",
      "  positive)\n",
      "C:\\Users\\ANU\\Anaconda3\\lib\\site-packages\\sklearn\\linear_model\\coordinate_descent.py:475: ConvergenceWarning: Objective did not converge. You might want to increase the number of iterations. Duality gap: 56493449340364.75, tolerance: 223712019258.84488\n",
      "  positive)\n",
      "C:\\Users\\ANU\\Anaconda3\\lib\\site-packages\\sklearn\\linear_model\\coordinate_descent.py:475: ConvergenceWarning: Objective did not converge. You might want to increase the number of iterations. Duality gap: 56493499427224.375, tolerance: 223712019258.84488\n",
      "  positive)\n",
      "C:\\Users\\ANU\\Anaconda3\\lib\\site-packages\\sklearn\\linear_model\\coordinate_descent.py:475: ConvergenceWarning: Objective did not converge. You might want to increase the number of iterations. Duality gap: 56493549511728.5, tolerance: 223712019258.84488\n",
      "  positive)\n",
      "C:\\Users\\ANU\\Anaconda3\\lib\\site-packages\\sklearn\\linear_model\\coordinate_descent.py:475: ConvergenceWarning: Objective did not converge. You might want to increase the number of iterations. Duality gap: 56493599594244.44, tolerance: 223712019258.84488\n",
      "  positive)\n",
      "C:\\Users\\ANU\\Anaconda3\\lib\\site-packages\\sklearn\\linear_model\\coordinate_descent.py:475: ConvergenceWarning: Objective did not converge. You might want to increase the number of iterations. Duality gap: 56493649674753.875, tolerance: 223712019258.84488\n",
      "  positive)\n",
      "C:\\Users\\ANU\\Anaconda3\\lib\\site-packages\\sklearn\\linear_model\\coordinate_descent.py:475: ConvergenceWarning: Objective did not converge. You might want to increase the number of iterations. Duality gap: 56493699753158.19, tolerance: 223712019258.84488\n",
      "  positive)\n",
      "C:\\Users\\ANU\\Anaconda3\\lib\\site-packages\\sklearn\\linear_model\\coordinate_descent.py:475: ConvergenceWarning: Objective did not converge. You might want to increase the number of iterations. Duality gap: 56493749829293.69, tolerance: 223712019258.84488\n",
      "  positive)\n",
      "C:\\Users\\ANU\\Anaconda3\\lib\\site-packages\\sklearn\\linear_model\\coordinate_descent.py:475: ConvergenceWarning: Objective did not converge. You might want to increase the number of iterations. Duality gap: 56493799903951.06, tolerance: 223712019258.84488\n",
      "  positive)\n",
      "C:\\Users\\ANU\\Anaconda3\\lib\\site-packages\\sklearn\\linear_model\\coordinate_descent.py:475: ConvergenceWarning: Objective did not converge. You might want to increase the number of iterations. Duality gap: 56493849975591.75, tolerance: 223712019258.84488\n",
      "  positive)\n",
      "C:\\Users\\ANU\\Anaconda3\\lib\\site-packages\\sklearn\\linear_model\\coordinate_descent.py:475: ConvergenceWarning: Objective did not converge. You might want to increase the number of iterations. Duality gap: 56493900045668.31, tolerance: 223712019258.84488\n",
      "  positive)\n",
      "C:\\Users\\ANU\\Anaconda3\\lib\\site-packages\\sklearn\\linear_model\\coordinate_descent.py:475: ConvergenceWarning: Objective did not converge. You might want to increase the number of iterations. Duality gap: 56493950112895.375, tolerance: 223712019258.84488\n",
      "  positive)\n",
      "C:\\Users\\ANU\\Anaconda3\\lib\\site-packages\\sklearn\\linear_model\\coordinate_descent.py:475: ConvergenceWarning: Objective did not converge. You might want to increase the number of iterations. Duality gap: 56494000179151.81, tolerance: 223712019258.84488\n",
      "  positive)\n",
      "C:\\Users\\ANU\\Anaconda3\\lib\\site-packages\\sklearn\\linear_model\\coordinate_descent.py:475: ConvergenceWarning: Objective did not converge. You might want to increase the number of iterations. Duality gap: 56494050241532.44, tolerance: 223712019258.84488\n",
      "  positive)\n",
      "C:\\Users\\ANU\\Anaconda3\\lib\\site-packages\\sklearn\\linear_model\\coordinate_descent.py:475: ConvergenceWarning: Objective did not converge. You might want to increase the number of iterations. Duality gap: 56494100302573.06, tolerance: 223712019258.84488\n",
      "  positive)\n",
      "C:\\Users\\ANU\\Anaconda3\\lib\\site-packages\\sklearn\\linear_model\\coordinate_descent.py:475: ConvergenceWarning: Objective did not converge. You might want to increase the number of iterations. Duality gap: 56494150362261.56, tolerance: 223712019258.84488\n",
      "  positive)\n",
      "C:\\Users\\ANU\\Anaconda3\\lib\\site-packages\\sklearn\\linear_model\\coordinate_descent.py:475: ConvergenceWarning: Objective did not converge. You might want to increase the number of iterations. Duality gap: 56494200419179.06, tolerance: 223712019258.84488\n",
      "  positive)\n",
      "C:\\Users\\ANU\\Anaconda3\\lib\\site-packages\\sklearn\\linear_model\\coordinate_descent.py:475: ConvergenceWarning: Objective did not converge. You might want to increase the number of iterations. Duality gap: 56494250474130.31, tolerance: 223712019258.84488\n",
      "  positive)\n",
      "C:\\Users\\ANU\\Anaconda3\\lib\\site-packages\\sklearn\\linear_model\\coordinate_descent.py:475: ConvergenceWarning: Objective did not converge. You might want to increase the number of iterations. Duality gap: 56494300527461.19, tolerance: 223712019258.84488\n",
      "  positive)\n",
      "C:\\Users\\ANU\\Anaconda3\\lib\\site-packages\\sklearn\\linear_model\\coordinate_descent.py:475: ConvergenceWarning: Objective did not converge. You might want to increase the number of iterations. Duality gap: 56494350577008.81, tolerance: 223712019258.84488\n",
      "  positive)\n",
      "C:\\Users\\ANU\\Anaconda3\\lib\\site-packages\\sklearn\\linear_model\\coordinate_descent.py:475: ConvergenceWarning: Objective did not converge. You might want to increase the number of iterations. Duality gap: 56494400627036.06, tolerance: 223712019258.84488\n",
      "  positive)\n",
      "C:\\Users\\ANU\\Anaconda3\\lib\\site-packages\\sklearn\\linear_model\\coordinate_descent.py:475: ConvergenceWarning: Objective did not converge. You might want to increase the number of iterations. Duality gap: 56494450673101.25, tolerance: 223712019258.84488\n",
      "  positive)\n",
      "C:\\Users\\ANU\\Anaconda3\\lib\\site-packages\\sklearn\\linear_model\\coordinate_descent.py:475: ConvergenceWarning: Objective did not converge. You might want to increase the number of iterations. Duality gap: 56494500717246.06, tolerance: 223712019258.84488\n",
      "  positive)\n",
      "C:\\Users\\ANU\\Anaconda3\\lib\\site-packages\\sklearn\\linear_model\\coordinate_descent.py:475: ConvergenceWarning: Objective did not converge. You might want to increase the number of iterations. Duality gap: 56494550759172.0, tolerance: 223712019258.84488\n",
      "  positive)\n",
      "C:\\Users\\ANU\\Anaconda3\\lib\\site-packages\\sklearn\\linear_model\\coordinate_descent.py:475: ConvergenceWarning: Objective did not converge. You might want to increase the number of iterations. Duality gap: 56494600799023.44, tolerance: 223712019258.84488\n",
      "  positive)\n",
      "C:\\Users\\ANU\\Anaconda3\\lib\\site-packages\\sklearn\\linear_model\\coordinate_descent.py:475: ConvergenceWarning: Objective did not converge. You might want to increase the number of iterations. Duality gap: 56494650837364.625, tolerance: 223712019258.84488\n",
      "  positive)\n",
      "C:\\Users\\ANU\\Anaconda3\\lib\\site-packages\\sklearn\\linear_model\\coordinate_descent.py:475: ConvergenceWarning: Objective did not converge. You might want to increase the number of iterations. Duality gap: 56494700873134.19, tolerance: 223712019258.84488\n",
      "  positive)\n",
      "C:\\Users\\ANU\\Anaconda3\\lib\\site-packages\\sklearn\\linear_model\\coordinate_descent.py:475: ConvergenceWarning: Objective did not converge. You might want to increase the number of iterations. Duality gap: 56494750906910.69, tolerance: 223712019258.84488\n",
      "  positive)\n",
      "C:\\Users\\ANU\\Anaconda3\\lib\\site-packages\\sklearn\\linear_model\\coordinate_descent.py:475: ConvergenceWarning: Objective did not converge. You might want to increase the number of iterations. Duality gap: 56494800938579.06, tolerance: 223712019258.84488\n",
      "  positive)\n"
     ]
    },
    {
     "name": "stderr",
     "output_type": "stream",
     "text": [
      "C:\\Users\\ANU\\Anaconda3\\lib\\site-packages\\sklearn\\linear_model\\coordinate_descent.py:475: ConvergenceWarning: Objective did not converge. You might want to increase the number of iterations. Duality gap: 56494850968110.06, tolerance: 223712019258.84488\n",
      "  positive)\n",
      "C:\\Users\\ANU\\Anaconda3\\lib\\site-packages\\sklearn\\linear_model\\coordinate_descent.py:475: ConvergenceWarning: Objective did not converge. You might want to increase the number of iterations. Duality gap: 56494900994599.875, tolerance: 223712019258.84488\n",
      "  positive)\n",
      "C:\\Users\\ANU\\Anaconda3\\lib\\site-packages\\sklearn\\linear_model\\coordinate_descent.py:475: ConvergenceWarning: Objective did not converge. You might want to increase the number of iterations. Duality gap: 56494951019967.875, tolerance: 223712019258.84488\n",
      "  positive)\n",
      "C:\\Users\\ANU\\Anaconda3\\lib\\site-packages\\sklearn\\linear_model\\coordinate_descent.py:475: ConvergenceWarning: Objective did not converge. You might want to increase the number of iterations. Duality gap: 56495001043210.0, tolerance: 223712019258.84488\n",
      "  positive)\n",
      "C:\\Users\\ANU\\Anaconda3\\lib\\site-packages\\sklearn\\linear_model\\coordinate_descent.py:475: ConvergenceWarning: Objective did not converge. You might want to increase the number of iterations. Duality gap: 56495051063752.875, tolerance: 223712019258.84488\n",
      "  positive)\n",
      "C:\\Users\\ANU\\Anaconda3\\lib\\site-packages\\sklearn\\linear_model\\coordinate_descent.py:475: ConvergenceWarning: Objective did not converge. You might want to increase the number of iterations. Duality gap: 56495101082600.875, tolerance: 223712019258.84488\n",
      "  positive)\n",
      "C:\\Users\\ANU\\Anaconda3\\lib\\site-packages\\sklearn\\linear_model\\coordinate_descent.py:475: ConvergenceWarning: Objective did not converge. You might want to increase the number of iterations. Duality gap: 56495151100507.06, tolerance: 223712019258.84488\n",
      "  positive)\n",
      "C:\\Users\\ANU\\Anaconda3\\lib\\site-packages\\sklearn\\linear_model\\coordinate_descent.py:475: ConvergenceWarning: Objective did not converge. You might want to increase the number of iterations. Duality gap: 56495201113949.5, tolerance: 223712019258.84488\n",
      "  positive)\n",
      "C:\\Users\\ANU\\Anaconda3\\lib\\site-packages\\sklearn\\linear_model\\coordinate_descent.py:475: ConvergenceWarning: Objective did not converge. You might want to increase the number of iterations. Duality gap: 56495251126866.875, tolerance: 223712019258.84488\n",
      "  positive)\n",
      "C:\\Users\\ANU\\Anaconda3\\lib\\site-packages\\sklearn\\linear_model\\coordinate_descent.py:475: ConvergenceWarning: Objective did not converge. You might want to increase the number of iterations. Duality gap: 56495301136812.75, tolerance: 223712019258.84488\n",
      "  positive)\n",
      "C:\\Users\\ANU\\Anaconda3\\lib\\site-packages\\sklearn\\linear_model\\coordinate_descent.py:475: ConvergenceWarning: Objective did not converge. You might want to increase the number of iterations. Duality gap: 56495351144768.81, tolerance: 223712019258.84488\n",
      "  positive)\n",
      "C:\\Users\\ANU\\Anaconda3\\lib\\site-packages\\sklearn\\linear_model\\coordinate_descent.py:475: ConvergenceWarning: Objective did not converge. You might want to increase the number of iterations. Duality gap: 56495401151149.19, tolerance: 223712019258.84488\n",
      "  positive)\n",
      "C:\\Users\\ANU\\Anaconda3\\lib\\site-packages\\sklearn\\linear_model\\coordinate_descent.py:475: ConvergenceWarning: Objective did not converge. You might want to increase the number of iterations. Duality gap: 56495451155043.19, tolerance: 223712019258.84488\n",
      "  positive)\n",
      "C:\\Users\\ANU\\Anaconda3\\lib\\site-packages\\sklearn\\linear_model\\coordinate_descent.py:475: ConvergenceWarning: Objective did not converge. You might want to increase the number of iterations. Duality gap: 56495501155926.125, tolerance: 223712019258.84488\n",
      "  positive)\n",
      "C:\\Users\\ANU\\Anaconda3\\lib\\site-packages\\sklearn\\linear_model\\coordinate_descent.py:475: ConvergenceWarning: Objective did not converge. You might want to increase the number of iterations. Duality gap: 56495551155804.0, tolerance: 223712019258.84488\n",
      "  positive)\n",
      "C:\\Users\\ANU\\Anaconda3\\lib\\site-packages\\sklearn\\linear_model\\coordinate_descent.py:475: ConvergenceWarning: Objective did not converge. You might want to increase the number of iterations. Duality gap: 56495601153110.75, tolerance: 223712019258.84488\n",
      "  positive)\n",
      "C:\\Users\\ANU\\Anaconda3\\lib\\site-packages\\sklearn\\linear_model\\coordinate_descent.py:475: ConvergenceWarning: Objective did not converge. You might want to increase the number of iterations. Duality gap: 56495651148897.0, tolerance: 223712019258.84488\n",
      "  positive)\n",
      "C:\\Users\\ANU\\Anaconda3\\lib\\site-packages\\sklearn\\linear_model\\coordinate_descent.py:475: ConvergenceWarning: Objective did not converge. You might want to increase the number of iterations. Duality gap: 56495701142399.81, tolerance: 223712019258.84488\n",
      "  positive)\n",
      "C:\\Users\\ANU\\Anaconda3\\lib\\site-packages\\sklearn\\linear_model\\coordinate_descent.py:475: ConvergenceWarning: Objective did not converge. You might want to increase the number of iterations. Duality gap: 56495751133880.75, tolerance: 223712019258.84488\n",
      "  positive)\n",
      "C:\\Users\\ANU\\Anaconda3\\lib\\site-packages\\sklearn\\linear_model\\coordinate_descent.py:475: ConvergenceWarning: Objective did not converge. You might want to increase the number of iterations. Duality gap: 56495801122683.94, tolerance: 223712019258.84488\n",
      "  positive)\n",
      "C:\\Users\\ANU\\Anaconda3\\lib\\site-packages\\sklearn\\linear_model\\coordinate_descent.py:475: ConvergenceWarning: Objective did not converge. You might want to increase the number of iterations. Duality gap: 56495851109745.69, tolerance: 223712019258.84488\n",
      "  positive)\n",
      "C:\\Users\\ANU\\Anaconda3\\lib\\site-packages\\sklearn\\linear_model\\coordinate_descent.py:475: ConvergenceWarning: Objective did not converge. You might want to increase the number of iterations. Duality gap: 56495901094308.625, tolerance: 223712019258.84488\n",
      "  positive)\n",
      "C:\\Users\\ANU\\Anaconda3\\lib\\site-packages\\sklearn\\linear_model\\coordinate_descent.py:475: ConvergenceWarning: Objective did not converge. You might want to increase the number of iterations. Duality gap: 56495951077231.25, tolerance: 223712019258.84488\n",
      "  positive)\n",
      "C:\\Users\\ANU\\Anaconda3\\lib\\site-packages\\sklearn\\linear_model\\coordinate_descent.py:475: ConvergenceWarning: Objective did not converge. You might want to increase the number of iterations. Duality gap: 56496001057575.5, tolerance: 223712019258.84488\n",
      "  positive)\n",
      "C:\\Users\\ANU\\Anaconda3\\lib\\site-packages\\sklearn\\linear_model\\coordinate_descent.py:475: ConvergenceWarning: Objective did not converge. You might want to increase the number of iterations. Duality gap: 56496051035515.56, tolerance: 223712019258.84488\n",
      "  positive)\n",
      "C:\\Users\\ANU\\Anaconda3\\lib\\site-packages\\sklearn\\linear_model\\coordinate_descent.py:475: ConvergenceWarning: Objective did not converge. You might want to increase the number of iterations. Duality gap: 56496101012256.44, tolerance: 223712019258.84488\n",
      "  positive)\n",
      "C:\\Users\\ANU\\Anaconda3\\lib\\site-packages\\sklearn\\linear_model\\coordinate_descent.py:475: ConvergenceWarning: Objective did not converge. You might want to increase the number of iterations. Duality gap: 56496150986671.94, tolerance: 223712019258.84488\n",
      "  positive)\n",
      "C:\\Users\\ANU\\Anaconda3\\lib\\site-packages\\sklearn\\linear_model\\coordinate_descent.py:475: ConvergenceWarning: Objective did not converge. You might want to increase the number of iterations. Duality gap: 56496200959296.44, tolerance: 223712019258.84488\n",
      "  positive)\n",
      "C:\\Users\\ANU\\Anaconda3\\lib\\site-packages\\sklearn\\linear_model\\coordinate_descent.py:475: ConvergenceWarning: Objective did not converge. You might want to increase the number of iterations. Duality gap: 56496250928673.31, tolerance: 223712019258.84488\n",
      "  positive)\n",
      "C:\\Users\\ANU\\Anaconda3\\lib\\site-packages\\sklearn\\linear_model\\coordinate_descent.py:475: ConvergenceWarning: Objective did not converge. You might want to increase the number of iterations. Duality gap: 56496300896878.75, tolerance: 223712019258.84488\n",
      "  positive)\n",
      "C:\\Users\\ANU\\Anaconda3\\lib\\site-packages\\sklearn\\linear_model\\coordinate_descent.py:475: ConvergenceWarning: Objective did not converge. You might want to increase the number of iterations. Duality gap: 56496350862031.56, tolerance: 223712019258.84488\n",
      "  positive)\n",
      "C:\\Users\\ANU\\Anaconda3\\lib\\site-packages\\sklearn\\linear_model\\coordinate_descent.py:475: ConvergenceWarning: Objective did not converge. You might want to increase the number of iterations. Duality gap: 56496400825859.06, tolerance: 223712019258.84488\n",
      "  positive)\n"
     ]
    },
    {
     "name": "stderr",
     "output_type": "stream",
     "text": [
      "C:\\Users\\ANU\\Anaconda3\\lib\\site-packages\\sklearn\\linear_model\\coordinate_descent.py:475: ConvergenceWarning: Objective did not converge. You might want to increase the number of iterations. Duality gap: 56496450787669.125, tolerance: 223712019258.84488\n",
      "  positive)\n",
      "C:\\Users\\ANU\\Anaconda3\\lib\\site-packages\\sklearn\\linear_model\\coordinate_descent.py:475: ConvergenceWarning: Objective did not converge. You might want to increase the number of iterations. Duality gap: 56496500746916.06, tolerance: 223712019258.84488\n",
      "  positive)\n",
      "C:\\Users\\ANU\\Anaconda3\\lib\\site-packages\\sklearn\\linear_model\\coordinate_descent.py:475: ConvergenceWarning: Objective did not converge. You might want to increase the number of iterations. Duality gap: 56496550704424.0, tolerance: 223712019258.84488\n",
      "  positive)\n",
      "C:\\Users\\ANU\\Anaconda3\\lib\\site-packages\\sklearn\\linear_model\\coordinate_descent.py:475: ConvergenceWarning: Objective did not converge. You might want to increase the number of iterations. Duality gap: 56496600658705.81, tolerance: 223712019258.84488\n",
      "  positive)\n",
      "C:\\Users\\ANU\\Anaconda3\\lib\\site-packages\\sklearn\\linear_model\\coordinate_descent.py:475: ConvergenceWarning: Objective did not converge. You might want to increase the number of iterations. Duality gap: 56496650612192.5, tolerance: 223712019258.84488\n",
      "  positive)\n",
      "C:\\Users\\ANU\\Anaconda3\\lib\\site-packages\\sklearn\\linear_model\\coordinate_descent.py:475: ConvergenceWarning: Objective did not converge. You might want to increase the number of iterations. Duality gap: 56496700563163.0, tolerance: 223712019258.84488\n",
      "  positive)\n",
      "C:\\Users\\ANU\\Anaconda3\\lib\\site-packages\\sklearn\\linear_model\\coordinate_descent.py:475: ConvergenceWarning: Objective did not converge. You might want to increase the number of iterations. Duality gap: 56496750511899.125, tolerance: 223712019258.84488\n",
      "  positive)\n",
      "C:\\Users\\ANU\\Anaconda3\\lib\\site-packages\\sklearn\\linear_model\\coordinate_descent.py:475: ConvergenceWarning: Objective did not converge. You might want to increase the number of iterations. Duality gap: 56496800458220.44, tolerance: 223712019258.84488\n",
      "  positive)\n",
      "C:\\Users\\ANU\\Anaconda3\\lib\\site-packages\\sklearn\\linear_model\\coordinate_descent.py:475: ConvergenceWarning: Objective did not converge. You might want to increase the number of iterations. Duality gap: 56496850402511.56, tolerance: 223712019258.84488\n",
      "  positive)\n",
      "C:\\Users\\ANU\\Anaconda3\\lib\\site-packages\\sklearn\\linear_model\\coordinate_descent.py:475: ConvergenceWarning: Objective did not converge. You might want to increase the number of iterations. Duality gap: 56496900345542.81, tolerance: 223712019258.84488\n",
      "  positive)\n",
      "C:\\Users\\ANU\\Anaconda3\\lib\\site-packages\\sklearn\\linear_model\\coordinate_descent.py:475: ConvergenceWarning: Objective did not converge. You might want to increase the number of iterations. Duality gap: 56496950285409.56, tolerance: 223712019258.84488\n",
      "  positive)\n",
      "C:\\Users\\ANU\\Anaconda3\\lib\\site-packages\\sklearn\\linear_model\\coordinate_descent.py:475: ConvergenceWarning: Objective did not converge. You might want to increase the number of iterations. Duality gap: 56497000223923.06, tolerance: 223712019258.84488\n",
      "  positive)\n",
      "C:\\Users\\ANU\\Anaconda3\\lib\\site-packages\\sklearn\\linear_model\\coordinate_descent.py:475: ConvergenceWarning: Objective did not converge. You might want to increase the number of iterations. Duality gap: 56497050159700.56, tolerance: 223712019258.84488\n",
      "  positive)\n",
      "C:\\Users\\ANU\\Anaconda3\\lib\\site-packages\\sklearn\\linear_model\\coordinate_descent.py:475: ConvergenceWarning: Objective did not converge. You might want to increase the number of iterations. Duality gap: 56497100093742.375, tolerance: 223712019258.84488\n",
      "  positive)\n",
      "C:\\Users\\ANU\\Anaconda3\\lib\\site-packages\\sklearn\\linear_model\\coordinate_descent.py:475: ConvergenceWarning: Objective did not converge. You might want to increase the number of iterations. Duality gap: 56497150026047.25, tolerance: 223712019258.84488\n",
      "  positive)\n",
      "C:\\Users\\ANU\\Anaconda3\\lib\\site-packages\\sklearn\\linear_model\\coordinate_descent.py:475: ConvergenceWarning: Objective did not converge. You might want to increase the number of iterations. Duality gap: 56497199955331.75, tolerance: 223712019258.84488\n",
      "  positive)\n",
      "C:\\Users\\ANU\\Anaconda3\\lib\\site-packages\\sklearn\\linear_model\\coordinate_descent.py:475: ConvergenceWarning: Objective did not converge. You might want to increase the number of iterations. Duality gap: 56497249882869.0, tolerance: 223712019258.84488\n",
      "  positive)\n",
      "C:\\Users\\ANU\\Anaconda3\\lib\\site-packages\\sklearn\\linear_model\\coordinate_descent.py:475: ConvergenceWarning: Objective did not converge. You might want to increase the number of iterations. Duality gap: 56497299808623.625, tolerance: 223712019258.84488\n",
      "  positive)\n",
      "C:\\Users\\ANU\\Anaconda3\\lib\\site-packages\\sklearn\\linear_model\\coordinate_descent.py:475: ConvergenceWarning: Objective did not converge. You might want to increase the number of iterations. Duality gap: 56497349731563.81, tolerance: 223712019258.84488\n",
      "  positive)\n",
      "C:\\Users\\ANU\\Anaconda3\\lib\\site-packages\\sklearn\\linear_model\\coordinate_descent.py:475: ConvergenceWarning: Objective did not converge. You might want to increase the number of iterations. Duality gap: 56497399653275.5, tolerance: 223712019258.84488\n",
      "  positive)\n",
      "C:\\Users\\ANU\\Anaconda3\\lib\\site-packages\\sklearn\\linear_model\\coordinate_descent.py:475: ConvergenceWarning: Objective did not converge. You might want to increase the number of iterations. Duality gap: 56497449571994.75, tolerance: 223712019258.84488\n",
      "  positive)\n",
      "C:\\Users\\ANU\\Anaconda3\\lib\\site-packages\\sklearn\\linear_model\\coordinate_descent.py:475: ConvergenceWarning: Objective did not converge. You might want to increase the number of iterations. Duality gap: 56497499488550.19, tolerance: 223712019258.84488\n",
      "  positive)\n",
      "C:\\Users\\ANU\\Anaconda3\\lib\\site-packages\\sklearn\\linear_model\\coordinate_descent.py:475: ConvergenceWarning: Objective did not converge. You might want to increase the number of iterations. Duality gap: 56497549403988.69, tolerance: 223712019258.84488\n",
      "  positive)\n",
      "C:\\Users\\ANU\\Anaconda3\\lib\\site-packages\\sklearn\\linear_model\\coordinate_descent.py:475: ConvergenceWarning: Objective did not converge. You might want to increase the number of iterations. Duality gap: 56497599316721.375, tolerance: 223712019258.84488\n",
      "  positive)\n",
      "C:\\Users\\ANU\\Anaconda3\\lib\\site-packages\\sklearn\\linear_model\\coordinate_descent.py:475: ConvergenceWarning: Objective did not converge. You might want to increase the number of iterations. Duality gap: 56497649227251.19, tolerance: 223712019258.84488\n",
      "  positive)\n",
      "C:\\Users\\ANU\\Anaconda3\\lib\\site-packages\\sklearn\\linear_model\\coordinate_descent.py:475: ConvergenceWarning: Objective did not converge. You might want to increase the number of iterations. Duality gap: 56497699136271.0, tolerance: 223712019258.84488\n",
      "  positive)\n",
      "C:\\Users\\ANU\\Anaconda3\\lib\\site-packages\\sklearn\\linear_model\\coordinate_descent.py:475: ConvergenceWarning: Objective did not converge. You might want to increase the number of iterations. Duality gap: 56497749042156.0, tolerance: 223712019258.84488\n",
      "  positive)\n",
      "C:\\Users\\ANU\\Anaconda3\\lib\\site-packages\\sklearn\\linear_model\\coordinate_descent.py:475: ConvergenceWarning: Objective did not converge. You might want to increase the number of iterations. Duality gap: 56497798946969.625, tolerance: 223712019258.84488\n",
      "  positive)\n",
      "C:\\Users\\ANU\\Anaconda3\\lib\\site-packages\\sklearn\\linear_model\\coordinate_descent.py:475: ConvergenceWarning: Objective did not converge. You might want to increase the number of iterations. Duality gap: 56497848849075.875, tolerance: 223712019258.84488\n",
      "  positive)\n",
      "C:\\Users\\ANU\\Anaconda3\\lib\\site-packages\\sklearn\\linear_model\\coordinate_descent.py:475: ConvergenceWarning: Objective did not converge. You might want to increase the number of iterations. Duality gap: 56497898748888.19, tolerance: 223712019258.84488\n",
      "  positive)\n",
      "C:\\Users\\ANU\\Anaconda3\\lib\\site-packages\\sklearn\\linear_model\\coordinate_descent.py:475: ConvergenceWarning: Objective did not converge. You might want to increase the number of iterations. Duality gap: 56497948646756.875, tolerance: 223712019258.84488\n",
      "  positive)\n",
      "C:\\Users\\ANU\\Anaconda3\\lib\\site-packages\\sklearn\\linear_model\\coordinate_descent.py:475: ConvergenceWarning: Objective did not converge. You might want to increase the number of iterations. Duality gap: 56497998542802.69, tolerance: 223712019258.84488\n",
      "  positive)\n"
     ]
    },
    {
     "name": "stderr",
     "output_type": "stream",
     "text": [
      "C:\\Users\\ANU\\Anaconda3\\lib\\site-packages\\sklearn\\linear_model\\coordinate_descent.py:475: ConvergenceWarning: Objective did not converge. You might want to increase the number of iterations. Duality gap: 56498048436359.94, tolerance: 223712019258.84488\n",
      "  positive)\n",
      "C:\\Users\\ANU\\Anaconda3\\lib\\site-packages\\sklearn\\linear_model\\coordinate_descent.py:475: ConvergenceWarning: Objective did not converge. You might want to increase the number of iterations. Duality gap: 56498098328200.75, tolerance: 223712019258.84488\n",
      "  positive)\n",
      "C:\\Users\\ANU\\Anaconda3\\lib\\site-packages\\sklearn\\linear_model\\coordinate_descent.py:475: ConvergenceWarning: Objective did not converge. You might want to increase the number of iterations. Duality gap: 56498148217780.625, tolerance: 223712019258.84488\n",
      "  positive)\n",
      "C:\\Users\\ANU\\Anaconda3\\lib\\site-packages\\sklearn\\linear_model\\coordinate_descent.py:475: ConvergenceWarning: Objective did not converge. You might want to increase the number of iterations. Duality gap: 56498198104931.31, tolerance: 223712019258.84488\n",
      "  positive)\n",
      "C:\\Users\\ANU\\Anaconda3\\lib\\site-packages\\sklearn\\linear_model\\coordinate_descent.py:475: ConvergenceWarning: Objective did not converge. You might want to increase the number of iterations. Duality gap: 56498247990119.56, tolerance: 223712019258.84488\n",
      "  positive)\n",
      "C:\\Users\\ANU\\Anaconda3\\lib\\site-packages\\sklearn\\linear_model\\coordinate_descent.py:475: ConvergenceWarning: Objective did not converge. You might want to increase the number of iterations. Duality gap: 56498297874022.0, tolerance: 223712019258.84488\n",
      "  positive)\n",
      "C:\\Users\\ANU\\Anaconda3\\lib\\site-packages\\sklearn\\linear_model\\coordinate_descent.py:475: ConvergenceWarning: Objective did not converge. You might want to increase the number of iterations. Duality gap: 56498347754293.625, tolerance: 223712019258.84488\n",
      "  positive)\n",
      "C:\\Users\\ANU\\Anaconda3\\lib\\site-packages\\sklearn\\linear_model\\coordinate_descent.py:475: ConvergenceWarning: Objective did not converge. You might want to increase the number of iterations. Duality gap: 56498397633502.81, tolerance: 223712019258.84488\n",
      "  positive)\n",
      "C:\\Users\\ANU\\Anaconda3\\lib\\site-packages\\sklearn\\linear_model\\coordinate_descent.py:475: ConvergenceWarning: Objective did not converge. You might want to increase the number of iterations. Duality gap: 56498447510258.31, tolerance: 223712019258.84488\n",
      "  positive)\n",
      "C:\\Users\\ANU\\Anaconda3\\lib\\site-packages\\sklearn\\linear_model\\coordinate_descent.py:475: ConvergenceWarning: Objective did not converge. You might want to increase the number of iterations. Duality gap: 56498497384937.94, tolerance: 223712019258.84488\n",
      "  positive)\n",
      "C:\\Users\\ANU\\Anaconda3\\lib\\site-packages\\sklearn\\linear_model\\coordinate_descent.py:475: ConvergenceWarning: Objective did not converge. You might want to increase the number of iterations. Duality gap: 56498547257159.94, tolerance: 223712019258.84488\n",
      "  positive)\n",
      "C:\\Users\\ANU\\Anaconda3\\lib\\site-packages\\sklearn\\linear_model\\coordinate_descent.py:475: ConvergenceWarning: Objective did not converge. You might want to increase the number of iterations. Duality gap: 56498597128250.06, tolerance: 223712019258.84488\n",
      "  positive)\n",
      "C:\\Users\\ANU\\Anaconda3\\lib\\site-packages\\sklearn\\linear_model\\coordinate_descent.py:475: ConvergenceWarning: Objective did not converge. You might want to increase the number of iterations. Duality gap: 56498646996335.125, tolerance: 223712019258.84488\n",
      "  positive)\n",
      "C:\\Users\\ANU\\Anaconda3\\lib\\site-packages\\sklearn\\linear_model\\coordinate_descent.py:475: ConvergenceWarning: Objective did not converge. You might want to increase the number of iterations. Duality gap: 56498696862493.75, tolerance: 223712019258.84488\n",
      "  positive)\n",
      "C:\\Users\\ANU\\Anaconda3\\lib\\site-packages\\sklearn\\linear_model\\coordinate_descent.py:475: ConvergenceWarning: Objective did not converge. You might want to increase the number of iterations. Duality gap: 56498746726500.375, tolerance: 223712019258.84488\n",
      "  positive)\n",
      "C:\\Users\\ANU\\Anaconda3\\lib\\site-packages\\sklearn\\linear_model\\coordinate_descent.py:475: ConvergenceWarning: Objective did not converge. You might want to increase the number of iterations. Duality gap: 56498796588597.06, tolerance: 223712019258.84488\n",
      "  positive)\n",
      "C:\\Users\\ANU\\Anaconda3\\lib\\site-packages\\sklearn\\linear_model\\coordinate_descent.py:475: ConvergenceWarning: Objective did not converge. You might want to increase the number of iterations. Duality gap: 56498846448919.19, tolerance: 223712019258.84488\n",
      "  positive)\n",
      "C:\\Users\\ANU\\Anaconda3\\lib\\site-packages\\sklearn\\linear_model\\coordinate_descent.py:475: ConvergenceWarning: Objective did not converge. You might want to increase the number of iterations. Duality gap: 56498896306229.94, tolerance: 223712019258.84488\n",
      "  positive)\n",
      "C:\\Users\\ANU\\Anaconda3\\lib\\site-packages\\sklearn\\linear_model\\coordinate_descent.py:475: ConvergenceWarning: Objective did not converge. You might want to increase the number of iterations. Duality gap: 56498946162118.81, tolerance: 223712019258.84488\n",
      "  positive)\n",
      "C:\\Users\\ANU\\Anaconda3\\lib\\site-packages\\sklearn\\linear_model\\coordinate_descent.py:475: ConvergenceWarning: Objective did not converge. You might want to increase the number of iterations. Duality gap: 56498996015790.19, tolerance: 223712019258.84488\n",
      "  positive)\n",
      "C:\\Users\\ANU\\Anaconda3\\lib\\site-packages\\sklearn\\linear_model\\coordinate_descent.py:475: ConvergenceWarning: Objective did not converge. You might want to increase the number of iterations. Duality gap: 56499045867295.25, tolerance: 223712019258.84488\n",
      "  positive)\n",
      "C:\\Users\\ANU\\Anaconda3\\lib\\site-packages\\sklearn\\linear_model\\coordinate_descent.py:475: ConvergenceWarning: Objective did not converge. You might want to increase the number of iterations. Duality gap: 56499095715564.25, tolerance: 223712019258.84488\n",
      "  positive)\n",
      "C:\\Users\\ANU\\Anaconda3\\lib\\site-packages\\sklearn\\linear_model\\coordinate_descent.py:475: ConvergenceWarning: Objective did not converge. You might want to increase the number of iterations. Duality gap: 56499145563348.56, tolerance: 223712019258.84488\n",
      "  positive)\n",
      "C:\\Users\\ANU\\Anaconda3\\lib\\site-packages\\sklearn\\linear_model\\coordinate_descent.py:475: ConvergenceWarning: Objective did not converge. You might want to increase the number of iterations. Duality gap: 56499195407861.81, tolerance: 223712019258.84488\n",
      "  positive)\n",
      "C:\\Users\\ANU\\Anaconda3\\lib\\site-packages\\sklearn\\linear_model\\coordinate_descent.py:475: ConvergenceWarning: Objective did not converge. You might want to increase the number of iterations. Duality gap: 56499245251816.625, tolerance: 223712019258.84488\n",
      "  positive)\n",
      "C:\\Users\\ANU\\Anaconda3\\lib\\site-packages\\sklearn\\linear_model\\coordinate_descent.py:475: ConvergenceWarning: Objective did not converge. You might want to increase the number of iterations. Duality gap: 56499295092578.625, tolerance: 223712019258.84488\n",
      "  positive)\n",
      "C:\\Users\\ANU\\Anaconda3\\lib\\site-packages\\sklearn\\linear_model\\coordinate_descent.py:475: ConvergenceWarning: Objective did not converge. You might want to increase the number of iterations. Duality gap: 56499344931572.06, tolerance: 223712019258.84488\n",
      "  positive)\n",
      "C:\\Users\\ANU\\Anaconda3\\lib\\site-packages\\sklearn\\linear_model\\coordinate_descent.py:475: ConvergenceWarning: Objective did not converge. You might want to increase the number of iterations. Duality gap: 56499394767491.69, tolerance: 223712019258.84488\n",
      "  positive)\n",
      "C:\\Users\\ANU\\Anaconda3\\lib\\site-packages\\sklearn\\linear_model\\coordinate_descent.py:475: ConvergenceWarning: Objective did not converge. You might want to increase the number of iterations. Duality gap: 56499444602360.25, tolerance: 223712019258.84488\n",
      "  positive)\n",
      "C:\\Users\\ANU\\Anaconda3\\lib\\site-packages\\sklearn\\linear_model\\coordinate_descent.py:475: ConvergenceWarning: Objective did not converge. You might want to increase the number of iterations. Duality gap: 56499494434559.875, tolerance: 223712019258.84488\n",
      "  positive)\n",
      "C:\\Users\\ANU\\Anaconda3\\lib\\site-packages\\sklearn\\linear_model\\coordinate_descent.py:475: ConvergenceWarning: Objective did not converge. You might want to increase the number of iterations. Duality gap: 56499544264698.5, tolerance: 223712019258.84488\n",
      "  positive)\n",
      "C:\\Users\\ANU\\Anaconda3\\lib\\site-packages\\sklearn\\linear_model\\coordinate_descent.py:475: ConvergenceWarning: Objective did not converge. You might want to increase the number of iterations. Duality gap: 56499594093132.875, tolerance: 223712019258.84488\n",
      "  positive)\n"
     ]
    },
    {
     "name": "stderr",
     "output_type": "stream",
     "text": [
      "C:\\Users\\ANU\\Anaconda3\\lib\\site-packages\\sklearn\\linear_model\\coordinate_descent.py:475: ConvergenceWarning: Objective did not converge. You might want to increase the number of iterations. Duality gap: 56499643919662.69, tolerance: 223712019258.84488\n",
      "  positive)\n",
      "C:\\Users\\ANU\\Anaconda3\\lib\\site-packages\\sklearn\\linear_model\\coordinate_descent.py:475: ConvergenceWarning: Objective did not converge. You might want to increase the number of iterations. Duality gap: 56499693743426.81, tolerance: 223712019258.84488\n",
      "  positive)\n",
      "C:\\Users\\ANU\\Anaconda3\\lib\\site-packages\\sklearn\\linear_model\\coordinate_descent.py:475: ConvergenceWarning: Objective did not converge. You might want to increase the number of iterations. Duality gap: 56499743564991.625, tolerance: 223712019258.84488\n",
      "  positive)\n",
      "C:\\Users\\ANU\\Anaconda3\\lib\\site-packages\\sklearn\\linear_model\\coordinate_descent.py:475: ConvergenceWarning: Objective did not converge. You might want to increase the number of iterations. Duality gap: 56499793385675.31, tolerance: 223712019258.84488\n",
      "  positive)\n",
      "C:\\Users\\ANU\\Anaconda3\\lib\\site-packages\\sklearn\\linear_model\\coordinate_descent.py:475: ConvergenceWarning: Objective did not converge. You might want to increase the number of iterations. Duality gap: 56499843202403.06, tolerance: 223712019258.84488\n",
      "  positive)\n",
      "C:\\Users\\ANU\\Anaconda3\\lib\\site-packages\\sklearn\\linear_model\\coordinate_descent.py:475: ConvergenceWarning: Objective did not converge. You might want to increase the number of iterations. Duality gap: 56499893018637.06, tolerance: 223712019258.84488\n",
      "  positive)\n",
      "C:\\Users\\ANU\\Anaconda3\\lib\\site-packages\\sklearn\\linear_model\\coordinate_descent.py:475: ConvergenceWarning: Objective did not converge. You might want to increase the number of iterations. Duality gap: 56499942830960.31, tolerance: 223712019258.84488\n",
      "  positive)\n",
      "C:\\Users\\ANU\\Anaconda3\\lib\\site-packages\\sklearn\\linear_model\\coordinate_descent.py:475: ConvergenceWarning: Objective did not converge. You might want to increase the number of iterations. Duality gap: 56499992643046.625, tolerance: 223712019258.84488\n",
      "  positive)\n",
      "C:\\Users\\ANU\\Anaconda3\\lib\\site-packages\\sklearn\\linear_model\\coordinate_descent.py:475: ConvergenceWarning: Objective did not converge. You might want to increase the number of iterations. Duality gap: 56500042451673.06, tolerance: 223712019258.84488\n",
      "  positive)\n",
      "C:\\Users\\ANU\\Anaconda3\\lib\\site-packages\\sklearn\\linear_model\\coordinate_descent.py:475: ConvergenceWarning: Objective did not converge. You might want to increase the number of iterations. Duality gap: 56500092259489.875, tolerance: 223712019258.84488\n",
      "  positive)\n",
      "C:\\Users\\ANU\\Anaconda3\\lib\\site-packages\\sklearn\\linear_model\\coordinate_descent.py:475: ConvergenceWarning: Objective did not converge. You might want to increase the number of iterations. Duality gap: 56500142064140.375, tolerance: 223712019258.84488\n",
      "  positive)\n",
      "C:\\Users\\ANU\\Anaconda3\\lib\\site-packages\\sklearn\\linear_model\\coordinate_descent.py:475: ConvergenceWarning: Objective did not converge. You might want to increase the number of iterations. Duality gap: 56500191867287.94, tolerance: 223712019258.84488\n",
      "  positive)\n",
      "C:\\Users\\ANU\\Anaconda3\\lib\\site-packages\\sklearn\\linear_model\\coordinate_descent.py:475: ConvergenceWarning: Objective did not converge. You might want to increase the number of iterations. Duality gap: 56500241668156.94, tolerance: 223712019258.84488\n",
      "  positive)\n",
      "C:\\Users\\ANU\\Anaconda3\\lib\\site-packages\\sklearn\\linear_model\\coordinate_descent.py:475: ConvergenceWarning: Objective did not converge. You might want to increase the number of iterations. Duality gap: 56500291466161.69, tolerance: 223712019258.84488\n",
      "  positive)\n",
      "C:\\Users\\ANU\\Anaconda3\\lib\\site-packages\\sklearn\\linear_model\\coordinate_descent.py:475: ConvergenceWarning: Objective did not converge. You might want to increase the number of iterations. Duality gap: 56500341263320.81, tolerance: 223712019258.84488\n",
      "  positive)\n",
      "C:\\Users\\ANU\\Anaconda3\\lib\\site-packages\\sklearn\\linear_model\\coordinate_descent.py:475: ConvergenceWarning: Objective did not converge. You might want to increase the number of iterations. Duality gap: 56500391057647.19, tolerance: 223712019258.84488\n",
      "  positive)\n",
      "C:\\Users\\ANU\\Anaconda3\\lib\\site-packages\\sklearn\\linear_model\\coordinate_descent.py:475: ConvergenceWarning: Objective did not converge. You might want to increase the number of iterations. Duality gap: 56500440849949.5, tolerance: 223712019258.84488\n",
      "  positive)\n",
      "C:\\Users\\ANU\\Anaconda3\\lib\\site-packages\\sklearn\\linear_model\\coordinate_descent.py:475: ConvergenceWarning: Objective did not converge. You might want to increase the number of iterations. Duality gap: 56500490639585.5, tolerance: 223712019258.84488\n",
      "  positive)\n",
      "C:\\Users\\ANU\\Anaconda3\\lib\\site-packages\\sklearn\\linear_model\\coordinate_descent.py:475: ConvergenceWarning: Objective did not converge. You might want to increase the number of iterations. Duality gap: 56500540428063.06, tolerance: 223712019258.84488\n",
      "  positive)\n",
      "C:\\Users\\ANU\\Anaconda3\\lib\\site-packages\\sklearn\\linear_model\\coordinate_descent.py:475: ConvergenceWarning: Objective did not converge. You might want to increase the number of iterations. Duality gap: 56500590213946.25, tolerance: 223712019258.84488\n",
      "  positive)\n",
      "C:\\Users\\ANU\\Anaconda3\\lib\\site-packages\\sklearn\\linear_model\\coordinate_descent.py:475: ConvergenceWarning: Objective did not converge. You might want to increase the number of iterations. Duality gap: 56500639997251.625, tolerance: 223712019258.84488\n",
      "  positive)\n",
      "C:\\Users\\ANU\\Anaconda3\\lib\\site-packages\\sklearn\\linear_model\\coordinate_descent.py:475: ConvergenceWarning: Objective did not converge. You might want to increase the number of iterations. Duality gap: 56500689779632.94, tolerance: 223712019258.84488\n",
      "  positive)\n",
      "C:\\Users\\ANU\\Anaconda3\\lib\\site-packages\\sklearn\\linear_model\\coordinate_descent.py:475: ConvergenceWarning: Objective did not converge. You might want to increase the number of iterations. Duality gap: 56500739559221.125, tolerance: 223712019258.84488\n",
      "  positive)\n",
      "C:\\Users\\ANU\\Anaconda3\\lib\\site-packages\\sklearn\\linear_model\\coordinate_descent.py:475: ConvergenceWarning: Objective did not converge. You might want to increase the number of iterations. Duality gap: 56500789336478.5, tolerance: 223712019258.84488\n",
      "  positive)\n",
      "C:\\Users\\ANU\\Anaconda3\\lib\\site-packages\\sklearn\\linear_model\\coordinate_descent.py:475: ConvergenceWarning: Objective did not converge. You might want to increase the number of iterations. Duality gap: 56500839111716.75, tolerance: 223712019258.84488\n",
      "  positive)\n",
      "C:\\Users\\ANU\\Anaconda3\\lib\\site-packages\\sklearn\\linear_model\\coordinate_descent.py:475: ConvergenceWarning: Objective did not converge. You might want to increase the number of iterations. Duality gap: 56500888885712.375, tolerance: 223712019258.84488\n",
      "  positive)\n",
      "C:\\Users\\ANU\\Anaconda3\\lib\\site-packages\\sklearn\\linear_model\\coordinate_descent.py:475: ConvergenceWarning: Objective did not converge. You might want to increase the number of iterations. Duality gap: 56500938656120.44, tolerance: 223712019258.84488\n",
      "  positive)\n",
      "C:\\Users\\ANU\\Anaconda3\\lib\\site-packages\\sklearn\\linear_model\\coordinate_descent.py:475: ConvergenceWarning: Objective did not converge. You might want to increase the number of iterations. Duality gap: 56500988425256.56, tolerance: 223712019258.84488\n",
      "  positive)\n",
      "C:\\Users\\ANU\\Anaconda3\\lib\\site-packages\\sklearn\\linear_model\\coordinate_descent.py:475: ConvergenceWarning: Objective did not converge. You might want to increase the number of iterations. Duality gap: 56501038192931.375, tolerance: 223712019258.84488\n",
      "  positive)\n",
      "C:\\Users\\ANU\\Anaconda3\\lib\\site-packages\\sklearn\\linear_model\\coordinate_descent.py:475: ConvergenceWarning: Objective did not converge. You might want to increase the number of iterations. Duality gap: 56501087957093.81, tolerance: 223712019258.84488\n",
      "  positive)\n",
      "C:\\Users\\ANU\\Anaconda3\\lib\\site-packages\\sklearn\\linear_model\\coordinate_descent.py:475: ConvergenceWarning: Objective did not converge. You might want to increase the number of iterations. Duality gap: 56501137720379.19, tolerance: 223712019258.84488\n",
      "  positive)\n",
      "C:\\Users\\ANU\\Anaconda3\\lib\\site-packages\\sklearn\\linear_model\\coordinate_descent.py:475: ConvergenceWarning: Objective did not converge. You might want to increase the number of iterations. Duality gap: 56501187481239.0, tolerance: 223712019258.84488\n",
      "  positive)\n"
     ]
    },
    {
     "name": "stderr",
     "output_type": "stream",
     "text": [
      "C:\\Users\\ANU\\Anaconda3\\lib\\site-packages\\sklearn\\linear_model\\coordinate_descent.py:475: ConvergenceWarning: Objective did not converge. You might want to increase the number of iterations. Duality gap: 56501237239176.5, tolerance: 223712019258.84488\n",
      "  positive)\n",
      "C:\\Users\\ANU\\Anaconda3\\lib\\site-packages\\sklearn\\linear_model\\coordinate_descent.py:475: ConvergenceWarning: Objective did not converge. You might want to increase the number of iterations. Duality gap: 56501286996051.625, tolerance: 223712019258.84488\n",
      "  positive)\n",
      "C:\\Users\\ANU\\Anaconda3\\lib\\site-packages\\sklearn\\linear_model\\coordinate_descent.py:475: ConvergenceWarning: Objective did not converge. You might want to increase the number of iterations. Duality gap: 56501336749682.31, tolerance: 223712019258.84488\n",
      "  positive)\n",
      "C:\\Users\\ANU\\Anaconda3\\lib\\site-packages\\sklearn\\linear_model\\coordinate_descent.py:475: ConvergenceWarning: Objective did not converge. You might want to increase the number of iterations. Duality gap: 56501386503433.44, tolerance: 223712019258.84488\n",
      "  positive)\n",
      "C:\\Users\\ANU\\Anaconda3\\lib\\site-packages\\sklearn\\linear_model\\coordinate_descent.py:475: ConvergenceWarning: Objective did not converge. You might want to increase the number of iterations. Duality gap: 56501436252501.5, tolerance: 223712019258.84488\n",
      "  positive)\n",
      "C:\\Users\\ANU\\Anaconda3\\lib\\site-packages\\sklearn\\linear_model\\coordinate_descent.py:475: ConvergenceWarning: Objective did not converge. You might want to increase the number of iterations. Duality gap: 56501486000261.69, tolerance: 223712019258.84488\n",
      "  positive)\n",
      "C:\\Users\\ANU\\Anaconda3\\lib\\site-packages\\sklearn\\linear_model\\coordinate_descent.py:475: ConvergenceWarning: Objective did not converge. You might want to increase the number of iterations. Duality gap: 56501535746694.44, tolerance: 223712019258.84488\n",
      "  positive)\n",
      "C:\\Users\\ANU\\Anaconda3\\lib\\site-packages\\sklearn\\linear_model\\coordinate_descent.py:475: ConvergenceWarning: Objective did not converge. You might want to increase the number of iterations. Duality gap: 56501585490576.69, tolerance: 223712019258.84488\n",
      "  positive)\n",
      "C:\\Users\\ANU\\Anaconda3\\lib\\site-packages\\sklearn\\linear_model\\coordinate_descent.py:475: ConvergenceWarning: Objective did not converge. You might want to increase the number of iterations. Duality gap: 56501635231519.0, tolerance: 223712019258.84488\n",
      "  positive)\n",
      "C:\\Users\\ANU\\Anaconda3\\lib\\site-packages\\sklearn\\linear_model\\coordinate_descent.py:475: ConvergenceWarning: Objective did not converge. You might want to increase the number of iterations. Duality gap: 56501684970861.81, tolerance: 223712019258.84488\n",
      "  positive)\n",
      "C:\\Users\\ANU\\Anaconda3\\lib\\site-packages\\sklearn\\linear_model\\coordinate_descent.py:475: ConvergenceWarning: Objective did not converge. You might want to increase the number of iterations. Duality gap: 56501734708504.5, tolerance: 223712019258.84488\n",
      "  positive)\n",
      "C:\\Users\\ANU\\Anaconda3\\lib\\site-packages\\sklearn\\linear_model\\coordinate_descent.py:475: ConvergenceWarning: Objective did not converge. You might want to increase the number of iterations. Duality gap: 56501784444453.375, tolerance: 223712019258.84488\n",
      "  positive)\n",
      "C:\\Users\\ANU\\Anaconda3\\lib\\site-packages\\sklearn\\linear_model\\coordinate_descent.py:475: ConvergenceWarning: Objective did not converge. You might want to increase the number of iterations. Duality gap: 56501834177449.75, tolerance: 223712019258.84488\n",
      "  positive)\n",
      "C:\\Users\\ANU\\Anaconda3\\lib\\site-packages\\sklearn\\linear_model\\coordinate_descent.py:475: ConvergenceWarning: Objective did not converge. You might want to increase the number of iterations. Duality gap: 56501883908315.125, tolerance: 223712019258.84488\n",
      "  positive)\n",
      "C:\\Users\\ANU\\Anaconda3\\lib\\site-packages\\sklearn\\linear_model\\coordinate_descent.py:475: ConvergenceWarning: Objective did not converge. You might want to increase the number of iterations. Duality gap: 56501933637674.94, tolerance: 223712019258.84488\n",
      "  positive)\n",
      "C:\\Users\\ANU\\Anaconda3\\lib\\site-packages\\sklearn\\linear_model\\coordinate_descent.py:475: ConvergenceWarning: Objective did not converge. You might want to increase the number of iterations. Duality gap: 56501983364573.56, tolerance: 223712019258.84488\n",
      "  positive)\n",
      "C:\\Users\\ANU\\Anaconda3\\lib\\site-packages\\sklearn\\linear_model\\coordinate_descent.py:475: ConvergenceWarning: Objective did not converge. You might want to increase the number of iterations. Duality gap: 56502033089130.375, tolerance: 223712019258.84488\n",
      "  positive)\n",
      "C:\\Users\\ANU\\Anaconda3\\lib\\site-packages\\sklearn\\linear_model\\coordinate_descent.py:475: ConvergenceWarning: Objective did not converge. You might want to increase the number of iterations. Duality gap: 56502082811133.06, tolerance: 223712019258.84488\n",
      "  positive)\n",
      "C:\\Users\\ANU\\Anaconda3\\lib\\site-packages\\sklearn\\linear_model\\coordinate_descent.py:475: ConvergenceWarning: Objective did not converge. You might want to increase the number of iterations. Duality gap: 56502132532208.69, tolerance: 223712019258.84488\n",
      "  positive)\n",
      "C:\\Users\\ANU\\Anaconda3\\lib\\site-packages\\sklearn\\linear_model\\coordinate_descent.py:475: ConvergenceWarning: Objective did not converge. You might want to increase the number of iterations. Duality gap: 56502182250672.75, tolerance: 223712019258.84488\n",
      "  positive)\n",
      "C:\\Users\\ANU\\Anaconda3\\lib\\site-packages\\sklearn\\linear_model\\coordinate_descent.py:475: ConvergenceWarning: Objective did not converge. You might want to increase the number of iterations. Duality gap: 56502231967196.75, tolerance: 223712019258.84488\n",
      "  positive)\n",
      "C:\\Users\\ANU\\Anaconda3\\lib\\site-packages\\sklearn\\linear_model\\coordinate_descent.py:475: ConvergenceWarning: Objective did not converge. You might want to increase the number of iterations. Duality gap: 56502281681363.31, tolerance: 223712019258.84488\n",
      "  positive)\n",
      "C:\\Users\\ANU\\Anaconda3\\lib\\site-packages\\sklearn\\linear_model\\coordinate_descent.py:475: ConvergenceWarning: Objective did not converge. You might want to increase the number of iterations. Duality gap: 56502331393438.375, tolerance: 223712019258.84488\n",
      "  positive)\n",
      "C:\\Users\\ANU\\Anaconda3\\lib\\site-packages\\sklearn\\linear_model\\coordinate_descent.py:475: ConvergenceWarning: Objective did not converge. You might want to increase the number of iterations. Duality gap: 56502381103368.0, tolerance: 223712019258.84488\n",
      "  positive)\n",
      "C:\\Users\\ANU\\Anaconda3\\lib\\site-packages\\sklearn\\linear_model\\coordinate_descent.py:475: ConvergenceWarning: Objective did not converge. You might want to increase the number of iterations. Duality gap: 56502430811624.06, tolerance: 223712019258.84488\n",
      "  positive)\n",
      "C:\\Users\\ANU\\Anaconda3\\lib\\site-packages\\sklearn\\linear_model\\coordinate_descent.py:475: ConvergenceWarning: Objective did not converge. You might want to increase the number of iterations. Duality gap: 56502480516991.625, tolerance: 223712019258.84488\n",
      "  positive)\n",
      "C:\\Users\\ANU\\Anaconda3\\lib\\site-packages\\sklearn\\linear_model\\coordinate_descent.py:475: ConvergenceWarning: Objective did not converge. You might want to increase the number of iterations. Duality gap: 56502530220603.75, tolerance: 223712019258.84488\n",
      "  positive)\n",
      "C:\\Users\\ANU\\Anaconda3\\lib\\site-packages\\sklearn\\linear_model\\coordinate_descent.py:475: ConvergenceWarning: Objective did not converge. You might want to increase the number of iterations. Duality gap: 56502579922278.0, tolerance: 223712019258.84488\n",
      "  positive)\n",
      "C:\\Users\\ANU\\Anaconda3\\lib\\site-packages\\sklearn\\linear_model\\coordinate_descent.py:475: ConvergenceWarning: Objective did not converge. You might want to increase the number of iterations. Duality gap: 56502629622142.625, tolerance: 223712019258.84488\n",
      "  positive)\n",
      "C:\\Users\\ANU\\Anaconda3\\lib\\site-packages\\sklearn\\linear_model\\coordinate_descent.py:475: ConvergenceWarning: Objective did not converge. You might want to increase the number of iterations. Duality gap: 56502679319275.06, tolerance: 223712019258.84488\n",
      "  positive)\n",
      "C:\\Users\\ANU\\Anaconda3\\lib\\site-packages\\sklearn\\linear_model\\coordinate_descent.py:475: ConvergenceWarning: Objective did not converge. You might want to increase the number of iterations. Duality gap: 56502729014418.75, tolerance: 223712019258.84488\n",
      "  positive)\n",
      "C:\\Users\\ANU\\Anaconda3\\lib\\site-packages\\sklearn\\linear_model\\coordinate_descent.py:475: ConvergenceWarning: Objective did not converge. You might want to increase the number of iterations. Duality gap: 56502778708040.375, tolerance: 223712019258.84488\n",
      "  positive)\n"
     ]
    },
    {
     "name": "stderr",
     "output_type": "stream",
     "text": [
      "C:\\Users\\ANU\\Anaconda3\\lib\\site-packages\\sklearn\\linear_model\\coordinate_descent.py:475: ConvergenceWarning: Objective did not converge. You might want to increase the number of iterations. Duality gap: 56502828398435.25, tolerance: 223712019258.84488\n",
      "  positive)\n",
      "C:\\Users\\ANU\\Anaconda3\\lib\\site-packages\\sklearn\\linear_model\\coordinate_descent.py:475: ConvergenceWarning: Objective did not converge. You might want to increase the number of iterations. Duality gap: 56502878087555.06, tolerance: 223712019258.84488\n",
      "  positive)\n",
      "C:\\Users\\ANU\\Anaconda3\\lib\\site-packages\\sklearn\\linear_model\\coordinate_descent.py:475: ConvergenceWarning: Objective did not converge. You might want to increase the number of iterations. Duality gap: 56502927774992.5, tolerance: 223712019258.84488\n",
      "  positive)\n",
      "C:\\Users\\ANU\\Anaconda3\\lib\\site-packages\\sklearn\\linear_model\\coordinate_descent.py:475: ConvergenceWarning: Objective did not converge. You might want to increase the number of iterations. Duality gap: 56502977459515.375, tolerance: 223712019258.84488\n",
      "  positive)\n",
      "C:\\Users\\ANU\\Anaconda3\\lib\\site-packages\\sklearn\\linear_model\\coordinate_descent.py:475: ConvergenceWarning: Objective did not converge. You might want to increase the number of iterations. Duality gap: 56503027141697.75, tolerance: 223712019258.84488\n",
      "  positive)\n",
      "C:\\Users\\ANU\\Anaconda3\\lib\\site-packages\\sklearn\\linear_model\\coordinate_descent.py:475: ConvergenceWarning: Objective did not converge. You might want to increase the number of iterations. Duality gap: 56503076822085.75, tolerance: 223712019258.84488\n",
      "  positive)\n",
      "C:\\Users\\ANU\\Anaconda3\\lib\\site-packages\\sklearn\\linear_model\\coordinate_descent.py:475: ConvergenceWarning: Objective did not converge. You might want to increase the number of iterations. Duality gap: 56503126500564.94, tolerance: 223712019258.84488\n",
      "  positive)\n",
      "C:\\Users\\ANU\\Anaconda3\\lib\\site-packages\\sklearn\\linear_model\\coordinate_descent.py:475: ConvergenceWarning: Objective did not converge. You might want to increase the number of iterations. Duality gap: 56503176176943.69, tolerance: 223712019258.84488\n",
      "  positive)\n",
      "C:\\Users\\ANU\\Anaconda3\\lib\\site-packages\\sklearn\\linear_model\\coordinate_descent.py:475: ConvergenceWarning: Objective did not converge. You might want to increase the number of iterations. Duality gap: 56503225850678.69, tolerance: 223712019258.84488\n",
      "  positive)\n",
      "C:\\Users\\ANU\\Anaconda3\\lib\\site-packages\\sklearn\\linear_model\\coordinate_descent.py:475: ConvergenceWarning: Objective did not converge. You might want to increase the number of iterations. Duality gap: 56503275522819.375, tolerance: 223712019258.84488\n",
      "  positive)\n",
      "C:\\Users\\ANU\\Anaconda3\\lib\\site-packages\\sklearn\\linear_model\\coordinate_descent.py:475: ConvergenceWarning: Objective did not converge. You might want to increase the number of iterations. Duality gap: 56503325193493.875, tolerance: 223712019258.84488\n",
      "  positive)\n",
      "C:\\Users\\ANU\\Anaconda3\\lib\\site-packages\\sklearn\\linear_model\\coordinate_descent.py:475: ConvergenceWarning: Objective did not converge. You might want to increase the number of iterations. Duality gap: 56503374861261.75, tolerance: 223712019258.84488\n",
      "  positive)\n",
      "C:\\Users\\ANU\\Anaconda3\\lib\\site-packages\\sklearn\\linear_model\\coordinate_descent.py:475: ConvergenceWarning: Objective did not converge. You might want to increase the number of iterations. Duality gap: 56503424526633.56, tolerance: 223712019258.84488\n",
      "  positive)\n",
      "C:\\Users\\ANU\\Anaconda3\\lib\\site-packages\\sklearn\\linear_model\\coordinate_descent.py:475: ConvergenceWarning: Objective did not converge. You might want to increase the number of iterations. Duality gap: 56503474190110.31, tolerance: 223712019258.84488\n",
      "  positive)\n",
      "C:\\Users\\ANU\\Anaconda3\\lib\\site-packages\\sklearn\\linear_model\\coordinate_descent.py:475: ConvergenceWarning: Objective did not converge. You might want to increase the number of iterations. Duality gap: 56503523852146.69, tolerance: 223712019258.84488\n",
      "  positive)\n",
      "C:\\Users\\ANU\\Anaconda3\\lib\\site-packages\\sklearn\\linear_model\\coordinate_descent.py:475: ConvergenceWarning: Objective did not converge. You might want to increase the number of iterations. Duality gap: 56503573511252.0, tolerance: 223712019258.84488\n",
      "  positive)\n",
      "C:\\Users\\ANU\\Anaconda3\\lib\\site-packages\\sklearn\\linear_model\\coordinate_descent.py:475: ConvergenceWarning: Objective did not converge. You might want to increase the number of iterations. Duality gap: 56503623168937.875, tolerance: 223712019258.84488\n",
      "  positive)\n",
      "C:\\Users\\ANU\\Anaconda3\\lib\\site-packages\\sklearn\\linear_model\\coordinate_descent.py:475: ConvergenceWarning: Objective did not converge. You might want to increase the number of iterations. Duality gap: 56503672823822.25, tolerance: 223712019258.84488\n",
      "  positive)\n",
      "C:\\Users\\ANU\\Anaconda3\\lib\\site-packages\\sklearn\\linear_model\\coordinate_descent.py:475: ConvergenceWarning: Objective did not converge. You might want to increase the number of iterations. Duality gap: 56503722476807.44, tolerance: 223712019258.84488\n",
      "  positive)\n",
      "C:\\Users\\ANU\\Anaconda3\\lib\\site-packages\\sklearn\\linear_model\\coordinate_descent.py:475: ConvergenceWarning: Objective did not converge. You might want to increase the number of iterations. Duality gap: 56503772128409.875, tolerance: 223712019258.84488\n",
      "  positive)\n",
      "C:\\Users\\ANU\\Anaconda3\\lib\\site-packages\\sklearn\\linear_model\\coordinate_descent.py:475: ConvergenceWarning: Objective did not converge. You might want to increase the number of iterations. Duality gap: 56503821777001.56, tolerance: 223712019258.84488\n",
      "  positive)\n",
      "C:\\Users\\ANU\\Anaconda3\\lib\\site-packages\\sklearn\\linear_model\\coordinate_descent.py:475: ConvergenceWarning: Objective did not converge. You might want to increase the number of iterations. Duality gap: 56503871423790.94, tolerance: 223712019258.84488\n",
      "  positive)\n",
      "C:\\Users\\ANU\\Anaconda3\\lib\\site-packages\\sklearn\\linear_model\\coordinate_descent.py:475: ConvergenceWarning: Objective did not converge. You might want to increase the number of iterations. Duality gap: 56503921068398.875, tolerance: 223712019258.84488\n",
      "  positive)\n",
      "C:\\Users\\ANU\\Anaconda3\\lib\\site-packages\\sklearn\\linear_model\\coordinate_descent.py:475: ConvergenceWarning: Objective did not converge. You might want to increase the number of iterations. Duality gap: 56503970710966.19, tolerance: 223712019258.84488\n",
      "  positive)\n",
      "C:\\Users\\ANU\\Anaconda3\\lib\\site-packages\\sklearn\\linear_model\\coordinate_descent.py:475: ConvergenceWarning: Objective did not converge. You might want to increase the number of iterations. Duality gap: 56504020351675.125, tolerance: 223712019258.84488\n",
      "  positive)\n",
      "C:\\Users\\ANU\\Anaconda3\\lib\\site-packages\\sklearn\\linear_model\\coordinate_descent.py:475: ConvergenceWarning: Objective did not converge. You might want to increase the number of iterations. Duality gap: 56504069989965.25, tolerance: 223712019258.84488\n",
      "  positive)\n",
      "C:\\Users\\ANU\\Anaconda3\\lib\\site-packages\\sklearn\\linear_model\\coordinate_descent.py:475: ConvergenceWarning: Objective did not converge. You might want to increase the number of iterations. Duality gap: 56504119625902.94, tolerance: 223712019258.84488\n",
      "  positive)\n",
      "C:\\Users\\ANU\\Anaconda3\\lib\\site-packages\\sklearn\\linear_model\\coordinate_descent.py:475: ConvergenceWarning: Objective did not converge. You might want to increase the number of iterations. Duality gap: 56504169260344.56, tolerance: 223712019258.84488\n",
      "  positive)\n",
      "C:\\Users\\ANU\\Anaconda3\\lib\\site-packages\\sklearn\\linear_model\\coordinate_descent.py:475: ConvergenceWarning: Objective did not converge. You might want to increase the number of iterations. Duality gap: 56504218892019.81, tolerance: 223712019258.84488\n",
      "  positive)\n",
      "C:\\Users\\ANU\\Anaconda3\\lib\\site-packages\\sklearn\\linear_model\\coordinate_descent.py:475: ConvergenceWarning: Objective did not converge. You might want to increase the number of iterations. Duality gap: 56504268522011.125, tolerance: 223712019258.84488\n",
      "  positive)\n",
      "C:\\Users\\ANU\\Anaconda3\\lib\\site-packages\\sklearn\\linear_model\\coordinate_descent.py:475: ConvergenceWarning: Objective did not converge. You might want to increase the number of iterations. Duality gap: 56504318149351.31, tolerance: 223712019258.84488\n",
      "  positive)\n",
      "C:\\Users\\ANU\\Anaconda3\\lib\\site-packages\\sklearn\\linear_model\\coordinate_descent.py:475: ConvergenceWarning: Objective did not converge. You might want to increase the number of iterations. Duality gap: 56504367775612.94, tolerance: 223712019258.84488\n",
      "  positive)\n"
     ]
    },
    {
     "name": "stderr",
     "output_type": "stream",
     "text": [
      "C:\\Users\\ANU\\Anaconda3\\lib\\site-packages\\sklearn\\linear_model\\coordinate_descent.py:475: ConvergenceWarning: Objective did not converge. You might want to increase the number of iterations. Duality gap: 56504417399284.625, tolerance: 223712019258.84488\n",
      "  positive)\n",
      "C:\\Users\\ANU\\Anaconda3\\lib\\site-packages\\sklearn\\linear_model\\coordinate_descent.py:475: ConvergenceWarning: Objective did not converge. You might want to increase the number of iterations. Duality gap: 56504467020622.69, tolerance: 223712019258.84488\n",
      "  positive)\n",
      "C:\\Users\\ANU\\Anaconda3\\lib\\site-packages\\sklearn\\linear_model\\coordinate_descent.py:475: ConvergenceWarning: Objective did not converge. You might want to increase the number of iterations. Duality gap: 56504516640243.875, tolerance: 223712019258.84488\n",
      "  positive)\n",
      "C:\\Users\\ANU\\Anaconda3\\lib\\site-packages\\sklearn\\linear_model\\coordinate_descent.py:475: ConvergenceWarning: Objective did not converge. You might want to increase the number of iterations. Duality gap: 56504566257531.625, tolerance: 223712019258.84488\n",
      "  positive)\n",
      "C:\\Users\\ANU\\Anaconda3\\lib\\site-packages\\sklearn\\linear_model\\coordinate_descent.py:475: ConvergenceWarning: Objective did not converge. You might want to increase the number of iterations. Duality gap: 56504615872188.31, tolerance: 223712019258.84488\n",
      "  positive)\n",
      "C:\\Users\\ANU\\Anaconda3\\lib\\site-packages\\sklearn\\linear_model\\coordinate_descent.py:475: ConvergenceWarning: Objective did not converge. You might want to increase the number of iterations. Duality gap: 56504665486077.5, tolerance: 223712019258.84488\n",
      "  positive)\n",
      "C:\\Users\\ANU\\Anaconda3\\lib\\site-packages\\sklearn\\linear_model\\coordinate_descent.py:475: ConvergenceWarning: Objective did not converge. You might want to increase the number of iterations. Duality gap: 56504715096468.0, tolerance: 223712019258.84488\n",
      "  positive)\n",
      "C:\\Users\\ANU\\Anaconda3\\lib\\site-packages\\sklearn\\linear_model\\coordinate_descent.py:475: ConvergenceWarning: Objective did not converge. You might want to increase the number of iterations. Duality gap: 56504764705452.75, tolerance: 223712019258.84488\n",
      "  positive)\n",
      "C:\\Users\\ANU\\Anaconda3\\lib\\site-packages\\sklearn\\linear_model\\coordinate_descent.py:475: ConvergenceWarning: Objective did not converge. You might want to increase the number of iterations. Duality gap: 56504814312286.875, tolerance: 223712019258.84488\n",
      "  positive)\n",
      "C:\\Users\\ANU\\Anaconda3\\lib\\site-packages\\sklearn\\linear_model\\coordinate_descent.py:475: ConvergenceWarning: Objective did not converge. You might want to increase the number of iterations. Duality gap: 56504863916813.94, tolerance: 223712019258.84488\n",
      "  positive)\n",
      "C:\\Users\\ANU\\Anaconda3\\lib\\site-packages\\sklearn\\linear_model\\coordinate_descent.py:475: ConvergenceWarning: Objective did not converge. You might want to increase the number of iterations. Duality gap: 56504913519470.56, tolerance: 223712019258.84488\n",
      "  positive)\n",
      "C:\\Users\\ANU\\Anaconda3\\lib\\site-packages\\sklearn\\linear_model\\coordinate_descent.py:475: ConvergenceWarning: Objective did not converge. You might want to increase the number of iterations. Duality gap: 56504963120093.06, tolerance: 223712019258.84488\n",
      "  positive)\n",
      "C:\\Users\\ANU\\Anaconda3\\lib\\site-packages\\sklearn\\linear_model\\coordinate_descent.py:475: ConvergenceWarning: Objective did not converge. You might want to increase the number of iterations. Duality gap: 56505012718394.25, tolerance: 223712019258.84488\n",
      "  positive)\n",
      "C:\\Users\\ANU\\Anaconda3\\lib\\site-packages\\sklearn\\linear_model\\coordinate_descent.py:475: ConvergenceWarning: Objective did not converge. You might want to increase the number of iterations. Duality gap: 56505062314206.75, tolerance: 223712019258.84488\n",
      "  positive)\n",
      "C:\\Users\\ANU\\Anaconda3\\lib\\site-packages\\sklearn\\linear_model\\coordinate_descent.py:475: ConvergenceWarning: Objective did not converge. You might want to increase the number of iterations. Duality gap: 56505111908661.81, tolerance: 223712019258.84488\n",
      "  positive)\n",
      "C:\\Users\\ANU\\Anaconda3\\lib\\site-packages\\sklearn\\linear_model\\coordinate_descent.py:475: ConvergenceWarning: Objective did not converge. You might want to increase the number of iterations. Duality gap: 56505161500432.69, tolerance: 223712019258.84488\n",
      "  positive)\n",
      "C:\\Users\\ANU\\Anaconda3\\lib\\site-packages\\sklearn\\linear_model\\coordinate_descent.py:475: ConvergenceWarning: Objective did not converge. You might want to increase the number of iterations. Duality gap: 56505211090124.19, tolerance: 223712019258.84488\n",
      "  positive)\n",
      "C:\\Users\\ANU\\Anaconda3\\lib\\site-packages\\sklearn\\linear_model\\coordinate_descent.py:475: ConvergenceWarning: Objective did not converge. You might want to increase the number of iterations. Duality gap: 56505260678001.5, tolerance: 223712019258.84488\n",
      "  positive)\n",
      "C:\\Users\\ANU\\Anaconda3\\lib\\site-packages\\sklearn\\linear_model\\coordinate_descent.py:475: ConvergenceWarning: Objective did not converge. You might want to increase the number of iterations. Duality gap: 56505310263688.5, tolerance: 223712019258.84488\n",
      "  positive)\n",
      "C:\\Users\\ANU\\Anaconda3\\lib\\site-packages\\sklearn\\linear_model\\coordinate_descent.py:475: ConvergenceWarning: Objective did not converge. You might want to increase the number of iterations. Duality gap: 56505359847046.94, tolerance: 223712019258.84488\n",
      "  positive)\n",
      "C:\\Users\\ANU\\Anaconda3\\lib\\site-packages\\sklearn\\linear_model\\coordinate_descent.py:475: ConvergenceWarning: Objective did not converge. You might want to increase the number of iterations. Duality gap: 56505409428717.0, tolerance: 223712019258.84488\n",
      "  positive)\n",
      "C:\\Users\\ANU\\Anaconda3\\lib\\site-packages\\sklearn\\linear_model\\coordinate_descent.py:475: ConvergenceWarning: Objective did not converge. You might want to increase the number of iterations. Duality gap: 56505459007873.25, tolerance: 223712019258.84488\n",
      "  positive)\n",
      "C:\\Users\\ANU\\Anaconda3\\lib\\site-packages\\sklearn\\linear_model\\coordinate_descent.py:475: ConvergenceWarning: Objective did not converge. You might want to increase the number of iterations. Duality gap: 56505508585936.875, tolerance: 223712019258.84488\n",
      "  positive)\n",
      "C:\\Users\\ANU\\Anaconda3\\lib\\site-packages\\sklearn\\linear_model\\coordinate_descent.py:475: ConvergenceWarning: Objective did not converge. You might want to increase the number of iterations. Duality gap: 56505558160728.875, tolerance: 223712019258.84488\n",
      "  positive)\n",
      "C:\\Users\\ANU\\Anaconda3\\lib\\site-packages\\sklearn\\linear_model\\coordinate_descent.py:475: ConvergenceWarning: Objective did not converge. You might want to increase the number of iterations. Duality gap: 56505607733870.56, tolerance: 223712019258.84488\n",
      "  positive)\n",
      "C:\\Users\\ANU\\Anaconda3\\lib\\site-packages\\sklearn\\linear_model\\coordinate_descent.py:475: ConvergenceWarning: Objective did not converge. You might want to increase the number of iterations. Duality gap: 56505657304710.375, tolerance: 223712019258.84488\n",
      "  positive)\n",
      "C:\\Users\\ANU\\Anaconda3\\lib\\site-packages\\sklearn\\linear_model\\coordinate_descent.py:475: ConvergenceWarning: Objective did not converge. You might want to increase the number of iterations. Duality gap: 56505706873739.25, tolerance: 223712019258.84488\n",
      "  positive)\n",
      "C:\\Users\\ANU\\Anaconda3\\lib\\site-packages\\sklearn\\linear_model\\coordinate_descent.py:475: ConvergenceWarning: Objective did not converge. You might want to increase the number of iterations. Duality gap: 56505756440205.875, tolerance: 223712019258.84488\n",
      "  positive)\n",
      "C:\\Users\\ANU\\Anaconda3\\lib\\site-packages\\sklearn\\linear_model\\coordinate_descent.py:475: ConvergenceWarning: Objective did not converge. You might want to increase the number of iterations. Duality gap: 56505806004399.875, tolerance: 223712019258.84488\n",
      "  positive)\n",
      "C:\\Users\\ANU\\Anaconda3\\lib\\site-packages\\sklearn\\linear_model\\coordinate_descent.py:475: ConvergenceWarning: Objective did not converge. You might want to increase the number of iterations. Duality gap: 56505855567454.56, tolerance: 223712019258.84488\n",
      "  positive)\n",
      "C:\\Users\\ANU\\Anaconda3\\lib\\site-packages\\sklearn\\linear_model\\coordinate_descent.py:475: ConvergenceWarning: Objective did not converge. You might want to increase the number of iterations. Duality gap: 56505905128092.81, tolerance: 223712019258.84488\n",
      "  positive)\n",
      "C:\\Users\\ANU\\Anaconda3\\lib\\site-packages\\sklearn\\linear_model\\coordinate_descent.py:475: ConvergenceWarning: Objective did not converge. You might want to increase the number of iterations. Duality gap: 56505954685872.375, tolerance: 223712019258.84488\n",
      "  positive)\n"
     ]
    },
    {
     "name": "stderr",
     "output_type": "stream",
     "text": [
      "C:\\Users\\ANU\\Anaconda3\\lib\\site-packages\\sklearn\\linear_model\\coordinate_descent.py:475: ConvergenceWarning: Objective did not converge. You might want to increase the number of iterations. Duality gap: 56506004242122.0, tolerance: 223712019258.84488\n",
      "  positive)\n",
      "C:\\Users\\ANU\\Anaconda3\\lib\\site-packages\\sklearn\\linear_model\\coordinate_descent.py:475: ConvergenceWarning: Objective did not converge. You might want to increase the number of iterations. Duality gap: 56506053795854.625, tolerance: 223712019258.84488\n",
      "  positive)\n",
      "C:\\Users\\ANU\\Anaconda3\\lib\\site-packages\\sklearn\\linear_model\\coordinate_descent.py:475: ConvergenceWarning: Objective did not converge. You might want to increase the number of iterations. Duality gap: 56506103348530.25, tolerance: 223712019258.84488\n",
      "  positive)\n",
      "C:\\Users\\ANU\\Anaconda3\\lib\\site-packages\\sklearn\\linear_model\\coordinate_descent.py:475: ConvergenceWarning: Objective did not converge. You might want to increase the number of iterations. Duality gap: 56506152898334.94, tolerance: 223712019258.84488\n",
      "  positive)\n",
      "C:\\Users\\ANU\\Anaconda3\\lib\\site-packages\\sklearn\\linear_model\\coordinate_descent.py:475: ConvergenceWarning: Objective did not converge. You might want to increase the number of iterations. Duality gap: 56506202445650.56, tolerance: 223712019258.84488\n",
      "  positive)\n",
      "C:\\Users\\ANU\\Anaconda3\\lib\\site-packages\\sklearn\\linear_model\\coordinate_descent.py:475: ConvergenceWarning: Objective did not converge. You might want to increase the number of iterations. Duality gap: 56506251991644.625, tolerance: 223712019258.84488\n",
      "  positive)\n",
      "C:\\Users\\ANU\\Anaconda3\\lib\\site-packages\\sklearn\\linear_model\\coordinate_descent.py:475: ConvergenceWarning: Objective did not converge. You might want to increase the number of iterations. Duality gap: 56506301535515.06, tolerance: 223712019258.84488\n",
      "  positive)\n",
      "C:\\Users\\ANU\\Anaconda3\\lib\\site-packages\\sklearn\\linear_model\\coordinate_descent.py:475: ConvergenceWarning: Objective did not converge. You might want to increase the number of iterations. Duality gap: 56506351077080.75, tolerance: 223712019258.84488\n",
      "  positive)\n",
      "C:\\Users\\ANU\\Anaconda3\\lib\\site-packages\\sklearn\\linear_model\\coordinate_descent.py:475: ConvergenceWarning: Objective did not converge. You might want to increase the number of iterations. Duality gap: 56506400616241.625, tolerance: 223712019258.84488\n",
      "  positive)\n",
      "C:\\Users\\ANU\\Anaconda3\\lib\\site-packages\\sklearn\\linear_model\\coordinate_descent.py:475: ConvergenceWarning: Objective did not converge. You might want to increase the number of iterations. Duality gap: 56506450153424.94, tolerance: 223712019258.84488\n",
      "  positive)\n",
      "C:\\Users\\ANU\\Anaconda3\\lib\\site-packages\\sklearn\\linear_model\\coordinate_descent.py:475: ConvergenceWarning: Objective did not converge. You might want to increase the number of iterations. Duality gap: 56506499688867.94, tolerance: 223712019258.84488\n",
      "  positive)\n",
      "C:\\Users\\ANU\\Anaconda3\\lib\\site-packages\\sklearn\\linear_model\\coordinate_descent.py:475: ConvergenceWarning: Objective did not converge. You might want to increase the number of iterations. Duality gap: 56506549221458.56, tolerance: 223712019258.84488\n",
      "  positive)\n",
      "C:\\Users\\ANU\\Anaconda3\\lib\\site-packages\\sklearn\\linear_model\\coordinate_descent.py:475: ConvergenceWarning: Objective did not converge. You might want to increase the number of iterations. Duality gap: 56506598752744.25, tolerance: 223712019258.84488\n",
      "  positive)\n",
      "C:\\Users\\ANU\\Anaconda3\\lib\\site-packages\\sklearn\\linear_model\\coordinate_descent.py:475: ConvergenceWarning: Objective did not converge. You might want to increase the number of iterations. Duality gap: 56506648281008.375, tolerance: 223712019258.84488\n",
      "  positive)\n",
      "C:\\Users\\ANU\\Anaconda3\\lib\\site-packages\\sklearn\\linear_model\\coordinate_descent.py:475: ConvergenceWarning: Objective did not converge. You might want to increase the number of iterations. Duality gap: 56506697807635.375, tolerance: 223712019258.84488\n",
      "  positive)\n",
      "C:\\Users\\ANU\\Anaconda3\\lib\\site-packages\\sklearn\\linear_model\\coordinate_descent.py:475: ConvergenceWarning: Objective did not converge. You might want to increase the number of iterations. Duality gap: 56506747332571.06, tolerance: 223712019258.84488\n",
      "  positive)\n",
      "C:\\Users\\ANU\\Anaconda3\\lib\\site-packages\\sklearn\\linear_model\\coordinate_descent.py:475: ConvergenceWarning: Objective did not converge. You might want to increase the number of iterations. Duality gap: 56506796855160.375, tolerance: 223712019258.84488\n",
      "  positive)\n",
      "C:\\Users\\ANU\\Anaconda3\\lib\\site-packages\\sklearn\\linear_model\\coordinate_descent.py:475: ConvergenceWarning: Objective did not converge. You might want to increase the number of iterations. Duality gap: 56506846375511.75, tolerance: 223712019258.84488\n",
      "  positive)\n",
      "C:\\Users\\ANU\\Anaconda3\\lib\\site-packages\\sklearn\\linear_model\\coordinate_descent.py:475: ConvergenceWarning: Objective did not converge. You might want to increase the number of iterations. Duality gap: 56506895894054.81, tolerance: 223712019258.84488\n",
      "  positive)\n",
      "C:\\Users\\ANU\\Anaconda3\\lib\\site-packages\\sklearn\\linear_model\\coordinate_descent.py:475: ConvergenceWarning: Objective did not converge. You might want to increase the number of iterations. Duality gap: 56506945410092.0, tolerance: 223712019258.84488\n",
      "  positive)\n",
      "C:\\Users\\ANU\\Anaconda3\\lib\\site-packages\\sklearn\\linear_model\\coordinate_descent.py:475: ConvergenceWarning: Objective did not converge. You might want to increase the number of iterations. Duality gap: 56506994924205.56, tolerance: 223712019258.84488\n",
      "  positive)\n",
      "C:\\Users\\ANU\\Anaconda3\\lib\\site-packages\\sklearn\\linear_model\\coordinate_descent.py:475: ConvergenceWarning: Objective did not converge. You might want to increase the number of iterations. Duality gap: 56507044436314.19, tolerance: 223712019258.84488\n",
      "  positive)\n",
      "C:\\Users\\ANU\\Anaconda3\\lib\\site-packages\\sklearn\\linear_model\\coordinate_descent.py:475: ConvergenceWarning: Objective did not converge. You might want to increase the number of iterations. Duality gap: 56507093946173.31, tolerance: 223712019258.84488\n",
      "  positive)\n",
      "C:\\Users\\ANU\\Anaconda3\\lib\\site-packages\\sklearn\\linear_model\\coordinate_descent.py:475: ConvergenceWarning: Objective did not converge. You might want to increase the number of iterations. Duality gap: 56507143453924.81, tolerance: 223712019258.84488\n",
      "  positive)\n",
      "C:\\Users\\ANU\\Anaconda3\\lib\\site-packages\\sklearn\\linear_model\\coordinate_descent.py:475: ConvergenceWarning: Objective did not converge. You might want to increase the number of iterations. Duality gap: 56507192959738.75, tolerance: 223712019258.84488\n",
      "  positive)\n",
      "C:\\Users\\ANU\\Anaconda3\\lib\\site-packages\\sklearn\\linear_model\\coordinate_descent.py:475: ConvergenceWarning: Objective did not converge. You might want to increase the number of iterations. Duality gap: 56507242463405.69, tolerance: 223712019258.84488\n",
      "  positive)\n",
      "C:\\Users\\ANU\\Anaconda3\\lib\\site-packages\\sklearn\\linear_model\\coordinate_descent.py:475: ConvergenceWarning: Objective did not converge. You might want to increase the number of iterations. Duality gap: 56507291964724.25, tolerance: 223712019258.84488\n",
      "  positive)\n",
      "C:\\Users\\ANU\\Anaconda3\\lib\\site-packages\\sklearn\\linear_model\\coordinate_descent.py:475: ConvergenceWarning: Objective did not converge. You might want to increase the number of iterations. Duality gap: 56507341464236.06, tolerance: 223712019258.84488\n",
      "  positive)\n",
      "C:\\Users\\ANU\\Anaconda3\\lib\\site-packages\\sklearn\\linear_model\\coordinate_descent.py:475: ConvergenceWarning: Objective did not converge. You might want to increase the number of iterations. Duality gap: 56507390961296.0, tolerance: 223712019258.84488\n",
      "  positive)\n",
      "C:\\Users\\ANU\\Anaconda3\\lib\\site-packages\\sklearn\\linear_model\\coordinate_descent.py:475: ConvergenceWarning: Objective did not converge. You might want to increase the number of iterations. Duality gap: 56507440456389.0, tolerance: 223712019258.84488\n",
      "  positive)\n",
      "C:\\Users\\ANU\\Anaconda3\\lib\\site-packages\\sklearn\\linear_model\\coordinate_descent.py:475: ConvergenceWarning: Objective did not converge. You might want to increase the number of iterations. Duality gap: 56507489948766.56, tolerance: 223712019258.84488\n",
      "  positive)\n",
      "C:\\Users\\ANU\\Anaconda3\\lib\\site-packages\\sklearn\\linear_model\\coordinate_descent.py:475: ConvergenceWarning: Objective did not converge. You might want to increase the number of iterations. Duality gap: 56507539440288.19, tolerance: 223712019258.84488\n",
      "  positive)\n"
     ]
    },
    {
     "name": "stderr",
     "output_type": "stream",
     "text": [
      "C:\\Users\\ANU\\Anaconda3\\lib\\site-packages\\sklearn\\linear_model\\coordinate_descent.py:475: ConvergenceWarning: Objective did not converge. You might want to increase the number of iterations. Duality gap: 56507588929417.375, tolerance: 223712019258.84488\n",
      "  positive)\n",
      "C:\\Users\\ANU\\Anaconda3\\lib\\site-packages\\sklearn\\linear_model\\coordinate_descent.py:475: ConvergenceWarning: Objective did not converge. You might want to increase the number of iterations. Duality gap: 56507638415750.06, tolerance: 223712019258.84488\n",
      "  positive)\n",
      "C:\\Users\\ANU\\Anaconda3\\lib\\site-packages\\sklearn\\linear_model\\coordinate_descent.py:475: ConvergenceWarning: Objective did not converge. You might want to increase the number of iterations. Duality gap: 56507687900550.44, tolerance: 223712019258.84488\n",
      "  positive)\n",
      "C:\\Users\\ANU\\Anaconda3\\lib\\site-packages\\sklearn\\linear_model\\coordinate_descent.py:475: ConvergenceWarning: Objective did not converge. You might want to increase the number of iterations. Duality gap: 56507737383322.125, tolerance: 223712019258.84488\n",
      "  positive)\n",
      "C:\\Users\\ANU\\Anaconda3\\lib\\site-packages\\sklearn\\linear_model\\coordinate_descent.py:475: ConvergenceWarning: Objective did not converge. You might want to increase the number of iterations. Duality gap: 56507786863469.25, tolerance: 223712019258.84488\n",
      "  positive)\n",
      "C:\\Users\\ANU\\Anaconda3\\lib\\site-packages\\sklearn\\linear_model\\coordinate_descent.py:475: ConvergenceWarning: Objective did not converge. You might want to increase the number of iterations. Duality gap: 56507836341765.0, tolerance: 223712019258.84488\n",
      "  positive)\n",
      "C:\\Users\\ANU\\Anaconda3\\lib\\site-packages\\sklearn\\linear_model\\coordinate_descent.py:475: ConvergenceWarning: Objective did not converge. You might want to increase the number of iterations. Duality gap: 56507885818061.19, tolerance: 223712019258.84488\n",
      "  positive)\n",
      "C:\\Users\\ANU\\Anaconda3\\lib\\site-packages\\sklearn\\linear_model\\coordinate_descent.py:475: ConvergenceWarning: Objective did not converge. You might want to increase the number of iterations. Duality gap: 56507935292279.44, tolerance: 223712019258.84488\n",
      "  positive)\n",
      "C:\\Users\\ANU\\Anaconda3\\lib\\site-packages\\sklearn\\linear_model\\coordinate_descent.py:475: ConvergenceWarning: Objective did not converge. You might want to increase the number of iterations. Duality gap: 56507984764123.875, tolerance: 223712019258.84488\n",
      "  positive)\n",
      "C:\\Users\\ANU\\Anaconda3\\lib\\site-packages\\sklearn\\linear_model\\coordinate_descent.py:475: ConvergenceWarning: Objective did not converge. You might want to increase the number of iterations. Duality gap: 56508034233619.625, tolerance: 223712019258.84488\n",
      "  positive)\n",
      "C:\\Users\\ANU\\Anaconda3\\lib\\site-packages\\sklearn\\linear_model\\coordinate_descent.py:475: ConvergenceWarning: Objective did not converge. You might want to increase the number of iterations. Duality gap: 56508083701969.125, tolerance: 223712019258.84488\n",
      "  positive)\n",
      "C:\\Users\\ANU\\Anaconda3\\lib\\site-packages\\sklearn\\linear_model\\coordinate_descent.py:475: ConvergenceWarning: Objective did not converge. You might want to increase the number of iterations. Duality gap: 56508133167443.19, tolerance: 223712019258.84488\n",
      "  positive)\n",
      "C:\\Users\\ANU\\Anaconda3\\lib\\site-packages\\sklearn\\linear_model\\coordinate_descent.py:475: ConvergenceWarning: Objective did not converge. You might want to increase the number of iterations. Duality gap: 56508182630735.25, tolerance: 223712019258.84488\n",
      "  positive)\n",
      "C:\\Users\\ANU\\Anaconda3\\lib\\site-packages\\sklearn\\linear_model\\coordinate_descent.py:475: ConvergenceWarning: Objective did not converge. You might want to increase the number of iterations. Duality gap: 56508232092387.375, tolerance: 223712019258.84488\n",
      "  positive)\n",
      "C:\\Users\\ANU\\Anaconda3\\lib\\site-packages\\sklearn\\linear_model\\coordinate_descent.py:475: ConvergenceWarning: Objective did not converge. You might want to increase the number of iterations. Duality gap: 56508281551924.75, tolerance: 223712019258.84488\n",
      "  positive)\n",
      "C:\\Users\\ANU\\Anaconda3\\lib\\site-packages\\sklearn\\linear_model\\coordinate_descent.py:475: ConvergenceWarning: Objective did not converge. You might want to increase the number of iterations. Duality gap: 56508331008923.25, tolerance: 223712019258.84488\n",
      "  positive)\n",
      "C:\\Users\\ANU\\Anaconda3\\lib\\site-packages\\sklearn\\linear_model\\coordinate_descent.py:475: ConvergenceWarning: Objective did not converge. You might want to increase the number of iterations. Duality gap: 56508380464103.0, tolerance: 223712019258.84488\n",
      "  positive)\n",
      "C:\\Users\\ANU\\Anaconda3\\lib\\site-packages\\sklearn\\linear_model\\coordinate_descent.py:475: ConvergenceWarning: Objective did not converge. You might want to increase the number of iterations. Duality gap: 56508429917127.94, tolerance: 223712019258.84488\n",
      "  positive)\n",
      "C:\\Users\\ANU\\Anaconda3\\lib\\site-packages\\sklearn\\linear_model\\coordinate_descent.py:475: ConvergenceWarning: Objective did not converge. You might want to increase the number of iterations. Duality gap: 56508479368383.06, tolerance: 223712019258.84488\n",
      "  positive)\n",
      "C:\\Users\\ANU\\Anaconda3\\lib\\site-packages\\sklearn\\linear_model\\coordinate_descent.py:475: ConvergenceWarning: Objective did not converge. You might want to increase the number of iterations. Duality gap: 56508528816983.94, tolerance: 223712019258.84488\n",
      "  positive)\n",
      "C:\\Users\\ANU\\Anaconda3\\lib\\site-packages\\sklearn\\linear_model\\coordinate_descent.py:475: ConvergenceWarning: Objective did not converge. You might want to increase the number of iterations. Duality gap: 56508578263943.81, tolerance: 223712019258.84488\n",
      "  positive)\n",
      "C:\\Users\\ANU\\Anaconda3\\lib\\site-packages\\sklearn\\linear_model\\coordinate_descent.py:475: ConvergenceWarning: Objective did not converge. You might want to increase the number of iterations. Duality gap: 56508627708365.69, tolerance: 223712019258.84488\n",
      "  positive)\n",
      "C:\\Users\\ANU\\Anaconda3\\lib\\site-packages\\sklearn\\linear_model\\coordinate_descent.py:475: ConvergenceWarning: Objective did not converge. You might want to increase the number of iterations. Duality gap: 56508677151535.375, tolerance: 223712019258.84488\n",
      "  positive)\n",
      "C:\\Users\\ANU\\Anaconda3\\lib\\site-packages\\sklearn\\linear_model\\coordinate_descent.py:475: ConvergenceWarning: Objective did not converge. You might want to increase the number of iterations. Duality gap: 56508726591433.69, tolerance: 223712019258.84488\n",
      "  positive)\n",
      "C:\\Users\\ANU\\Anaconda3\\lib\\site-packages\\sklearn\\linear_model\\coordinate_descent.py:475: ConvergenceWarning: Objective did not converge. You might want to increase the number of iterations. Duality gap: 56508776029922.94, tolerance: 223712019258.84488\n",
      "  positive)\n",
      "C:\\Users\\ANU\\Anaconda3\\lib\\site-packages\\sklearn\\linear_model\\coordinate_descent.py:475: ConvergenceWarning: Objective did not converge. You might want to increase the number of iterations. Duality gap: 56508825466236.19, tolerance: 223712019258.84488\n",
      "  positive)\n",
      "C:\\Users\\ANU\\Anaconda3\\lib\\site-packages\\sklearn\\linear_model\\coordinate_descent.py:475: ConvergenceWarning: Objective did not converge. You might want to increase the number of iterations. Duality gap: 56508874900087.75, tolerance: 223712019258.84488\n",
      "  positive)\n",
      "C:\\Users\\ANU\\Anaconda3\\lib\\site-packages\\sklearn\\linear_model\\coordinate_descent.py:475: ConvergenceWarning: Objective did not converge. You might want to increase the number of iterations. Duality gap: 56508924331620.125, tolerance: 223712019258.84488\n",
      "  positive)\n",
      "C:\\Users\\ANU\\Anaconda3\\lib\\site-packages\\sklearn\\linear_model\\coordinate_descent.py:475: ConvergenceWarning: Objective did not converge. You might want to increase the number of iterations. Duality gap: 56508973761999.5, tolerance: 223712019258.84488\n",
      "  positive)\n",
      "C:\\Users\\ANU\\Anaconda3\\lib\\site-packages\\sklearn\\linear_model\\coordinate_descent.py:475: ConvergenceWarning: Objective did not converge. You might want to increase the number of iterations. Duality gap: 56509023189985.375, tolerance: 223712019258.84488\n",
      "  positive)\n",
      "C:\\Users\\ANU\\Anaconda3\\lib\\site-packages\\sklearn\\linear_model\\coordinate_descent.py:475: ConvergenceWarning: Objective did not converge. You might want to increase the number of iterations. Duality gap: 56509072615134.81, tolerance: 223712019258.84488\n",
      "  positive)\n",
      "C:\\Users\\ANU\\Anaconda3\\lib\\site-packages\\sklearn\\linear_model\\coordinate_descent.py:475: ConvergenceWarning: Objective did not converge. You might want to increase the number of iterations. Duality gap: 56509122038838.375, tolerance: 223712019258.84488\n",
      "  positive)\n"
     ]
    },
    {
     "name": "stderr",
     "output_type": "stream",
     "text": [
      "C:\\Users\\ANU\\Anaconda3\\lib\\site-packages\\sklearn\\linear_model\\coordinate_descent.py:475: ConvergenceWarning: Objective did not converge. You might want to increase the number of iterations. Duality gap: 56509171460685.875, tolerance: 223712019258.84488\n",
      "  positive)\n",
      "C:\\Users\\ANU\\Anaconda3\\lib\\site-packages\\sklearn\\linear_model\\coordinate_descent.py:475: ConvergenceWarning: Objective did not converge. You might want to increase the number of iterations. Duality gap: 56509220879947.625, tolerance: 223712019258.84488\n",
      "  positive)\n",
      "C:\\Users\\ANU\\Anaconda3\\lib\\site-packages\\sklearn\\linear_model\\coordinate_descent.py:475: ConvergenceWarning: Objective did not converge. You might want to increase the number of iterations. Duality gap: 56509270297067.25, tolerance: 223712019258.84488\n",
      "  positive)\n",
      "C:\\Users\\ANU\\Anaconda3\\lib\\site-packages\\sklearn\\linear_model\\coordinate_descent.py:475: ConvergenceWarning: Objective did not converge. You might want to increase the number of iterations. Duality gap: 56509319712437.0, tolerance: 223712019258.84488\n",
      "  positive)\n",
      "C:\\Users\\ANU\\Anaconda3\\lib\\site-packages\\sklearn\\linear_model\\coordinate_descent.py:475: ConvergenceWarning: Objective did not converge. You might want to increase the number of iterations. Duality gap: 56509369125558.31, tolerance: 223712019258.84488\n",
      "  positive)\n",
      "C:\\Users\\ANU\\Anaconda3\\lib\\site-packages\\sklearn\\linear_model\\coordinate_descent.py:475: ConvergenceWarning: Objective did not converge. You might want to increase the number of iterations. Duality gap: 56509418536798.0, tolerance: 223712019258.84488\n",
      "  positive)\n",
      "C:\\Users\\ANU\\Anaconda3\\lib\\site-packages\\sklearn\\linear_model\\coordinate_descent.py:475: ConvergenceWarning: Objective did not converge. You might want to increase the number of iterations. Duality gap: 56509467944971.44, tolerance: 223712019258.84488\n",
      "  positive)\n",
      "C:\\Users\\ANU\\Anaconda3\\lib\\site-packages\\sklearn\\linear_model\\coordinate_descent.py:475: ConvergenceWarning: Objective did not converge. You might want to increase the number of iterations. Duality gap: 56509517352028.56, tolerance: 223712019258.84488\n",
      "  positive)\n",
      "C:\\Users\\ANU\\Anaconda3\\lib\\site-packages\\sklearn\\linear_model\\coordinate_descent.py:475: ConvergenceWarning: Objective did not converge. You might want to increase the number of iterations. Duality gap: 56509566756548.625, tolerance: 223712019258.84488\n",
      "  positive)\n",
      "C:\\Users\\ANU\\Anaconda3\\lib\\site-packages\\sklearn\\linear_model\\coordinate_descent.py:475: ConvergenceWarning: Objective did not converge. You might want to increase the number of iterations. Duality gap: 56509616159288.06, tolerance: 223712019258.84488\n",
      "  positive)\n",
      "C:\\Users\\ANU\\Anaconda3\\lib\\site-packages\\sklearn\\linear_model\\coordinate_descent.py:475: ConvergenceWarning: Objective did not converge. You might want to increase the number of iterations. Duality gap: 56509665559842.375, tolerance: 223712019258.84488\n",
      "  positive)\n",
      "C:\\Users\\ANU\\Anaconda3\\lib\\site-packages\\sklearn\\linear_model\\coordinate_descent.py:475: ConvergenceWarning: Objective did not converge. You might want to increase the number of iterations. Duality gap: 56509714958156.31, tolerance: 223712019258.84488\n",
      "  positive)\n",
      "C:\\Users\\ANU\\Anaconda3\\lib\\site-packages\\sklearn\\linear_model\\coordinate_descent.py:475: ConvergenceWarning: Objective did not converge. You might want to increase the number of iterations. Duality gap: 56509764354427.56, tolerance: 223712019258.84488\n",
      "  positive)\n",
      "C:\\Users\\ANU\\Anaconda3\\lib\\site-packages\\sklearn\\linear_model\\coordinate_descent.py:475: ConvergenceWarning: Objective did not converge. You might want to increase the number of iterations. Duality gap: 56509813748674.875, tolerance: 223712019258.84488\n",
      "  positive)\n",
      "C:\\Users\\ANU\\Anaconda3\\lib\\site-packages\\sklearn\\linear_model\\coordinate_descent.py:475: ConvergenceWarning: Objective did not converge. You might want to increase the number of iterations. Duality gap: 56509863140658.5, tolerance: 223712019258.84488\n",
      "  positive)\n",
      "C:\\Users\\ANU\\Anaconda3\\lib\\site-packages\\sklearn\\linear_model\\coordinate_descent.py:475: ConvergenceWarning: Objective did not converge. You might want to increase the number of iterations. Duality gap: 56509912530355.125, tolerance: 223712019258.84488\n",
      "  positive)\n",
      "C:\\Users\\ANU\\Anaconda3\\lib\\site-packages\\sklearn\\linear_model\\coordinate_descent.py:475: ConvergenceWarning: Objective did not converge. You might want to increase the number of iterations. Duality gap: 56509961918129.0, tolerance: 223712019258.84488\n",
      "  positive)\n",
      "C:\\Users\\ANU\\Anaconda3\\lib\\site-packages\\sklearn\\linear_model\\coordinate_descent.py:475: ConvergenceWarning: Objective did not converge. You might want to increase the number of iterations. Duality gap: 56510011304107.94, tolerance: 223712019258.84488\n",
      "  positive)\n",
      "C:\\Users\\ANU\\Anaconda3\\lib\\site-packages\\sklearn\\linear_model\\coordinate_descent.py:475: ConvergenceWarning: Objective did not converge. You might want to increase the number of iterations. Duality gap: 56510060687671.375, tolerance: 223712019258.84488\n",
      "  positive)\n",
      "C:\\Users\\ANU\\Anaconda3\\lib\\site-packages\\sklearn\\linear_model\\coordinate_descent.py:475: ConvergenceWarning: Objective did not converge. You might want to increase the number of iterations. Duality gap: 56510110069365.69, tolerance: 223712019258.84488\n",
      "  positive)\n",
      "C:\\Users\\ANU\\Anaconda3\\lib\\site-packages\\sklearn\\linear_model\\coordinate_descent.py:475: ConvergenceWarning: Objective did not converge. You might want to increase the number of iterations. Duality gap: 56510159448535.0, tolerance: 223712019258.84488\n",
      "  positive)\n",
      "C:\\Users\\ANU\\Anaconda3\\lib\\site-packages\\sklearn\\linear_model\\coordinate_descent.py:475: ConvergenceWarning: Objective did not converge. You might want to increase the number of iterations. Duality gap: 56510208826093.31, tolerance: 223712019258.84488\n",
      "  positive)\n",
      "C:\\Users\\ANU\\Anaconda3\\lib\\site-packages\\sklearn\\linear_model\\coordinate_descent.py:475: ConvergenceWarning: Objective did not converge. You might want to increase the number of iterations. Duality gap: 56510258200723.0, tolerance: 223712019258.84488\n",
      "  positive)\n",
      "C:\\Users\\ANU\\Anaconda3\\lib\\site-packages\\sklearn\\linear_model\\coordinate_descent.py:475: ConvergenceWarning: Objective did not converge. You might want to increase the number of iterations. Duality gap: 56510307573915.44, tolerance: 223712019258.84488\n",
      "  positive)\n",
      "C:\\Users\\ANU\\Anaconda3\\lib\\site-packages\\sklearn\\linear_model\\coordinate_descent.py:475: ConvergenceWarning: Objective did not converge. You might want to increase the number of iterations. Duality gap: 56510356945313.0, tolerance: 223712019258.84488\n",
      "  positive)\n",
      "C:\\Users\\ANU\\Anaconda3\\lib\\site-packages\\sklearn\\linear_model\\coordinate_descent.py:475: ConvergenceWarning: Objective did not converge. You might want to increase the number of iterations. Duality gap: 56510406313808.0, tolerance: 223712019258.84488\n",
      "  positive)\n",
      "C:\\Users\\ANU\\Anaconda3\\lib\\site-packages\\sklearn\\linear_model\\coordinate_descent.py:475: ConvergenceWarning: Objective did not converge. You might want to increase the number of iterations. Duality gap: 56510455680895.31, tolerance: 223712019258.84488\n",
      "  positive)\n",
      "C:\\Users\\ANU\\Anaconda3\\lib\\site-packages\\sklearn\\linear_model\\coordinate_descent.py:475: ConvergenceWarning: Objective did not converge. You might want to increase the number of iterations. Duality gap: 56510505045547.31, tolerance: 223712019258.84488\n",
      "  positive)\n",
      "C:\\Users\\ANU\\Anaconda3\\lib\\site-packages\\sklearn\\linear_model\\coordinate_descent.py:475: ConvergenceWarning: Objective did not converge. You might want to increase the number of iterations. Duality gap: 56510554408029.125, tolerance: 223712019258.84488\n",
      "  positive)\n",
      "C:\\Users\\ANU\\Anaconda3\\lib\\site-packages\\sklearn\\linear_model\\coordinate_descent.py:475: ConvergenceWarning: Objective did not converge. You might want to increase the number of iterations. Duality gap: 56510603768631.375, tolerance: 223712019258.84488\n",
      "  positive)\n",
      "C:\\Users\\ANU\\Anaconda3\\lib\\site-packages\\sklearn\\linear_model\\coordinate_descent.py:475: ConvergenceWarning: Objective did not converge. You might want to increase the number of iterations. Duality gap: 56510653126887.875, tolerance: 223712019258.84488\n",
      "  positive)\n",
      "C:\\Users\\ANU\\Anaconda3\\lib\\site-packages\\sklearn\\linear_model\\coordinate_descent.py:475: ConvergenceWarning: Objective did not converge. You might want to increase the number of iterations. Duality gap: 56510702483143.44, tolerance: 223712019258.84488\n",
      "  positive)\n"
     ]
    },
    {
     "name": "stderr",
     "output_type": "stream",
     "text": [
      "C:\\Users\\ANU\\Anaconda3\\lib\\site-packages\\sklearn\\linear_model\\coordinate_descent.py:475: ConvergenceWarning: Objective did not converge. You might want to increase the number of iterations. Duality gap: 56510751837104.875, tolerance: 223712019258.84488\n",
      "  positive)\n",
      "C:\\Users\\ANU\\Anaconda3\\lib\\site-packages\\sklearn\\linear_model\\coordinate_descent.py:475: ConvergenceWarning: Objective did not converge. You might want to increase the number of iterations. Duality gap: 56510801189432.69, tolerance: 223712019258.84488\n",
      "  positive)\n",
      "C:\\Users\\ANU\\Anaconda3\\lib\\site-packages\\sklearn\\linear_model\\coordinate_descent.py:475: ConvergenceWarning: Objective did not converge. You might want to increase the number of iterations. Duality gap: 56510850539475.56, tolerance: 223712019258.84488\n",
      "  positive)\n",
      "C:\\Users\\ANU\\Anaconda3\\lib\\site-packages\\sklearn\\linear_model\\coordinate_descent.py:475: ConvergenceWarning: Objective did not converge. You might want to increase the number of iterations. Duality gap: 56510899887269.31, tolerance: 223712019258.84488\n",
      "  positive)\n",
      "C:\\Users\\ANU\\Anaconda3\\lib\\site-packages\\sklearn\\linear_model\\coordinate_descent.py:475: ConvergenceWarning: Objective did not converge. You might want to increase the number of iterations. Duality gap: 56510949233532.75, tolerance: 223712019258.84488\n",
      "  positive)\n",
      "C:\\Users\\ANU\\Anaconda3\\lib\\site-packages\\sklearn\\linear_model\\coordinate_descent.py:475: ConvergenceWarning: Objective did not converge. You might want to increase the number of iterations. Duality gap: 56510998576746.875, tolerance: 223712019258.84488\n",
      "  positive)\n",
      "C:\\Users\\ANU\\Anaconda3\\lib\\site-packages\\sklearn\\linear_model\\coordinate_descent.py:475: ConvergenceWarning: Objective did not converge. You might want to increase the number of iterations. Duality gap: 56511047918220.25, tolerance: 223712019258.84488\n",
      "  positive)\n",
      "C:\\Users\\ANU\\Anaconda3\\lib\\site-packages\\sklearn\\linear_model\\coordinate_descent.py:475: ConvergenceWarning: Objective did not converge. You might want to increase the number of iterations. Duality gap: 56511097257707.69, tolerance: 223712019258.84488\n",
      "  positive)\n",
      "C:\\Users\\ANU\\Anaconda3\\lib\\site-packages\\sklearn\\linear_model\\coordinate_descent.py:475: ConvergenceWarning: Objective did not converge. You might want to increase the number of iterations. Duality gap: 56511146594829.75, tolerance: 223712019258.84488\n",
      "  positive)\n",
      "C:\\Users\\ANU\\Anaconda3\\lib\\site-packages\\sklearn\\linear_model\\coordinate_descent.py:475: ConvergenceWarning: Objective did not converge. You might want to increase the number of iterations. Duality gap: 56511195929979.31, tolerance: 223712019258.84488\n",
      "  positive)\n",
      "C:\\Users\\ANU\\Anaconda3\\lib\\site-packages\\sklearn\\linear_model\\coordinate_descent.py:475: ConvergenceWarning: Objective did not converge. You might want to increase the number of iterations. Duality gap: 56511245263362.69, tolerance: 223712019258.84488\n",
      "  positive)\n",
      "C:\\Users\\ANU\\Anaconda3\\lib\\site-packages\\sklearn\\linear_model\\coordinate_descent.py:475: ConvergenceWarning: Objective did not converge. You might want to increase the number of iterations. Duality gap: 56511294594573.06, tolerance: 223712019258.84488\n",
      "  positive)\n",
      "C:\\Users\\ANU\\Anaconda3\\lib\\site-packages\\sklearn\\linear_model\\coordinate_descent.py:475: ConvergenceWarning: Objective did not converge. You might want to increase the number of iterations. Duality gap: 56511343923526.25, tolerance: 223712019258.84488\n",
      "  positive)\n",
      "C:\\Users\\ANU\\Anaconda3\\lib\\site-packages\\sklearn\\linear_model\\coordinate_descent.py:475: ConvergenceWarning: Objective did not converge. You might want to increase the number of iterations. Duality gap: 56511393250262.75, tolerance: 223712019258.84488\n",
      "  positive)\n",
      "C:\\Users\\ANU\\Anaconda3\\lib\\site-packages\\sklearn\\linear_model\\coordinate_descent.py:475: ConvergenceWarning: Objective did not converge. You might want to increase the number of iterations. Duality gap: 56511442574803.375, tolerance: 223712019258.84488\n",
      "  positive)\n",
      "C:\\Users\\ANU\\Anaconda3\\lib\\site-packages\\sklearn\\linear_model\\coordinate_descent.py:475: ConvergenceWarning: Objective did not converge. You might want to increase the number of iterations. Duality gap: 56511491897411.625, tolerance: 223712019258.84488\n",
      "  positive)\n",
      "C:\\Users\\ANU\\Anaconda3\\lib\\site-packages\\sklearn\\linear_model\\coordinate_descent.py:475: ConvergenceWarning: Objective did not converge. You might want to increase the number of iterations. Duality gap: 56511541217952.06, tolerance: 223712019258.84488\n",
      "  positive)\n",
      "C:\\Users\\ANU\\Anaconda3\\lib\\site-packages\\sklearn\\linear_model\\coordinate_descent.py:475: ConvergenceWarning: Objective did not converge. You might want to increase the number of iterations. Duality gap: 56511590536473.56, tolerance: 223712019258.84488\n",
      "  positive)\n",
      "C:\\Users\\ANU\\Anaconda3\\lib\\site-packages\\sklearn\\linear_model\\coordinate_descent.py:475: ConvergenceWarning: Objective did not converge. You might want to increase the number of iterations. Duality gap: 56511639852994.75, tolerance: 223712019258.84488\n",
      "  positive)\n",
      "C:\\Users\\ANU\\Anaconda3\\lib\\site-packages\\sklearn\\linear_model\\coordinate_descent.py:475: ConvergenceWarning: Objective did not converge. You might want to increase the number of iterations. Duality gap: 56511689166920.125, tolerance: 223712019258.84488\n",
      "  positive)\n",
      "C:\\Users\\ANU\\Anaconda3\\lib\\site-packages\\sklearn\\linear_model\\coordinate_descent.py:475: ConvergenceWarning: Objective did not converge. You might want to increase the number of iterations. Duality gap: 56511738478873.44, tolerance: 223712019258.84488\n",
      "  positive)\n",
      "C:\\Users\\ANU\\Anaconda3\\lib\\site-packages\\sklearn\\linear_model\\coordinate_descent.py:475: ConvergenceWarning: Objective did not converge. You might want to increase the number of iterations. Duality gap: 56511787789173.81, tolerance: 223712019258.84488\n",
      "  positive)\n",
      "C:\\Users\\ANU\\Anaconda3\\lib\\site-packages\\sklearn\\linear_model\\coordinate_descent.py:475: ConvergenceWarning: Objective did not converge. You might want to increase the number of iterations. Duality gap: 56511837096833.375, tolerance: 223712019258.84488\n",
      "  positive)\n",
      "C:\\Users\\ANU\\Anaconda3\\lib\\site-packages\\sklearn\\linear_model\\coordinate_descent.py:475: ConvergenceWarning: Objective did not converge. You might want to increase the number of iterations. Duality gap: 56511886402487.125, tolerance: 223712019258.84488\n",
      "  positive)\n",
      "C:\\Users\\ANU\\Anaconda3\\lib\\site-packages\\sklearn\\linear_model\\coordinate_descent.py:475: ConvergenceWarning: Objective did not converge. You might want to increase the number of iterations. Duality gap: 56511935706603.625, tolerance: 223712019258.84488\n",
      "  positive)\n",
      "C:\\Users\\ANU\\Anaconda3\\lib\\site-packages\\sklearn\\linear_model\\coordinate_descent.py:475: ConvergenceWarning: Objective did not converge. You might want to increase the number of iterations. Duality gap: 56511985007580.94, tolerance: 223712019258.84488\n",
      "  positive)\n",
      "C:\\Users\\ANU\\Anaconda3\\lib\\site-packages\\sklearn\\linear_model\\coordinate_descent.py:475: ConvergenceWarning: Objective did not converge. You might want to increase the number of iterations. Duality gap: 56512034307738.5, tolerance: 223712019258.84488\n",
      "  positive)\n",
      "C:\\Users\\ANU\\Anaconda3\\lib\\site-packages\\sklearn\\linear_model\\coordinate_descent.py:475: ConvergenceWarning: Objective did not converge. You might want to increase the number of iterations. Duality gap: 56512083604760.19, tolerance: 223712019258.84488\n",
      "  positive)\n",
      "C:\\Users\\ANU\\Anaconda3\\lib\\site-packages\\sklearn\\linear_model\\coordinate_descent.py:475: ConvergenceWarning: Objective did not converge. You might want to increase the number of iterations. Duality gap: 56512132899902.56, tolerance: 223712019258.84488\n",
      "  positive)\n",
      "C:\\Users\\ANU\\Anaconda3\\lib\\site-packages\\sklearn\\linear_model\\coordinate_descent.py:475: ConvergenceWarning: Objective did not converge. You might want to increase the number of iterations. Duality gap: 56512182192860.875, tolerance: 223712019258.84488\n",
      "  positive)\n",
      "C:\\Users\\ANU\\Anaconda3\\lib\\site-packages\\sklearn\\linear_model\\coordinate_descent.py:475: ConvergenceWarning: Objective did not converge. You might want to increase the number of iterations. Duality gap: 56512231484610.44, tolerance: 223712019258.84488\n",
      "  positive)\n",
      "C:\\Users\\ANU\\Anaconda3\\lib\\site-packages\\sklearn\\linear_model\\coordinate_descent.py:475: ConvergenceWarning: Objective did not converge. You might want to increase the number of iterations. Duality gap: 56512280773586.19, tolerance: 223712019258.84488\n",
      "  positive)\n"
     ]
    },
    {
     "name": "stderr",
     "output_type": "stream",
     "text": [
      "C:\\Users\\ANU\\Anaconda3\\lib\\site-packages\\sklearn\\linear_model\\coordinate_descent.py:475: ConvergenceWarning: Objective did not converge. You might want to increase the number of iterations. Duality gap: 56512330060363.81, tolerance: 223712019258.84488\n",
      "  positive)\n",
      "C:\\Users\\ANU\\Anaconda3\\lib\\site-packages\\sklearn\\linear_model\\coordinate_descent.py:475: ConvergenceWarning: Objective did not converge. You might want to increase the number of iterations. Duality gap: 56512379344450.69, tolerance: 223712019258.84488\n",
      "  positive)\n",
      "C:\\Users\\ANU\\Anaconda3\\lib\\site-packages\\sklearn\\linear_model\\coordinate_descent.py:475: ConvergenceWarning: Objective did not converge. You might want to increase the number of iterations. Duality gap: 56512428627022.44, tolerance: 223712019258.84488\n",
      "  positive)\n",
      "C:\\Users\\ANU\\Anaconda3\\lib\\site-packages\\sklearn\\linear_model\\coordinate_descent.py:475: ConvergenceWarning: Objective did not converge. You might want to increase the number of iterations. Duality gap: 56512477908218.125, tolerance: 223712019258.84488\n",
      "  positive)\n",
      "C:\\Users\\ANU\\Anaconda3\\lib\\site-packages\\sklearn\\linear_model\\coordinate_descent.py:475: ConvergenceWarning: Objective did not converge. You might want to increase the number of iterations. Duality gap: 56512527186494.94, tolerance: 223712019258.84488\n",
      "  positive)\n",
      "C:\\Users\\ANU\\Anaconda3\\lib\\site-packages\\sklearn\\linear_model\\coordinate_descent.py:475: ConvergenceWarning: Objective did not converge. You might want to increase the number of iterations. Duality gap: 56512576462676.94, tolerance: 223712019258.84488\n",
      "  positive)\n",
      "C:\\Users\\ANU\\Anaconda3\\lib\\site-packages\\sklearn\\linear_model\\coordinate_descent.py:475: ConvergenceWarning: Objective did not converge. You might want to increase the number of iterations. Duality gap: 56512625737180.19, tolerance: 223712019258.84488\n",
      "  positive)\n",
      "C:\\Users\\ANU\\Anaconda3\\lib\\site-packages\\sklearn\\linear_model\\coordinate_descent.py:475: ConvergenceWarning: Objective did not converge. You might want to increase the number of iterations. Duality gap: 56512675009249.06, tolerance: 223712019258.84488\n",
      "  positive)\n",
      "C:\\Users\\ANU\\Anaconda3\\lib\\site-packages\\sklearn\\linear_model\\coordinate_descent.py:475: ConvergenceWarning: Objective did not converge. You might want to increase the number of iterations. Duality gap: 56512724278916.94, tolerance: 223712019258.84488\n",
      "  positive)\n",
      "C:\\Users\\ANU\\Anaconda3\\lib\\site-packages\\sklearn\\linear_model\\coordinate_descent.py:475: ConvergenceWarning: Objective did not converge. You might want to increase the number of iterations. Duality gap: 56512773547181.625, tolerance: 223712019258.84488\n",
      "  positive)\n",
      "C:\\Users\\ANU\\Anaconda3\\lib\\site-packages\\sklearn\\linear_model\\coordinate_descent.py:475: ConvergenceWarning: Objective did not converge. You might want to increase the number of iterations. Duality gap: 56512822813277.5, tolerance: 223712019258.84488\n",
      "  positive)\n",
      "C:\\Users\\ANU\\Anaconda3\\lib\\site-packages\\sklearn\\linear_model\\coordinate_descent.py:475: ConvergenceWarning: Objective did not converge. You might want to increase the number of iterations. Duality gap: 56512872077023.25, tolerance: 223712019258.84488\n",
      "  positive)\n",
      "C:\\Users\\ANU\\Anaconda3\\lib\\site-packages\\sklearn\\linear_model\\coordinate_descent.py:475: ConvergenceWarning: Objective did not converge. You might want to increase the number of iterations. Duality gap: 56512921338476.375, tolerance: 223712019258.84488\n",
      "  positive)\n",
      "C:\\Users\\ANU\\Anaconda3\\lib\\site-packages\\sklearn\\linear_model\\coordinate_descent.py:475: ConvergenceWarning: Objective did not converge. You might want to increase the number of iterations. Duality gap: 56512970597912.44, tolerance: 223712019258.84488\n",
      "  positive)\n",
      "C:\\Users\\ANU\\Anaconda3\\lib\\site-packages\\sklearn\\linear_model\\coordinate_descent.py:475: ConvergenceWarning: Objective did not converge. You might want to increase the number of iterations. Duality gap: 56513019855093.94, tolerance: 223712019258.84488\n",
      "  positive)\n",
      "C:\\Users\\ANU\\Anaconda3\\lib\\site-packages\\sklearn\\linear_model\\coordinate_descent.py:475: ConvergenceWarning: Objective did not converge. You might want to increase the number of iterations. Duality gap: 56513069110388.69, tolerance: 223712019258.84488\n",
      "  positive)\n",
      "C:\\Users\\ANU\\Anaconda3\\lib\\site-packages\\sklearn\\linear_model\\coordinate_descent.py:475: ConvergenceWarning: Objective did not converge. You might want to increase the number of iterations. Duality gap: 56513118363930.44, tolerance: 223712019258.84488\n",
      "  positive)\n",
      "C:\\Users\\ANU\\Anaconda3\\lib\\site-packages\\sklearn\\linear_model\\coordinate_descent.py:475: ConvergenceWarning: Objective did not converge. You might want to increase the number of iterations. Duality gap: 56513167615026.75, tolerance: 223712019258.84488\n",
      "  positive)\n",
      "C:\\Users\\ANU\\Anaconda3\\lib\\site-packages\\sklearn\\linear_model\\coordinate_descent.py:475: ConvergenceWarning: Objective did not converge. You might want to increase the number of iterations. Duality gap: 56513216864160.19, tolerance: 223712019258.84488\n",
      "  positive)\n",
      "C:\\Users\\ANU\\Anaconda3\\lib\\site-packages\\sklearn\\linear_model\\coordinate_descent.py:475: ConvergenceWarning: Objective did not converge. You might want to increase the number of iterations. Duality gap: 56513266111010.56, tolerance: 223712019258.84488\n",
      "  positive)\n",
      "C:\\Users\\ANU\\Anaconda3\\lib\\site-packages\\sklearn\\linear_model\\coordinate_descent.py:475: ConvergenceWarning: Objective did not converge. You might want to increase the number of iterations. Duality gap: 56513315355893.0, tolerance: 223712019258.84488\n",
      "  positive)\n",
      "C:\\Users\\ANU\\Anaconda3\\lib\\site-packages\\sklearn\\linear_model\\coordinate_descent.py:475: ConvergenceWarning: Objective did not converge. You might want to increase the number of iterations. Duality gap: 56513364598305.625, tolerance: 223712019258.84488\n",
      "  positive)\n",
      "C:\\Users\\ANU\\Anaconda3\\lib\\site-packages\\sklearn\\linear_model\\coordinate_descent.py:475: ConvergenceWarning: Objective did not converge. You might want to increase the number of iterations. Duality gap: 56513413838750.625, tolerance: 223712019258.84488\n",
      "  positive)\n",
      "C:\\Users\\ANU\\Anaconda3\\lib\\site-packages\\sklearn\\linear_model\\coordinate_descent.py:475: ConvergenceWarning: Objective did not converge. You might want to increase the number of iterations. Duality gap: 56513463077243.06, tolerance: 223712019258.84488\n",
      "  positive)\n",
      "C:\\Users\\ANU\\Anaconda3\\lib\\site-packages\\sklearn\\linear_model\\coordinate_descent.py:475: ConvergenceWarning: Objective did not converge. You might want to increase the number of iterations. Duality gap: 56513512313654.81, tolerance: 223712019258.84488\n",
      "  positive)\n",
      "C:\\Users\\ANU\\Anaconda3\\lib\\site-packages\\sklearn\\linear_model\\coordinate_descent.py:475: ConvergenceWarning: Objective did not converge. You might want to increase the number of iterations. Duality gap: 1826851217426.0, tolerance: 223712019258.84488\n",
      "  positive)\n",
      "C:\\Users\\ANU\\Anaconda3\\lib\\site-packages\\sklearn\\linear_model\\coordinate_descent.py:475: ConvergenceWarning: Objective did not converge. You might want to increase the number of iterations. Duality gap: 1463053979156.25, tolerance: 223712019258.84488\n",
      "  positive)\n",
      "C:\\Users\\ANU\\Anaconda3\\lib\\site-packages\\sklearn\\linear_model\\coordinate_descent.py:475: ConvergenceWarning: Objective did not converge. You might want to increase the number of iterations. Duality gap: 1169833783713.375, tolerance: 223712019258.84488\n",
      "  positive)\n",
      "C:\\Users\\ANU\\Anaconda3\\lib\\site-packages\\sklearn\\linear_model\\coordinate_descent.py:475: ConvergenceWarning: Objective did not converge. You might want to increase the number of iterations. Duality gap: 2076272701985.5, tolerance: 223712019258.84488\n",
      "  positive)\n",
      "C:\\Users\\ANU\\Anaconda3\\lib\\site-packages\\sklearn\\linear_model\\coordinate_descent.py:475: ConvergenceWarning: Objective did not converge. You might want to increase the number of iterations. Duality gap: 2386717522967.75, tolerance: 223712019258.84488\n",
      "  positive)\n",
      "C:\\Users\\ANU\\Anaconda3\\lib\\site-packages\\sklearn\\linear_model\\coordinate_descent.py:475: ConvergenceWarning: Objective did not converge. You might want to increase the number of iterations. Duality gap: 2390542675465.875, tolerance: 223712019258.84488\n",
      "  positive)\n",
      "C:\\Users\\ANU\\Anaconda3\\lib\\site-packages\\sklearn\\linear_model\\coordinate_descent.py:475: ConvergenceWarning: Objective did not converge. You might want to increase the number of iterations. Duality gap: 2320585748806.75, tolerance: 223712019258.84488\n",
      "  positive)\n"
     ]
    },
    {
     "name": "stderr",
     "output_type": "stream",
     "text": [
      "C:\\Users\\ANU\\Anaconda3\\lib\\site-packages\\sklearn\\linear_model\\coordinate_descent.py:475: ConvergenceWarning: Objective did not converge. You might want to increase the number of iterations. Duality gap: 2248748091753.25, tolerance: 223712019258.84488\n",
      "  positive)\n",
      "C:\\Users\\ANU\\Anaconda3\\lib\\site-packages\\sklearn\\linear_model\\coordinate_descent.py:475: ConvergenceWarning: Objective did not converge. You might want to increase the number of iterations. Duality gap: 2199384597724.5, tolerance: 223712019258.84488\n",
      "  positive)\n",
      "C:\\Users\\ANU\\Anaconda3\\lib\\site-packages\\sklearn\\linear_model\\coordinate_descent.py:475: ConvergenceWarning: Objective did not converge. You might want to increase the number of iterations. Duality gap: 2168622817091.375, tolerance: 223712019258.84488\n",
      "  positive)\n",
      "C:\\Users\\ANU\\Anaconda3\\lib\\site-packages\\sklearn\\linear_model\\coordinate_descent.py:475: ConvergenceWarning: Objective did not converge. You might want to increase the number of iterations. Duality gap: 2154896056171.5, tolerance: 223712019258.84488\n",
      "  positive)\n",
      "C:\\Users\\ANU\\Anaconda3\\lib\\site-packages\\sklearn\\linear_model\\coordinate_descent.py:475: ConvergenceWarning: Objective did not converge. You might want to increase the number of iterations. Duality gap: 2151333053908.75, tolerance: 223712019258.84488\n",
      "  positive)\n",
      "C:\\Users\\ANU\\Anaconda3\\lib\\site-packages\\sklearn\\linear_model\\coordinate_descent.py:475: ConvergenceWarning: Objective did not converge. You might want to increase the number of iterations. Duality gap: 2151951667409.75, tolerance: 223712019258.84488\n",
      "  positive)\n",
      "C:\\Users\\ANU\\Anaconda3\\lib\\site-packages\\sklearn\\linear_model\\coordinate_descent.py:475: ConvergenceWarning: Objective did not converge. You might want to increase the number of iterations. Duality gap: 2154126158905.5, tolerance: 223712019258.84488\n",
      "  positive)\n",
      "C:\\Users\\ANU\\Anaconda3\\lib\\site-packages\\sklearn\\linear_model\\coordinate_descent.py:475: ConvergenceWarning: Objective did not converge. You might want to increase the number of iterations. Duality gap: 2156369493333.625, tolerance: 223712019258.84488\n",
      "  positive)\n",
      "C:\\Users\\ANU\\Anaconda3\\lib\\site-packages\\sklearn\\linear_model\\coordinate_descent.py:475: ConvergenceWarning: Objective did not converge. You might want to increase the number of iterations. Duality gap: 2158227271498.75, tolerance: 223712019258.84488\n",
      "  positive)\n",
      "C:\\Users\\ANU\\Anaconda3\\lib\\site-packages\\sklearn\\linear_model\\coordinate_descent.py:475: ConvergenceWarning: Objective did not converge. You might want to increase the number of iterations. Duality gap: 2159461994136.875, tolerance: 223712019258.84488\n",
      "  positive)\n",
      "C:\\Users\\ANU\\Anaconda3\\lib\\site-packages\\sklearn\\linear_model\\coordinate_descent.py:475: ConvergenceWarning: Objective did not converge. You might want to increase the number of iterations. Duality gap: 2160066711507.625, tolerance: 223712019258.84488\n",
      "  positive)\n",
      "C:\\Users\\ANU\\Anaconda3\\lib\\site-packages\\sklearn\\linear_model\\coordinate_descent.py:475: ConvergenceWarning: Objective did not converge. You might want to increase the number of iterations. Duality gap: 2160410839263.375, tolerance: 223712019258.84488\n",
      "  positive)\n",
      "C:\\Users\\ANU\\Anaconda3\\lib\\site-packages\\sklearn\\linear_model\\coordinate_descent.py:475: ConvergenceWarning: Objective did not converge. You might want to increase the number of iterations. Duality gap: 2160550776582.625, tolerance: 223712019258.84488\n",
      "  positive)\n",
      "C:\\Users\\ANU\\Anaconda3\\lib\\site-packages\\sklearn\\linear_model\\coordinate_descent.py:475: ConvergenceWarning: Objective did not converge. You might want to increase the number of iterations. Duality gap: 2160577403110.375, tolerance: 223712019258.84488\n",
      "  positive)\n",
      "C:\\Users\\ANU\\Anaconda3\\lib\\site-packages\\sklearn\\linear_model\\coordinate_descent.py:475: ConvergenceWarning: Objective did not converge. You might want to increase the number of iterations. Duality gap: 2160564021885.0, tolerance: 223712019258.84488\n",
      "  positive)\n",
      "C:\\Users\\ANU\\Anaconda3\\lib\\site-packages\\sklearn\\linear_model\\coordinate_descent.py:475: ConvergenceWarning: Objective did not converge. You might want to increase the number of iterations. Duality gap: 2160542219287.25, tolerance: 223712019258.84488\n",
      "  positive)\n",
      "C:\\Users\\ANU\\Anaconda3\\lib\\site-packages\\sklearn\\linear_model\\coordinate_descent.py:475: ConvergenceWarning: Objective did not converge. You might want to increase the number of iterations. Duality gap: 2160528086545.25, tolerance: 223712019258.84488\n",
      "  positive)\n",
      "C:\\Users\\ANU\\Anaconda3\\lib\\site-packages\\sklearn\\linear_model\\coordinate_descent.py:475: ConvergenceWarning: Objective did not converge. You might want to increase the number of iterations. Duality gap: 2160522210620.0, tolerance: 223712019258.84488\n",
      "  positive)\n",
      "C:\\Users\\ANU\\Anaconda3\\lib\\site-packages\\sklearn\\linear_model\\coordinate_descent.py:475: ConvergenceWarning: Objective did not converge. You might want to increase the number of iterations. Duality gap: 2160524559671.25, tolerance: 223712019258.84488\n",
      "  positive)\n",
      "C:\\Users\\ANU\\Anaconda3\\lib\\site-packages\\sklearn\\linear_model\\coordinate_descent.py:475: ConvergenceWarning: Objective did not converge. You might want to increase the number of iterations. Duality gap: 2160533476341.375, tolerance: 223712019258.84488\n",
      "  positive)\n",
      "C:\\Users\\ANU\\Anaconda3\\lib\\site-packages\\sklearn\\linear_model\\coordinate_descent.py:475: ConvergenceWarning: Objective did not converge. You might want to increase the number of iterations. Duality gap: 2160546961300.5, tolerance: 223712019258.84488\n",
      "  positive)\n",
      "C:\\Users\\ANU\\Anaconda3\\lib\\site-packages\\sklearn\\linear_model\\coordinate_descent.py:475: ConvergenceWarning: Objective did not converge. You might want to increase the number of iterations. Duality gap: 2160562743701.875, tolerance: 223712019258.84488\n",
      "  positive)\n",
      "C:\\Users\\ANU\\Anaconda3\\lib\\site-packages\\sklearn\\linear_model\\coordinate_descent.py:475: ConvergenceWarning: Objective did not converge. You might want to increase the number of iterations. Duality gap: 2160579625772.875, tolerance: 223712019258.84488\n",
      "  positive)\n",
      "C:\\Users\\ANU\\Anaconda3\\lib\\site-packages\\sklearn\\linear_model\\coordinate_descent.py:475: ConvergenceWarning: Objective did not converge. You might want to increase the number of iterations. Duality gap: 2160596825807.625, tolerance: 223712019258.84488\n",
      "  positive)\n",
      "C:\\Users\\ANU\\Anaconda3\\lib\\site-packages\\sklearn\\linear_model\\coordinate_descent.py:475: ConvergenceWarning: Objective did not converge. You might want to increase the number of iterations. Duality gap: 2160613849150.75, tolerance: 223712019258.84488\n",
      "  positive)\n",
      "C:\\Users\\ANU\\Anaconda3\\lib\\site-packages\\sklearn\\linear_model\\coordinate_descent.py:475: ConvergenceWarning: Objective did not converge. You might want to increase the number of iterations. Duality gap: 2160631034396.5, tolerance: 223712019258.84488\n",
      "  positive)\n",
      "C:\\Users\\ANU\\Anaconda3\\lib\\site-packages\\sklearn\\linear_model\\coordinate_descent.py:475: ConvergenceWarning: Objective did not converge. You might want to increase the number of iterations. Duality gap: 2160648041166.625, tolerance: 223712019258.84488\n",
      "  positive)\n",
      "C:\\Users\\ANU\\Anaconda3\\lib\\site-packages\\sklearn\\linear_model\\coordinate_descent.py:475: ConvergenceWarning: Objective did not converge. You might want to increase the number of iterations. Duality gap: 2160664718627.375, tolerance: 223712019258.84488\n",
      "  positive)\n",
      "C:\\Users\\ANU\\Anaconda3\\lib\\site-packages\\sklearn\\linear_model\\coordinate_descent.py:475: ConvergenceWarning: Objective did not converge. You might want to increase the number of iterations. Duality gap: 2160681220455.75, tolerance: 223712019258.84488\n",
      "  positive)\n",
      "C:\\Users\\ANU\\Anaconda3\\lib\\site-packages\\sklearn\\linear_model\\coordinate_descent.py:475: ConvergenceWarning: Objective did not converge. You might want to increase the number of iterations. Duality gap: 2160697786679.375, tolerance: 223712019258.84488\n",
      "  positive)\n",
      "C:\\Users\\ANU\\Anaconda3\\lib\\site-packages\\sklearn\\linear_model\\coordinate_descent.py:475: ConvergenceWarning: Objective did not converge. You might want to increase the number of iterations. Duality gap: 2160714257308.375, tolerance: 223712019258.84488\n",
      "  positive)\n",
      "C:\\Users\\ANU\\Anaconda3\\lib\\site-packages\\sklearn\\linear_model\\coordinate_descent.py:475: ConvergenceWarning: Objective did not converge. You might want to increase the number of iterations. Duality gap: 2160730565031.875, tolerance: 223712019258.84488\n",
      "  positive)\n"
     ]
    },
    {
     "name": "stderr",
     "output_type": "stream",
     "text": [
      "C:\\Users\\ANU\\Anaconda3\\lib\\site-packages\\sklearn\\linear_model\\coordinate_descent.py:475: ConvergenceWarning: Objective did not converge. You might want to increase the number of iterations. Duality gap: 2160746663309.0, tolerance: 223712019258.84488\n",
      "  positive)\n",
      "C:\\Users\\ANU\\Anaconda3\\lib\\site-packages\\sklearn\\linear_model\\coordinate_descent.py:475: ConvergenceWarning: Objective did not converge. You might want to increase the number of iterations. Duality gap: 2160762908153.625, tolerance: 223712019258.84488\n",
      "  positive)\n",
      "C:\\Users\\ANU\\Anaconda3\\lib\\site-packages\\sklearn\\linear_model\\coordinate_descent.py:475: ConvergenceWarning: Objective did not converge. You might want to increase the number of iterations. Duality gap: 2160779089244.0, tolerance: 223712019258.84488\n",
      "  positive)\n",
      "C:\\Users\\ANU\\Anaconda3\\lib\\site-packages\\sklearn\\linear_model\\coordinate_descent.py:475: ConvergenceWarning: Objective did not converge. You might want to increase the number of iterations. Duality gap: 2160795208300.875, tolerance: 223712019258.84488\n",
      "  positive)\n",
      "C:\\Users\\ANU\\Anaconda3\\lib\\site-packages\\sklearn\\linear_model\\coordinate_descent.py:475: ConvergenceWarning: Objective did not converge. You might want to increase the number of iterations. Duality gap: 2160810999586.625, tolerance: 223712019258.84488\n",
      "  positive)\n",
      "C:\\Users\\ANU\\Anaconda3\\lib\\site-packages\\sklearn\\linear_model\\coordinate_descent.py:475: ConvergenceWarning: Objective did not converge. You might want to increase the number of iterations. Duality gap: 2160826995651.375, tolerance: 223712019258.84488\n",
      "  positive)\n",
      "C:\\Users\\ANU\\Anaconda3\\lib\\site-packages\\sklearn\\linear_model\\coordinate_descent.py:475: ConvergenceWarning: Objective did not converge. You might want to increase the number of iterations. Duality gap: 2160842934092.25, tolerance: 223712019258.84488\n",
      "  positive)\n",
      "C:\\Users\\ANU\\Anaconda3\\lib\\site-packages\\sklearn\\linear_model\\coordinate_descent.py:475: ConvergenceWarning: Objective did not converge. You might want to increase the number of iterations. Duality gap: 2160858816183.125, tolerance: 223712019258.84488\n",
      "  positive)\n",
      "C:\\Users\\ANU\\Anaconda3\\lib\\site-packages\\sklearn\\linear_model\\coordinate_descent.py:475: ConvergenceWarning: Objective did not converge. You might want to increase the number of iterations. Duality gap: 2160874564506.5, tolerance: 223712019258.84488\n",
      "  positive)\n",
      "C:\\Users\\ANU\\Anaconda3\\lib\\site-packages\\sklearn\\linear_model\\coordinate_descent.py:475: ConvergenceWarning: Objective did not converge. You might want to increase the number of iterations. Duality gap: 2160890177340.625, tolerance: 223712019258.84488\n",
      "  positive)\n",
      "C:\\Users\\ANU\\Anaconda3\\lib\\site-packages\\sklearn\\linear_model\\coordinate_descent.py:475: ConvergenceWarning: Objective did not converge. You might want to increase the number of iterations. Duality gap: 2160905896573.5, tolerance: 223712019258.84488\n",
      "  positive)\n",
      "C:\\Users\\ANU\\Anaconda3\\lib\\site-packages\\sklearn\\linear_model\\coordinate_descent.py:475: ConvergenceWarning: Objective did not converge. You might want to increase the number of iterations. Duality gap: 2160921565583.5, tolerance: 223712019258.84488\n",
      "  positive)\n",
      "C:\\Users\\ANU\\Anaconda3\\lib\\site-packages\\sklearn\\linear_model\\coordinate_descent.py:475: ConvergenceWarning: Objective did not converge. You might want to increase the number of iterations. Duality gap: 2160937185794.0, tolerance: 223712019258.84488\n",
      "  positive)\n",
      "C:\\Users\\ANU\\Anaconda3\\lib\\site-packages\\sklearn\\linear_model\\coordinate_descent.py:475: ConvergenceWarning: Objective did not converge. You might want to increase the number of iterations. Duality gap: 2160952678903.375, tolerance: 223712019258.84488\n",
      "  positive)\n",
      "C:\\Users\\ANU\\Anaconda3\\lib\\site-packages\\sklearn\\linear_model\\coordinate_descent.py:475: ConvergenceWarning: Objective did not converge. You might want to increase the number of iterations. Duality gap: 2160968071581.25, tolerance: 223712019258.84488\n",
      "  positive)\n",
      "C:\\Users\\ANU\\Anaconda3\\lib\\site-packages\\sklearn\\linear_model\\coordinate_descent.py:475: ConvergenceWarning: Objective did not converge. You might want to increase the number of iterations. Duality gap: 2160983551135.625, tolerance: 223712019258.84488\n",
      "  positive)\n",
      "C:\\Users\\ANU\\Anaconda3\\lib\\site-packages\\sklearn\\linear_model\\coordinate_descent.py:475: ConvergenceWarning: Objective did not converge. You might want to increase the number of iterations. Duality gap: 2160998987417.25, tolerance: 223712019258.84488\n",
      "  positive)\n",
      "C:\\Users\\ANU\\Anaconda3\\lib\\site-packages\\sklearn\\linear_model\\coordinate_descent.py:475: ConvergenceWarning: Objective did not converge. You might want to increase the number of iterations. Duality gap: 2161014381235.125, tolerance: 223712019258.84488\n",
      "  positive)\n",
      "C:\\Users\\ANU\\Anaconda3\\lib\\site-packages\\sklearn\\linear_model\\coordinate_descent.py:475: ConvergenceWarning: Objective did not converge. You might want to increase the number of iterations. Duality gap: 2161029733875.375, tolerance: 223712019258.84488\n",
      "  positive)\n",
      "C:\\Users\\ANU\\Anaconda3\\lib\\site-packages\\sklearn\\linear_model\\coordinate_descent.py:475: ConvergenceWarning: Objective did not converge. You might want to increase the number of iterations. Duality gap: 2161044859568.125, tolerance: 223712019258.84488\n",
      "  positive)\n",
      "C:\\Users\\ANU\\Anaconda3\\lib\\site-packages\\sklearn\\linear_model\\coordinate_descent.py:475: ConvergenceWarning: Objective did not converge. You might want to increase the number of iterations. Duality gap: 2161060132257.875, tolerance: 223712019258.84488\n",
      "  positive)\n",
      "C:\\Users\\ANU\\Anaconda3\\lib\\site-packages\\sklearn\\linear_model\\coordinate_descent.py:475: ConvergenceWarning: Objective did not converge. You might want to increase the number of iterations. Duality gap: 2161075367372.75, tolerance: 223712019258.84488\n",
      "  positive)\n",
      "C:\\Users\\ANU\\Anaconda3\\lib\\site-packages\\sklearn\\linear_model\\coordinate_descent.py:475: ConvergenceWarning: Objective did not converge. You might want to increase the number of iterations. Duality gap: 2161090565769.0, tolerance: 223712019258.84488\n",
      "  positive)\n",
      "C:\\Users\\ANU\\Anaconda3\\lib\\site-packages\\sklearn\\linear_model\\coordinate_descent.py:475: ConvergenceWarning: Objective did not converge. You might want to increase the number of iterations. Duality gap: 2161105728611.5, tolerance: 223712019258.84488\n",
      "  positive)\n",
      "C:\\Users\\ANU\\Anaconda3\\lib\\site-packages\\sklearn\\linear_model\\coordinate_descent.py:475: ConvergenceWarning: Objective did not converge. You might want to increase the number of iterations. Duality gap: 2161120856680.375, tolerance: 223712019258.84488\n",
      "  positive)\n",
      "C:\\Users\\ANU\\Anaconda3\\lib\\site-packages\\sklearn\\linear_model\\coordinate_descent.py:475: ConvergenceWarning: Objective did not converge. You might want to increase the number of iterations. Duality gap: 2161135787679.375, tolerance: 223712019258.84488\n",
      "  positive)\n",
      "C:\\Users\\ANU\\Anaconda3\\lib\\site-packages\\sklearn\\linear_model\\coordinate_descent.py:475: ConvergenceWarning: Objective did not converge. You might want to increase the number of iterations. Duality gap: 2161150848788.0, tolerance: 223712019258.84488\n",
      "  positive)\n",
      "C:\\Users\\ANU\\Anaconda3\\lib\\site-packages\\sklearn\\linear_model\\coordinate_descent.py:475: ConvergenceWarning: Objective did not converge. You might want to increase the number of iterations. Duality gap: 2161165877981.5, tolerance: 223712019258.84488\n",
      "  positive)\n",
      "C:\\Users\\ANU\\Anaconda3\\lib\\site-packages\\sklearn\\linear_model\\coordinate_descent.py:475: ConvergenceWarning: Objective did not converge. You might want to increase the number of iterations. Duality gap: 2161180876373.5, tolerance: 223712019258.84488\n",
      "  positive)\n",
      "C:\\Users\\ANU\\Anaconda3\\lib\\site-packages\\sklearn\\linear_model\\coordinate_descent.py:475: ConvergenceWarning: Objective did not converge. You might want to increase the number of iterations. Duality gap: 2161195844479.75, tolerance: 223712019258.84488\n",
      "  positive)\n",
      "C:\\Users\\ANU\\Anaconda3\\lib\\site-packages\\sklearn\\linear_model\\coordinate_descent.py:475: ConvergenceWarning: Objective did not converge. You might want to increase the number of iterations. Duality gap: 2161210783377.5, tolerance: 223712019258.84488\n",
      "  positive)\n",
      "C:\\Users\\ANU\\Anaconda3\\lib\\site-packages\\sklearn\\linear_model\\coordinate_descent.py:475: ConvergenceWarning: Objective did not converge. You might want to increase the number of iterations. Duality gap: 2161225643311.375, tolerance: 223712019258.84488\n",
      "  positive)\n"
     ]
    },
    {
     "name": "stderr",
     "output_type": "stream",
     "text": [
      "C:\\Users\\ANU\\Anaconda3\\lib\\site-packages\\sklearn\\linear_model\\coordinate_descent.py:475: ConvergenceWarning: Objective did not converge. You might want to increase the number of iterations. Duality gap: 2161240435394.625, tolerance: 223712019258.84488\n",
      "  positive)\n",
      "C:\\Users\\ANU\\Anaconda3\\lib\\site-packages\\sklearn\\linear_model\\coordinate_descent.py:475: ConvergenceWarning: Objective did not converge. You might want to increase the number of iterations. Duality gap: 2161255291136.0, tolerance: 223712019258.84488\n",
      "  positive)\n",
      "C:\\Users\\ANU\\Anaconda3\\lib\\site-packages\\sklearn\\linear_model\\coordinate_descent.py:475: ConvergenceWarning: Objective did not converge. You might want to increase the number of iterations. Duality gap: 2161270120458.625, tolerance: 223712019258.84488\n",
      "  positive)\n",
      "C:\\Users\\ANU\\Anaconda3\\lib\\site-packages\\sklearn\\linear_model\\coordinate_descent.py:475: ConvergenceWarning: Objective did not converge. You might want to increase the number of iterations. Duality gap: 2161284924286.625, tolerance: 223712019258.84488\n",
      "  positive)\n",
      "C:\\Users\\ANU\\Anaconda3\\lib\\site-packages\\sklearn\\linear_model\\coordinate_descent.py:475: ConvergenceWarning: Objective did not converge. You might want to increase the number of iterations. Duality gap: 2161299703437.25, tolerance: 223712019258.84488\n",
      "  positive)\n",
      "C:\\Users\\ANU\\Anaconda3\\lib\\site-packages\\sklearn\\linear_model\\coordinate_descent.py:475: ConvergenceWarning: Objective did not converge. You might want to increase the number of iterations. Duality gap: 2161314458351.625, tolerance: 223712019258.84488\n",
      "  positive)\n",
      "C:\\Users\\ANU\\Anaconda3\\lib\\site-packages\\sklearn\\linear_model\\coordinate_descent.py:475: ConvergenceWarning: Objective did not converge. You might want to increase the number of iterations. Duality gap: 2161329189811.0, tolerance: 223712019258.84488\n",
      "  positive)\n",
      "C:\\Users\\ANU\\Anaconda3\\lib\\site-packages\\sklearn\\linear_model\\coordinate_descent.py:475: ConvergenceWarning: Objective did not converge. You might want to increase the number of iterations. Duality gap: 2161343826348.25, tolerance: 223712019258.84488\n",
      "  positive)\n",
      "C:\\Users\\ANU\\Anaconda3\\lib\\site-packages\\sklearn\\linear_model\\coordinate_descent.py:475: ConvergenceWarning: Objective did not converge. You might want to increase the number of iterations. Duality gap: 2161358465177.75, tolerance: 223712019258.84488\n",
      "  positive)\n",
      "C:\\Users\\ANU\\Anaconda3\\lib\\site-packages\\sklearn\\linear_model\\coordinate_descent.py:475: ConvergenceWarning: Objective did not converge. You might want to increase the number of iterations. Duality gap: 2161373130047.75, tolerance: 223712019258.84488\n",
      "  positive)\n",
      "C:\\Users\\ANU\\Anaconda3\\lib\\site-packages\\sklearn\\linear_model\\coordinate_descent.py:475: ConvergenceWarning: Objective did not converge. You might want to increase the number of iterations. Duality gap: 2161387773662.125, tolerance: 223712019258.84488\n",
      "  positive)\n",
      "C:\\Users\\ANU\\Anaconda3\\lib\\site-packages\\sklearn\\linear_model\\coordinate_descent.py:475: ConvergenceWarning: Objective did not converge. You might want to increase the number of iterations. Duality gap: 2161402396896.25, tolerance: 223712019258.84488\n",
      "  positive)\n",
      "C:\\Users\\ANU\\Anaconda3\\lib\\site-packages\\sklearn\\linear_model\\coordinate_descent.py:475: ConvergenceWarning: Objective did not converge. You might want to increase the number of iterations. Duality gap: 2161417000172.75, tolerance: 223712019258.84488\n",
      "  positive)\n",
      "C:\\Users\\ANU\\Anaconda3\\lib\\site-packages\\sklearn\\linear_model\\coordinate_descent.py:475: ConvergenceWarning: Objective did not converge. You might want to increase the number of iterations. Duality gap: 2161431583852.25, tolerance: 223712019258.84488\n",
      "  positive)\n",
      "C:\\Users\\ANU\\Anaconda3\\lib\\site-packages\\sklearn\\linear_model\\coordinate_descent.py:475: ConvergenceWarning: Objective did not converge. You might want to increase the number of iterations. Duality gap: 2161446148559.0, tolerance: 223712019258.84488\n",
      "  positive)\n",
      "C:\\Users\\ANU\\Anaconda3\\lib\\site-packages\\sklearn\\linear_model\\coordinate_descent.py:475: ConvergenceWarning: Objective did not converge. You might want to increase the number of iterations. Duality gap: 2161460694781.0, tolerance: 223712019258.84488\n",
      "  positive)\n",
      "C:\\Users\\ANU\\Anaconda3\\lib\\site-packages\\sklearn\\linear_model\\coordinate_descent.py:475: ConvergenceWarning: Objective did not converge. You might want to increase the number of iterations. Duality gap: 2161475202496.875, tolerance: 223712019258.84488\n",
      "  positive)\n",
      "C:\\Users\\ANU\\Anaconda3\\lib\\site-packages\\sklearn\\linear_model\\coordinate_descent.py:475: ConvergenceWarning: Objective did not converge. You might want to increase the number of iterations. Duality gap: 2161489643703.125, tolerance: 223712019258.84488\n",
      "  positive)\n",
      "C:\\Users\\ANU\\Anaconda3\\lib\\site-packages\\sklearn\\linear_model\\coordinate_descent.py:475: ConvergenceWarning: Objective did not converge. You might want to increase the number of iterations. Duality gap: 2161504129286.0, tolerance: 223712019258.84488\n",
      "  positive)\n",
      "C:\\Users\\ANU\\Anaconda3\\lib\\site-packages\\sklearn\\linear_model\\coordinate_descent.py:475: ConvergenceWarning: Objective did not converge. You might want to increase the number of iterations. Duality gap: 2161518606819.5, tolerance: 223712019258.84488\n",
      "  positive)\n",
      "C:\\Users\\ANU\\Anaconda3\\lib\\site-packages\\sklearn\\linear_model\\coordinate_descent.py:475: ConvergenceWarning: Objective did not converge. You might want to increase the number of iterations. Duality gap: 2161533068106.25, tolerance: 223712019258.84488\n",
      "  positive)\n",
      "C:\\Users\\ANU\\Anaconda3\\lib\\site-packages\\sklearn\\linear_model\\coordinate_descent.py:475: ConvergenceWarning: Objective did not converge. You might want to increase the number of iterations. Duality gap: 2161547513747.5, tolerance: 223712019258.84488\n",
      "  positive)\n",
      "C:\\Users\\ANU\\Anaconda3\\lib\\site-packages\\sklearn\\linear_model\\coordinate_descent.py:475: ConvergenceWarning: Objective did not converge. You might want to increase the number of iterations. Duality gap: 2161561943824.375, tolerance: 223712019258.84488\n",
      "  positive)\n",
      "C:\\Users\\ANU\\Anaconda3\\lib\\site-packages\\sklearn\\linear_model\\coordinate_descent.py:475: ConvergenceWarning: Objective did not converge. You might want to increase the number of iterations. Duality gap: 2161576358909.75, tolerance: 223712019258.84488\n",
      "  positive)\n",
      "C:\\Users\\ANU\\Anaconda3\\lib\\site-packages\\sklearn\\linear_model\\coordinate_descent.py:475: ConvergenceWarning: Objective did not converge. You might want to increase the number of iterations. Duality gap: 2161590759412.5, tolerance: 223712019258.84488\n",
      "  positive)\n",
      "C:\\Users\\ANU\\Anaconda3\\lib\\site-packages\\sklearn\\linear_model\\coordinate_descent.py:475: ConvergenceWarning: Objective did not converge. You might want to increase the number of iterations. Duality gap: 2161605145596.5, tolerance: 223712019258.84488\n",
      "  positive)\n",
      "C:\\Users\\ANU\\Anaconda3\\lib\\site-packages\\sklearn\\linear_model\\coordinate_descent.py:475: ConvergenceWarning: Objective did not converge. You might want to increase the number of iterations. Duality gap: 2161619517859.0, tolerance: 223712019258.84488\n",
      "  positive)\n",
      "C:\\Users\\ANU\\Anaconda3\\lib\\site-packages\\sklearn\\linear_model\\coordinate_descent.py:475: ConvergenceWarning: Objective did not converge. You might want to increase the number of iterations. Duality gap: 2161633876649.5, tolerance: 223712019258.84488\n",
      "  positive)\n",
      "C:\\Users\\ANU\\Anaconda3\\lib\\site-packages\\sklearn\\linear_model\\coordinate_descent.py:475: ConvergenceWarning: Objective did not converge. You might want to increase the number of iterations. Duality gap: 2161648222108.5, tolerance: 223712019258.84488\n",
      "  positive)\n",
      "C:\\Users\\ANU\\Anaconda3\\lib\\site-packages\\sklearn\\linear_model\\coordinate_descent.py:475: ConvergenceWarning: Objective did not converge. You might want to increase the number of iterations. Duality gap: 2161662545198.0, tolerance: 223712019258.84488\n",
      "  positive)\n",
      "C:\\Users\\ANU\\Anaconda3\\lib\\site-packages\\sklearn\\linear_model\\coordinate_descent.py:475: ConvergenceWarning: Objective did not converge. You might want to increase the number of iterations. Duality gap: 2161676830813.0, tolerance: 223712019258.84488\n",
      "  positive)\n",
      "C:\\Users\\ANU\\Anaconda3\\lib\\site-packages\\sklearn\\linear_model\\coordinate_descent.py:475: ConvergenceWarning: Objective did not converge. You might want to increase the number of iterations. Duality gap: 2161691106768.125, tolerance: 223712019258.84488\n",
      "  positive)\n"
     ]
    },
    {
     "name": "stderr",
     "output_type": "stream",
     "text": [
      "C:\\Users\\ANU\\Anaconda3\\lib\\site-packages\\sklearn\\linear_model\\coordinate_descent.py:475: ConvergenceWarning: Objective did not converge. You might want to increase the number of iterations. Duality gap: 2161705402974.625, tolerance: 223712019258.84488\n",
      "  positive)\n",
      "C:\\Users\\ANU\\Anaconda3\\lib\\site-packages\\sklearn\\linear_model\\coordinate_descent.py:475: ConvergenceWarning: Objective did not converge. You might want to increase the number of iterations. Duality gap: 2161719687940.0, tolerance: 223712019258.84488\n",
      "  positive)\n",
      "C:\\Users\\ANU\\Anaconda3\\lib\\site-packages\\sklearn\\linear_model\\coordinate_descent.py:475: ConvergenceWarning: Objective did not converge. You might want to increase the number of iterations. Duality gap: 2161733961338.25, tolerance: 223712019258.84488\n",
      "  positive)\n",
      "C:\\Users\\ANU\\Anaconda3\\lib\\site-packages\\sklearn\\linear_model\\coordinate_descent.py:475: ConvergenceWarning: Objective did not converge. You might want to increase the number of iterations. Duality gap: 2161748223630.625, tolerance: 223712019258.84488\n",
      "  positive)\n",
      "C:\\Users\\ANU\\Anaconda3\\lib\\site-packages\\sklearn\\linear_model\\coordinate_descent.py:475: ConvergenceWarning: Objective did not converge. You might want to increase the number of iterations. Duality gap: 2161762475200.625, tolerance: 223712019258.84488\n",
      "  positive)\n",
      "C:\\Users\\ANU\\Anaconda3\\lib\\site-packages\\sklearn\\linear_model\\coordinate_descent.py:475: ConvergenceWarning: Objective did not converge. You might want to increase the number of iterations. Duality gap: 2161776716122.125, tolerance: 223712019258.84488\n",
      "  positive)\n",
      "C:\\Users\\ANU\\Anaconda3\\lib\\site-packages\\sklearn\\linear_model\\coordinate_descent.py:475: ConvergenceWarning: Objective did not converge. You might want to increase the number of iterations. Duality gap: 2161790946732.5, tolerance: 223712019258.84488\n",
      "  positive)\n",
      "C:\\Users\\ANU\\Anaconda3\\lib\\site-packages\\sklearn\\linear_model\\coordinate_descent.py:475: ConvergenceWarning: Objective did not converge. You might want to increase the number of iterations. Duality gap: 2161805167233.25, tolerance: 223712019258.84488\n",
      "  positive)\n",
      "C:\\Users\\ANU\\Anaconda3\\lib\\site-packages\\sklearn\\linear_model\\coordinate_descent.py:475: ConvergenceWarning: Objective did not converge. You might want to increase the number of iterations. Duality gap: 2161819377826.5, tolerance: 223712019258.84488\n",
      "  positive)\n",
      "C:\\Users\\ANU\\Anaconda3\\lib\\site-packages\\sklearn\\linear_model\\coordinate_descent.py:475: ConvergenceWarning: Objective did not converge. You might want to increase the number of iterations. Duality gap: 2161833578949.125, tolerance: 223712019258.84488\n",
      "  positive)\n",
      "C:\\Users\\ANU\\Anaconda3\\lib\\site-packages\\sklearn\\linear_model\\coordinate_descent.py:475: ConvergenceWarning: Objective did not converge. You might want to increase the number of iterations. Duality gap: 2161847770654.625, tolerance: 223712019258.84488\n",
      "  positive)\n",
      "C:\\Users\\ANU\\Anaconda3\\lib\\site-packages\\sklearn\\linear_model\\coordinate_descent.py:475: ConvergenceWarning: Objective did not converge. You might want to increase the number of iterations. Duality gap: 2161861953115.375, tolerance: 223712019258.84488\n",
      "  positive)\n",
      "C:\\Users\\ANU\\Anaconda3\\lib\\site-packages\\sklearn\\linear_model\\coordinate_descent.py:475: ConvergenceWarning: Objective did not converge. You might want to increase the number of iterations. Duality gap: 2161876126627.875, tolerance: 223712019258.84488\n",
      "  positive)\n",
      "C:\\Users\\ANU\\Anaconda3\\lib\\site-packages\\sklearn\\linear_model\\coordinate_descent.py:475: ConvergenceWarning: Objective did not converge. You might want to increase the number of iterations. Duality gap: 2161890291417.25, tolerance: 223712019258.84488\n",
      "  positive)\n",
      "C:\\Users\\ANU\\Anaconda3\\lib\\site-packages\\sklearn\\linear_model\\coordinate_descent.py:475: ConvergenceWarning: Objective did not converge. You might want to increase the number of iterations. Duality gap: 2161904447697.75, tolerance: 223712019258.84488\n",
      "  positive)\n",
      "C:\\Users\\ANU\\Anaconda3\\lib\\site-packages\\sklearn\\linear_model\\coordinate_descent.py:475: ConvergenceWarning: Objective did not converge. You might want to increase the number of iterations. Duality gap: 2161918595554.875, tolerance: 223712019258.84488\n",
      "  positive)\n",
      "C:\\Users\\ANU\\Anaconda3\\lib\\site-packages\\sklearn\\linear_model\\coordinate_descent.py:475: ConvergenceWarning: Objective did not converge. You might want to increase the number of iterations. Duality gap: 2161932735435.75, tolerance: 223712019258.84488\n",
      "  positive)\n",
      "C:\\Users\\ANU\\Anaconda3\\lib\\site-packages\\sklearn\\linear_model\\coordinate_descent.py:475: ConvergenceWarning: Objective did not converge. You might want to increase the number of iterations. Duality gap: 2161946867117.5, tolerance: 223712019258.84488\n",
      "  positive)\n",
      "C:\\Users\\ANU\\Anaconda3\\lib\\site-packages\\sklearn\\linear_model\\coordinate_descent.py:475: ConvergenceWarning: Objective did not converge. You might want to increase the number of iterations. Duality gap: 2161960991183.125, tolerance: 223712019258.84488\n",
      "  positive)\n",
      "C:\\Users\\ANU\\Anaconda3\\lib\\site-packages\\sklearn\\linear_model\\coordinate_descent.py:475: ConvergenceWarning: Objective did not converge. You might want to increase the number of iterations. Duality gap: 2161975107548.75, tolerance: 223712019258.84488\n",
      "  positive)\n",
      "C:\\Users\\ANU\\Anaconda3\\lib\\site-packages\\sklearn\\linear_model\\coordinate_descent.py:475: ConvergenceWarning: Objective did not converge. You might want to increase the number of iterations. Duality gap: 2161989216241.625, tolerance: 223712019258.84488\n",
      "  positive)\n",
      "C:\\Users\\ANU\\Anaconda3\\lib\\site-packages\\sklearn\\linear_model\\coordinate_descent.py:475: ConvergenceWarning: Objective did not converge. You might want to increase the number of iterations. Duality gap: 2162003317914.75, tolerance: 223712019258.84488\n",
      "  positive)\n",
      "C:\\Users\\ANU\\Anaconda3\\lib\\site-packages\\sklearn\\linear_model\\coordinate_descent.py:475: ConvergenceWarning: Objective did not converge. You might want to increase the number of iterations. Duality gap: 2162017412401.75, tolerance: 223712019258.84488\n",
      "  positive)\n",
      "C:\\Users\\ANU\\Anaconda3\\lib\\site-packages\\sklearn\\linear_model\\coordinate_descent.py:475: ConvergenceWarning: Objective did not converge. You might want to increase the number of iterations. Duality gap: 2162031499874.75, tolerance: 223712019258.84488\n",
      "  positive)\n",
      "C:\\Users\\ANU\\Anaconda3\\lib\\site-packages\\sklearn\\linear_model\\coordinate_descent.py:475: ConvergenceWarning: Objective did not converge. You might want to increase the number of iterations. Duality gap: 2162045580572.375, tolerance: 223712019258.84488\n",
      "  positive)\n",
      "C:\\Users\\ANU\\Anaconda3\\lib\\site-packages\\sklearn\\linear_model\\coordinate_descent.py:475: ConvergenceWarning: Objective did not converge. You might want to increase the number of iterations. Duality gap: 2162059654728.875, tolerance: 223712019258.84488\n",
      "  positive)\n",
      "C:\\Users\\ANU\\Anaconda3\\lib\\site-packages\\sklearn\\linear_model\\coordinate_descent.py:475: ConvergenceWarning: Objective did not converge. You might want to increase the number of iterations. Duality gap: 2162073722143.75, tolerance: 223712019258.84488\n",
      "  positive)\n",
      "C:\\Users\\ANU\\Anaconda3\\lib\\site-packages\\sklearn\\linear_model\\coordinate_descent.py:475: ConvergenceWarning: Objective did not converge. You might want to increase the number of iterations. Duality gap: 2162087783378.625, tolerance: 223712019258.84488\n",
      "  positive)\n",
      "C:\\Users\\ANU\\Anaconda3\\lib\\site-packages\\sklearn\\linear_model\\coordinate_descent.py:475: ConvergenceWarning: Objective did not converge. You might want to increase the number of iterations. Duality gap: 2162101838259.375, tolerance: 223712019258.84488\n",
      "  positive)\n",
      "C:\\Users\\ANU\\Anaconda3\\lib\\site-packages\\sklearn\\linear_model\\coordinate_descent.py:475: ConvergenceWarning: Objective did not converge. You might want to increase the number of iterations. Duality gap: 2162115887035.0, tolerance: 223712019258.84488\n",
      "  positive)\n",
      "C:\\Users\\ANU\\Anaconda3\\lib\\site-packages\\sklearn\\linear_model\\coordinate_descent.py:475: ConvergenceWarning: Objective did not converge. You might want to increase the number of iterations. Duality gap: 2162129929902.0, tolerance: 223712019258.84488\n",
      "  positive)\n",
      "C:\\Users\\ANU\\Anaconda3\\lib\\site-packages\\sklearn\\linear_model\\coordinate_descent.py:475: ConvergenceWarning: Objective did not converge. You might want to increase the number of iterations. Duality gap: 2162143966827.875, tolerance: 223712019258.84488\n",
      "  positive)\n"
     ]
    },
    {
     "name": "stderr",
     "output_type": "stream",
     "text": [
      "C:\\Users\\ANU\\Anaconda3\\lib\\site-packages\\sklearn\\linear_model\\coordinate_descent.py:475: ConvergenceWarning: Objective did not converge. You might want to increase the number of iterations. Duality gap: 2162157998088.375, tolerance: 223712019258.84488\n",
      "  positive)\n",
      "C:\\Users\\ANU\\Anaconda3\\lib\\site-packages\\sklearn\\linear_model\\coordinate_descent.py:475: ConvergenceWarning: Objective did not converge. You might want to increase the number of iterations. Duality gap: 2162172023830.625, tolerance: 223712019258.84488\n",
      "  positive)\n",
      "C:\\Users\\ANU\\Anaconda3\\lib\\site-packages\\sklearn\\linear_model\\coordinate_descent.py:475: ConvergenceWarning: Objective did not converge. You might want to increase the number of iterations. Duality gap: 2162186043880.125, tolerance: 223712019258.84488\n",
      "  positive)\n",
      "C:\\Users\\ANU\\Anaconda3\\lib\\site-packages\\sklearn\\linear_model\\coordinate_descent.py:475: ConvergenceWarning: Objective did not converge. You might want to increase the number of iterations. Duality gap: 2162200058670.25, tolerance: 223712019258.84488\n",
      "  positive)\n",
      "C:\\Users\\ANU\\Anaconda3\\lib\\site-packages\\sklearn\\linear_model\\coordinate_descent.py:475: ConvergenceWarning: Objective did not converge. You might want to increase the number of iterations. Duality gap: 2162214068266.5, tolerance: 223712019258.84488\n",
      "  positive)\n",
      "C:\\Users\\ANU\\Anaconda3\\lib\\site-packages\\sklearn\\linear_model\\coordinate_descent.py:475: ConvergenceWarning: Objective did not converge. You might want to increase the number of iterations. Duality gap: 2162228072466.625, tolerance: 223712019258.84488\n",
      "  positive)\n",
      "C:\\Users\\ANU\\Anaconda3\\lib\\site-packages\\sklearn\\linear_model\\coordinate_descent.py:475: ConvergenceWarning: Objective did not converge. You might want to increase the number of iterations. Duality gap: 2162242071779.25, tolerance: 223712019258.84488\n",
      "  positive)\n",
      "C:\\Users\\ANU\\Anaconda3\\lib\\site-packages\\sklearn\\linear_model\\coordinate_descent.py:475: ConvergenceWarning: Objective did not converge. You might want to increase the number of iterations. Duality gap: 2162256066019.375, tolerance: 223712019258.84488\n",
      "  positive)\n",
      "C:\\Users\\ANU\\Anaconda3\\lib\\site-packages\\sklearn\\linear_model\\coordinate_descent.py:475: ConvergenceWarning: Objective did not converge. You might want to increase the number of iterations. Duality gap: 2162270055509.625, tolerance: 223712019258.84488\n",
      "  positive)\n",
      "C:\\Users\\ANU\\Anaconda3\\lib\\site-packages\\sklearn\\linear_model\\coordinate_descent.py:475: ConvergenceWarning: Objective did not converge. You might want to increase the number of iterations. Duality gap: 2162284040153.75, tolerance: 223712019258.84488\n",
      "  positive)\n",
      "C:\\Users\\ANU\\Anaconda3\\lib\\site-packages\\sklearn\\linear_model\\coordinate_descent.py:475: ConvergenceWarning: Objective did not converge. You might want to increase the number of iterations. Duality gap: 2162298020124.5, tolerance: 223712019258.84488\n",
      "  positive)\n",
      "C:\\Users\\ANU\\Anaconda3\\lib\\site-packages\\sklearn\\linear_model\\coordinate_descent.py:475: ConvergenceWarning: Objective did not converge. You might want to increase the number of iterations. Duality gap: 2162311995607.25, tolerance: 223712019258.84488\n",
      "  positive)\n",
      "C:\\Users\\ANU\\Anaconda3\\lib\\site-packages\\sklearn\\linear_model\\coordinate_descent.py:475: ConvergenceWarning: Objective did not converge. You might want to increase the number of iterations. Duality gap: 2162325966883.0, tolerance: 223712019258.84488\n",
      "  positive)\n",
      "C:\\Users\\ANU\\Anaconda3\\lib\\site-packages\\sklearn\\linear_model\\coordinate_descent.py:475: ConvergenceWarning: Objective did not converge. You might want to increase the number of iterations. Duality gap: 2162339948981.75, tolerance: 223712019258.84488\n",
      "  positive)\n",
      "C:\\Users\\ANU\\Anaconda3\\lib\\site-packages\\sklearn\\linear_model\\coordinate_descent.py:475: ConvergenceWarning: Objective did not converge. You might want to increase the number of iterations. Duality gap: 2162353926870.875, tolerance: 223712019258.84488\n",
      "  positive)\n",
      "C:\\Users\\ANU\\Anaconda3\\lib\\site-packages\\sklearn\\linear_model\\coordinate_descent.py:475: ConvergenceWarning: Objective did not converge. You might want to increase the number of iterations. Duality gap: 2162367890479.125, tolerance: 223712019258.84488\n",
      "  positive)\n",
      "C:\\Users\\ANU\\Anaconda3\\lib\\site-packages\\sklearn\\linear_model\\coordinate_descent.py:475: ConvergenceWarning: Objective did not converge. You might want to increase the number of iterations. Duality gap: 2162381843789.125, tolerance: 223712019258.84488\n",
      "  positive)\n",
      "C:\\Users\\ANU\\Anaconda3\\lib\\site-packages\\sklearn\\linear_model\\coordinate_descent.py:475: ConvergenceWarning: Objective did not converge. You might want to increase the number of iterations. Duality gap: 2162395792656.125, tolerance: 223712019258.84488\n",
      "  positive)\n",
      "C:\\Users\\ANU\\Anaconda3\\lib\\site-packages\\sklearn\\linear_model\\coordinate_descent.py:475: ConvergenceWarning: Objective did not converge. You might want to increase the number of iterations. Duality gap: 2162409737850.625, tolerance: 223712019258.84488\n",
      "  positive)\n",
      "C:\\Users\\ANU\\Anaconda3\\lib\\site-packages\\sklearn\\linear_model\\coordinate_descent.py:475: ConvergenceWarning: Objective did not converge. You might want to increase the number of iterations. Duality gap: 2162423678982.875, tolerance: 223712019258.84488\n",
      "  positive)\n",
      "C:\\Users\\ANU\\Anaconda3\\lib\\site-packages\\sklearn\\linear_model\\coordinate_descent.py:475: ConvergenceWarning: Objective did not converge. You might want to increase the number of iterations. Duality gap: 2162437616351.0, tolerance: 223712019258.84488\n",
      "  positive)\n",
      "C:\\Users\\ANU\\Anaconda3\\lib\\site-packages\\sklearn\\linear_model\\coordinate_descent.py:475: ConvergenceWarning: Objective did not converge. You might want to increase the number of iterations. Duality gap: 2162451549772.125, tolerance: 223712019258.84488\n",
      "  positive)\n",
      "C:\\Users\\ANU\\Anaconda3\\lib\\site-packages\\sklearn\\linear_model\\coordinate_descent.py:475: ConvergenceWarning: Objective did not converge. You might want to increase the number of iterations. Duality gap: 2162465479525.25, tolerance: 223712019258.84488\n",
      "  positive)\n",
      "C:\\Users\\ANU\\Anaconda3\\lib\\site-packages\\sklearn\\linear_model\\coordinate_descent.py:475: ConvergenceWarning: Objective did not converge. You might want to increase the number of iterations. Duality gap: 2162479405743.875, tolerance: 223712019258.84488\n",
      "  positive)\n",
      "C:\\Users\\ANU\\Anaconda3\\lib\\site-packages\\sklearn\\linear_model\\coordinate_descent.py:475: ConvergenceWarning: Objective did not converge. You might want to increase the number of iterations. Duality gap: 2162493328272.125, tolerance: 223712019258.84488\n",
      "  positive)\n",
      "C:\\Users\\ANU\\Anaconda3\\lib\\site-packages\\sklearn\\linear_model\\coordinate_descent.py:475: ConvergenceWarning: Objective did not converge. You might want to increase the number of iterations. Duality gap: 2162507247166.25, tolerance: 223712019258.84488\n",
      "  positive)\n",
      "C:\\Users\\ANU\\Anaconda3\\lib\\site-packages\\sklearn\\linear_model\\coordinate_descent.py:475: ConvergenceWarning: Objective did not converge. You might want to increase the number of iterations. Duality gap: 2162521162827.625, tolerance: 223712019258.84488\n",
      "  positive)\n",
      "C:\\Users\\ANU\\Anaconda3\\lib\\site-packages\\sklearn\\linear_model\\coordinate_descent.py:475: ConvergenceWarning: Objective did not converge. You might want to increase the number of iterations. Duality gap: 2162535078044.625, tolerance: 223712019258.84488\n",
      "  positive)\n",
      "C:\\Users\\ANU\\Anaconda3\\lib\\site-packages\\sklearn\\linear_model\\coordinate_descent.py:475: ConvergenceWarning: Objective did not converge. You might want to increase the number of iterations. Duality gap: 2162549007966.375, tolerance: 223712019258.84488\n",
      "  positive)\n",
      "C:\\Users\\ANU\\Anaconda3\\lib\\site-packages\\sklearn\\linear_model\\coordinate_descent.py:475: ConvergenceWarning: Objective did not converge. You might want to increase the number of iterations. Duality gap: 2162562921542.75, tolerance: 223712019258.84488\n",
      "  positive)\n",
      "C:\\Users\\ANU\\Anaconda3\\lib\\site-packages\\sklearn\\linear_model\\coordinate_descent.py:475: ConvergenceWarning: Objective did not converge. You might want to increase the number of iterations. Duality gap: 2162576823441.625, tolerance: 223712019258.84488\n",
      "  positive)\n",
      "C:\\Users\\ANU\\Anaconda3\\lib\\site-packages\\sklearn\\linear_model\\coordinate_descent.py:475: ConvergenceWarning: Objective did not converge. You might want to increase the number of iterations. Duality gap: 2162590721791.125, tolerance: 223712019258.84488\n",
      "  positive)\n"
     ]
    },
    {
     "name": "stderr",
     "output_type": "stream",
     "text": [
      "C:\\Users\\ANU\\Anaconda3\\lib\\site-packages\\sklearn\\linear_model\\coordinate_descent.py:475: ConvergenceWarning: Objective did not converge. You might want to increase the number of iterations. Duality gap: 2162604617045.75, tolerance: 223712019258.84488\n",
      "  positive)\n",
      "C:\\Users\\ANU\\Anaconda3\\lib\\site-packages\\sklearn\\linear_model\\coordinate_descent.py:475: ConvergenceWarning: Objective did not converge. You might want to increase the number of iterations. Duality gap: 2162618509419.625, tolerance: 223712019258.84488\n",
      "  positive)\n",
      "C:\\Users\\ANU\\Anaconda3\\lib\\site-packages\\sklearn\\linear_model\\coordinate_descent.py:475: ConvergenceWarning: Objective did not converge. You might want to increase the number of iterations. Duality gap: 2162632398810.875, tolerance: 223712019258.84488\n",
      "  positive)\n",
      "C:\\Users\\ANU\\Anaconda3\\lib\\site-packages\\sklearn\\linear_model\\coordinate_descent.py:475: ConvergenceWarning: Objective did not converge. You might want to increase the number of iterations. Duality gap: 2162646285074.125, tolerance: 223712019258.84488\n",
      "  positive)\n",
      "C:\\Users\\ANU\\Anaconda3\\lib\\site-packages\\sklearn\\linear_model\\coordinate_descent.py:475: ConvergenceWarning: Objective did not converge. You might want to increase the number of iterations. Duality gap: 2162660168578.5, tolerance: 223712019258.84488\n",
      "  positive)\n",
      "C:\\Users\\ANU\\Anaconda3\\lib\\site-packages\\sklearn\\linear_model\\coordinate_descent.py:475: ConvergenceWarning: Objective did not converge. You might want to increase the number of iterations. Duality gap: 2162674048959.0, tolerance: 223712019258.84488\n",
      "  positive)\n",
      "C:\\Users\\ANU\\Anaconda3\\lib\\site-packages\\sklearn\\linear_model\\coordinate_descent.py:475: ConvergenceWarning: Objective did not converge. You might want to increase the number of iterations. Duality gap: 2162687937867.25, tolerance: 223712019258.84488\n",
      "  positive)\n",
      "C:\\Users\\ANU\\Anaconda3\\lib\\site-packages\\sklearn\\linear_model\\coordinate_descent.py:475: ConvergenceWarning: Objective did not converge. You might want to increase the number of iterations. Duality gap: 2162701831337.5, tolerance: 223712019258.84488\n",
      "  positive)\n",
      "C:\\Users\\ANU\\Anaconda3\\lib\\site-packages\\sklearn\\linear_model\\coordinate_descent.py:475: ConvergenceWarning: Objective did not converge. You might want to increase the number of iterations. Duality gap: 2162715702967.0, tolerance: 223712019258.84488\n",
      "  positive)\n",
      "C:\\Users\\ANU\\Anaconda3\\lib\\site-packages\\sklearn\\linear_model\\coordinate_descent.py:475: ConvergenceWarning: Objective did not converge. You might want to increase the number of iterations. Duality gap: 2162729571802.375, tolerance: 223712019258.84488\n",
      "  positive)\n",
      "C:\\Users\\ANU\\Anaconda3\\lib\\site-packages\\sklearn\\linear_model\\coordinate_descent.py:475: ConvergenceWarning: Objective did not converge. You might want to increase the number of iterations. Duality gap: 2162743437938.375, tolerance: 223712019258.84488\n",
      "  positive)\n",
      "C:\\Users\\ANU\\Anaconda3\\lib\\site-packages\\sklearn\\linear_model\\coordinate_descent.py:475: ConvergenceWarning: Objective did not converge. You might want to increase the number of iterations. Duality gap: 2162757301609.625, tolerance: 223712019258.84488\n",
      "  positive)\n",
      "C:\\Users\\ANU\\Anaconda3\\lib\\site-packages\\sklearn\\linear_model\\coordinate_descent.py:475: ConvergenceWarning: Objective did not converge. You might want to increase the number of iterations. Duality gap: 2162771162555.375, tolerance: 223712019258.84488\n",
      "  positive)\n",
      "C:\\Users\\ANU\\Anaconda3\\lib\\site-packages\\sklearn\\linear_model\\coordinate_descent.py:475: ConvergenceWarning: Objective did not converge. You might want to increase the number of iterations. Duality gap: 2162785020885.0, tolerance: 223712019258.84488\n",
      "  positive)\n",
      "C:\\Users\\ANU\\Anaconda3\\lib\\site-packages\\sklearn\\linear_model\\coordinate_descent.py:475: ConvergenceWarning: Objective did not converge. You might want to increase the number of iterations. Duality gap: 2162798876799.0, tolerance: 223712019258.84488\n",
      "  positive)\n",
      "C:\\Users\\ANU\\Anaconda3\\lib\\site-packages\\sklearn\\linear_model\\coordinate_descent.py:475: ConvergenceWarning: Objective did not converge. You might want to increase the number of iterations. Duality gap: 2162812746593.75, tolerance: 223712019258.84488\n",
      "  positive)\n",
      "C:\\Users\\ANU\\Anaconda3\\lib\\site-packages\\sklearn\\linear_model\\coordinate_descent.py:475: ConvergenceWarning: Objective did not converge. You might want to increase the number of iterations. Duality gap: 2162826609074.25, tolerance: 223712019258.84488\n",
      "  positive)\n",
      "C:\\Users\\ANU\\Anaconda3\\lib\\site-packages\\sklearn\\linear_model\\coordinate_descent.py:475: ConvergenceWarning: Objective did not converge. You might want to increase the number of iterations. Duality gap: 2162840457142.625, tolerance: 223712019258.84488\n",
      "  positive)\n",
      "C:\\Users\\ANU\\Anaconda3\\lib\\site-packages\\sklearn\\linear_model\\coordinate_descent.py:475: ConvergenceWarning: Objective did not converge. You might want to increase the number of iterations. Duality gap: 2162854302858.125, tolerance: 223712019258.84488\n",
      "  positive)\n",
      "C:\\Users\\ANU\\Anaconda3\\lib\\site-packages\\sklearn\\linear_model\\coordinate_descent.py:475: ConvergenceWarning: Objective did not converge. You might want to increase the number of iterations. Duality gap: 2162868146162.5, tolerance: 223712019258.84488\n",
      "  positive)\n",
      "C:\\Users\\ANU\\Anaconda3\\lib\\site-packages\\sklearn\\linear_model\\coordinate_descent.py:475: ConvergenceWarning: Objective did not converge. You might want to increase the number of iterations. Duality gap: 2162881987181.625, tolerance: 223712019258.84488\n",
      "  positive)\n",
      "C:\\Users\\ANU\\Anaconda3\\lib\\site-packages\\sklearn\\linear_model\\coordinate_descent.py:475: ConvergenceWarning: Objective did not converge. You might want to increase the number of iterations. Duality gap: 2162895826055.125, tolerance: 223712019258.84488\n",
      "  positive)\n",
      "C:\\Users\\ANU\\Anaconda3\\lib\\site-packages\\sklearn\\linear_model\\coordinate_descent.py:475: ConvergenceWarning: Objective did not converge. You might want to increase the number of iterations. Duality gap: 2162909662440.875, tolerance: 223712019258.84488\n",
      "  positive)\n",
      "C:\\Users\\ANU\\Anaconda3\\lib\\site-packages\\sklearn\\linear_model\\coordinate_descent.py:475: ConvergenceWarning: Objective did not converge. You might want to increase the number of iterations. Duality gap: 2162923521514.0, tolerance: 223712019258.84488\n",
      "  positive)\n",
      "C:\\Users\\ANU\\Anaconda3\\lib\\site-packages\\sklearn\\linear_model\\coordinate_descent.py:475: ConvergenceWarning: Objective did not converge. You might want to increase the number of iterations. Duality gap: 2162937355339.375, tolerance: 223712019258.84488\n",
      "  positive)\n",
      "C:\\Users\\ANU\\Anaconda3\\lib\\site-packages\\sklearn\\linear_model\\coordinate_descent.py:475: ConvergenceWarning: Objective did not converge. You might want to increase the number of iterations. Duality gap: 2162951184658.25, tolerance: 223712019258.84488\n",
      "  positive)\n",
      "C:\\Users\\ANU\\Anaconda3\\lib\\site-packages\\sklearn\\linear_model\\coordinate_descent.py:475: ConvergenceWarning: Objective did not converge. You might want to increase the number of iterations. Duality gap: 2162965012077.625, tolerance: 223712019258.84488\n",
      "  positive)\n",
      "C:\\Users\\ANU\\Anaconda3\\lib\\site-packages\\sklearn\\linear_model\\coordinate_descent.py:475: ConvergenceWarning: Objective did not converge. You might want to increase the number of iterations. Duality gap: 2162978837180.75, tolerance: 223712019258.84488\n",
      "  positive)\n",
      "C:\\Users\\ANU\\Anaconda3\\lib\\site-packages\\sklearn\\linear_model\\coordinate_descent.py:475: ConvergenceWarning: Objective did not converge. You might want to increase the number of iterations. Duality gap: 2162992660346.75, tolerance: 223712019258.84488\n",
      "  positive)\n",
      "C:\\Users\\ANU\\Anaconda3\\lib\\site-packages\\sklearn\\linear_model\\coordinate_descent.py:475: ConvergenceWarning: Objective did not converge. You might want to increase the number of iterations. Duality gap: 2163006481319.625, tolerance: 223712019258.84488\n",
      "  positive)\n",
      "C:\\Users\\ANU\\Anaconda3\\lib\\site-packages\\sklearn\\linear_model\\coordinate_descent.py:475: ConvergenceWarning: Objective did not converge. You might want to increase the number of iterations. Duality gap: 2163020326242.375, tolerance: 223712019258.84488\n",
      "  positive)\n",
      "C:\\Users\\ANU\\Anaconda3\\lib\\site-packages\\sklearn\\linear_model\\coordinate_descent.py:475: ConvergenceWarning: Objective did not converge. You might want to increase the number of iterations. Duality gap: 2163034142765.0, tolerance: 223712019258.84488\n",
      "  positive)\n"
     ]
    },
    {
     "name": "stderr",
     "output_type": "stream",
     "text": [
      "C:\\Users\\ANU\\Anaconda3\\lib\\site-packages\\sklearn\\linear_model\\coordinate_descent.py:475: ConvergenceWarning: Objective did not converge. You might want to increase the number of iterations. Duality gap: 2163047957439.125, tolerance: 223712019258.84488\n",
      "  positive)\n",
      "C:\\Users\\ANU\\Anaconda3\\lib\\site-packages\\sklearn\\linear_model\\coordinate_descent.py:475: ConvergenceWarning: Objective did not converge. You might want to increase the number of iterations. Duality gap: 2163061770193.25, tolerance: 223712019258.84488\n",
      "  positive)\n",
      "C:\\Users\\ANU\\Anaconda3\\lib\\site-packages\\sklearn\\linear_model\\coordinate_descent.py:475: ConvergenceWarning: Objective did not converge. You might want to increase the number of iterations. Duality gap: 2163075580712.875, tolerance: 223712019258.84488\n",
      "  positive)\n",
      "C:\\Users\\ANU\\Anaconda3\\lib\\site-packages\\sklearn\\linear_model\\coordinate_descent.py:475: ConvergenceWarning: Objective did not converge. You might want to increase the number of iterations. Duality gap: 2163089389393.625, tolerance: 223712019258.84488\n",
      "  positive)\n",
      "C:\\Users\\ANU\\Anaconda3\\lib\\site-packages\\sklearn\\linear_model\\coordinate_descent.py:475: ConvergenceWarning: Objective did not converge. You might want to increase the number of iterations. Duality gap: 2163103210046.75, tolerance: 223712019258.84488\n",
      "  positive)\n",
      "C:\\Users\\ANU\\Anaconda3\\lib\\site-packages\\sklearn\\linear_model\\coordinate_descent.py:475: ConvergenceWarning: Objective did not converge. You might want to increase the number of iterations. Duality gap: 2163117026142.625, tolerance: 223712019258.84488\n",
      "  positive)\n",
      "C:\\Users\\ANU\\Anaconda3\\lib\\site-packages\\sklearn\\linear_model\\coordinate_descent.py:475: ConvergenceWarning: Objective did not converge. You might want to increase the number of iterations. Duality gap: 2163130828821.875, tolerance: 223712019258.84488\n",
      "  positive)\n",
      "C:\\Users\\ANU\\Anaconda3\\lib\\site-packages\\sklearn\\linear_model\\coordinate_descent.py:475: ConvergenceWarning: Objective did not converge. You might want to increase the number of iterations. Duality gap: 2163144629665.25, tolerance: 223712019258.84488\n",
      "  positive)\n",
      "C:\\Users\\ANU\\Anaconda3\\lib\\site-packages\\sklearn\\linear_model\\coordinate_descent.py:475: ConvergenceWarning: Objective did not converge. You might want to increase the number of iterations. Duality gap: 2163158428771.625, tolerance: 223712019258.84488\n",
      "  positive)\n",
      "C:\\Users\\ANU\\Anaconda3\\lib\\site-packages\\sklearn\\linear_model\\coordinate_descent.py:475: ConvergenceWarning: Objective did not converge. You might want to increase the number of iterations. Duality gap: 2163172226030.25, tolerance: 223712019258.84488\n",
      "  positive)\n",
      "C:\\Users\\ANU\\Anaconda3\\lib\\site-packages\\sklearn\\linear_model\\coordinate_descent.py:475: ConvergenceWarning: Objective did not converge. You might want to increase the number of iterations. Duality gap: 2163186035581.0, tolerance: 223712019258.84488\n",
      "  positive)\n",
      "C:\\Users\\ANU\\Anaconda3\\lib\\site-packages\\sklearn\\linear_model\\coordinate_descent.py:475: ConvergenceWarning: Objective did not converge. You might want to increase the number of iterations. Duality gap: 2163199839386.5, tolerance: 223712019258.84488\n",
      "  positive)\n",
      "C:\\Users\\ANU\\Anaconda3\\lib\\site-packages\\sklearn\\linear_model\\coordinate_descent.py:475: ConvergenceWarning: Objective did not converge. You might want to increase the number of iterations. Duality gap: 2163213630947.125, tolerance: 223712019258.84488\n",
      "  positive)\n",
      "C:\\Users\\ANU\\Anaconda3\\lib\\site-packages\\sklearn\\linear_model\\coordinate_descent.py:475: ConvergenceWarning: Objective did not converge. You might want to increase the number of iterations. Duality gap: 2163227420834.625, tolerance: 223712019258.84488\n",
      "  positive)\n",
      "C:\\Users\\ANU\\Anaconda3\\lib\\site-packages\\sklearn\\linear_model\\coordinate_descent.py:475: ConvergenceWarning: Objective did not converge. You might want to increase the number of iterations. Duality gap: 2163241208859.875, tolerance: 223712019258.84488\n",
      "  positive)\n",
      "C:\\Users\\ANU\\Anaconda3\\lib\\site-packages\\sklearn\\linear_model\\coordinate_descent.py:475: ConvergenceWarning: Objective did not converge. You might want to increase the number of iterations. Duality gap: 2163254995339.5, tolerance: 223712019258.84488\n",
      "  positive)\n",
      "C:\\Users\\ANU\\Anaconda3\\lib\\site-packages\\sklearn\\linear_model\\coordinate_descent.py:475: ConvergenceWarning: Objective did not converge. You might want to increase the number of iterations. Duality gap: 2163268804136.125, tolerance: 223712019258.84488\n",
      "  positive)\n",
      "C:\\Users\\ANU\\Anaconda3\\lib\\site-packages\\sklearn\\linear_model\\coordinate_descent.py:475: ConvergenceWarning: Objective did not converge. You might want to increase the number of iterations. Duality gap: 2163282586670.875, tolerance: 223712019258.84488\n",
      "  positive)\n",
      "C:\\Users\\ANU\\Anaconda3\\lib\\site-packages\\sklearn\\linear_model\\coordinate_descent.py:475: ConvergenceWarning: Objective did not converge. You might want to increase the number of iterations. Duality gap: 2163296367832.625, tolerance: 223712019258.84488\n",
      "  positive)\n",
      "C:\\Users\\ANU\\Anaconda3\\lib\\site-packages\\sklearn\\linear_model\\coordinate_descent.py:475: ConvergenceWarning: Objective did not converge. You might want to increase the number of iterations. Duality gap: 2163310147242.125, tolerance: 223712019258.84488\n",
      "  positive)\n",
      "C:\\Users\\ANU\\Anaconda3\\lib\\site-packages\\sklearn\\linear_model\\coordinate_descent.py:475: ConvergenceWarning: Objective did not converge. You might want to increase the number of iterations. Duality gap: 2163323925002.75, tolerance: 223712019258.84488\n",
      "  positive)\n",
      "C:\\Users\\ANU\\Anaconda3\\lib\\site-packages\\sklearn\\linear_model\\coordinate_descent.py:475: ConvergenceWarning: Objective did not converge. You might want to increase the number of iterations. Duality gap: 2163337715728.5, tolerance: 223712019258.84488\n",
      "  positive)\n",
      "C:\\Users\\ANU\\Anaconda3\\lib\\site-packages\\sklearn\\linear_model\\coordinate_descent.py:475: ConvergenceWarning: Objective did not converge. You might want to increase the number of iterations. Duality gap: 2163351499252.25, tolerance: 223712019258.84488\n",
      "  positive)\n",
      "C:\\Users\\ANU\\Anaconda3\\lib\\site-packages\\sklearn\\linear_model\\coordinate_descent.py:475: ConvergenceWarning: Objective did not converge. You might want to increase the number of iterations. Duality gap: 2163365271933.875, tolerance: 223712019258.84488\n",
      "  positive)\n",
      "C:\\Users\\ANU\\Anaconda3\\lib\\site-packages\\sklearn\\linear_model\\coordinate_descent.py:475: ConvergenceWarning: Objective did not converge. You might want to increase the number of iterations. Duality gap: 2163379042990.0, tolerance: 223712019258.84488\n",
      "  positive)\n",
      "C:\\Users\\ANU\\Anaconda3\\lib\\site-packages\\sklearn\\linear_model\\coordinate_descent.py:475: ConvergenceWarning: Objective did not converge. You might want to increase the number of iterations. Duality gap: 2163392812571.0, tolerance: 223712019258.84488\n",
      "  positive)\n",
      "C:\\Users\\ANU\\Anaconda3\\lib\\site-packages\\sklearn\\linear_model\\coordinate_descent.py:475: ConvergenceWarning: Objective did not converge. You might want to increase the number of iterations. Duality gap: 2163406591228.25, tolerance: 223712019258.84488\n",
      "  positive)\n",
      "C:\\Users\\ANU\\Anaconda3\\lib\\site-packages\\sklearn\\linear_model\\coordinate_descent.py:475: ConvergenceWarning: Objective did not converge. You might want to increase the number of iterations. Duality gap: 2163420370150.625, tolerance: 223712019258.84488\n",
      "  positive)\n",
      "C:\\Users\\ANU\\Anaconda3\\lib\\site-packages\\sklearn\\linear_model\\coordinate_descent.py:475: ConvergenceWarning: Objective did not converge. You might want to increase the number of iterations. Duality gap: 2163434134898.0, tolerance: 223712019258.84488\n",
      "  positive)\n",
      "C:\\Users\\ANU\\Anaconda3\\lib\\site-packages\\sklearn\\linear_model\\coordinate_descent.py:475: ConvergenceWarning: Objective did not converge. You might want to increase the number of iterations. Duality gap: 2163447898009.125, tolerance: 223712019258.84488\n",
      "  positive)\n",
      "C:\\Users\\ANU\\Anaconda3\\lib\\site-packages\\sklearn\\linear_model\\coordinate_descent.py:475: ConvergenceWarning: Objective did not converge. You might want to increase the number of iterations. Duality gap: 2163461659630.75, tolerance: 223712019258.84488\n",
      "  positive)\n",
      "C:\\Users\\ANU\\Anaconda3\\lib\\site-packages\\sklearn\\linear_model\\coordinate_descent.py:475: ConvergenceWarning: Objective did not converge. You might want to increase the number of iterations. Duality gap: 2163475434093.375, tolerance: 223712019258.84488\n",
      "  positive)\n"
     ]
    },
    {
     "name": "stderr",
     "output_type": "stream",
     "text": [
      "C:\\Users\\ANU\\Anaconda3\\lib\\site-packages\\sklearn\\linear_model\\coordinate_descent.py:475: ConvergenceWarning: Objective did not converge. You might want to increase the number of iterations. Duality gap: 2163489201323.125, tolerance: 223712019258.84488\n",
      "  positive)\n",
      "C:\\Users\\ANU\\Anaconda3\\lib\\site-packages\\sklearn\\linear_model\\coordinate_descent.py:475: ConvergenceWarning: Objective did not converge. You might want to increase the number of iterations. Duality gap: 2163502958199.25, tolerance: 223712019258.84488\n",
      "  positive)\n",
      "C:\\Users\\ANU\\Anaconda3\\lib\\site-packages\\sklearn\\linear_model\\coordinate_descent.py:475: ConvergenceWarning: Objective did not converge. You might want to increase the number of iterations. Duality gap: 2163516713716.875, tolerance: 223712019258.84488\n",
      "  positive)\n",
      "C:\\Users\\ANU\\Anaconda3\\lib\\site-packages\\sklearn\\linear_model\\coordinate_descent.py:475: ConvergenceWarning: Objective did not converge. You might want to increase the number of iterations. Duality gap: 2163530467706.25, tolerance: 223712019258.84488\n",
      "  positive)\n",
      "C:\\Users\\ANU\\Anaconda3\\lib\\site-packages\\sklearn\\linear_model\\coordinate_descent.py:475: ConvergenceWarning: Objective did not converge. You might want to increase the number of iterations. Duality gap: 2163544243087.0, tolerance: 223712019258.84488\n",
      "  positive)\n",
      "C:\\Users\\ANU\\Anaconda3\\lib\\site-packages\\sklearn\\linear_model\\coordinate_descent.py:475: ConvergenceWarning: Objective did not converge. You might want to increase the number of iterations. Duality gap: 2163557993924.25, tolerance: 223712019258.84488\n",
      "  positive)\n",
      "C:\\Users\\ANU\\Anaconda3\\lib\\site-packages\\sklearn\\linear_model\\coordinate_descent.py:475: ConvergenceWarning: Objective did not converge. You might want to increase the number of iterations. Duality gap: 2163571743509.75, tolerance: 223712019258.84488\n",
      "  positive)\n",
      "C:\\Users\\ANU\\Anaconda3\\lib\\site-packages\\sklearn\\linear_model\\coordinate_descent.py:475: ConvergenceWarning: Objective did not converge. You might want to increase the number of iterations. Duality gap: 2163585491569.75, tolerance: 223712019258.84488\n",
      "  positive)\n",
      "C:\\Users\\ANU\\Anaconda3\\lib\\site-packages\\sklearn\\linear_model\\coordinate_descent.py:475: ConvergenceWarning: Objective did not converge. You might want to increase the number of iterations. Duality gap: 2163599242339.5, tolerance: 223712019258.84488\n",
      "  positive)\n",
      "C:\\Users\\ANU\\Anaconda3\\lib\\site-packages\\sklearn\\linear_model\\coordinate_descent.py:475: ConvergenceWarning: Objective did not converge. You might want to increase the number of iterations. Duality gap: 2163613006036.625, tolerance: 223712019258.84488\n",
      "  positive)\n",
      "C:\\Users\\ANU\\Anaconda3\\lib\\site-packages\\sklearn\\linear_model\\coordinate_descent.py:475: ConvergenceWarning: Objective did not converge. You might want to increase the number of iterations. Duality gap: 2163626749612.5, tolerance: 223712019258.84488\n",
      "  positive)\n",
      "C:\\Users\\ANU\\Anaconda3\\lib\\site-packages\\sklearn\\linear_model\\coordinate_descent.py:475: ConvergenceWarning: Objective did not converge. You might want to increase the number of iterations. Duality gap: 2163640491853.0, tolerance: 223712019258.84488\n",
      "  positive)\n",
      "C:\\Users\\ANU\\Anaconda3\\lib\\site-packages\\sklearn\\linear_model\\coordinate_descent.py:475: ConvergenceWarning: Objective did not converge. You might want to increase the number of iterations. Duality gap: 2163654232845.375, tolerance: 223712019258.84488\n",
      "  positive)\n",
      "C:\\Users\\ANU\\Anaconda3\\lib\\site-packages\\sklearn\\linear_model\\coordinate_descent.py:475: ConvergenceWarning: Objective did not converge. You might want to increase the number of iterations. Duality gap: 2163667994716.25, tolerance: 223712019258.84488\n",
      "  positive)\n",
      "C:\\Users\\ANU\\Anaconda3\\lib\\site-packages\\sklearn\\linear_model\\coordinate_descent.py:475: ConvergenceWarning: Objective did not converge. You might want to increase the number of iterations. Duality gap: 2163681732739.625, tolerance: 223712019258.84488\n",
      "  positive)\n",
      "C:\\Users\\ANU\\Anaconda3\\lib\\site-packages\\sklearn\\linear_model\\coordinate_descent.py:475: ConvergenceWarning: Objective did not converge. You might want to increase the number of iterations. Duality gap: 2163695469353.25, tolerance: 223712019258.84488\n",
      "  positive)\n",
      "C:\\Users\\ANU\\Anaconda3\\lib\\site-packages\\sklearn\\linear_model\\coordinate_descent.py:475: ConvergenceWarning: Objective did not converge. You might want to increase the number of iterations. Duality gap: 2163709204622.5, tolerance: 223712019258.84488\n",
      "  positive)\n",
      "C:\\Users\\ANU\\Anaconda3\\lib\\site-packages\\sklearn\\linear_model\\coordinate_descent.py:475: ConvergenceWarning: Objective did not converge. You might want to increase the number of iterations. Duality gap: 2163722955105.375, tolerance: 223712019258.84488\n",
      "  positive)\n",
      "C:\\Users\\ANU\\Anaconda3\\lib\\site-packages\\sklearn\\linear_model\\coordinate_descent.py:475: ConvergenceWarning: Objective did not converge. You might want to increase the number of iterations. Duality gap: 2163736693314.625, tolerance: 223712019258.84488\n",
      "  positive)\n",
      "C:\\Users\\ANU\\Anaconda3\\lib\\site-packages\\sklearn\\linear_model\\coordinate_descent.py:475: ConvergenceWarning: Objective did not converge. You might want to increase the number of iterations. Duality gap: 2163750424492.0, tolerance: 223712019258.84488\n",
      "  positive)\n",
      "C:\\Users\\ANU\\Anaconda3\\lib\\site-packages\\sklearn\\linear_model\\coordinate_descent.py:475: ConvergenceWarning: Objective did not converge. You might want to increase the number of iterations. Duality gap: 2163764154256.625, tolerance: 223712019258.84488\n",
      "  positive)\n",
      "C:\\Users\\ANU\\Anaconda3\\lib\\site-packages\\sklearn\\linear_model\\coordinate_descent.py:475: ConvergenceWarning: Objective did not converge. You might want to increase the number of iterations. Duality gap: 2163777892639.625, tolerance: 223712019258.84488\n",
      "  positive)\n",
      "C:\\Users\\ANU\\Anaconda3\\lib\\site-packages\\sklearn\\linear_model\\coordinate_descent.py:475: ConvergenceWarning: Objective did not converge. You might want to increase the number of iterations. Duality gap: 2163791631857.5, tolerance: 223712019258.84488\n",
      "  positive)\n",
      "C:\\Users\\ANU\\Anaconda3\\lib\\site-packages\\sklearn\\linear_model\\coordinate_descent.py:475: ConvergenceWarning: Objective did not converge. You might want to increase the number of iterations. Duality gap: 2163805357626.75, tolerance: 223712019258.84488\n",
      "  positive)\n",
      "C:\\Users\\ANU\\Anaconda3\\lib\\site-packages\\sklearn\\linear_model\\coordinate_descent.py:475: ConvergenceWarning: Objective did not converge. You might want to increase the number of iterations. Duality gap: 2163819082149.75, tolerance: 223712019258.84488\n",
      "  positive)\n",
      "C:\\Users\\ANU\\Anaconda3\\lib\\site-packages\\sklearn\\linear_model\\coordinate_descent.py:475: ConvergenceWarning: Objective did not converge. You might want to increase the number of iterations. Duality gap: 2163832812781.0, tolerance: 223712019258.84488\n",
      "  positive)\n",
      "C:\\Users\\ANU\\Anaconda3\\lib\\site-packages\\sklearn\\linear_model\\coordinate_descent.py:475: ConvergenceWarning: Objective did not converge. You might want to increase the number of iterations. Duality gap: 2163846549042.75, tolerance: 223712019258.84488\n",
      "  positive)\n",
      "C:\\Users\\ANU\\Anaconda3\\lib\\site-packages\\sklearn\\linear_model\\coordinate_descent.py:475: ConvergenceWarning: Objective did not converge. You might want to increase the number of iterations. Duality gap: 2163860269414.625, tolerance: 223712019258.84488\n",
      "  positive)\n",
      "C:\\Users\\ANU\\Anaconda3\\lib\\site-packages\\sklearn\\linear_model\\coordinate_descent.py:475: ConvergenceWarning: Objective did not converge. You might want to increase the number of iterations. Duality gap: 2163873988526.375, tolerance: 223712019258.84488\n",
      "  positive)\n",
      "C:\\Users\\ANU\\Anaconda3\\lib\\site-packages\\sklearn\\linear_model\\coordinate_descent.py:475: ConvergenceWarning: Objective did not converge. You might want to increase the number of iterations. Duality gap: 2163887715852.75, tolerance: 223712019258.84488\n",
      "  positive)\n",
      "C:\\Users\\ANU\\Anaconda3\\lib\\site-packages\\sklearn\\linear_model\\coordinate_descent.py:475: ConvergenceWarning: Objective did not converge. You might want to increase the number of iterations. Duality gap: 2163901444928.375, tolerance: 223712019258.84488\n",
      "  positive)\n",
      "C:\\Users\\ANU\\Anaconda3\\lib\\site-packages\\sklearn\\linear_model\\coordinate_descent.py:475: ConvergenceWarning: Objective did not converge. You might want to increase the number of iterations. Duality gap: 2163915160238.5, tolerance: 223712019258.84488\n",
      "  positive)\n"
     ]
    },
    {
     "name": "stderr",
     "output_type": "stream",
     "text": [
      "C:\\Users\\ANU\\Anaconda3\\lib\\site-packages\\sklearn\\linear_model\\coordinate_descent.py:475: ConvergenceWarning: Objective did not converge. You might want to increase the number of iterations. Duality gap: 2163928874117.0, tolerance: 223712019258.84488\n",
      "  positive)\n",
      "C:\\Users\\ANU\\Anaconda3\\lib\\site-packages\\sklearn\\linear_model\\coordinate_descent.py:475: ConvergenceWarning: Objective did not converge. You might want to increase the number of iterations. Duality gap: 2163942602151.375, tolerance: 223712019258.84488\n",
      "  positive)\n",
      "C:\\Users\\ANU\\Anaconda3\\lib\\site-packages\\sklearn\\linear_model\\coordinate_descent.py:475: ConvergenceWarning: Objective did not converge. You might want to increase the number of iterations. Duality gap: 2163956320274.125, tolerance: 223712019258.84488\n",
      "  positive)\n",
      "C:\\Users\\ANU\\Anaconda3\\lib\\site-packages\\sklearn\\linear_model\\coordinate_descent.py:475: ConvergenceWarning: Objective did not converge. You might want to increase the number of iterations. Duality gap: 2163970030236.5, tolerance: 223712019258.84488\n",
      "  positive)\n",
      "C:\\Users\\ANU\\Anaconda3\\lib\\site-packages\\sklearn\\linear_model\\coordinate_descent.py:475: ConvergenceWarning: Objective did not converge. You might want to increase the number of iterations. Duality gap: 2163983739146.375, tolerance: 223712019258.84488\n",
      "  positive)\n",
      "C:\\Users\\ANU\\Anaconda3\\lib\\site-packages\\sklearn\\linear_model\\coordinate_descent.py:475: ConvergenceWarning: Objective did not converge. You might want to increase the number of iterations. Duality gap: 2163997468863.125, tolerance: 223712019258.84488\n",
      "  positive)\n",
      "C:\\Users\\ANU\\Anaconda3\\lib\\site-packages\\sklearn\\linear_model\\coordinate_descent.py:475: ConvergenceWarning: Objective did not converge. You might want to increase the number of iterations. Duality gap: 2164011174968.625, tolerance: 223712019258.84488\n",
      "  positive)\n",
      "C:\\Users\\ANU\\Anaconda3\\lib\\site-packages\\sklearn\\linear_model\\coordinate_descent.py:475: ConvergenceWarning: Objective did not converge. You might want to increase the number of iterations. Duality gap: 2164024880067.125, tolerance: 223712019258.84488\n",
      "  positive)\n",
      "C:\\Users\\ANU\\Anaconda3\\lib\\site-packages\\sklearn\\linear_model\\coordinate_descent.py:475: ConvergenceWarning: Objective did not converge. You might want to increase the number of iterations. Duality gap: 2164038583845.875, tolerance: 223712019258.84488\n",
      "  positive)\n",
      "C:\\Users\\ANU\\Anaconda3\\lib\\site-packages\\sklearn\\linear_model\\coordinate_descent.py:475: ConvergenceWarning: Objective did not converge. You might want to increase the number of iterations. Duality gap: 2164038583845.875, tolerance: 223712019258.84488\n",
      "  positive)\n",
      "C:\\Users\\ANU\\Anaconda3\\lib\\site-packages\\sklearn\\linear_model\\coordinate_descent.py:475: ConvergenceWarning: Objective did not converge. You might want to increase the number of iterations. Duality gap: 2177246262370.0, tolerance: 223712019258.84488\n",
      "  positive)\n",
      "C:\\Users\\ANU\\Anaconda3\\lib\\site-packages\\sklearn\\linear_model\\coordinate_descent.py:475: ConvergenceWarning: Objective did not converge. You might want to increase the number of iterations. Duality gap: 2187376418838.25, tolerance: 223712019258.84488\n",
      "  positive)\n",
      "C:\\Users\\ANU\\Anaconda3\\lib\\site-packages\\sklearn\\linear_model\\coordinate_descent.py:475: ConvergenceWarning: Objective did not converge. You might want to increase the number of iterations. Duality gap: 2192708392405.125, tolerance: 223712019258.84488\n",
      "  positive)\n",
      "C:\\Users\\ANU\\Anaconda3\\lib\\site-packages\\sklearn\\linear_model\\coordinate_descent.py:475: ConvergenceWarning: Objective did not converge. You might want to increase the number of iterations. Duality gap: 2201989126596.75, tolerance: 223712019258.84488\n",
      "  positive)\n",
      "C:\\Users\\ANU\\Anaconda3\\lib\\site-packages\\sklearn\\linear_model\\coordinate_descent.py:475: ConvergenceWarning: Objective did not converge. You might want to increase the number of iterations. Duality gap: 2210839156539.25, tolerance: 223712019258.84488\n",
      "  positive)\n",
      "C:\\Users\\ANU\\Anaconda3\\lib\\site-packages\\sklearn\\linear_model\\coordinate_descent.py:475: ConvergenceWarning: Objective did not converge. You might want to increase the number of iterations. Duality gap: 2219165977509.875, tolerance: 223712019258.84488\n",
      "  positive)\n",
      "C:\\Users\\ANU\\Anaconda3\\lib\\site-packages\\sklearn\\linear_model\\coordinate_descent.py:475: ConvergenceWarning: Objective did not converge. You might want to increase the number of iterations. Duality gap: 2226968726253.875, tolerance: 223712019258.84488\n",
      "  positive)\n",
      "C:\\Users\\ANU\\Anaconda3\\lib\\site-packages\\sklearn\\linear_model\\coordinate_descent.py:475: ConvergenceWarning: Objective did not converge. You might want to increase the number of iterations. Duality gap: 2234246967539.125, tolerance: 223712019258.84488\n",
      "  positive)\n",
      "C:\\Users\\ANU\\Anaconda3\\lib\\site-packages\\sklearn\\linear_model\\coordinate_descent.py:475: ConvergenceWarning: Objective did not converge. You might want to increase the number of iterations. Duality gap: 2238145240362.0, tolerance: 223712019258.84488\n",
      "  positive)\n"
     ]
    },
    {
     "data": {
      "image/png": "[encoded data removed]",
      "text/plain": [
       "<Figure size 432x288 with 1 Axes>"
      ]
     },
     "metadata": {
      "needs_background": "light"
     },
     "output_type": "display_data"
    }
   ],
   "source": [
    "%matplotlib inline\n",
    "\n",
    "x_range1 = np.linspace(0.001, 1, 1000).reshape(-1,1)\n",
    "x_range2 = np.linspace(1, 1000, 1000).reshape(-1,1)\n",
    "\n",
    "x_range = np.append(x_range1, x_range2)\n",
    "coeff = []\n",
    "\n",
    "for alpha in x_range: \n",
    "    lasso = Lasso(alpha)\n",
    "    lasso.fit(X_train,y_train)\n",
    "    coeff.append(lasso.coef_ )\n",
    "    \n",
    "coeff = np.array(coeff)\n",
    "\n",
    "for i in range(0,13):\n",
    "    plt.plot(x_range, coeff[:,i], label = 'feature {:d}'.format(i))\n",
    "\n",
    "plt.axhline(y=0, xmin=0.001, xmax=9999, linewidth=1, c ='gray')\n",
    "plt.xlabel(r'$\\alpha$')\n",
    "plt.xscale('log')\n",
    "plt.legend(loc='upper center', bbox_to_anchor=(0.5, 1.5),\n",
    "          ncol=3, fancybox=True, shadow=True)\n",
    "plt.show()"
   ]
  },
  {
   "cell_type": "markdown",
   "metadata": {},
   "source": [
    "With PCA"
   ]
  },
  {
   "cell_type": "code",
   "execution_count": 117,
   "metadata": {},
   "outputs": [
    {
     "name": "stdout",
     "output_type": "stream",
     "text": [
      "Fitting 5 folds for each of 7 candidates, totalling 35 fits\n"
     ]
    },
    {
     "name": "stderr",
     "output_type": "stream",
     "text": [
      "[Parallel(n_jobs=-1)]: Using backend LokyBackend with 4 concurrent workers.\n",
      "[Parallel(n_jobs=-1)]: Done  28 out of  35 | elapsed:    4.4s remaining:    1.0s\n",
      "[Parallel(n_jobs=-1)]: Done  35 out of  35 | elapsed:    4.4s finished\n"
     ]
    },
    {
     "data": {
      "text/plain": [
       "{'alpha': 10}"
      ]
     },
     "execution_count": 117,
     "metadata": {},
     "output_type": "execute_result"
    }
   ],
   "source": [
    "lasso_reg.fit(X_train_reduced, y_train)\n",
    "\n",
    "y_pred = lasso_reg.predict(X_test_reduced)\n",
    "lasso_reg.best_params_\n"
   ]
  },
  {
   "cell_type": "code",
   "execution_count": 118,
   "metadata": {
    "scrolled": true
   },
   "outputs": [
    {
     "name": "stdout",
     "output_type": "stream",
     "text": [
      "Train score: 0.5425\n",
      "Test score: 0.5817\n"
     ]
    }
   ],
   "source": [
    "print('Train score: {:.4f}'.format(lasso_reg.score(X_train_reduced,y_train)))\n",
    "print('Test score: {:.4f}'.format(lasso_reg.score(X_test_reduced, y_test)))"
   ]
  },
  {
   "cell_type": "code",
   "execution_count": 121,
   "metadata": {},
   "outputs": [
    {
     "data": {
      "text/plain": [
       "Text(0.5, 0, '$\\\\alpha$')"
      ]
     },
     "execution_count": 121,
     "metadata": {},
     "output_type": "execute_result"
    },
    {
     "data": {
      "image/png": "[encoded data removed]",
      "text/plain": [
       "<Figure size 432x288 with 1 Axes>"
      ]
     },
     "metadata": {
      "needs_background": "light"
     },
     "output_type": "display_data"
    }
   ],
   "source": [
    "train_score_list = []\n",
    "test_score_list = []\n",
    "\n",
    "x_range = [0.001, 0.01, 0.1, 1, 10, 100, 1000]\n",
    "for alpha in x_range: \n",
    "    lasso = Lasso(alpha)\n",
    "    lasso.fit(X_train_reduced,y_train)\n",
    "    train_score_list.append(lasso.score(X_train_reduced,y_train))\n",
    "    test_score_list.append(lasso.score(X_test_reduced, y_test))\n",
    "    \n",
    "plt.plot(x_range, train_score_list, c = 'g', label = 'Train Score')\n",
    "plt.plot(x_range, test_score_list, c = 'b', label = 'Test Score')\n",
    "plt.xscale('log')\n",
    "plt.legend(loc = 3)\n",
    "plt.xlabel(r'$\\alpha$')"
   ]
  },
  {
   "cell_type": "code",
   "execution_count": 122,
   "metadata": {},
   "outputs": [
    {
     "ename": "IndexError",
     "evalue": "index 12 is out of bounds for axis 1 with size 12",
     "output_type": "error",
     "traceback": [
      "\u001b[1;31m---------------------------------------------------------------------------\u001b[0m",
      "\u001b[1;31mIndexError\u001b[0m                                Traceback (most recent call last)",
      "\u001b[1;32m<ipython-input-122-1039279da29a>\u001b[0m in \u001b[0;36m<module>\u001b[1;34m\u001b[0m\n\u001b[0;32m     15\u001b[0m \u001b[1;33m\u001b[0m\u001b[0m\n\u001b[0;32m     16\u001b[0m \u001b[1;32mfor\u001b[0m \u001b[0mi\u001b[0m \u001b[1;32min\u001b[0m \u001b[0mrange\u001b[0m\u001b[1;33m(\u001b[0m\u001b[1;36m0\u001b[0m\u001b[1;33m,\u001b[0m\u001b[1;36m13\u001b[0m\u001b[1;33m)\u001b[0m\u001b[1;33m:\u001b[0m\u001b[1;33m\u001b[0m\u001b[1;33m\u001b[0m\u001b[0m\n\u001b[1;32m---> 17\u001b[1;33m     \u001b[0mplt\u001b[0m\u001b[1;33m.\u001b[0m\u001b[0mplot\u001b[0m\u001b[1;33m(\u001b[0m\u001b[0mx_range\u001b[0m\u001b[1;33m,\u001b[0m \u001b[0mcoeff\u001b[0m\u001b[1;33m[\u001b[0m\u001b[1;33m:\u001b[0m\u001b[1;33m,\u001b[0m\u001b[0mi\u001b[0m\u001b[1;33m]\u001b[0m\u001b[1;33m,\u001b[0m \u001b[0mlabel\u001b[0m \u001b[1;33m=\u001b[0m \u001b[1;34m'feature {:d}'\u001b[0m\u001b[1;33m.\u001b[0m\u001b[0mformat\u001b[0m\u001b[1;33m(\u001b[0m\u001b[0mi\u001b[0m\u001b[1;33m)\u001b[0m\u001b[1;33m)\u001b[0m\u001b[1;33m\u001b[0m\u001b[1;33m\u001b[0m\u001b[0m\n\u001b[0m\u001b[0;32m     18\u001b[0m \u001b[1;33m\u001b[0m\u001b[0m\n\u001b[0;32m     19\u001b[0m \u001b[0mplt\u001b[0m\u001b[1;33m.\u001b[0m\u001b[0maxhline\u001b[0m\u001b[1;33m(\u001b[0m\u001b[0my\u001b[0m\u001b[1;33m=\u001b[0m\u001b[1;36m0\u001b[0m\u001b[1;33m,\u001b[0m \u001b[0mxmin\u001b[0m\u001b[1;33m=\u001b[0m\u001b[1;36m0.001\u001b[0m\u001b[1;33m,\u001b[0m \u001b[0mxmax\u001b[0m\u001b[1;33m=\u001b[0m\u001b[1;36m9999\u001b[0m\u001b[1;33m,\u001b[0m \u001b[0mlinewidth\u001b[0m\u001b[1;33m=\u001b[0m\u001b[1;36m1\u001b[0m\u001b[1;33m,\u001b[0m \u001b[0mc\u001b[0m \u001b[1;33m=\u001b[0m\u001b[1;34m'gray'\u001b[0m\u001b[1;33m)\u001b[0m\u001b[1;33m\u001b[0m\u001b[1;33m\u001b[0m\u001b[0m\n",
      "\u001b[1;31mIndexError\u001b[0m: index 12 is out of bounds for axis 1 with size 12"
     ]
    },
    {
     "data": {
      "image/png": "[encoded data removed]",
      "text/plain": [
       "<Figure size 432x288 with 1 Axes>"
      ]
     },
     "metadata": {
      "needs_background": "light"
     },
     "output_type": "display_data"
    }
   ],
   "source": [
    "%matplotlib inline\n",
    "\n",
    "x_range1 = np.linspace(0.001, 1, 1000).reshape(-1,1)\n",
    "x_range2 = np.linspace(1, 1000, 1000).reshape(-1,1)\n",
    "\n",
    "x_range = np.append(x_range1, x_range2)\n",
    "coeff = []\n",
    "\n",
    "for alpha in x_range: \n",
    "    lasso = Lasso(alpha)\n",
    "    lasso.fit(X_train_reduced,y_train)\n",
    "    coeff.append(lasso.coef_ )\n",
    "    \n",
    "coeff = np.array(coeff)\n",
    "\n",
    "for i in range(0,13):\n",
    "    plt.plot(x_range, coeff[:,i], label = 'feature {:d}'.format(i))\n",
    "\n",
    "plt.axhline(y=0, xmin=0.001, xmax=9999, linewidth=1, c ='gray')\n",
    "plt.xlabel(r'$\\alpha$')\n",
    "plt.xscale('log')\n",
    "plt.legend(loc='upper center', bbox_to_anchor=(0.5, 1.5),\n",
    "          ncol=3, fancybox=True, shadow=True)\n",
    "plt.show()"
   ]
  },
  {
   "cell_type": "markdown",
   "metadata": {},
   "source": [
    "# KNN Regressor"
   ]
  },
  {
   "cell_type": "markdown",
   "metadata": {},
   "source": [
    "Without PCA"
   ]
  },
  {
   "cell_type": "code",
   "execution_count": 83,
   "metadata": {},
   "outputs": [
    {
     "data": {
      "text/plain": [
       "{'n_neighbors': 5}"
      ]
     },
     "execution_count": 83,
     "metadata": {},
     "output_type": "execute_result"
    }
   ],
   "source": [
    "from sklearn.neighbors import KNeighborsRegressor\n",
    "\n",
    "n = [3,5,11,19]\n",
    "\n",
    "param_grid = dict(n_neighbors=n)\n",
    "\n",
    "knn=GridSearchCV(KNeighborsRegressor(), param_grid, cv = 5, iid = False)\n",
    "knn.fit(X_train,y_train)\n",
    "y_pred = knn.predict(X_test)\n",
    "knn.best_params_\n"
   ]
  },
  {
   "cell_type": "code",
   "execution_count": 81,
   "metadata": {},
   "outputs": [
    {
     "name": "stdout",
     "output_type": "stream",
     "text": [
      "Train score: 0.8213\n",
      "Test score: 0.7145\n"
     ]
    }
   ],
   "source": [
    "print('Train score: {:.4f}'.format(knn.score(X_train,y_train)))\n",
    "print('Test score: {:.4f}'.format(knn.score(X_test, y_test)))"
   ]
  },
  {
   "cell_type": "markdown",
   "metadata": {},
   "source": [
    "With PCA"
   ]
  },
  {
   "cell_type": "code",
   "execution_count": 84,
   "metadata": {},
   "outputs": [
    {
     "data": {
      "text/plain": [
       "{'n_neighbors': 5}"
      ]
     },
     "execution_count": 84,
     "metadata": {},
     "output_type": "execute_result"
    }
   ],
   "source": [
    "knn.fit(X_train_reduced,y_train)\n",
    "\n",
    "y_pred = knn.predict(X_test_reduced)\n",
    "knn.best_params_\n"
   ]
  },
  {
   "cell_type": "code",
   "execution_count": 85,
   "metadata": {},
   "outputs": [
    {
     "name": "stdout",
     "output_type": "stream",
     "text": [
      "Train score: 0.7970\n",
      "Test score: 0.6903\n"
     ]
    }
   ],
   "source": [
    "print('Train score: {:.4f}'.format(knn.score(X_train_reduced,y_train)))\n",
    "print('Test score: {:.4f}'.format(knn.score(X_test_reduced, y_test)))"
   ]
  },
  {
   "cell_type": "markdown",
   "metadata": {},
   "source": [
    "# SVM Regressor"
   ]
  },
  {
   "cell_type": "markdown",
   "metadata": {},
   "source": [
    "Without PCA"
   ]
  },
  {
   "cell_type": "code",
   "execution_count": 95,
   "metadata": {},
   "outputs": [
    {
     "data": {
      "text/plain": [
       "{'C': 100, 'kernel': 'linear'}"
      ]
     },
     "execution_count": 95,
     "metadata": {},
     "output_type": "execute_result"
    }
   ],
   "source": [
    "from sklearn.svm import SVR\n",
    "\n",
    "C = [0.001, 0.01, 0.1, 1, 10, 100]\n",
    "kernel = ['linear','poly','rbf']\n",
    "\n",
    "param_grid = dict(C=C, kernel=kernel)\n",
    "\n",
    "SVM=GridSearchCV(SVR(gamma ='scale'), param_grid, cv = 5, iid = False)\n",
    "\n",
    "SVM.fit(X_train,y_train)\n",
    "y_pred = SVM.predict(X_test)\n",
    "SVM.best_params_\n"
   ]
  },
  {
   "cell_type": "code",
   "execution_count": 96,
   "metadata": {},
   "outputs": [
    {
     "name": "stdout",
     "output_type": "stream",
     "text": [
      "Train score: 0.3294\n",
      "Test score: 0.3571\n"
     ]
    }
   ],
   "source": [
    "print('Train score: {:.4f}'.format(SVM.score(X_train,y_train)))\n",
    "print('Test score: {:.4f}'.format(SVM.score(X_test, y_test)))"
   ]
  },
  {
   "cell_type": "markdown",
   "metadata": {},
   "source": [
    "With PCA"
   ]
  },
  {
   "cell_type": "code",
   "execution_count": 126,
   "metadata": {},
   "outputs": [
    {
     "data": {
      "text/plain": [
       "{'C': 100, 'kernel': 'linear'}"
      ]
     },
     "execution_count": 126,
     "metadata": {},
     "output_type": "execute_result"
    }
   ],
   "source": [
    "SVM.fit(X_train_reduced,y_train)\n",
    "\n",
    "y_pred = SVM.predict(X_test_reduced)\n",
    "SVM.best_params_"
   ]
  },
  {
   "cell_type": "code",
   "execution_count": 127,
   "metadata": {},
   "outputs": [
    {
     "name": "stdout",
     "output_type": "stream",
     "text": [
      "Train score: 0.3212\n",
      "Test score: 0.3487\n"
     ]
    }
   ],
   "source": [
    "print('Train score: {:.4f}'.format(SVM.score(X_train_reduced,y_train)))\n",
    "print('Test score: {:.4f}'.format(SVM.score(X_test_reduced, y_test)))"
   ]
  },
  {
   "cell_type": "markdown",
   "metadata": {},
   "source": [
    "# Linear SVR"
   ]
  },
  {
   "cell_type": "markdown",
   "metadata": {},
   "source": [
    "\n",
    "Without PCA"
   ]
  },
  {
   "cell_type": "code",
   "execution_count": 123,
   "metadata": {
    "scrolled": true
   },
   "outputs": [
    {
     "name": "stderr",
     "output_type": "stream",
     "text": [
      "C:\\Users\\ANU\\Anaconda3\\lib\\site-packages\\sklearn\\svm\\base.py:193: FutureWarning: The default value of gamma will change from 'auto' to 'scale' in version 0.22 to account better for unscaled features. Set gamma explicitly to 'auto' or 'scale' to avoid this warning.\n",
      "  \"avoid this warning.\", FutureWarning)\n",
      "C:\\Users\\ANU\\Anaconda3\\lib\\site-packages\\sklearn\\svm\\base.py:193: FutureWarning: The default value of gamma will change from 'auto' to 'scale' in version 0.22 to account better for unscaled features. Set gamma explicitly to 'auto' or 'scale' to avoid this warning.\n",
      "  \"avoid this warning.\", FutureWarning)\n",
      "C:\\Users\\ANU\\Anaconda3\\lib\\site-packages\\sklearn\\svm\\base.py:193: FutureWarning: The default value of gamma will change from 'auto' to 'scale' in version 0.22 to account better for unscaled features. Set gamma explicitly to 'auto' or 'scale' to avoid this warning.\n",
      "  \"avoid this warning.\", FutureWarning)\n",
      "C:\\Users\\ANU\\Anaconda3\\lib\\site-packages\\sklearn\\svm\\base.py:193: FutureWarning: The default value of gamma will change from 'auto' to 'scale' in version 0.22 to account better for unscaled features. Set gamma explicitly to 'auto' or 'scale' to avoid this warning.\n",
      "  \"avoid this warning.\", FutureWarning)\n",
      "C:\\Users\\ANU\\Anaconda3\\lib\\site-packages\\sklearn\\svm\\base.py:193: FutureWarning: The default value of gamma will change from 'auto' to 'scale' in version 0.22 to account better for unscaled features. Set gamma explicitly to 'auto' or 'scale' to avoid this warning.\n",
      "  \"avoid this warning.\", FutureWarning)\n",
      "C:\\Users\\ANU\\Anaconda3\\lib\\site-packages\\sklearn\\svm\\base.py:193: FutureWarning: The default value of gamma will change from 'auto' to 'scale' in version 0.22 to account better for unscaled features. Set gamma explicitly to 'auto' or 'scale' to avoid this warning.\n",
      "  \"avoid this warning.\", FutureWarning)\n",
      "C:\\Users\\ANU\\Anaconda3\\lib\\site-packages\\sklearn\\svm\\base.py:193: FutureWarning: The default value of gamma will change from 'auto' to 'scale' in version 0.22 to account better for unscaled features. Set gamma explicitly to 'auto' or 'scale' to avoid this warning.\n",
      "  \"avoid this warning.\", FutureWarning)\n",
      "C:\\Users\\ANU\\Anaconda3\\lib\\site-packages\\sklearn\\svm\\base.py:193: FutureWarning: The default value of gamma will change from 'auto' to 'scale' in version 0.22 to account better for unscaled features. Set gamma explicitly to 'auto' or 'scale' to avoid this warning.\n",
      "  \"avoid this warning.\", FutureWarning)\n",
      "C:\\Users\\ANU\\Anaconda3\\lib\\site-packages\\sklearn\\svm\\base.py:193: FutureWarning: The default value of gamma will change from 'auto' to 'scale' in version 0.22 to account better for unscaled features. Set gamma explicitly to 'auto' or 'scale' to avoid this warning.\n",
      "  \"avoid this warning.\", FutureWarning)\n",
      "C:\\Users\\ANU\\Anaconda3\\lib\\site-packages\\sklearn\\svm\\base.py:193: FutureWarning: The default value of gamma will change from 'auto' to 'scale' in version 0.22 to account better for unscaled features. Set gamma explicitly to 'auto' or 'scale' to avoid this warning.\n",
      "  \"avoid this warning.\", FutureWarning)\n",
      "C:\\Users\\ANU\\Anaconda3\\lib\\site-packages\\sklearn\\svm\\base.py:193: FutureWarning: The default value of gamma will change from 'auto' to 'scale' in version 0.22 to account better for unscaled features. Set gamma explicitly to 'auto' or 'scale' to avoid this warning.\n",
      "  \"avoid this warning.\", FutureWarning)\n",
      "C:\\Users\\ANU\\Anaconda3\\lib\\site-packages\\sklearn\\svm\\base.py:193: FutureWarning: The default value of gamma will change from 'auto' to 'scale' in version 0.22 to account better for unscaled features. Set gamma explicitly to 'auto' or 'scale' to avoid this warning.\n",
      "  \"avoid this warning.\", FutureWarning)\n",
      "C:\\Users\\ANU\\Anaconda3\\lib\\site-packages\\sklearn\\svm\\base.py:193: FutureWarning: The default value of gamma will change from 'auto' to 'scale' in version 0.22 to account better for unscaled features. Set gamma explicitly to 'auto' or 'scale' to avoid this warning.\n",
      "  \"avoid this warning.\", FutureWarning)\n",
      "C:\\Users\\ANU\\Anaconda3\\lib\\site-packages\\sklearn\\svm\\base.py:193: FutureWarning: The default value of gamma will change from 'auto' to 'scale' in version 0.22 to account better for unscaled features. Set gamma explicitly to 'auto' or 'scale' to avoid this warning.\n",
      "  \"avoid this warning.\", FutureWarning)\n",
      "C:\\Users\\ANU\\Anaconda3\\lib\\site-packages\\sklearn\\svm\\base.py:193: FutureWarning: The default value of gamma will change from 'auto' to 'scale' in version 0.22 to account better for unscaled features. Set gamma explicitly to 'auto' or 'scale' to avoid this warning.\n",
      "  \"avoid this warning.\", FutureWarning)\n",
      "C:\\Users\\ANU\\Anaconda3\\lib\\site-packages\\sklearn\\svm\\base.py:193: FutureWarning: The default value of gamma will change from 'auto' to 'scale' in version 0.22 to account better for unscaled features. Set gamma explicitly to 'auto' or 'scale' to avoid this warning.\n",
      "  \"avoid this warning.\", FutureWarning)\n",
      "C:\\Users\\ANU\\Anaconda3\\lib\\site-packages\\sklearn\\svm\\base.py:193: FutureWarning: The default value of gamma will change from 'auto' to 'scale' in version 0.22 to account better for unscaled features. Set gamma explicitly to 'auto' or 'scale' to avoid this warning.\n",
      "  \"avoid this warning.\", FutureWarning)\n",
      "C:\\Users\\ANU\\Anaconda3\\lib\\site-packages\\sklearn\\svm\\base.py:193: FutureWarning: The default value of gamma will change from 'auto' to 'scale' in version 0.22 to account better for unscaled features. Set gamma explicitly to 'auto' or 'scale' to avoid this warning.\n",
      "  \"avoid this warning.\", FutureWarning)\n",
      "C:\\Users\\ANU\\Anaconda3\\lib\\site-packages\\sklearn\\svm\\base.py:193: FutureWarning: The default value of gamma will change from 'auto' to 'scale' in version 0.22 to account better for unscaled features. Set gamma explicitly to 'auto' or 'scale' to avoid this warning.\n",
      "  \"avoid this warning.\", FutureWarning)\n",
      "C:\\Users\\ANU\\Anaconda3\\lib\\site-packages\\sklearn\\svm\\base.py:193: FutureWarning: The default value of gamma will change from 'auto' to 'scale' in version 0.22 to account better for unscaled features. Set gamma explicitly to 'auto' or 'scale' to avoid this warning.\n",
      "  \"avoid this warning.\", FutureWarning)\n",
      "C:\\Users\\ANU\\Anaconda3\\lib\\site-packages\\sklearn\\svm\\base.py:193: FutureWarning: The default value of gamma will change from 'auto' to 'scale' in version 0.22 to account better for unscaled features. Set gamma explicitly to 'auto' or 'scale' to avoid this warning.\n",
      "  \"avoid this warning.\", FutureWarning)\n",
      "C:\\Users\\ANU\\Anaconda3\\lib\\site-packages\\sklearn\\svm\\base.py:193: FutureWarning: The default value of gamma will change from 'auto' to 'scale' in version 0.22 to account better for unscaled features. Set gamma explicitly to 'auto' or 'scale' to avoid this warning.\n",
      "  \"avoid this warning.\", FutureWarning)\n",
      "C:\\Users\\ANU\\Anaconda3\\lib\\site-packages\\sklearn\\svm\\base.py:193: FutureWarning: The default value of gamma will change from 'auto' to 'scale' in version 0.22 to account better for unscaled features. Set gamma explicitly to 'auto' or 'scale' to avoid this warning.\n",
      "  \"avoid this warning.\", FutureWarning)\n",
      "C:\\Users\\ANU\\Anaconda3\\lib\\site-packages\\sklearn\\svm\\base.py:193: FutureWarning: The default value of gamma will change from 'auto' to 'scale' in version 0.22 to account better for unscaled features. Set gamma explicitly to 'auto' or 'scale' to avoid this warning.\n",
      "  \"avoid this warning.\", FutureWarning)\n",
      "C:\\Users\\ANU\\Anaconda3\\lib\\site-packages\\sklearn\\svm\\base.py:193: FutureWarning: The default value of gamma will change from 'auto' to 'scale' in version 0.22 to account better for unscaled features. Set gamma explicitly to 'auto' or 'scale' to avoid this warning.\n",
      "  \"avoid this warning.\", FutureWarning)\n",
      "C:\\Users\\ANU\\Anaconda3\\lib\\site-packages\\sklearn\\svm\\base.py:193: FutureWarning: The default value of gamma will change from 'auto' to 'scale' in version 0.22 to account better for unscaled features. Set gamma explicitly to 'auto' or 'scale' to avoid this warning.\n",
      "  \"avoid this warning.\", FutureWarning)\n",
      "C:\\Users\\ANU\\Anaconda3\\lib\\site-packages\\sklearn\\svm\\base.py:193: FutureWarning: The default value of gamma will change from 'auto' to 'scale' in version 0.22 to account better for unscaled features. Set gamma explicitly to 'auto' or 'scale' to avoid this warning.\n",
      "  \"avoid this warning.\", FutureWarning)\n"
     ]
    },
    {
     "name": "stderr",
     "output_type": "stream",
     "text": [
      "C:\\Users\\ANU\\Anaconda3\\lib\\site-packages\\sklearn\\svm\\base.py:193: FutureWarning: The default value of gamma will change from 'auto' to 'scale' in version 0.22 to account better for unscaled features. Set gamma explicitly to 'auto' or 'scale' to avoid this warning.\n",
      "  \"avoid this warning.\", FutureWarning)\n",
      "C:\\Users\\ANU\\Anaconda3\\lib\\site-packages\\sklearn\\svm\\base.py:193: FutureWarning: The default value of gamma will change from 'auto' to 'scale' in version 0.22 to account better for unscaled features. Set gamma explicitly to 'auto' or 'scale' to avoid this warning.\n",
      "  \"avoid this warning.\", FutureWarning)\n",
      "C:\\Users\\ANU\\Anaconda3\\lib\\site-packages\\sklearn\\svm\\base.py:193: FutureWarning: The default value of gamma will change from 'auto' to 'scale' in version 0.22 to account better for unscaled features. Set gamma explicitly to 'auto' or 'scale' to avoid this warning.\n",
      "  \"avoid this warning.\", FutureWarning)\n",
      "C:\\Users\\ANU\\Anaconda3\\lib\\site-packages\\sklearn\\svm\\base.py:193: FutureWarning: The default value of gamma will change from 'auto' to 'scale' in version 0.22 to account better for unscaled features. Set gamma explicitly to 'auto' or 'scale' to avoid this warning.\n",
      "  \"avoid this warning.\", FutureWarning)\n"
     ]
    },
    {
     "data": {
      "text/plain": [
       "{'C': 100}"
      ]
     },
     "execution_count": 123,
     "metadata": {},
     "output_type": "execute_result"
    }
   ],
   "source": [
    "from sklearn.svm import SVR, LinearSVR\n",
    "\n",
    "C = [0.001, 0.01, 0.1, 1, 10, 100]\n",
    "param_grid = dict(C=C)\n",
    "\n",
    "linearsvr=GridSearchCV(SVR(), param_grid, cv = 5, iid = False)\n",
    "\n",
    "linearsvr.fit(X_train,y_train)\n",
    "y_pred = linearsvr.predict(X_test)\n",
    "linearsvr.best_params_"
   ]
  },
  {
   "cell_type": "code",
   "execution_count": 124,
   "metadata": {},
   "outputs": [
    {
     "name": "stdout",
     "output_type": "stream",
     "text": [
      "Train score: -0.0119\n",
      "Test score: -0.0118\n"
     ]
    }
   ],
   "source": [
    "print('Train score: {:.4f}'.format(linearsvr.score(X_train,y_train)))\n",
    "print('Test score: {:.4f}'.format(linearsvr.score(X_test, y_test)))"
   ]
  },
  {
   "cell_type": "markdown",
   "metadata": {},
   "source": [
    "With PCA"
   ]
  },
  {
   "cell_type": "code",
   "execution_count": 128,
   "metadata": {
    "scrolled": true
   },
   "outputs": [
    {
     "name": "stderr",
     "output_type": "stream",
     "text": [
      "C:\\Users\\ANU\\Anaconda3\\lib\\site-packages\\sklearn\\svm\\base.py:193: FutureWarning: The default value of gamma will change from 'auto' to 'scale' in version 0.22 to account better for unscaled features. Set gamma explicitly to 'auto' or 'scale' to avoid this warning.\n",
      "  \"avoid this warning.\", FutureWarning)\n",
      "C:\\Users\\ANU\\Anaconda3\\lib\\site-packages\\sklearn\\svm\\base.py:193: FutureWarning: The default value of gamma will change from 'auto' to 'scale' in version 0.22 to account better for unscaled features. Set gamma explicitly to 'auto' or 'scale' to avoid this warning.\n",
      "  \"avoid this warning.\", FutureWarning)\n",
      "C:\\Users\\ANU\\Anaconda3\\lib\\site-packages\\sklearn\\svm\\base.py:193: FutureWarning: The default value of gamma will change from 'auto' to 'scale' in version 0.22 to account better for unscaled features. Set gamma explicitly to 'auto' or 'scale' to avoid this warning.\n",
      "  \"avoid this warning.\", FutureWarning)\n",
      "C:\\Users\\ANU\\Anaconda3\\lib\\site-packages\\sklearn\\svm\\base.py:193: FutureWarning: The default value of gamma will change from 'auto' to 'scale' in version 0.22 to account better for unscaled features. Set gamma explicitly to 'auto' or 'scale' to avoid this warning.\n",
      "  \"avoid this warning.\", FutureWarning)\n",
      "C:\\Users\\ANU\\Anaconda3\\lib\\site-packages\\sklearn\\svm\\base.py:193: FutureWarning: The default value of gamma will change from 'auto' to 'scale' in version 0.22 to account better for unscaled features. Set gamma explicitly to 'auto' or 'scale' to avoid this warning.\n",
      "  \"avoid this warning.\", FutureWarning)\n",
      "C:\\Users\\ANU\\Anaconda3\\lib\\site-packages\\sklearn\\svm\\base.py:193: FutureWarning: The default value of gamma will change from 'auto' to 'scale' in version 0.22 to account better for unscaled features. Set gamma explicitly to 'auto' or 'scale' to avoid this warning.\n",
      "  \"avoid this warning.\", FutureWarning)\n",
      "C:\\Users\\ANU\\Anaconda3\\lib\\site-packages\\sklearn\\svm\\base.py:193: FutureWarning: The default value of gamma will change from 'auto' to 'scale' in version 0.22 to account better for unscaled features. Set gamma explicitly to 'auto' or 'scale' to avoid this warning.\n",
      "  \"avoid this warning.\", FutureWarning)\n",
      "C:\\Users\\ANU\\Anaconda3\\lib\\site-packages\\sklearn\\svm\\base.py:193: FutureWarning: The default value of gamma will change from 'auto' to 'scale' in version 0.22 to account better for unscaled features. Set gamma explicitly to 'auto' or 'scale' to avoid this warning.\n",
      "  \"avoid this warning.\", FutureWarning)\n",
      "C:\\Users\\ANU\\Anaconda3\\lib\\site-packages\\sklearn\\svm\\base.py:193: FutureWarning: The default value of gamma will change from 'auto' to 'scale' in version 0.22 to account better for unscaled features. Set gamma explicitly to 'auto' or 'scale' to avoid this warning.\n",
      "  \"avoid this warning.\", FutureWarning)\n",
      "C:\\Users\\ANU\\Anaconda3\\lib\\site-packages\\sklearn\\svm\\base.py:193: FutureWarning: The default value of gamma will change from 'auto' to 'scale' in version 0.22 to account better for unscaled features. Set gamma explicitly to 'auto' or 'scale' to avoid this warning.\n",
      "  \"avoid this warning.\", FutureWarning)\n",
      "C:\\Users\\ANU\\Anaconda3\\lib\\site-packages\\sklearn\\svm\\base.py:193: FutureWarning: The default value of gamma will change from 'auto' to 'scale' in version 0.22 to account better for unscaled features. Set gamma explicitly to 'auto' or 'scale' to avoid this warning.\n",
      "  \"avoid this warning.\", FutureWarning)\n",
      "C:\\Users\\ANU\\Anaconda3\\lib\\site-packages\\sklearn\\svm\\base.py:193: FutureWarning: The default value of gamma will change from 'auto' to 'scale' in version 0.22 to account better for unscaled features. Set gamma explicitly to 'auto' or 'scale' to avoid this warning.\n",
      "  \"avoid this warning.\", FutureWarning)\n",
      "C:\\Users\\ANU\\Anaconda3\\lib\\site-packages\\sklearn\\svm\\base.py:193: FutureWarning: The default value of gamma will change from 'auto' to 'scale' in version 0.22 to account better for unscaled features. Set gamma explicitly to 'auto' or 'scale' to avoid this warning.\n",
      "  \"avoid this warning.\", FutureWarning)\n",
      "C:\\Users\\ANU\\Anaconda3\\lib\\site-packages\\sklearn\\svm\\base.py:193: FutureWarning: The default value of gamma will change from 'auto' to 'scale' in version 0.22 to account better for unscaled features. Set gamma explicitly to 'auto' or 'scale' to avoid this warning.\n",
      "  \"avoid this warning.\", FutureWarning)\n",
      "C:\\Users\\ANU\\Anaconda3\\lib\\site-packages\\sklearn\\svm\\base.py:193: FutureWarning: The default value of gamma will change from 'auto' to 'scale' in version 0.22 to account better for unscaled features. Set gamma explicitly to 'auto' or 'scale' to avoid this warning.\n",
      "  \"avoid this warning.\", FutureWarning)\n",
      "C:\\Users\\ANU\\Anaconda3\\lib\\site-packages\\sklearn\\svm\\base.py:193: FutureWarning: The default value of gamma will change from 'auto' to 'scale' in version 0.22 to account better for unscaled features. Set gamma explicitly to 'auto' or 'scale' to avoid this warning.\n",
      "  \"avoid this warning.\", FutureWarning)\n",
      "C:\\Users\\ANU\\Anaconda3\\lib\\site-packages\\sklearn\\svm\\base.py:193: FutureWarning: The default value of gamma will change from 'auto' to 'scale' in version 0.22 to account better for unscaled features. Set gamma explicitly to 'auto' or 'scale' to avoid this warning.\n",
      "  \"avoid this warning.\", FutureWarning)\n",
      "C:\\Users\\ANU\\Anaconda3\\lib\\site-packages\\sklearn\\svm\\base.py:193: FutureWarning: The default value of gamma will change from 'auto' to 'scale' in version 0.22 to account better for unscaled features. Set gamma explicitly to 'auto' or 'scale' to avoid this warning.\n",
      "  \"avoid this warning.\", FutureWarning)\n",
      "C:\\Users\\ANU\\Anaconda3\\lib\\site-packages\\sklearn\\svm\\base.py:193: FutureWarning: The default value of gamma will change from 'auto' to 'scale' in version 0.22 to account better for unscaled features. Set gamma explicitly to 'auto' or 'scale' to avoid this warning.\n",
      "  \"avoid this warning.\", FutureWarning)\n",
      "C:\\Users\\ANU\\Anaconda3\\lib\\site-packages\\sklearn\\svm\\base.py:193: FutureWarning: The default value of gamma will change from 'auto' to 'scale' in version 0.22 to account better for unscaled features. Set gamma explicitly to 'auto' or 'scale' to avoid this warning.\n",
      "  \"avoid this warning.\", FutureWarning)\n",
      "C:\\Users\\ANU\\Anaconda3\\lib\\site-packages\\sklearn\\svm\\base.py:193: FutureWarning: The default value of gamma will change from 'auto' to 'scale' in version 0.22 to account better for unscaled features. Set gamma explicitly to 'auto' or 'scale' to avoid this warning.\n",
      "  \"avoid this warning.\", FutureWarning)\n",
      "C:\\Users\\ANU\\Anaconda3\\lib\\site-packages\\sklearn\\svm\\base.py:193: FutureWarning: The default value of gamma will change from 'auto' to 'scale' in version 0.22 to account better for unscaled features. Set gamma explicitly to 'auto' or 'scale' to avoid this warning.\n",
      "  \"avoid this warning.\", FutureWarning)\n",
      "C:\\Users\\ANU\\Anaconda3\\lib\\site-packages\\sklearn\\svm\\base.py:193: FutureWarning: The default value of gamma will change from 'auto' to 'scale' in version 0.22 to account better for unscaled features. Set gamma explicitly to 'auto' or 'scale' to avoid this warning.\n",
      "  \"avoid this warning.\", FutureWarning)\n",
      "C:\\Users\\ANU\\Anaconda3\\lib\\site-packages\\sklearn\\svm\\base.py:193: FutureWarning: The default value of gamma will change from 'auto' to 'scale' in version 0.22 to account better for unscaled features. Set gamma explicitly to 'auto' or 'scale' to avoid this warning.\n",
      "  \"avoid this warning.\", FutureWarning)\n",
      "C:\\Users\\ANU\\Anaconda3\\lib\\site-packages\\sklearn\\svm\\base.py:193: FutureWarning: The default value of gamma will change from 'auto' to 'scale' in version 0.22 to account better for unscaled features. Set gamma explicitly to 'auto' or 'scale' to avoid this warning.\n",
      "  \"avoid this warning.\", FutureWarning)\n",
      "C:\\Users\\ANU\\Anaconda3\\lib\\site-packages\\sklearn\\svm\\base.py:193: FutureWarning: The default value of gamma will change from 'auto' to 'scale' in version 0.22 to account better for unscaled features. Set gamma explicitly to 'auto' or 'scale' to avoid this warning.\n",
      "  \"avoid this warning.\", FutureWarning)\n",
      "C:\\Users\\ANU\\Anaconda3\\lib\\site-packages\\sklearn\\svm\\base.py:193: FutureWarning: The default value of gamma will change from 'auto' to 'scale' in version 0.22 to account better for unscaled features. Set gamma explicitly to 'auto' or 'scale' to avoid this warning.\n",
      "  \"avoid this warning.\", FutureWarning)\n"
     ]
    },
    {
     "name": "stderr",
     "output_type": "stream",
     "text": [
      "C:\\Users\\ANU\\Anaconda3\\lib\\site-packages\\sklearn\\svm\\base.py:193: FutureWarning: The default value of gamma will change from 'auto' to 'scale' in version 0.22 to account better for unscaled features. Set gamma explicitly to 'auto' or 'scale' to avoid this warning.\n",
      "  \"avoid this warning.\", FutureWarning)\n",
      "C:\\Users\\ANU\\Anaconda3\\lib\\site-packages\\sklearn\\svm\\base.py:193: FutureWarning: The default value of gamma will change from 'auto' to 'scale' in version 0.22 to account better for unscaled features. Set gamma explicitly to 'auto' or 'scale' to avoid this warning.\n",
      "  \"avoid this warning.\", FutureWarning)\n",
      "C:\\Users\\ANU\\Anaconda3\\lib\\site-packages\\sklearn\\svm\\base.py:193: FutureWarning: The default value of gamma will change from 'auto' to 'scale' in version 0.22 to account better for unscaled features. Set gamma explicitly to 'auto' or 'scale' to avoid this warning.\n",
      "  \"avoid this warning.\", FutureWarning)\n",
      "C:\\Users\\ANU\\Anaconda3\\lib\\site-packages\\sklearn\\svm\\base.py:193: FutureWarning: The default value of gamma will change from 'auto' to 'scale' in version 0.22 to account better for unscaled features. Set gamma explicitly to 'auto' or 'scale' to avoid this warning.\n",
      "  \"avoid this warning.\", FutureWarning)\n"
     ]
    },
    {
     "data": {
      "text/plain": [
       "{'C': 100}"
      ]
     },
     "execution_count": 128,
     "metadata": {},
     "output_type": "execute_result"
    }
   ],
   "source": [
    "linearsvr.fit(X_train_reduced,y_train)\n",
    "y_pred = linearsvr.predict(X_test_reduced)\n",
    "linearsvr.best_params_"
   ]
  },
  {
   "cell_type": "code",
   "execution_count": 131,
   "metadata": {},
   "outputs": [
    {
     "name": "stdout",
     "output_type": "stream",
     "text": [
      "Train score: 0.0333\n",
      "Test score: 0.0365\n"
     ]
    }
   ],
   "source": [
    "print('Train score: {:.4f}'.format(linearsvr.score(X_train_reduced,y_train)))\n",
    "print('Test score: {:.4f}'.format(linearsvr.score(X_test_reduced, y_test)))"
   ]
  },
  {
   "cell_type": "markdown",
   "metadata": {},
   "source": [
    "# Neural Networks"
   ]
  },
  {
   "cell_type": "code",
   "execution_count": 86,
   "metadata": {},
   "outputs": [
    {
     "name": "stderr",
     "output_type": "stream",
     "text": [
      "Using TensorFlow backend.\n"
     ]
    }
   ],
   "source": [
    "\n",
    "import keras as k"
   ]
  },
  {
   "cell_type": "code",
   "execution_count": 87,
   "metadata": {
    "scrolled": true
   },
   "outputs": [],
   "source": [
    "from keras.models import Sequential\n",
    "from keras.layers import Dense\n"
   ]
  },
  {
   "cell_type": "code",
   "execution_count": 88,
   "metadata": {},
   "outputs": [],
   "source": [
    "# create model\n",
    "model = Sequential()\n",
    "model.add(Dense(34, input_dim=34, kernel_initializer='normal', activation='relu'))\n",
    "model.add(Dense(34, input_dim=34, kernel_initializer='normal', activation='relu'))\n",
    "model.add(Dense(1, kernel_initializer='normal'))"
   ]
  },
  {
   "cell_type": "code",
   "execution_count": 89,
   "metadata": {},
   "outputs": [],
   "source": [
    "# Compile model\n",
    "model.compile(loss='binary_crossentropy', optimizer='adam', metrics=['accuracy'])"
   ]
  },
  {
   "cell_type": "code",
   "execution_count": 132,
   "metadata": {},
   "outputs": [
    {
     "name": "stdout",
     "output_type": "stream",
     "text": [
      "Epoch 1/150\n",
      "16209/16209 [==============================] - 1s 48us/step - loss: -8289265.2823 - accuracy: 0.0000e+00\n",
      "Epoch 2/150\n",
      "16209/16209 [==============================] - 1s 40us/step - loss: -8289265.2964 - accuracy: 0.0000e+00\n",
      "Epoch 3/150\n",
      "16209/16209 [==============================] - 1s 40us/step - loss: -8289265.2784 - accuracy: 0.0000e+00\n",
      "Epoch 4/150\n",
      "16209/16209 [==============================] - 1s 41us/step - loss: -8289265.2775 - accuracy: 0.0000e+00\n",
      "Epoch 5/150\n",
      "16209/16209 [==============================] - 1s 44us/step - loss: -8289265.2695 - accuracy: 0.0000e+00\n",
      "Epoch 6/150\n",
      "16209/16209 [==============================] - 1s 40us/step - loss: -8289265.2709 - accuracy: 0.0000e+00\n",
      "Epoch 7/150\n",
      "16209/16209 [==============================] - 1s 40us/step - loss: -8289265.3047 - accuracy: 0.0000e+00\n",
      "Epoch 8/150\n",
      "16209/16209 [==============================] - 1s 42us/step - loss: -8289265.2943 - accuracy: 0.0000e+00\n",
      "Epoch 9/150\n",
      "16209/16209 [==============================] - 1s 41us/step - loss: -8289265.2884 - accuracy: 0.0000e+00\n",
      "Epoch 10/150\n",
      "16209/16209 [==============================] - 1s 52us/step - loss: -8289265.2907 - accuracy: 0.0000e+00\n",
      "Epoch 11/150\n",
      "16209/16209 [==============================] - 1s 48us/step - loss: -8289265.2948 - accuracy: 0.0000e+00\n",
      "Epoch 12/150\n",
      "16209/16209 [==============================] - 1s 76us/step - loss: -8289265.2606 - accuracy: 0.0000e+00\n",
      "Epoch 13/150\n",
      "16209/16209 [==============================] - 1s 73us/step - loss: -8289265.3160 - accuracy: 0.0000e+00\n",
      "Epoch 14/150\n",
      "16209/16209 [==============================] - 1s 41us/step - loss: -8289265.2730 - accuracy: 0.0000e+00\n",
      "Epoch 15/150\n",
      "16209/16209 [==============================] - 1s 41us/step - loss: -8289265.2638 - accuracy: 0.0000e+00\n",
      "Epoch 16/150\n",
      "16209/16209 [==============================] - 1s 40us/step - loss: -8289265.2804 - accuracy: 0.0000e+00\n",
      "Epoch 17/150\n",
      "16209/16209 [==============================] - 1s 40us/step - loss: -8289265.2983 - accuracy: 0.0000e+00\n",
      "Epoch 18/150\n",
      "16209/16209 [==============================] - 1s 40us/step - loss: -8289265.2840 - accuracy: 0.0000e+00\n",
      "Epoch 19/150\n",
      "16209/16209 [==============================] - 1s 45us/step - loss: -8289265.2572 - accuracy: 0.0000e+00\n",
      "Epoch 20/150\n",
      "16209/16209 [==============================] - 1s 41us/step - loss: -8289265.2892 - accuracy: 0.0000e+00\n",
      "Epoch 21/150\n",
      "16209/16209 [==============================] - 1s 40us/step - loss: -8289265.2922 - accuracy: 0.0000e+00\n",
      "Epoch 22/150\n",
      "16209/16209 [==============================] - 1s 41us/step - loss: -8289265.2937 - accuracy: 0.0000e+00\n",
      "Epoch 23/150\n",
      "16209/16209 [==============================] - 1s 41us/step - loss: -8289265.2741 - accuracy: 0.0000e+00\n",
      "Epoch 24/150\n",
      "16209/16209 [==============================] - 1s 40us/step - loss: -8289265.2951 - accuracy: 0.0000e+00\n",
      "Epoch 25/150\n",
      "16209/16209 [==============================] - 1s 40us/step - loss: -8289265.2708 - accuracy: 0.0000e+00\n",
      "Epoch 26/150\n",
      "16209/16209 [==============================] - 1s 45us/step - loss: -8289265.3017 - accuracy: 0.0000e+00\n",
      "Epoch 27/150\n",
      "16209/16209 [==============================] - 1s 49us/step - loss: -8289265.2788 - accuracy: 0.0000e+00\n",
      "Epoch 28/150\n",
      "16209/16209 [==============================] - 1s 46us/step - loss: -8289265.2930 - accuracy: 0.0000e+00\n",
      "Epoch 29/150\n",
      "16209/16209 [==============================] - 1s 41us/step - loss: -8289265.2789 - accuracy: 0.0000e+00\n",
      "Epoch 30/150\n",
      "16209/16209 [==============================] - 1s 63us/step - loss: -8289265.2909 - accuracy: 0.0000e+00\n",
      "Epoch 31/150\n",
      "16209/16209 [==============================] - 1s 48us/step - loss: -8289265.2795 - accuracy: 0.0000e+00\n",
      "Epoch 32/150\n",
      "16209/16209 [==============================] - 1s 42us/step - loss: -8289265.2899 - accuracy: 0.0000e+00\n",
      "Epoch 33/150\n",
      "16209/16209 [==============================] - 1s 44us/step - loss: -8289265.3116 - accuracy: 0.0000e+00\n",
      "Epoch 34/150\n",
      "16209/16209 [==============================] - 1s 46us/step - loss: -8289265.2903 - accuracy: 0.0000e+00\n",
      "Epoch 35/150\n",
      "16209/16209 [==============================] - 1s 44us/step - loss: -8289265.2728 - accuracy: 0.0000e+00\n",
      "Epoch 36/150\n",
      "16209/16209 [==============================] - 1s 44us/step - loss: -8289265.3094 - accuracy: 0.0000e+00\n",
      "Epoch 37/150\n",
      "16209/16209 [==============================] - 1s 45us/step - loss: -8289265.2776 - accuracy: 0.0000e+00\n",
      "Epoch 38/150\n",
      "16209/16209 [==============================] - 1s 47us/step - loss: -8289265.2776 - accuracy: 0.0000e+00\n",
      "Epoch 39/150\n",
      "16209/16209 [==============================] - 1s 46us/step - loss: -8289265.2720 - accuracy: 0.0000e+00\n",
      "Epoch 40/150\n",
      "16209/16209 [==============================] - 1s 45us/step - loss: -8289265.3096 - accuracy: 0.0000e+00\n",
      "Epoch 41/150\n",
      "16209/16209 [==============================] - 1s 48us/step - loss: -8289265.2736 - accuracy: 0.0000e+00\n",
      "Epoch 42/150\n",
      "16209/16209 [==============================] - 1s 58us/step - loss: -8289265.2976 - accuracy: 0.0000e+00\n",
      "Epoch 43/150\n",
      "16209/16209 [==============================] - 1s 55us/step - loss: -8289265.2753 - accuracy: 0.0000e+00\n",
      "Epoch 44/150\n",
      "16209/16209 [==============================] - 1s 48us/step - loss: -8289265.2679 - accuracy: 0.0000e+00\n",
      "Epoch 45/150\n",
      "16209/16209 [==============================] - 1s 46us/step - loss: -8289265.2990 - accuracy: 0.0000e+00\n",
      "Epoch 46/150\n",
      "16209/16209 [==============================] - 1s 44us/step - loss: -8289265.2676 - accuracy: 0.0000e+00\n",
      "Epoch 47/150\n",
      "16209/16209 [==============================] - 1s 42us/step - loss: -8289265.3165 - accuracy: 0.0000e+00\n",
      "Epoch 48/150\n",
      "16209/16209 [==============================] - 1s 41us/step - loss: -8289265.2676 - accuracy: 0.0000e+00\n",
      "Epoch 49/150\n",
      "16209/16209 [==============================] - 1s 48us/step - loss: -8289265.2858 - accuracy: 0.0000e+00\n",
      "Epoch 50/150\n",
      "16209/16209 [==============================] - 1s 72us/step - loss: -8289265.2777 - accuracy: 0.0000e+00: 1s - loss: -8286095.0921 \n",
      "Epoch 51/150\n",
      "16209/16209 [==============================] - 1s 68us/step - loss: -8289265.2762 - accuracy: 0.0000e+00\n",
      "Epoch 52/150\n",
      "16209/16209 [==============================] - 1s 61us/step - loss: -8289265.2757 - accuracy: 0.0000e+00\n",
      "Epoch 53/150\n",
      "16209/16209 [==============================] - 1s 56us/step - loss: -8289265.3033 - accuracy: 0.0000e+00\n",
      "Epoch 54/150\n",
      "16209/16209 [==============================] - 1s 51us/step - loss: -8289265.2760 - accuracy: 0.0000e+00\n",
      "Epoch 55/150\n",
      "16209/16209 [==============================] - 1s 52us/step - loss: -8289265.2768 - accuracy: 0.0000e+00\n",
      "Epoch 56/150\n",
      "16209/16209 [==============================] - 1s 48us/step - loss: -8289265.3091 - accuracy: 0.0000e+00\n",
      "Epoch 57/150\n",
      "16209/16209 [==============================] - 1s 50us/step - loss: -8289265.2668 - accuracy: 0.0000e+00\n",
      "Epoch 58/150\n",
      "16209/16209 [==============================] - 1s 51us/step - loss: -8289265.2711 - accuracy: 0.0000e+00\n",
      "Epoch 59/150\n",
      "16209/16209 [==============================] - 1s 52us/step - loss: -8289265.2921 - accuracy: 0.0000e+00\n",
      "Epoch 60/150\n",
      "16209/16209 [==============================] - 1s 55us/step - loss: -8289265.2919 - accuracy: 0.0000e+00\n",
      "Epoch 61/150\n",
      "16209/16209 [==============================] - 1s 55us/step - loss: -8289265.3001 - accuracy: 0.0000e+00\n",
      "Epoch 62/150\n",
      "16209/16209 [==============================] - 1s 54us/step - loss: -8289265.2827 - accuracy: 0.0000e+00\n",
      "Epoch 63/150\n",
      "16209/16209 [==============================] - 1s 55us/step - loss: -8289265.2723 - accuracy: 0.0000e+00\n",
      "Epoch 64/150\n",
      "16209/16209 [==============================] - 1s 56us/step - loss: -8289265.2920 - accuracy: 0.0000e+00\n",
      "Epoch 65/150\n",
      "16209/16209 [==============================] - 1s 52us/step - loss: -8289265.2702 - accuracy: 0.0000e+00\n",
      "Epoch 66/150\n",
      "16209/16209 [==============================] - 1s 54us/step - loss: -8289265.2603 - accuracy: 0.0000e+00\n",
      "Epoch 67/150\n",
      "16209/16209 [==============================] - 1s 53us/step - loss: -8289265.2918 - accuracy: 0.0000e+00\n",
      "Epoch 68/150\n",
      "16209/16209 [==============================] - 1s 53us/step - loss: -8289265.2856 - accuracy: 0.0000e+00\n",
      "Epoch 69/150\n",
      "16209/16209 [==============================] - 1s 54us/step - loss: -8289265.3071 - accuracy: 0.0000e+00\n",
      "Epoch 70/150\n",
      "16209/16209 [==============================] - 1s 50us/step - loss: -8289265.2837 - accuracy: 0.0000e+00\n",
      "Epoch 71/150\n",
      "16209/16209 [==============================] - 1s 50us/step - loss: -8289265.2843 - accuracy: 0.0000e+00\n",
      "Epoch 72/150\n",
      "16209/16209 [==============================] - 1s 48us/step - loss: -8289265.2823 - accuracy: 0.0000e+00\n",
      "Epoch 73/150\n",
      "16209/16209 [==============================] - 1s 49us/step - loss: -8289265.2922 - accuracy: 0.0000e+00\n",
      "Epoch 74/150\n",
      "16209/16209 [==============================] - 1s 49us/step - loss: -8289265.2894 - accuracy: 0.0000e+00\n",
      "Epoch 75/150\n",
      "16209/16209 [==============================] - 1s 48us/step - loss: -8289265.2981 - accuracy: 0.0000e+00\n",
      "Epoch 76/150\n",
      "16209/16209 [==============================] - 1s 52us/step - loss: -8289265.2593 - accuracy: 0.0000e+00\n",
      "Epoch 77/150\n",
      "16209/16209 [==============================] - 1s 51us/step - loss: -8289265.2642 - accuracy: 0.0000e+00\n",
      "Epoch 78/150\n",
      "16209/16209 [==============================] - 1s 48us/step - loss: -8289265.3046 - accuracy: 0.0000e+00\n",
      "Epoch 79/150\n",
      "16209/16209 [==============================] - 1s 50us/step - loss: -8289265.2755 - accuracy: 0.0000e+00\n",
      "Epoch 80/150\n",
      "16209/16209 [==============================] - 1s 48us/step - loss: -8289265.2871 - accuracy: 0.0000e+00\n",
      "Epoch 81/150\n",
      "16209/16209 [==============================] - 1s 50us/step - loss: -8289265.2678 - accuracy: 0.0000e+00\n",
      "Epoch 82/150\n",
      "16209/16209 [==============================] - 1s 50us/step - loss: -8289265.2670 - accuracy: 0.0000e+00\n",
      "Epoch 83/150\n",
      "16209/16209 [==============================] - 1s 50us/step - loss: -8289265.2850 - accuracy: 0.0000e+00\n",
      "Epoch 84/150\n",
      "16209/16209 [==============================] - 1s 50us/step - loss: -8289265.2914 - accuracy: 0.0000e+00\n",
      "Epoch 85/150\n",
      "16209/16209 [==============================] - 1s 48us/step - loss: -8289265.2934 - accuracy: 0.0000e+00\n",
      "Epoch 86/150\n",
      "16209/16209 [==============================] - 1s 57us/step - loss: -8289265.2849 - accuracy: 0.0000e+00\n",
      "Epoch 87/150\n",
      "16209/16209 [==============================] - 1s 76us/step - loss: -8289265.2809 - accuracy: 0.0000e+00\n",
      "Epoch 88/150\n",
      "16209/16209 [==============================] - 1s 69us/step - loss: -8289265.2760 - accuracy: 0.0000e+00\n",
      "Epoch 89/150\n",
      "16209/16209 [==============================] - 1s 50us/step - loss: -8289265.2888 - accuracy: 0.0000e+00\n",
      "Epoch 90/150\n",
      "16209/16209 [==============================] - 1s 50us/step - loss: -8289265.2818 - accuracy: 0.0000e+00\n",
      "Epoch 91/150\n",
      "16209/16209 [==============================] - 1s 50us/step - loss: -8289265.2862 - accuracy: 0.0000e+00\n",
      "Epoch 92/150\n",
      "16209/16209 [==============================] - 1s 51us/step - loss: -8289265.2898 - accuracy: 0.0000e+00\n",
      "Epoch 93/150\n",
      "16209/16209 [==============================] - 1s 50us/step - loss: -8289265.2716 - accuracy: 0.0000e+00\n",
      "Epoch 94/150\n",
      "16209/16209 [==============================] - 1s 51us/step - loss: -8289265.2825 - accuracy: 0.0000e+00\n",
      "Epoch 95/150\n",
      "16209/16209 [==============================] - 1s 50us/step - loss: -8289265.2918 - accuracy: 0.0000e+00\n",
      "Epoch 96/150\n",
      "16209/16209 [==============================] - 1s 50us/step - loss: -8289265.2819 - accuracy: 0.0000e+00\n",
      "Epoch 97/150\n",
      "16209/16209 [==============================] - 1s 50us/step - loss: -8289265.2715 - accuracy: 0.0000e+00\n",
      "Epoch 98/150\n",
      "16209/16209 [==============================] - 1s 49us/step - loss: -8289265.2778 - accuracy: 0.0000e+00\n",
      "Epoch 99/150\n",
      "16209/16209 [==============================] - 1s 56us/step - loss: -8289265.2761 - accuracy: 0.0000e+00\n",
      "Epoch 100/150\n",
      "16209/16209 [==============================] - 1s 51us/step - loss: -8289265.2843 - accuracy: 0.0000e+00\n",
      "Epoch 101/150\n",
      "16209/16209 [==============================] - 1s 50us/step - loss: -8289265.2845 - accuracy: 0.0000e+00\n",
      "Epoch 102/150\n",
      "16209/16209 [==============================] - 1s 52us/step - loss: -8289265.2650 - accuracy: 0.0000e+00\n",
      "Epoch 103/150\n",
      "16209/16209 [==============================] - 1s 50us/step - loss: -8289265.2897 - accuracy: 0.0000e+00\n",
      "Epoch 104/150\n",
      "16209/16209 [==============================] - 1s 49us/step - loss: -8289265.3064 - accuracy: 0.0000e+00\n",
      "Epoch 105/150\n",
      "16209/16209 [==============================] - 1s 50us/step - loss: -8289265.2673 - accuracy: 0.0000e+00\n",
      "Epoch 106/150\n",
      "16209/16209 [==============================] - 1s 51us/step - loss: -8289265.2700 - accuracy: 0.0000e+00\n",
      "Epoch 107/150\n",
      "16209/16209 [==============================] - 1s 51us/step - loss: -8289265.2703 - accuracy: 0.0000e+00\n",
      "Epoch 108/150\n",
      "16209/16209 [==============================] - 1s 54us/step - loss: -8289265.2874 - accuracy: 0.0000e+00\n",
      "Epoch 109/150\n",
      "16209/16209 [==============================] - 1s 50us/step - loss: -8289265.2662 - accuracy: 0.0000e+00\n",
      "Epoch 110/150\n",
      "16209/16209 [==============================] - 1s 50us/step - loss: -8289265.2942 - accuracy: 0.0000e+00\n",
      "Epoch 111/150\n",
      "16209/16209 [==============================] - 1s 50us/step - loss: -8289265.2793 - accuracy: 0.0000e+00\n",
      "Epoch 112/150\n",
      "16209/16209 [==============================] - 1s 52us/step - loss: -8289265.2831 - accuracy: 0.0000e+00\n",
      "Epoch 113/150\n",
      "16209/16209 [==============================] - 1s 53us/step - loss: -8289265.2784 - accuracy: 0.0000e+00\n",
      "Epoch 114/150\n",
      "16209/16209 [==============================] - 1s 53us/step - loss: -8289265.2733 - accuracy: 0.0000e+00\n",
      "Epoch 115/150\n",
      "16209/16209 [==============================] - 1s 52us/step - loss: -8289265.3077 - accuracy: 0.0000e+00\n",
      "Epoch 116/150\n",
      "16209/16209 [==============================] - 1s 51us/step - loss: -8289265.3015 - accuracy: 0.0000e+00\n",
      "Epoch 117/150\n",
      "16209/16209 [==============================] - 1s 58us/step - loss: -8289265.2540 - accuracy: 0.0000e+00\n",
      "Epoch 118/150\n",
      "16209/16209 [==============================] - 1s 57us/step - loss: -8289265.2892 - accuracy: 0.0000e+00\n",
      "Epoch 119/150\n",
      "16209/16209 [==============================] - 1s 51us/step - loss: -8289265.2787 - accuracy: 0.0000e+00\n",
      "Epoch 120/150\n",
      "16209/16209 [==============================] - 1s 53us/step - loss: -8289265.2588 - accuracy: 0.0000e+00\n",
      "Epoch 121/150\n",
      "16209/16209 [==============================] - 1s 52us/step - loss: -8289265.2505 - accuracy: 0.0000e+00\n",
      "Epoch 122/150\n",
      "16209/16209 [==============================] - 1s 51us/step - loss: -8289265.2663 - accuracy: 0.0000e+00\n",
      "Epoch 123/150\n",
      "16209/16209 [==============================] - 1s 52us/step - loss: -8289265.2721 - accuracy: 0.0000e+00\n",
      "Epoch 124/150\n",
      "16209/16209 [==============================] - 1s 52us/step - loss: -8289265.2811 - accuracy: 0.0000e+00\n",
      "Epoch 125/150\n",
      "16209/16209 [==============================] - 1s 51us/step - loss: -8289265.2802 - accuracy: 0.0000e+00\n",
      "Epoch 126/150\n",
      "16209/16209 [==============================] - 1s 53us/step - loss: -8289265.2563 - accuracy: 0.0000e+00\n",
      "Epoch 127/150\n",
      "16209/16209 [==============================] - 1s 58us/step - loss: -8289265.2950 - accuracy: 0.0000e+00\n",
      "Epoch 128/150\n",
      "16209/16209 [==============================] - 1s 66us/step - loss: -8289265.2710 - accuracy: 0.0000e+00\n",
      "Epoch 129/150\n",
      "16209/16209 [==============================] - 1s 65us/step - loss: -8289265.2852 - accuracy: 0.0000e+00\n",
      "Epoch 130/150\n",
      "16209/16209 [==============================] - 1s 57us/step - loss: -8289265.2646 - accuracy: 0.0000e+00\n",
      "Epoch 131/150\n",
      "16209/16209 [==============================] - 1s 52us/step - loss: -8289265.2885 - accuracy: 0.0000e+00\n",
      "Epoch 132/150\n",
      "16209/16209 [==============================] - 1s 51us/step - loss: -8289265.2835 - accuracy: 0.0000e+00\n",
      "Epoch 133/150\n",
      "16209/16209 [==============================] - 1s 52us/step - loss: -8289265.3001 - accuracy: 0.0000e+00\n",
      "Epoch 134/150\n",
      "16209/16209 [==============================] - 1s 53us/step - loss: -8289265.2783 - accuracy: 0.0000e+00\n",
      "Epoch 135/150\n",
      "16209/16209 [==============================] - 1s 51us/step - loss: -8289265.2699 - accuracy: 0.0000e+00\n",
      "Epoch 136/150\n",
      "16209/16209 [==============================] - 1s 53us/step - loss: -8289265.2800 - accuracy: 0.0000e+00\n",
      "Epoch 137/150\n",
      "16209/16209 [==============================] - 1s 52us/step - loss: -8289265.2741 - accuracy: 0.0000e+00\n",
      "Epoch 138/150\n",
      "16209/16209 [==============================] - 1s 51us/step - loss: -8289265.2937 - accuracy: 0.0000e+00\n",
      "Epoch 139/150\n"
     ]
    },
    {
     "name": "stdout",
     "output_type": "stream",
     "text": [
      "16209/16209 [==============================] - 1s 51us/step - loss: -8289265.2857 - accuracy: 0.0000e+00\n",
      "Epoch 140/150\n",
      "16209/16209 [==============================] - 1s 49us/step - loss: -8289265.2630 - accuracy: 0.0000e+00\n",
      "Epoch 141/150\n",
      "16209/16209 [==============================] - 1s 51us/step - loss: -8289265.2709 - accuracy: 0.0000e+00\n",
      "Epoch 142/150\n",
      "16209/16209 [==============================] - 1s 49us/step - loss: -8289265.2874 - accuracy: 0.0000e+00\n",
      "Epoch 143/150\n",
      "16209/16209 [==============================] - 1s 51us/step - loss: -8289265.2762 - accuracy: 0.0000e+00\n",
      "Epoch 144/150\n",
      "16209/16209 [==============================] - 1s 50us/step - loss: -8289265.2831 - accuracy: 0.0000e+00\n",
      "Epoch 145/150\n",
      "16209/16209 [==============================] - 1s 49us/step - loss: -8289265.2656 - accuracy: 0.0000e+00\n",
      "Epoch 146/150\n",
      "16209/16209 [==============================] - 1s 51us/step - loss: -8289265.2731 - accuracy: 0.0000e+00\n",
      "Epoch 147/150\n",
      "16209/16209 [==============================] - 1s 52us/step - loss: -8289265.2598 - accuracy: 0.0000e+00\n",
      "Epoch 148/150\n",
      "16209/16209 [==============================] - 1s 49us/step - loss: -8289265.2793 - accuracy: 0.0000e+00\n",
      "Epoch 149/150\n",
      "16209/16209 [==============================] - 1s 50us/step - loss: -8289265.2831 - accuracy: 0.0000e+00\n",
      "Epoch 150/150\n",
      "16209/16209 [==============================] - 1s 50us/step - loss: -8289265.2583 - accuracy: 0.0000e+00\n"
     ]
    },
    {
     "data": {
      "text/plain": [
       "<keras.callbacks.callbacks.History at 0x1316bc38088>"
      ]
     },
     "execution_count": 132,
     "metadata": {},
     "output_type": "execute_result"
    }
   ],
   "source": [
    "# Fit the model\n",
    "model.fit(X_train, y_train, epochs= 150, batch_size=20)"
   ]
  },
  {
   "cell_type": "code",
   "execution_count": 133,
   "metadata": {},
   "outputs": [
    {
     "name": "stdout",
     "output_type": "stream",
     "text": [
      "5404/5404 [==============================] - 0s 15us/step\n",
      "\n",
      "accuracy: 0.00%\n"
     ]
    }
   ],
   "source": [
    "# evaluate the model\n",
    "scores = model.evaluate(X_test, y_test)\n",
    "print(\"\\n%s: %.2f%%\" % (model.metrics_names[1], scores[1]*100))"
   ]
  },
  {
   "cell_type": "code",
   "execution_count": 134,
   "metadata": {},
   "outputs": [
    {
     "data": {
      "text/plain": [
       "array([[1.4745443],\n",
       "       [1.4724836],\n",
       "       [1.5420995],\n",
       "       ...,\n",
       "       [1.5677507],\n",
       "       [1.3891742],\n",
       "       [1.4346793]], dtype=float32)"
      ]
     },
     "execution_count": 134,
     "metadata": {},
     "output_type": "execute_result"
    }
   ],
   "source": [
    "y_predict = model.predict(X_test)\n",
    "y_predict"
   ]
  }
 ],
 "metadata": {
  "kernelspec": {
   "display_name": "Python 3",
   "language": "python",
   "name": "python3"
  },
  "language_info": {
   "codemirror_mode": {
    "name": "ipython",
    "version": 3
   },
   "file_extension": ".py",
   "mimetype": "text/x-python",
   "name": "python",
   "nbconvert_exporter": "python",
   "pygments_lexer": "ipython3",
   "version": "3.7.4"
  }
 },
 "nbformat": 4,
 "nbformat_minor": 2
}
